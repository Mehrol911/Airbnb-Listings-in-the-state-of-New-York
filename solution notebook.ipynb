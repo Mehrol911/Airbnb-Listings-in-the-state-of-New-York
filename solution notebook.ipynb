{
 "cells": [
  {
   "cell_type": "markdown",
   "metadata": {
    "id": "6Ijg5wUCTQYG"
   },
   "source": [
    "<p align=\"center\">\n",
    "<img src=\"https://github.com/adelnehme/python-crash-course-an-introduction-to-spreadsheet-users/blob/main/assets/dc_logo.png?raw=true\" alt = \"DataCamp Amazon icon\" width=\"65%\">\n",
    "</p>\n",
    "\n",
    "\n",
    "## **Python Crash Course—An Introduction to Spreadsheet Users**\n",
    "\n",
    "\n",
    "### **Key session takeaways**\n",
    "\n",
    "* Import data into Python using `pandas` — Python’s most popular data analysis package.\n",
    "* Filter, add new columns, and analyse datasets using pandas.\n",
    "* Present data visualizations using `matplotlib` and `seaborn` — Python's most popular data visualization packages.\n",
    "\n",
    "### **The Dataset**\n",
    "\n",
    "The dataset to be used in this training is a CSV file named `airbnb.csv`, which contains data on airbnb listings in the state of New York. It contains the following columns:\n",
    "\n",
    "- `listing_id`: The unique identifier for a listing\n",
    "- `description`: The description used on the listing\n",
    "- `host_id`: Unique identifier for a host\n",
    "- `neighbourhood_full`: Name of boroughs and neighbourhoods\n",
    "- `coordinates`: Coordinates of listing _(latitude, longitude)_\n",
    "- `listing_added`: Date of added listing\n",
    "- `room_type`: Type of room \n",
    "- `rating`: Rating from 0 to 5.\n",
    "- `price`: Price per night for listing\n",
    "- `number_of_reviews`: Amount of reviews received \n",
    "- `reviews_per_month`: Number of reviews per month\n",
    "- `availability_365`: Number of days available per year\n",
    "- `number_of_stays`: Total number of stays thus far\n",
    "\n",
    "### **Questions to answer**\n",
    "\n",
    "- **Question 1:** What is the distribution of price per room type?\n",
    "- **Question 2:** What is the number of listings per borough?\n",
    "- **Question 3:** What is the number of listings per year?\n",
    "- **Question 4:** What is the number of listings per year in each borough?\n"
   ]
  },
  {
   "cell_type": "markdown",
   "metadata": {
    "id": "3iYheCTZ-kiq"
   },
   "source": [
    "## **Getting started**"
   ]
  },
  {
   "cell_type": "code",
   "execution_count": null,
   "metadata": {
    "id": "EMQfyC7GUNhT"
   },
   "outputs": [],
   "source": [
    "# Import libraries\n",
    "import pandas as pd\n",
    "import matplotlib.pyplot as plt\n",
    "import seaborn as sns"
   ]
  },
  {
   "cell_type": "markdown",
   "metadata": {
    "id": "AGaYTBLYQUEe"
   },
   "source": [
    "*To import a CSV file into* `pandas` *, we use*  `data = pd.read_csv(file_path)` *check out this [documentation](https://pandas.pydata.org/pandas-docs/stable/user_guide/io.html) for importing other data types*\n"
   ]
  },
  {
   "cell_type": "code",
   "execution_count": null,
   "metadata": {
    "id": "l8t_EwRNZPLB"
   },
   "outputs": [],
   "source": [
    "# Read in the dataset\n",
    "airbnb = pd.read_csv('https://raw.githubusercontent.com/adelnehme/python-crash-course-an-introduction-to-spreadsheet-users/main/data/airbnb.csv', index_col = 0)"
   ]
  },
  {
   "cell_type": "markdown",
   "metadata": {
    "id": "rGBXPrA0SEJZ"
   },
   "source": [
    "*Some common methods needed to get a better understanding of your DataFrames:*\n",
    "\n",
    "- `data.head()` *prints the first 5 rows*\n",
    "- `data.describe()` *prints the distribution of numeric columns*\n",
    "- `data.info()` *prints the missingness and data types of columns*"
   ]
  },
  {
   "cell_type": "code",
   "execution_count": null,
   "metadata": {
    "colab": {
     "base_uri": "https://localhost:8080/",
     "height": 496
    },
    "id": "QdUb07i370zA",
    "outputId": "fdba4534-2a98-417f-c5fe-9e5a28f91e89"
   },
   "outputs": [
    {
     "data": {
      "application/com.datacamp.data-table.v1+json": {
       "is_truncated": false,
       "table": {
        "data": [
         {
          "availability_365": 85,
          "coordinates": "(40.63222, -73.93398)",
          "description": "Cozy,budget friendly, cable inc, private entrance!",
          "host_id": 20583125,
          "index": 0,
          "listing_added": "2018-06-08",
          "listing_id": 13740704,
          "neighbourhood_full": "Brooklyn, Flatlands",
          "number_of_reviews": 10,
          "number_of_stays": 12,
          "price": "45$",
          "rating": 4.1009535687,
          "reviews_per_month": 0.7,
          "room_type": "Private Room"
         },
         {
          "availability_365": 145,
          "coordinates": "(40.78761, -73.96862)",
          "description": "Two floor apartment near Central Park",
          "host_id": 82746113,
          "index": 1,
          "listing_added": "2018-12-25",
          "listing_id": 22005115,
          "neighbourhood_full": "Manhattan, Upper West Side",
          "number_of_reviews": 1,
          "number_of_stays": 1.2,
          "price": "135$",
          "rating": 3.3675998415,
          "reviews_per_month": 1,
          "room_type": "Entire place"
         },
         {
          "availability_365": 0,
          "coordinates": "(40.79169, -73.97498)",
          "description": "Spacious, charming studio",
          "host_id": 32715865,
          "index": 2,
          "listing_added": "2017-03-20",
          "listing_id": 6425850,
          "neighbourhood_full": "Manhattan, Upper West Side",
          "number_of_reviews": 5,
          "number_of_stays": 6,
          "price": "86$",
          "rating": 4.7632029943,
          "reviews_per_month": 0.13,
          "room_type": "Entire place"
         },
         {
          "availability_365": 102,
          "coordinates": "(40.71884, -73.98354)",
          "description": "Bedroom on the lively Lower East Side",
          "host_id": 154262349,
          "index": 3,
          "listing_added": "2020-10-23",
          "listing_id": 22986519,
          "neighbourhood_full": "Manhattan, Lower East Side",
          "number_of_reviews": 23,
          "number_of_stays": 27.6,
          "price": "160$",
          "rating": 3.822590628,
          "reviews_per_month": 2.29,
          "room_type": "Private Room"
         },
         {
          "availability_365": 300,
          "coordinates": "(40.73388, -73.99452)",
          "description": "Beautiful brownstone apartment",
          "host_id": 1423798,
          "index": 4,
          "listing_added": "2018-12-15",
          "listing_id": 271954,
          "neighbourhood_full": "Manhattan, Greenwich Village",
          "number_of_reviews": 203,
          "number_of_stays": 243.6,
          "price": "150$",
          "rating": 4.4783964853,
          "reviews_per_month": 2.22,
          "room_type": "Entire place"
         }
        ],
        "schema": {
         "fields": [
          {
           "name": "index",
           "type": "integer"
          },
          {
           "name": "listing_id",
           "type": "integer"
          },
          {
           "name": "description",
           "type": "string"
          },
          {
           "name": "host_id",
           "type": "number"
          },
          {
           "name": "neighbourhood_full",
           "type": "string"
          },
          {
           "name": "coordinates",
           "type": "string"
          },
          {
           "name": "room_type",
           "type": "string"
          },
          {
           "name": "price",
           "type": "string"
          },
          {
           "name": "number_of_reviews",
           "type": "integer"
          },
          {
           "name": "reviews_per_month",
           "type": "number"
          },
          {
           "name": "availability_365",
           "type": "integer"
          },
          {
           "name": "rating",
           "type": "number"
          },
          {
           "name": "number_of_stays",
           "type": "number"
          },
          {
           "name": "listing_added",
           "type": "string"
          }
         ],
         "pandas_version": "0.20.0",
         "primaryKey": [
          "index"
         ]
        }
       },
       "total_rows": 5
      },
      "text/html": [
       "<div>\n",
       "<style scoped>\n",
       "    .dataframe tbody tr th:only-of-type {\n",
       "        vertical-align: middle;\n",
       "    }\n",
       "\n",
       "    .dataframe tbody tr th {\n",
       "        vertical-align: top;\n",
       "    }\n",
       "\n",
       "    .dataframe thead th {\n",
       "        text-align: right;\n",
       "    }\n",
       "</style>\n",
       "<table border=\"1\" class=\"dataframe\">\n",
       "  <thead>\n",
       "    <tr style=\"text-align: right;\">\n",
       "      <th></th>\n",
       "      <th>listing_id</th>\n",
       "      <th>description</th>\n",
       "      <th>host_id</th>\n",
       "      <th>neighbourhood_full</th>\n",
       "      <th>coordinates</th>\n",
       "      <th>room_type</th>\n",
       "      <th>price</th>\n",
       "      <th>number_of_reviews</th>\n",
       "      <th>reviews_per_month</th>\n",
       "      <th>availability_365</th>\n",
       "      <th>rating</th>\n",
       "      <th>number_of_stays</th>\n",
       "      <th>listing_added</th>\n",
       "    </tr>\n",
       "  </thead>\n",
       "  <tbody>\n",
       "    <tr>\n",
       "      <th>0</th>\n",
       "      <td>13740704</td>\n",
       "      <td>Cozy,budget friendly, cable inc, private entra...</td>\n",
       "      <td>20583125.0</td>\n",
       "      <td>Brooklyn, Flatlands</td>\n",
       "      <td>(40.63222, -73.93398)</td>\n",
       "      <td>Private Room</td>\n",
       "      <td>45$</td>\n",
       "      <td>10</td>\n",
       "      <td>0.70</td>\n",
       "      <td>85</td>\n",
       "      <td>4.100954</td>\n",
       "      <td>12.0</td>\n",
       "      <td>2018-06-08</td>\n",
       "    </tr>\n",
       "    <tr>\n",
       "      <th>1</th>\n",
       "      <td>22005115</td>\n",
       "      <td>Two floor apartment near Central Park</td>\n",
       "      <td>82746113.0</td>\n",
       "      <td>Manhattan, Upper West Side</td>\n",
       "      <td>(40.78761, -73.96862)</td>\n",
       "      <td>Entire place</td>\n",
       "      <td>135$</td>\n",
       "      <td>1</td>\n",
       "      <td>1.00</td>\n",
       "      <td>145</td>\n",
       "      <td>3.367600</td>\n",
       "      <td>1.2</td>\n",
       "      <td>2018-12-25</td>\n",
       "    </tr>\n",
       "    <tr>\n",
       "      <th>2</th>\n",
       "      <td>6425850</td>\n",
       "      <td>Spacious, charming studio</td>\n",
       "      <td>32715865.0</td>\n",
       "      <td>Manhattan, Upper West Side</td>\n",
       "      <td>(40.79169, -73.97498)</td>\n",
       "      <td>Entire place</td>\n",
       "      <td>86$</td>\n",
       "      <td>5</td>\n",
       "      <td>0.13</td>\n",
       "      <td>0</td>\n",
       "      <td>4.763203</td>\n",
       "      <td>6.0</td>\n",
       "      <td>2017-03-20</td>\n",
       "    </tr>\n",
       "    <tr>\n",
       "      <th>3</th>\n",
       "      <td>22986519</td>\n",
       "      <td>Bedroom on the lively Lower East Side</td>\n",
       "      <td>154262349.0</td>\n",
       "      <td>Manhattan, Lower East Side</td>\n",
       "      <td>(40.71884, -73.98354)</td>\n",
       "      <td>Private Room</td>\n",
       "      <td>160$</td>\n",
       "      <td>23</td>\n",
       "      <td>2.29</td>\n",
       "      <td>102</td>\n",
       "      <td>3.822591</td>\n",
       "      <td>27.6</td>\n",
       "      <td>2020-10-23</td>\n",
       "    </tr>\n",
       "    <tr>\n",
       "      <th>4</th>\n",
       "      <td>271954</td>\n",
       "      <td>Beautiful brownstone apartment</td>\n",
       "      <td>1423798.0</td>\n",
       "      <td>Manhattan, Greenwich Village</td>\n",
       "      <td>(40.73388, -73.99452)</td>\n",
       "      <td>Entire place</td>\n",
       "      <td>150$</td>\n",
       "      <td>203</td>\n",
       "      <td>2.22</td>\n",
       "      <td>300</td>\n",
       "      <td>4.478396</td>\n",
       "      <td>243.6</td>\n",
       "      <td>2018-12-15</td>\n",
       "    </tr>\n",
       "  </tbody>\n",
       "</table>\n",
       "</div>"
      ],
      "text/plain": [
       "   listing_id                                        description      host_id  \\\n",
       "0    13740704  Cozy,budget friendly, cable inc, private entra...   20583125.0   \n",
       "1    22005115              Two floor apartment near Central Park   82746113.0   \n",
       "2     6425850                          Spacious, charming studio   32715865.0   \n",
       "3    22986519              Bedroom on the lively Lower East Side  154262349.0   \n",
       "4      271954                     Beautiful brownstone apartment    1423798.0   \n",
       "\n",
       "             neighbourhood_full            coordinates     room_type price  \\\n",
       "0           Brooklyn, Flatlands  (40.63222, -73.93398)  Private Room   45$   \n",
       "1    Manhattan, Upper West Side  (40.78761, -73.96862)  Entire place  135$   \n",
       "2    Manhattan, Upper West Side  (40.79169, -73.97498)  Entire place   86$   \n",
       "3    Manhattan, Lower East Side  (40.71884, -73.98354)  Private Room  160$   \n",
       "4  Manhattan, Greenwich Village  (40.73388, -73.99452)  Entire place  150$   \n",
       "\n",
       "   number_of_reviews  reviews_per_month  availability_365    rating  \\\n",
       "0                 10               0.70                85  4.100954   \n",
       "1                  1               1.00               145  3.367600   \n",
       "2                  5               0.13                 0  4.763203   \n",
       "3                 23               2.29               102  3.822591   \n",
       "4                203               2.22               300  4.478396   \n",
       "\n",
       "   number_of_stays listing_added  \n",
       "0             12.0    2018-06-08  \n",
       "1              1.2    2018-12-25  \n",
       "2              6.0    2017-03-20  \n",
       "3             27.6    2020-10-23  \n",
       "4            243.6    2018-12-15  "
      ]
     },
     "execution_count": 5,
     "metadata": {},
     "output_type": "execute_result"
    }
   ],
   "source": [
    "# Inspect header of dataset\n",
    "airbnb.head()"
   ]
  },
  {
   "cell_type": "markdown",
   "metadata": {
    "id": "777CTtRq78ja"
   },
   "source": [
    "* _**Problem 1:** Taking a look at the_ `price` _column, it seems it's not a numeric data type_\n",
    "* _**Problem 2:** We need to extract the Borough from the_ `neighbourhood_full` _column_"
   ]
  },
  {
   "cell_type": "code",
   "execution_count": null,
   "metadata": {
    "colab": {
     "base_uri": "https://localhost:8080/",
     "height": 288
    },
    "id": "OwgWHyKF8b7F",
    "outputId": "528123c5-9b15-4527-c0d1-24a6d30eee38"
   },
   "outputs": [
    {
     "data": {
      "application/com.datacamp.data-table.v1+json": {
       "is_truncated": false,
       "table": {
        "data": [
         {
          "availability_365": 7734,
          "host_id": 7727,
          "index": "count",
          "listing_id": 7734,
          "number_of_reviews": 7734,
          "number_of_stays": 7734,
          "rating": 7734,
          "reviews_per_month": 7734
         },
         {
          "availability_365": 114.5461598138,
          "host_id": 64814659.91354989,
          "index": "mean",
          "listing_id": 18387689.08882855,
          "number_of_reviews": 28.3551848979,
          "number_of_stays": 34.0262218774,
          "rating": 4.0121990993,
          "reviews_per_month": 1.3537457978
         },
         {
          "availability_365": 129.8625834318,
          "host_id": 76101541.19951546,
          "index": "std",
          "listing_id": 10692296.85421927,
          "number_of_reviews": 46.9622745589,
          "number_of_stays": 56.3547294707,
          "rating": 0.5748121434,
          "reviews_per_month": 1.6132291891
         },
         {
          "availability_365": 0,
          "host_id": 2787,
          "index": "min",
          "listing_id": 3831,
          "number_of_reviews": 1,
          "number_of_stays": 1.2,
          "rating": 3.0006328519,
          "reviews_per_month": 0.01
         },
         {
          "availability_365": 0,
          "host_id": 7155461.5,
          "index": "25%",
          "listing_id": 9028764,
          "number_of_reviews": 3,
          "number_of_stays": 3.6,
          "rating": 3.5189177381,
          "reviews_per_month": 0.2
         },
         {
          "availability_365": 54,
          "host_id": 29518961,
          "index": "50%",
          "listing_id": 19309778.5,
          "number_of_reviews": 9,
          "number_of_stays": 10.8,
          "rating": 4.0242229373,
          "reviews_per_month": 0.71
         },
         {
          "availability_365": 230,
          "host_id": 101751629,
          "index": "75%",
          "listing_id": 27906228,
          "number_of_reviews": 32,
          "number_of_stays": 38.4,
          "rating": 4.5141727429,
          "reviews_per_month": 2
         },
         {
          "availability_365": 365,
          "host_id": 273361532,
          "index": "max",
          "listing_id": 36351128,
          "number_of_reviews": 510,
          "number_of_stays": 612,
          "rating": 4.9995611048,
          "reviews_per_month": 16.22
         }
        ],
        "schema": {
         "fields": [
          {
           "name": "index",
           "type": "string"
          },
          {
           "name": "listing_id",
           "type": "number"
          },
          {
           "name": "host_id",
           "type": "number"
          },
          {
           "name": "number_of_reviews",
           "type": "number"
          },
          {
           "name": "reviews_per_month",
           "type": "number"
          },
          {
           "name": "availability_365",
           "type": "number"
          },
          {
           "name": "rating",
           "type": "number"
          },
          {
           "name": "number_of_stays",
           "type": "number"
          }
         ],
         "pandas_version": "0.20.0",
         "primaryKey": [
          "index"
         ]
        }
       },
       "total_rows": 8
      },
      "text/html": [
       "<div>\n",
       "<style scoped>\n",
       "    .dataframe tbody tr th:only-of-type {\n",
       "        vertical-align: middle;\n",
       "    }\n",
       "\n",
       "    .dataframe tbody tr th {\n",
       "        vertical-align: top;\n",
       "    }\n",
       "\n",
       "    .dataframe thead th {\n",
       "        text-align: right;\n",
       "    }\n",
       "</style>\n",
       "<table border=\"1\" class=\"dataframe\">\n",
       "  <thead>\n",
       "    <tr style=\"text-align: right;\">\n",
       "      <th></th>\n",
       "      <th>listing_id</th>\n",
       "      <th>host_id</th>\n",
       "      <th>number_of_reviews</th>\n",
       "      <th>reviews_per_month</th>\n",
       "      <th>availability_365</th>\n",
       "      <th>rating</th>\n",
       "      <th>number_of_stays</th>\n",
       "    </tr>\n",
       "  </thead>\n",
       "  <tbody>\n",
       "    <tr>\n",
       "      <th>count</th>\n",
       "      <td>7.734000e+03</td>\n",
       "      <td>7.727000e+03</td>\n",
       "      <td>7734.000000</td>\n",
       "      <td>7734.000000</td>\n",
       "      <td>7734.000000</td>\n",
       "      <td>7734.000000</td>\n",
       "      <td>7734.000000</td>\n",
       "    </tr>\n",
       "    <tr>\n",
       "      <th>mean</th>\n",
       "      <td>1.838769e+07</td>\n",
       "      <td>6.481466e+07</td>\n",
       "      <td>28.355185</td>\n",
       "      <td>1.353746</td>\n",
       "      <td>114.546160</td>\n",
       "      <td>4.012199</td>\n",
       "      <td>34.026222</td>\n",
       "    </tr>\n",
       "    <tr>\n",
       "      <th>std</th>\n",
       "      <td>1.069230e+07</td>\n",
       "      <td>7.610154e+07</td>\n",
       "      <td>46.962275</td>\n",
       "      <td>1.613229</td>\n",
       "      <td>129.862583</td>\n",
       "      <td>0.574812</td>\n",
       "      <td>56.354729</td>\n",
       "    </tr>\n",
       "    <tr>\n",
       "      <th>min</th>\n",
       "      <td>3.831000e+03</td>\n",
       "      <td>2.787000e+03</td>\n",
       "      <td>1.000000</td>\n",
       "      <td>0.010000</td>\n",
       "      <td>0.000000</td>\n",
       "      <td>3.000633</td>\n",
       "      <td>1.200000</td>\n",
       "    </tr>\n",
       "    <tr>\n",
       "      <th>25%</th>\n",
       "      <td>9.028764e+06</td>\n",
       "      <td>7.155462e+06</td>\n",
       "      <td>3.000000</td>\n",
       "      <td>0.200000</td>\n",
       "      <td>0.000000</td>\n",
       "      <td>3.518918</td>\n",
       "      <td>3.600000</td>\n",
       "    </tr>\n",
       "    <tr>\n",
       "      <th>50%</th>\n",
       "      <td>1.930978e+07</td>\n",
       "      <td>2.951896e+07</td>\n",
       "      <td>9.000000</td>\n",
       "      <td>0.710000</td>\n",
       "      <td>54.000000</td>\n",
       "      <td>4.024223</td>\n",
       "      <td>10.800000</td>\n",
       "    </tr>\n",
       "    <tr>\n",
       "      <th>75%</th>\n",
       "      <td>2.790623e+07</td>\n",
       "      <td>1.017516e+08</td>\n",
       "      <td>32.000000</td>\n",
       "      <td>2.000000</td>\n",
       "      <td>230.000000</td>\n",
       "      <td>4.514173</td>\n",
       "      <td>38.400000</td>\n",
       "    </tr>\n",
       "    <tr>\n",
       "      <th>max</th>\n",
       "      <td>3.635113e+07</td>\n",
       "      <td>2.733615e+08</td>\n",
       "      <td>510.000000</td>\n",
       "      <td>16.220000</td>\n",
       "      <td>365.000000</td>\n",
       "      <td>4.999561</td>\n",
       "      <td>612.000000</td>\n",
       "    </tr>\n",
       "  </tbody>\n",
       "</table>\n",
       "</div>"
      ],
      "text/plain": [
       "         listing_id       host_id  number_of_reviews  reviews_per_month  \\\n",
       "count  7.734000e+03  7.727000e+03        7734.000000        7734.000000   \n",
       "mean   1.838769e+07  6.481466e+07          28.355185           1.353746   \n",
       "std    1.069230e+07  7.610154e+07          46.962275           1.613229   \n",
       "min    3.831000e+03  2.787000e+03           1.000000           0.010000   \n",
       "25%    9.028764e+06  7.155462e+06           3.000000           0.200000   \n",
       "50%    1.930978e+07  2.951896e+07           9.000000           0.710000   \n",
       "75%    2.790623e+07  1.017516e+08          32.000000           2.000000   \n",
       "max    3.635113e+07  2.733615e+08         510.000000          16.220000   \n",
       "\n",
       "       availability_365       rating  number_of_stays  \n",
       "count       7734.000000  7734.000000      7734.000000  \n",
       "mean         114.546160     4.012199        34.026222  \n",
       "std          129.862583     0.574812        56.354729  \n",
       "min            0.000000     3.000633         1.200000  \n",
       "25%            0.000000     3.518918         3.600000  \n",
       "50%           54.000000     4.024223        10.800000  \n",
       "75%          230.000000     4.514173        38.400000  \n",
       "max          365.000000     4.999561       612.000000  "
      ]
     },
     "execution_count": 6,
     "metadata": {},
     "output_type": "execute_result"
    }
   ],
   "source": [
    "# Check description of dataset\n",
    "airbnb.describe()"
   ]
  },
  {
   "cell_type": "code",
   "execution_count": null,
   "metadata": {
    "colab": {
     "base_uri": "https://localhost:8080/",
     "height": 363
    },
    "id": "1asOzFL-7oOi",
    "outputId": "f600b2ba-67a4-4f60-cc4e-e257f63c3979"
   },
   "outputs": [
    {
     "name": "stdout",
     "output_type": "stream",
     "text": [
      "<class 'pandas.core.frame.DataFrame'>\n",
      "Int64Index: 7734 entries, 0 to 7733\n",
      "Data columns (total 13 columns):\n",
      " #   Column              Non-Null Count  Dtype  \n",
      "---  ------              --------------  -----  \n",
      " 0   listing_id          7734 non-null   int64  \n",
      " 1   description         7733 non-null   object \n",
      " 2   host_id             7727 non-null   float64\n",
      " 3   neighbourhood_full  7734 non-null   object \n",
      " 4   coordinates         7734 non-null   object \n",
      " 5   room_type           7734 non-null   object \n",
      " 6   price               7734 non-null   object \n",
      " 7   number_of_reviews   7734 non-null   int64  \n",
      " 8   reviews_per_month   7734 non-null   float64\n",
      " 9   availability_365    7734 non-null   int64  \n",
      " 10  rating              7734 non-null   float64\n",
      " 11  number_of_stays     7734 non-null   float64\n",
      " 12  listing_added       7734 non-null   object \n",
      "dtypes: float64(4), int64(3), object(6)\n",
      "memory usage: 845.9+ KB\n"
     ]
    }
   ],
   "source": [
    "# Check information of dataset\n",
    "airbnb.info()"
   ]
  },
  {
   "cell_type": "markdown",
   "metadata": {
    "id": "Fu8BM83N8jZ_"
   },
   "source": [
    "* _**Problem 3:** From the output, it seems that we have missing data in_ `host_id`, `description` columns.\n",
    "* _**Problem 4:** We need to convert_ `listing_added` _column to date column._"
   ]
  },
  {
   "cell_type": "markdown",
   "metadata": {
    "id": "fC7RVpt-UcRD"
   },
   "source": [
    "## **Data Cleaning**"
   ]
  },
  {
   "cell_type": "markdown",
   "metadata": {
    "id": "rG5PDhllUXL7"
   },
   "source": [
    "### **Data cleaning to-do list!**\n",
    "\n",
    "_Data Type Problems_\n",
    "\n",
    "- _**Task 1**: Remove_ `$` _from_ `price` _and convert it to_ `float`\n",
    "- _**Task 2**: Convert_ `listing_added` _to_ `datetime`\n",
    "\n",
    "<br>\n",
    "\n",
    "_Text/categorical data problems:_\n",
    "\n",
    "- _**Task 3**: Extract borough from_ `neighbourhood_full`\n",
    "\n",
    "<br>\n",
    "\n",
    "_Dealing with missing data:_\n",
    "\n",
    "- _**Task 4**: Deal with missing data in_ `host_id` _and_ `description` _columns_\n",
    "\n",
    "<br>\n"
   ]
  },
  {
   "cell_type": "markdown",
   "metadata": {
    "id": "_WbgrwVHVLoU"
   },
   "source": [
    "##### **Task 1:** Remove `$` from `price` and convert it to `float`\n"
   ]
  },
  {
   "cell_type": "markdown",
   "metadata": {
    "id": "7ugtMIioXim8"
   },
   "source": [
    "_To remove a character from a string column, we can use:_ \n",
    "```\n",
    "data['column_name'] = data['column_name'].str.strip(character)\n",
    "```\n",
    "\n",
    "_To convert a numeric column to a float, we can use:_\n",
    "\n",
    "```\n",
    "data['column_name'] = data['column_name'].astype('float')\n",
    "```"
   ]
  },
  {
   "cell_type": "code",
   "execution_count": null,
   "metadata": {
    "colab": {
     "base_uri": "https://localhost:8080/",
     "height": 285
    },
    "id": "yMm6udxH9O4C",
    "outputId": "e2c63053-c32f-490a-cb98-e05f29d8a093"
   },
   "outputs": [
    {
     "data": {
      "application/com.datacamp.data-table.v1+json": {
       "is_truncated": false,
       "table": {
        "data": [
         {
          "availability_365": 85,
          "coordinates": "(40.63222, -73.93398)",
          "description": "Cozy,budget friendly, cable inc, private entrance!",
          "host_id": 20583125,
          "index": 0,
          "listing_added": "2018-06-08",
          "listing_id": 13740704,
          "neighbourhood_full": "Brooklyn, Flatlands",
          "number_of_reviews": 10,
          "number_of_stays": 12,
          "price": 45,
          "rating": 4.1009535687,
          "reviews_per_month": 0.7,
          "room_type": "Private Room"
         },
         {
          "availability_365": 145,
          "coordinates": "(40.78761, -73.96862)",
          "description": "Two floor apartment near Central Park",
          "host_id": 82746113,
          "index": 1,
          "listing_added": "2018-12-25",
          "listing_id": 22005115,
          "neighbourhood_full": "Manhattan, Upper West Side",
          "number_of_reviews": 1,
          "number_of_stays": 1.2,
          "price": 135,
          "rating": 3.3675998415,
          "reviews_per_month": 1,
          "room_type": "Entire place"
         },
         {
          "availability_365": 0,
          "coordinates": "(40.79169, -73.97498)",
          "description": "Spacious, charming studio",
          "host_id": 32715865,
          "index": 2,
          "listing_added": "2017-03-20",
          "listing_id": 6425850,
          "neighbourhood_full": "Manhattan, Upper West Side",
          "number_of_reviews": 5,
          "number_of_stays": 6,
          "price": 86,
          "rating": 4.7632029943,
          "reviews_per_month": 0.13,
          "room_type": "Entire place"
         },
         {
          "availability_365": 102,
          "coordinates": "(40.71884, -73.98354)",
          "description": "Bedroom on the lively Lower East Side",
          "host_id": 154262349,
          "index": 3,
          "listing_added": "2020-10-23",
          "listing_id": 22986519,
          "neighbourhood_full": "Manhattan, Lower East Side",
          "number_of_reviews": 23,
          "number_of_stays": 27.6,
          "price": 160,
          "rating": 3.822590628,
          "reviews_per_month": 2.29,
          "room_type": "Private Room"
         },
         {
          "availability_365": 300,
          "coordinates": "(40.73388, -73.99452)",
          "description": "Beautiful brownstone apartment",
          "host_id": 1423798,
          "index": 4,
          "listing_added": "2018-12-15",
          "listing_id": 271954,
          "neighbourhood_full": "Manhattan, Greenwich Village",
          "number_of_reviews": 203,
          "number_of_stays": 243.6,
          "price": 150,
          "rating": 4.4783964853,
          "reviews_per_month": 2.22,
          "room_type": "Entire place"
         }
        ],
        "schema": {
         "fields": [
          {
           "name": "index",
           "type": "integer"
          },
          {
           "name": "listing_id",
           "type": "integer"
          },
          {
           "name": "description",
           "type": "string"
          },
          {
           "name": "host_id",
           "type": "number"
          },
          {
           "name": "neighbourhood_full",
           "type": "string"
          },
          {
           "name": "coordinates",
           "type": "string"
          },
          {
           "name": "room_type",
           "type": "string"
          },
          {
           "name": "price",
           "type": "number"
          },
          {
           "name": "number_of_reviews",
           "type": "integer"
          },
          {
           "name": "reviews_per_month",
           "type": "number"
          },
          {
           "name": "availability_365",
           "type": "integer"
          },
          {
           "name": "rating",
           "type": "number"
          },
          {
           "name": "number_of_stays",
           "type": "number"
          },
          {
           "name": "listing_added",
           "type": "string"
          }
         ],
         "pandas_version": "0.20.0",
         "primaryKey": [
          "index"
         ]
        }
       },
       "total_rows": 5
      },
      "text/html": [
       "<div>\n",
       "<style scoped>\n",
       "    .dataframe tbody tr th:only-of-type {\n",
       "        vertical-align: middle;\n",
       "    }\n",
       "\n",
       "    .dataframe tbody tr th {\n",
       "        vertical-align: top;\n",
       "    }\n",
       "\n",
       "    .dataframe thead th {\n",
       "        text-align: right;\n",
       "    }\n",
       "</style>\n",
       "<table border=\"1\" class=\"dataframe\">\n",
       "  <thead>\n",
       "    <tr style=\"text-align: right;\">\n",
       "      <th></th>\n",
       "      <th>listing_id</th>\n",
       "      <th>description</th>\n",
       "      <th>host_id</th>\n",
       "      <th>neighbourhood_full</th>\n",
       "      <th>coordinates</th>\n",
       "      <th>room_type</th>\n",
       "      <th>price</th>\n",
       "      <th>number_of_reviews</th>\n",
       "      <th>reviews_per_month</th>\n",
       "      <th>availability_365</th>\n",
       "      <th>rating</th>\n",
       "      <th>number_of_stays</th>\n",
       "      <th>listing_added</th>\n",
       "    </tr>\n",
       "  </thead>\n",
       "  <tbody>\n",
       "    <tr>\n",
       "      <th>0</th>\n",
       "      <td>13740704</td>\n",
       "      <td>Cozy,budget friendly, cable inc, private entra...</td>\n",
       "      <td>20583125.0</td>\n",
       "      <td>Brooklyn, Flatlands</td>\n",
       "      <td>(40.63222, -73.93398)</td>\n",
       "      <td>Private Room</td>\n",
       "      <td>45.0</td>\n",
       "      <td>10</td>\n",
       "      <td>0.70</td>\n",
       "      <td>85</td>\n",
       "      <td>4.100954</td>\n",
       "      <td>12.0</td>\n",
       "      <td>2018-06-08</td>\n",
       "    </tr>\n",
       "    <tr>\n",
       "      <th>1</th>\n",
       "      <td>22005115</td>\n",
       "      <td>Two floor apartment near Central Park</td>\n",
       "      <td>82746113.0</td>\n",
       "      <td>Manhattan, Upper West Side</td>\n",
       "      <td>(40.78761, -73.96862)</td>\n",
       "      <td>Entire place</td>\n",
       "      <td>135.0</td>\n",
       "      <td>1</td>\n",
       "      <td>1.00</td>\n",
       "      <td>145</td>\n",
       "      <td>3.367600</td>\n",
       "      <td>1.2</td>\n",
       "      <td>2018-12-25</td>\n",
       "    </tr>\n",
       "    <tr>\n",
       "      <th>2</th>\n",
       "      <td>6425850</td>\n",
       "      <td>Spacious, charming studio</td>\n",
       "      <td>32715865.0</td>\n",
       "      <td>Manhattan, Upper West Side</td>\n",
       "      <td>(40.79169, -73.97498)</td>\n",
       "      <td>Entire place</td>\n",
       "      <td>86.0</td>\n",
       "      <td>5</td>\n",
       "      <td>0.13</td>\n",
       "      <td>0</td>\n",
       "      <td>4.763203</td>\n",
       "      <td>6.0</td>\n",
       "      <td>2017-03-20</td>\n",
       "    </tr>\n",
       "    <tr>\n",
       "      <th>3</th>\n",
       "      <td>22986519</td>\n",
       "      <td>Bedroom on the lively Lower East Side</td>\n",
       "      <td>154262349.0</td>\n",
       "      <td>Manhattan, Lower East Side</td>\n",
       "      <td>(40.71884, -73.98354)</td>\n",
       "      <td>Private Room</td>\n",
       "      <td>160.0</td>\n",
       "      <td>23</td>\n",
       "      <td>2.29</td>\n",
       "      <td>102</td>\n",
       "      <td>3.822591</td>\n",
       "      <td>27.6</td>\n",
       "      <td>2020-10-23</td>\n",
       "    </tr>\n",
       "    <tr>\n",
       "      <th>4</th>\n",
       "      <td>271954</td>\n",
       "      <td>Beautiful brownstone apartment</td>\n",
       "      <td>1423798.0</td>\n",
       "      <td>Manhattan, Greenwich Village</td>\n",
       "      <td>(40.73388, -73.99452)</td>\n",
       "      <td>Entire place</td>\n",
       "      <td>150.0</td>\n",
       "      <td>203</td>\n",
       "      <td>2.22</td>\n",
       "      <td>300</td>\n",
       "      <td>4.478396</td>\n",
       "      <td>243.6</td>\n",
       "      <td>2018-12-15</td>\n",
       "    </tr>\n",
       "  </tbody>\n",
       "</table>\n",
       "</div>"
      ],
      "text/plain": [
       "   listing_id                                        description      host_id  \\\n",
       "0    13740704  Cozy,budget friendly, cable inc, private entra...   20583125.0   \n",
       "1    22005115              Two floor apartment near Central Park   82746113.0   \n",
       "2     6425850                          Spacious, charming studio   32715865.0   \n",
       "3    22986519              Bedroom on the lively Lower East Side  154262349.0   \n",
       "4      271954                     Beautiful brownstone apartment    1423798.0   \n",
       "\n",
       "             neighbourhood_full            coordinates     room_type  price  \\\n",
       "0           Brooklyn, Flatlands  (40.63222, -73.93398)  Private Room   45.0   \n",
       "1    Manhattan, Upper West Side  (40.78761, -73.96862)  Entire place  135.0   \n",
       "2    Manhattan, Upper West Side  (40.79169, -73.97498)  Entire place   86.0   \n",
       "3    Manhattan, Lower East Side  (40.71884, -73.98354)  Private Room  160.0   \n",
       "4  Manhattan, Greenwich Village  (40.73388, -73.99452)  Entire place  150.0   \n",
       "\n",
       "   number_of_reviews  reviews_per_month  availability_365    rating  \\\n",
       "0                 10               0.70                85  4.100954   \n",
       "1                  1               1.00               145  3.367600   \n",
       "2                  5               0.13                 0  4.763203   \n",
       "3                 23               2.29               102  3.822591   \n",
       "4                203               2.22               300  4.478396   \n",
       "\n",
       "   number_of_stays listing_added  \n",
       "0             12.0    2018-06-08  \n",
       "1              1.2    2018-12-25  \n",
       "2              6.0    2017-03-20  \n",
       "3             27.6    2020-10-23  \n",
       "4            243.6    2018-12-15  "
      ]
     },
     "execution_count": 8,
     "metadata": {},
     "output_type": "execute_result"
    }
   ],
   "source": [
    "# Strip $ from price column\n",
    "airbnb['price'] = airbnb['price'].str.strip('$')\n",
    "\n",
    "# Convert price column to float\n",
    "airbnb['price'] = airbnb['price'].astype('float')\n",
    "\n",
    "# Print header again\n",
    "airbnb.head()"
   ]
  },
  {
   "cell_type": "markdown",
   "metadata": {
    "id": "_yDCiMLSYsBH"
   },
   "source": [
    "##### **Task 2:** Convert `listing_added` to `datetime`\n",
    "\n",
    "_To convert a date column to_ `datetime`_, we can use:_\n",
    "\n",
    "\n",
    "```\n",
    "data['column_name'] = pd.to_datetime(data['column_name'])\n",
    "```"
   ]
  },
  {
   "cell_type": "code",
   "execution_count": null,
   "metadata": {
    "colab": {
     "base_uri": "https://localhost:8080/",
     "height": 363
    },
    "id": "g_sXwhjNYreC",
    "outputId": "c282120b-44f3-430a-f440-b5fd63dd0196"
   },
   "outputs": [
    {
     "name": "stdout",
     "output_type": "stream",
     "text": [
      "<class 'pandas.core.frame.DataFrame'>\n",
      "Int64Index: 7734 entries, 0 to 7733\n",
      "Data columns (total 13 columns):\n",
      " #   Column              Non-Null Count  Dtype         \n",
      "---  ------              --------------  -----         \n",
      " 0   listing_id          7734 non-null   int64         \n",
      " 1   description         7733 non-null   object        \n",
      " 2   host_id             7727 non-null   float64       \n",
      " 3   neighbourhood_full  7734 non-null   object        \n",
      " 4   coordinates         7734 non-null   object        \n",
      " 5   room_type           7734 non-null   object        \n",
      " 6   price               7734 non-null   float64       \n",
      " 7   number_of_reviews   7734 non-null   int64         \n",
      " 8   reviews_per_month   7734 non-null   float64       \n",
      " 9   availability_365    7734 non-null   int64         \n",
      " 10  rating              7734 non-null   float64       \n",
      " 11  number_of_stays     7734 non-null   float64       \n",
      " 12  listing_added       7734 non-null   datetime64[ns]\n",
      "dtypes: datetime64[ns](1), float64(5), int64(3), object(4)\n",
      "memory usage: 845.9+ KB\n"
     ]
    }
   ],
   "source": [
    "# Convert listing_added to datetime\n",
    "airbnb['listing_added'] = pd.to_datetime(airbnb['listing_added'])\n",
    "\n",
    "# Print info again\n",
    "airbnb.info()"
   ]
  },
  {
   "cell_type": "markdown",
   "metadata": {
    "id": "9GkHzvjoZkKn"
   },
   "source": [
    "##### **Task 3:** Extract borough from `neighbourhood_full` column\n",
    "\n",
    "_To split a column into multiple columns, we can use:_\n",
    "\n",
    "```\n",
    "split_data = data['column_name'].str.split(',', expand = True)\n",
    "```\n"
   ]
  },
  {
   "cell_type": "code",
   "execution_count": null,
   "metadata": {
    "colab": {
     "base_uri": "https://localhost:8080/",
     "height": 407
    },
    "id": "HLChdRXM9rKe",
    "outputId": "b3b40e66-1137-4598-e7bc-201e4a81a1f9"
   },
   "outputs": [
    {
     "data": {
      "application/com.datacamp.data-table.v1+json": {
       "is_truncated": false,
       "table": {
        "data": [
         {
          "0": "Brooklyn",
          "1": " Flatlands",
          "index": 0
         },
         {
          "0": "Manhattan",
          "1": " Upper West Side",
          "index": 1
         },
         {
          "0": "Manhattan",
          "1": " Upper West Side",
          "index": 2
         },
         {
          "0": "Manhattan",
          "1": " Lower East Side",
          "index": 3
         },
         {
          "0": "Manhattan",
          "1": " Greenwich Village",
          "index": 4
         },
         {
          "0": "Brooklyn",
          "1": " Sheepshead Bay",
          "index": 5
         },
         {
          "0": "Manhattan",
          "1": " Theater District",
          "index": 6
         },
         {
          "0": "Manhattan",
          "1": " Harlem",
          "index": 7
         },
         {
          "0": "Brooklyn",
          "1": " Bushwick",
          "index": 8
         },
         {
          "0": "Queens",
          "1": " Laurelton",
          "index": 9
         },
         {
          "0": "Bronx",
          "1": " Mott Haven",
          "index": 10
         },
         {
          "0": "Manhattan",
          "1": " Harlem",
          "index": 11
         },
         {
          "0": "Manhattan",
          "1": " Financial District",
          "index": 12
         },
         {
          "0": "Manhattan",
          "1": " Lower East Side",
          "index": 13
         },
         {
          "0": "Manhattan",
          "1": " Greenwich Village",
          "index": 14
         },
         {
          "0": "Manhattan",
          "1": " East Village",
          "index": 15
         },
         {
          "0": "Brooklyn",
          "1": " Park Slope",
          "index": 16
         },
         {
          "0": "Manhattan",
          "1": " Lower East Side",
          "index": 17
         },
         {
          "0": "Manhattan",
          "1": " Harlem",
          "index": 18
         },
         {
          "0": "Brooklyn",
          "1": " Bushwick",
          "index": 19
         },
         {
          "0": "Manhattan",
          "1": " Chelsea",
          "index": 20
         },
         {
          "0": "Brooklyn",
          "1": " Bedford-Stuyvesant",
          "index": 21
         },
         {
          "0": "Brooklyn",
          "1": " Gowanus",
          "index": 22
         },
         {
          "0": "Manhattan",
          "1": " Upper East Side",
          "index": 23
         },
         {
          "0": "Manhattan",
          "1": " Upper West Side",
          "index": 24
         },
         {
          "0": "Manhattan",
          "1": " Chelsea",
          "index": 25
         },
         {
          "0": "Queens",
          "1": " Ditmars Steinway",
          "index": 26
         },
         {
          "0": "Brooklyn",
          "1": " Bedford-Stuyvesant",
          "index": 27
         },
         {
          "0": "Brooklyn",
          "1": " Bushwick",
          "index": 28
         },
         {
          "0": "Manhattan",
          "1": " Harlem",
          "index": 29
         },
         {
          "0": "Manhattan",
          "1": " Upper East Side",
          "index": 30
         },
         {
          "0": "Manhattan",
          "1": " Upper West Side",
          "index": 31
         },
         {
          "0": "Brooklyn",
          "1": " Cypress Hills",
          "index": 32
         },
         {
          "0": "Bronx",
          "1": " Mott Haven",
          "index": 33
         },
         {
          "0": "Manhattan",
          "1": " Hell's Kitchen",
          "index": 34
         },
         {
          "0": "Queens",
          "1": " Ridgewood",
          "index": 35
         },
         {
          "0": "Brooklyn",
          "1": " Bushwick",
          "index": 36
         },
         {
          "0": "Manhattan",
          "1": " Washington Heights",
          "index": 37
         },
         {
          "0": "Manhattan",
          "1": " Marble Hill",
          "index": 38
         },
         {
          "0": "Brooklyn",
          "1": " Crown Heights",
          "index": 39
         },
         {
          "0": "Brooklyn",
          "1": " Williamsburg",
          "index": 40
         },
         {
          "0": "Brooklyn",
          "1": " Prospect Heights",
          "index": 41
         },
         {
          "0": "Brooklyn",
          "1": " East New York",
          "index": 42
         },
         {
          "0": "Staten Island",
          "1": " Concord",
          "index": 43
         },
         {
          "0": "Brooklyn",
          "1": " Gowanus",
          "index": 44
         },
         {
          "0": "Manhattan",
          "1": " Upper West Side",
          "index": 45
         },
         {
          "0": "Staten Island",
          "1": " Stapleton",
          "index": 46
         },
         {
          "0": "Brooklyn",
          "1": " Bedford-Stuyvesant",
          "index": 47
         },
         {
          "0": "Queens",
          "1": " Astoria",
          "index": 48
         },
         {
          "0": "Manhattan",
          "1": " Hell's Kitchen",
          "index": 49
         },
         {
          "0": "Manhattan",
          "1": " East Harlem",
          "index": 50
         },
         {
          "0": "Manhattan",
          "1": " Hell's Kitchen",
          "index": 51
         },
         {
          "0": "Manhattan",
          "1": " Gramercy",
          "index": 52
         },
         {
          "0": "Brooklyn",
          "1": " Bedford-Stuyvesant",
          "index": 53
         },
         {
          "0": "Brooklyn",
          "1": " Williamsburg",
          "index": 54
         },
         {
          "0": "Brooklyn",
          "1": " Bedford-Stuyvesant",
          "index": 55
         },
         {
          "0": "Brooklyn",
          "1": " Williamsburg",
          "index": 56
         },
         {
          "0": "Brooklyn",
          "1": " Prospect-Lefferts Gardens",
          "index": 57
         },
         {
          "0": "Manhattan",
          "1": " Kips Bay",
          "index": 58
         },
         {
          "0": "Brooklyn",
          "1": " Bedford-Stuyvesant",
          "index": 59
         },
         {
          "0": "Brooklyn",
          "1": " Bushwick",
          "index": 60
         },
         {
          "0": "Brooklyn",
          "1": " Sunset Park",
          "index": 61
         },
         {
          "0": "Brooklyn",
          "1": " Williamsburg",
          "index": 62
         },
         {
          "0": "Brooklyn",
          "1": " Williamsburg",
          "index": 63
         },
         {
          "0": "Brooklyn",
          "1": " Williamsburg",
          "index": 64
         },
         {
          "0": "Brooklyn",
          "1": " Bedford-Stuyvesant",
          "index": 65
         },
         {
          "0": "Brooklyn",
          "1": " Park Slope",
          "index": 66
         },
         {
          "0": "Manhattan",
          "1": " Gramercy",
          "index": 67
         },
         {
          "0": "Manhattan",
          "1": " Midtown",
          "index": 68
         },
         {
          "0": "Manhattan",
          "1": " East Village",
          "index": 69
         },
         {
          "0": "Manhattan",
          "1": " Hell's Kitchen",
          "index": 70
         },
         {
          "0": "Brooklyn",
          "1": " Bedford-Stuyvesant",
          "index": 71
         },
         {
          "0": "Manhattan",
          "1": " Financial District",
          "index": 72
         },
         {
          "0": "Brooklyn",
          "1": " Windsor Terrace",
          "index": 73
         },
         {
          "0": "Manhattan",
          "1": " Upper East Side",
          "index": 74
         },
         {
          "0": "Manhattan",
          "1": " Washington Heights",
          "index": 75
         },
         {
          "0": "Brooklyn",
          "1": " Bedford-Stuyvesant",
          "index": 76
         },
         {
          "0": "Brooklyn",
          "1": " Bedford-Stuyvesant",
          "index": 77
         },
         {
          "0": "Brooklyn",
          "1": " Crown Heights",
          "index": 78
         },
         {
          "0": "Manhattan",
          "1": " Harlem",
          "index": 79
         },
         {
          "0": "Brooklyn",
          "1": " Williamsburg",
          "index": 80
         },
         {
          "0": "Brooklyn",
          "1": " Bushwick",
          "index": 81
         },
         {
          "0": "Manhattan",
          "1": " Lower East Side",
          "index": 82
         },
         {
          "0": "Manhattan",
          "1": " Flatiron District",
          "index": 83
         },
         {
          "0": "Manhattan",
          "1": " East Village",
          "index": 84
         },
         {
          "0": "Manhattan",
          "1": " Midtown",
          "index": 85
         },
         {
          "0": "Brooklyn",
          "1": " Bushwick",
          "index": 86
         },
         {
          "0": "Brooklyn",
          "1": " Gowanus",
          "index": 87
         },
         {
          "0": "Brooklyn",
          "1": " Greenpoint",
          "index": 88
         },
         {
          "0": "Brooklyn",
          "1": " Williamsburg",
          "index": 89
         },
         {
          "0": "Brooklyn",
          "1": " Williamsburg",
          "index": 90
         },
         {
          "0": "Manhattan",
          "1": " Hell's Kitchen",
          "index": 91
         },
         {
          "0": "Brooklyn",
          "1": " Bedford-Stuyvesant",
          "index": 92
         },
         {
          "0": "Brooklyn",
          "1": " Bushwick",
          "index": 93
         },
         {
          "0": "Manhattan",
          "1": " Washington Heights",
          "index": 94
         },
         {
          "0": "Brooklyn",
          "1": " Bedford-Stuyvesant",
          "index": 95
         },
         {
          "0": "Brooklyn",
          "1": " Williamsburg",
          "index": 96
         },
         {
          "0": "Manhattan",
          "1": " East Harlem",
          "index": 97
         },
         {
          "0": "Manhattan",
          "1": " Financial District",
          "index": 98
         },
         {
          "0": "Brooklyn",
          "1": " Bushwick",
          "index": 99
         },
         {
          "0": "Brooklyn",
          "1": " Williamsburg",
          "index": 100
         },
         {
          "0": "Brooklyn",
          "1": " Williamsburg",
          "index": 101
         },
         {
          "0": "Brooklyn",
          "1": " East Flatbush",
          "index": 102
         },
         {
          "0": "Queens",
          "1": " Woodhaven",
          "index": 103
         },
         {
          "0": "Brooklyn",
          "1": " Williamsburg",
          "index": 104
         },
         {
          "0": "Brooklyn",
          "1": " Fort Greene",
          "index": 105
         },
         {
          "0": "Brooklyn",
          "1": " Bushwick",
          "index": 106
         },
         {
          "0": "Manhattan",
          "1": " Midtown",
          "index": 107
         },
         {
          "0": "Manhattan",
          "1": " Hell's Kitchen",
          "index": 108
         },
         {
          "0": "Manhattan",
          "1": " Midtown",
          "index": 109
         },
         {
          "0": "Manhattan",
          "1": " East Village",
          "index": 110
         },
         {
          "0": "Manhattan",
          "1": " Upper East Side",
          "index": 111
         },
         {
          "0": "Manhattan",
          "1": " Chinatown",
          "index": 112
         },
         {
          "0": "Brooklyn",
          "1": " Crown Heights",
          "index": 113
         },
         {
          "0": "Queens",
          "1": " Rockaway Beach",
          "index": 114
         },
         {
          "0": "Brooklyn",
          "1": " Prospect Heights",
          "index": 115
         },
         {
          "0": "Brooklyn",
          "1": " Williamsburg",
          "index": 116
         },
         {
          "0": "Brooklyn",
          "1": " Bedford-Stuyvesant",
          "index": 117
         },
         {
          "0": "Manhattan",
          "1": " Washington Heights",
          "index": 118
         },
         {
          "0": "Brooklyn",
          "1": " Fort Greene",
          "index": 119
         },
         {
          "0": "Brooklyn",
          "1": " Crown Heights",
          "index": 120
         },
         {
          "0": "Brooklyn",
          "1": " Greenpoint",
          "index": 121
         },
         {
          "0": "Brooklyn",
          "1": " Williamsburg",
          "index": 122
         },
         {
          "0": "Brooklyn",
          "1": " Williamsburg",
          "index": 123
         },
         {
          "0": "Brooklyn",
          "1": " Park Slope",
          "index": 124
         },
         {
          "0": "Manhattan",
          "1": " Upper West Side",
          "index": 125
         },
         {
          "0": "Manhattan",
          "1": " East Village",
          "index": 126
         },
         {
          "0": "Brooklyn",
          "1": " Williamsburg",
          "index": 127
         },
         {
          "0": "Queens",
          "1": " Bayside",
          "index": 128
         },
         {
          "0": "Queens",
          "1": " Ditmars Steinway",
          "index": 129
         },
         {
          "0": "Brooklyn",
          "1": " Bushwick",
          "index": 130
         },
         {
          "0": "Manhattan",
          "1": " Washington Heights",
          "index": 131
         },
         {
          "0": "Manhattan",
          "1": " East Village",
          "index": 132
         },
         {
          "0": "Manhattan",
          "1": " East Village",
          "index": 133
         },
         {
          "0": "Brooklyn",
          "1": " Red Hook",
          "index": 134
         },
         {
          "0": "Manhattan",
          "1": " SoHo",
          "index": 135
         },
         {
          "0": "Manhattan",
          "1": " West Village",
          "index": 136
         },
         {
          "0": "Brooklyn",
          "1": " Sunset Park",
          "index": 137
         },
         {
          "0": "Brooklyn",
          "1": " Bushwick",
          "index": 138
         },
         {
          "0": "Brooklyn",
          "1": " South Slope",
          "index": 139
         },
         {
          "0": "Brooklyn",
          "1": " Bedford-Stuyvesant",
          "index": 140
         },
         {
          "0": "Queens",
          "1": " Rockaway Beach",
          "index": 141
         },
         {
          "0": "Queens",
          "1": " Woodside",
          "index": 142
         },
         {
          "0": "Manhattan",
          "1": " Murray Hill",
          "index": 143
         },
         {
          "0": "Brooklyn",
          "1": " Crown Heights",
          "index": 144
         },
         {
          "0": "Queens",
          "1": " Jamaica",
          "index": 145
         },
         {
          "0": "Brooklyn",
          "1": " Williamsburg",
          "index": 146
         },
         {
          "0": "Manhattan",
          "1": " Upper West Side",
          "index": 147
         },
         {
          "0": "Brooklyn",
          "1": " South Slope",
          "index": 148
         },
         {
          "0": "Manhattan",
          "1": " Upper East Side",
          "index": 149
         },
         {
          "0": "Manhattan",
          "1": " Gramercy",
          "index": 150
         },
         {
          "0": "Manhattan",
          "1": " Upper West Side",
          "index": 151
         },
         {
          "0": "Brooklyn",
          "1": " Brooklyn Heights",
          "index": 152
         },
         {
          "0": "Brooklyn",
          "1": " Boerum Hill",
          "index": 153
         },
         {
          "0": "Manhattan",
          "1": " West Village",
          "index": 154
         },
         {
          "0": "Brooklyn",
          "1": " Cypress Hills",
          "index": 155
         },
         {
          "0": "Manhattan",
          "1": " East Village",
          "index": 156
         },
         {
          "0": "Brooklyn",
          "1": " Crown Heights",
          "index": 157
         },
         {
          "0": "Staten Island",
          "1": " St. George",
          "index": 158
         },
         {
          "0": "Manhattan",
          "1": " SoHo",
          "index": 159
         },
         {
          "0": "Manhattan",
          "1": " Upper West Side",
          "index": 160
         },
         {
          "0": "Brooklyn",
          "1": " East Flatbush",
          "index": 161
         },
         {
          "0": "Bronx",
          "1": " Clason Point",
          "index": 162
         },
         {
          "0": "Manhattan",
          "1": " Financial District",
          "index": 163
         },
         {
          "0": "Manhattan",
          "1": " SoHo",
          "index": 164
         },
         {
          "0": "Manhattan",
          "1": " Upper West Side",
          "index": 165
         },
         {
          "0": "Manhattan",
          "1": " East Village",
          "index": 166
         },
         {
          "0": "Brooklyn",
          "1": " Fort Greene",
          "index": 167
         },
         {
          "0": "Brooklyn",
          "1": " Williamsburg",
          "index": 168
         },
         {
          "0": "Manhattan",
          "1": " Chelsea",
          "index": 169
         },
         {
          "0": "Manhattan",
          "1": " Harlem",
          "index": 170
         },
         {
          "0": "Queens",
          "1": " College Point",
          "index": 171
         },
         {
          "0": "Queens",
          "1": " Ridgewood",
          "index": 172
         },
         {
          "0": "Manhattan",
          "1": " Hell's Kitchen",
          "index": 173
         },
         {
          "0": "Brooklyn",
          "1": " Bedford-Stuyvesant",
          "index": 174
         },
         {
          "0": "Brooklyn",
          "1": " Windsor Terrace",
          "index": 175
         },
         {
          "0": "Manhattan",
          "1": " Washington Heights",
          "index": 176
         },
         {
          "0": "Brooklyn",
          "1": " Williamsburg",
          "index": 177
         },
         {
          "0": "Manhattan",
          "1": " Upper West Side",
          "index": 178
         },
         {
          "0": "Brooklyn",
          "1": " East New York",
          "index": 179
         },
         {
          "0": "Brooklyn",
          "1": " Fort Greene",
          "index": 180
         },
         {
          "0": "Manhattan",
          "1": " Midtown",
          "index": 181
         },
         {
          "0": "Manhattan",
          "1": " Hell's Kitchen",
          "index": 182
         },
         {
          "0": "Queens",
          "1": " Rego Park",
          "index": 183
         },
         {
          "0": "Brooklyn",
          "1": " Williamsburg",
          "index": 184
         },
         {
          "0": "Manhattan",
          "1": " Upper East Side",
          "index": 185
         },
         {
          "0": "Queens",
          "1": " East Elmhurst",
          "index": 186
         },
         {
          "0": "Queens",
          "1": " Flushing",
          "index": 187
         },
         {
          "0": "Brooklyn",
          "1": " Bedford-Stuyvesant",
          "index": 188
         },
         {
          "0": "Brooklyn",
          "1": " Bushwick",
          "index": 189
         },
         {
          "0": "Manhattan",
          "1": " Harlem",
          "index": 190
         },
         {
          "0": "Manhattan",
          "1": " Midtown",
          "index": 191
         },
         {
          "0": "Manhattan",
          "1": " Harlem",
          "index": 192
         },
         {
          "0": "Manhattan",
          "1": " East Village",
          "index": 193
         },
         {
          "0": "Brooklyn",
          "1": " Williamsburg",
          "index": 194
         },
         {
          "0": "Brooklyn",
          "1": " Crown Heights",
          "index": 195
         },
         {
          "0": "Brooklyn",
          "1": " Bedford-Stuyvesant",
          "index": 196
         },
         {
          "0": "Manhattan",
          "1": " Roosevelt Island",
          "index": 197
         },
         {
          "0": "Manhattan",
          "1": " Harlem",
          "index": 198
         },
         {
          "0": "Brooklyn",
          "1": " Bedford-Stuyvesant",
          "index": 199
         },
         {
          "0": "Brooklyn",
          "1": " Bedford-Stuyvesant",
          "index": 200
         },
         {
          "0": "Brooklyn",
          "1": " Sunset Park",
          "index": 201
         },
         {
          "0": "Brooklyn",
          "1": " Crown Heights",
          "index": 202
         },
         {
          "0": "Queens",
          "1": " Sunnyside",
          "index": 203
         },
         {
          "0": "Queens",
          "1": " Ozone Park",
          "index": 204
         },
         {
          "0": "Manhattan",
          "1": " Upper West Side",
          "index": 205
         },
         {
          "0": "Manhattan",
          "1": " East Village",
          "index": 206
         },
         {
          "0": "Manhattan",
          "1": " Upper East Side",
          "index": 207
         },
         {
          "0": "Queens",
          "1": " Flushing",
          "index": 208
         },
         {
          "0": "Queens",
          "1": " Arverne",
          "index": 209
         },
         {
          "0": "Manhattan",
          "1": " Lower East Side",
          "index": 210
         },
         {
          "0": "Manhattan",
          "1": " Greenwich Village",
          "index": 211
         },
         {
          "0": "Brooklyn",
          "1": " Bushwick",
          "index": 212
         },
         {
          "0": "Brooklyn",
          "1": " Gowanus",
          "index": 213
         },
         {
          "0": "Bronx",
          "1": " Wakefield",
          "index": 214
         },
         {
          "0": "Brooklyn",
          "1": " Park Slope",
          "index": 215
         },
         {
          "0": "Bronx",
          "1": " Port Morris",
          "index": 216
         },
         {
          "0": "Manhattan",
          "1": " Financial District",
          "index": 217
         },
         {
          "0": "Brooklyn",
          "1": " Kensington",
          "index": 218
         },
         {
          "0": "Manhattan",
          "1": " East Village",
          "index": 219
         },
         {
          "0": "Brooklyn",
          "1": " Clinton Hill",
          "index": 220
         },
         {
          "0": "Brooklyn",
          "1": " South Slope",
          "index": 221
         },
         {
          "0": "Brooklyn",
          "1": " Boerum Hill",
          "index": 222
         },
         {
          "0": "Manhattan",
          "1": " Harlem",
          "index": 223
         },
         {
          "0": "Brooklyn",
          "1": " Williamsburg",
          "index": 224
         },
         {
          "0": "Manhattan",
          "1": " East Harlem",
          "index": 225
         },
         {
          "0": "Manhattan",
          "1": " Lower East Side",
          "index": 226
         },
         {
          "0": "Manhattan",
          "1": " East Village",
          "index": 227
         },
         {
          "0": "Queens",
          "1": " Elmhurst",
          "index": 228
         },
         {
          "0": "Manhattan",
          "1": " Chelsea",
          "index": 229
         },
         {
          "0": "Brooklyn",
          "1": " Bedford-Stuyvesant",
          "index": 230
         },
         {
          "0": "Brooklyn",
          "1": " Bay Ridge",
          "index": 231
         },
         {
          "0": "Manhattan",
          "1": " Chelsea",
          "index": 232
         },
         {
          "0": "Manhattan",
          "1": " Midtown",
          "index": 233
         },
         {
          "0": "Queens",
          "1": " Ridgewood",
          "index": 234
         },
         {
          "0": "Brooklyn",
          "1": " Williamsburg",
          "index": 235
         },
         {
          "0": "Manhattan",
          "1": " East Village",
          "index": 236
         },
         {
          "0": "Queens",
          "1": " Astoria",
          "index": 237
         },
         {
          "0": "Brooklyn",
          "1": " Canarsie",
          "index": 238
         },
         {
          "0": "Brooklyn",
          "1": " Bedford-Stuyvesant",
          "index": 239
         },
         {
          "0": "Brooklyn",
          "1": " Bedford-Stuyvesant",
          "index": 240
         },
         {
          "0": "Brooklyn",
          "1": " Clinton Hill",
          "index": 241
         },
         {
          "0": "Brooklyn",
          "1": " Williamsburg",
          "index": 242
         },
         {
          "0": "Brooklyn",
          "1": " Crown Heights",
          "index": 243
         },
         {
          "0": "Brooklyn",
          "1": " Bushwick",
          "index": 244
         },
         {
          "0": "Manhattan",
          "1": " Harlem",
          "index": 245
         },
         {
          "0": "Manhattan",
          "1": " West Village",
          "index": 246
         },
         {
          "0": "Brooklyn",
          "1": " Park Slope",
          "index": 247
         },
         {
          "0": "Brooklyn",
          "1": " Crown Heights",
          "index": 248
         },
         {
          "0": "Manhattan",
          "1": " Hell's Kitchen",
          "index": 249
         },
         {
          "0": "Manhattan",
          "1": " Harlem",
          "index": 250
         },
         {
          "0": "Brooklyn",
          "1": " Prospect-Lefferts Gardens",
          "index": 251
         },
         {
          "0": "Manhattan",
          "1": " East Village",
          "index": 252
         },
         {
          "0": "Brooklyn",
          "1": " Williamsburg",
          "index": 253
         },
         {
          "0": "Manhattan",
          "1": " Civic Center",
          "index": 254
         },
         {
          "0": "Manhattan",
          "1": " Hell's Kitchen",
          "index": 255
         },
         {
          "0": "Brooklyn",
          "1": " Clinton Hill",
          "index": 256
         },
         {
          "0": "Manhattan",
          "1": " Upper West Side",
          "index": 257
         },
         {
          "0": "Brooklyn",
          "1": " Bedford-Stuyvesant",
          "index": 258
         },
         {
          "0": "Brooklyn",
          "1": " Prospect-Lefferts Gardens",
          "index": 259
         },
         {
          "0": "Manhattan",
          "1": " Hell's Kitchen",
          "index": 260
         },
         {
          "0": "Manhattan",
          "1": " Harlem",
          "index": 261
         },
         {
          "0": "Queens",
          "1": " St. Albans",
          "index": 262
         },
         {
          "0": "Manhattan",
          "1": " East Village",
          "index": 263
         },
         {
          "0": "Manhattan",
          "1": " Morningside Heights",
          "index": 264
         },
         {
          "0": "Brooklyn",
          "1": " Williamsburg",
          "index": 265
         },
         {
          "0": "Manhattan",
          "1": " Chinatown",
          "index": 266
         },
         {
          "0": "Queens",
          "1": " Woodhaven",
          "index": 267
         },
         {
          "0": "Brooklyn",
          "1": " Williamsburg",
          "index": 268
         },
         {
          "0": "Manhattan",
          "1": " Hell's Kitchen",
          "index": 269
         },
         {
          "0": "Queens",
          "1": " Flushing",
          "index": 270
         },
         {
          "0": "Manhattan",
          "1": " Upper West Side",
          "index": 271
         },
         {
          "0": "Brooklyn",
          "1": " Crown Heights",
          "index": 272
         },
         {
          "0": "Manhattan",
          "1": " East Village",
          "index": 273
         },
         {
          "0": "Manhattan",
          "1": " Washington Heights",
          "index": 274
         },
         {
          "0": "Brooklyn",
          "1": " Greenpoint",
          "index": 275
         },
         {
          "0": "Brooklyn",
          "1": " Crown Heights",
          "index": 276
         },
         {
          "0": "Manhattan",
          "1": " East Village",
          "index": 277
         },
         {
          "0": "Manhattan",
          "1": " SoHo",
          "index": 278
         },
         {
          "0": "Bronx",
          "1": " Morrisania",
          "index": 279
         },
         {
          "0": "Brooklyn",
          "1": " Greenpoint",
          "index": 280
         },
         {
          "0": "Queens",
          "1": " Sunnyside",
          "index": 281
         },
         {
          "0": "Brooklyn",
          "1": " Bushwick",
          "index": 282
         },
         {
          "0": "Brooklyn",
          "1": " East Flatbush",
          "index": 283
         },
         {
          "0": "Brooklyn",
          "1": " Williamsburg",
          "index": 284
         },
         {
          "0": "Manhattan",
          "1": " Two Bridges",
          "index": 285
         },
         {
          "0": "Brooklyn",
          "1": " Bedford-Stuyvesant",
          "index": 286
         },
         {
          "0": "Brooklyn",
          "1": " Flatbush",
          "index": 287
         },
         {
          "0": "Manhattan",
          "1": " East Village",
          "index": 288
         },
         {
          "0": "Brooklyn",
          "1": " Sheepshead Bay",
          "index": 289
         },
         {
          "0": "Brooklyn",
          "1": " Bushwick",
          "index": 290
         },
         {
          "0": "Brooklyn",
          "1": " Williamsburg",
          "index": 291
         },
         {
          "0": "Brooklyn",
          "1": " Greenpoint",
          "index": 292
         },
         {
          "0": "Brooklyn",
          "1": " Bushwick",
          "index": 293
         },
         {
          "0": "Brooklyn",
          "1": " Bushwick",
          "index": 294
         },
         {
          "0": "Manhattan",
          "1": " Harlem",
          "index": 295
         },
         {
          "0": "Brooklyn",
          "1": " Bedford-Stuyvesant",
          "index": 296
         },
         {
          "0": "Manhattan",
          "1": " Midtown",
          "index": 297
         },
         {
          "0": "Bronx",
          "1": " Concourse",
          "index": 298
         },
         {
          "0": "Brooklyn",
          "1": " Downtown Brooklyn",
          "index": 299
         },
         {
          "0": "Manhattan",
          "1": " Hell's Kitchen",
          "index": 300
         },
         {
          "0": "Brooklyn",
          "1": " Bushwick",
          "index": 301
         },
         {
          "0": "Manhattan",
          "1": " Lower East Side",
          "index": 302
         },
         {
          "0": "Manhattan",
          "1": " Upper East Side",
          "index": 303
         },
         {
          "0": "Manhattan",
          "1": " Hell's Kitchen",
          "index": 304
         },
         {
          "0": "Brooklyn",
          "1": " Bedford-Stuyvesant",
          "index": 305
         },
         {
          "0": "Brooklyn",
          "1": " Bushwick",
          "index": 306
         },
         {
          "0": "Queens",
          "1": " Ditmars Steinway",
          "index": 307
         },
         {
          "0": "Queens",
          "1": " Astoria",
          "index": 308
         },
         {
          "0": "Queens",
          "1": " Queens Village",
          "index": 309
         },
         {
          "0": "Brooklyn",
          "1": " Sheepshead Bay",
          "index": 310
         },
         {
          "0": "Brooklyn",
          "1": " Bedford-Stuyvesant",
          "index": 311
         },
         {
          "0": "Manhattan",
          "1": " Harlem",
          "index": 312
         },
         {
          "0": "Bronx",
          "1": " Fieldston",
          "index": 313
         },
         {
          "0": "Manhattan",
          "1": " Theater District",
          "index": 314
         },
         {
          "0": "Queens",
          "1": " Rockaway Beach",
          "index": 315
         },
         {
          "0": "Manhattan",
          "1": " SoHo",
          "index": 316
         },
         {
          "0": "Bronx",
          "1": " Allerton",
          "index": 317
         },
         {
          "0": "Queens",
          "1": " Astoria",
          "index": 318
         },
         {
          "0": "Manhattan",
          "1": " Harlem",
          "index": 319
         },
         {
          "0": "Bronx",
          "1": " Concourse",
          "index": 320
         },
         {
          "0": "Brooklyn",
          "1": " Bushwick",
          "index": 321
         },
         {
          "0": "Brooklyn",
          "1": " Williamsburg",
          "index": 322
         },
         {
          "0": "Manhattan",
          "1": " Hell's Kitchen",
          "index": 323
         },
         {
          "0": "Brooklyn",
          "1": " Carroll Gardens",
          "index": 324
         },
         {
          "0": "Brooklyn",
          "1": " Bay Ridge",
          "index": 325
         },
         {
          "0": "Manhattan",
          "1": " Harlem",
          "index": 326
         },
         {
          "0": "Queens",
          "1": " Arverne",
          "index": 327
         },
         {
          "0": "Manhattan",
          "1": " Upper West Side",
          "index": 328
         },
         {
          "0": "Brooklyn",
          "1": " Bedford-Stuyvesant",
          "index": 329
         },
         {
          "0": "Manhattan",
          "1": " Lower East Side",
          "index": 330
         },
         {
          "0": "Bronx",
          "1": " Kingsbridge",
          "index": 331
         },
         {
          "0": "Manhattan",
          "1": " East Harlem",
          "index": 332
         },
         {
          "0": "Brooklyn",
          "1": " Bushwick",
          "index": 333
         },
         {
          "0": "Manhattan",
          "1": " Washington Heights",
          "index": 334
         },
         {
          "0": "Manhattan",
          "1": " Hell's Kitchen",
          "index": 335
         },
         {
          "0": "Manhattan",
          "1": " Hell's Kitchen",
          "index": 336
         },
         {
          "0": "Manhattan",
          "1": " Washington Heights",
          "index": 337
         },
         {
          "0": "Brooklyn",
          "1": " Clinton Hill",
          "index": 338
         },
         {
          "0": "Brooklyn",
          "1": " Sheepshead Bay",
          "index": 339
         },
         {
          "0": "Brooklyn",
          "1": " Clinton Hill",
          "index": 340
         },
         {
          "0": "Manhattan",
          "1": " Upper East Side",
          "index": 341
         },
         {
          "0": "Queens",
          "1": " Rego Park",
          "index": 342
         },
         {
          "0": "Brooklyn",
          "1": " Bedford-Stuyvesant",
          "index": 343
         },
         {
          "0": "Brooklyn",
          "1": " Bushwick",
          "index": 344
         },
         {
          "0": "Brooklyn",
          "1": " Bay Ridge",
          "index": 345
         },
         {
          "0": "Queens",
          "1": " Woodside",
          "index": 346
         },
         {
          "0": "Manhattan",
          "1": " Upper West Side",
          "index": 347
         },
         {
          "0": "Brooklyn",
          "1": " Bedford-Stuyvesant",
          "index": 348
         },
         {
          "0": "Brooklyn",
          "1": " Williamsburg",
          "index": 349
         },
         {
          "0": "Manhattan",
          "1": " Upper East Side",
          "index": 350
         },
         {
          "0": "Queens",
          "1": " Belle Harbor",
          "index": 351
         },
         {
          "0": "Brooklyn",
          "1": " Flatbush",
          "index": 352
         },
         {
          "0": "Brooklyn",
          "1": " Fort Greene",
          "index": 353
         },
         {
          "0": "Manhattan",
          "1": " Upper East Side",
          "index": 354
         },
         {
          "0": "Manhattan",
          "1": " Hell's Kitchen",
          "index": 355
         },
         {
          "0": "Manhattan",
          "1": " Hell's Kitchen",
          "index": 356
         },
         {
          "0": "Manhattan",
          "1": " NoHo",
          "index": 357
         },
         {
          "0": "Manhattan",
          "1": " Upper East Side",
          "index": 358
         },
         {
          "0": "Brooklyn",
          "1": " Cypress Hills",
          "index": 359
         },
         {
          "0": "Queens",
          "1": " Woodside",
          "index": 360
         },
         {
          "0": "Manhattan",
          "1": " Lower East Side",
          "index": 361
         },
         {
          "0": "Queens",
          "1": " Maspeth",
          "index": 362
         },
         {
          "0": "Brooklyn",
          "1": " Crown Heights",
          "index": 363
         },
         {
          "0": "Manhattan",
          "1": " Tribeca",
          "index": 364
         },
         {
          "0": "Manhattan",
          "1": " Lower East Side",
          "index": 365
         },
         {
          "0": "Brooklyn",
          "1": " Crown Heights",
          "index": 366
         },
         {
          "0": "Manhattan",
          "1": " Hell's Kitchen",
          "index": 367
         },
         {
          "0": "Brooklyn",
          "1": " Bushwick",
          "index": 368
         },
         {
          "0": "Brooklyn",
          "1": " Bedford-Stuyvesant",
          "index": 369
         },
         {
          "0": "Brooklyn",
          "1": " Borough Park",
          "index": 370
         },
         {
          "0": "Manhattan",
          "1": " Hell's Kitchen",
          "index": 371
         },
         {
          "0": "Brooklyn",
          "1": " Fort Greene",
          "index": 372
         },
         {
          "0": "Manhattan",
          "1": " East Village",
          "index": 373
         },
         {
          "0": "Manhattan",
          "1": " East Village",
          "index": 374
         },
         {
          "0": "Brooklyn",
          "1": " Midwood",
          "index": 375
         },
         {
          "0": "Brooklyn",
          "1": " Williamsburg",
          "index": 376
         },
         {
          "0": "Queens",
          "1": " Fresh Meadows",
          "index": 377
         },
         {
          "0": "Queens",
          "1": " Flushing",
          "index": 378
         },
         {
          "0": "Manhattan",
          "1": " Battery Park City",
          "index": 379
         },
         {
          "0": "Manhattan",
          "1": " Upper West Side",
          "index": 380
         },
         {
          "0": "Brooklyn",
          "1": " Bushwick",
          "index": 381
         },
         {
          "0": "Manhattan",
          "1": " Harlem",
          "index": 382
         },
         {
          "0": "Bronx",
          "1": " Pelham Bay",
          "index": 383
         },
         {
          "0": "Brooklyn",
          "1": " Williamsburg",
          "index": 384
         },
         {
          "0": "Brooklyn",
          "1": " Cypress Hills",
          "index": 385
         },
         {
          "0": "Brooklyn",
          "1": " Williamsburg",
          "index": 386
         },
         {
          "0": "Queens",
          "1": " Ridgewood",
          "index": 387
         },
         {
          "0": "Brooklyn",
          "1": " Prospect-Lefferts Gardens",
          "index": 388
         },
         {
          "0": "Manhattan",
          "1": " Chinatown",
          "index": 389
         },
         {
          "0": "Queens",
          "1": " Astoria",
          "index": 390
         },
         {
          "0": "Manhattan",
          "1": " Hell's Kitchen",
          "index": 391
         },
         {
          "0": "Manhattan",
          "1": " Hell's Kitchen",
          "index": 392
         },
         {
          "0": "Manhattan",
          "1": " Harlem",
          "index": 393
         },
         {
          "0": "Queens",
          "1": " Woodside",
          "index": 394
         },
         {
          "0": "Manhattan",
          "1": " Upper East Side",
          "index": 395
         },
         {
          "0": "Brooklyn",
          "1": " Williamsburg",
          "index": 396
         },
         {
          "0": "Manhattan",
          "1": " Financial District",
          "index": 397
         },
         {
          "0": "Queens",
          "1": " Woodhaven",
          "index": 398
         },
         {
          "0": "Queens",
          "1": " East Elmhurst",
          "index": 399
         },
         {
          "0": "Brooklyn",
          "1": " Crown Heights",
          "index": 400
         },
         {
          "0": "Brooklyn",
          "1": " Midwood",
          "index": 401
         },
         {
          "0": "Brooklyn",
          "1": " Bedford-Stuyvesant",
          "index": 402
         },
         {
          "0": "Brooklyn",
          "1": " Williamsburg",
          "index": 403
         },
         {
          "0": "Bronx",
          "1": " Mott Haven",
          "index": 404
         },
         {
          "0": "Brooklyn",
          "1": " Crown Heights",
          "index": 405
         },
         {
          "0": "Brooklyn",
          "1": " Bushwick",
          "index": 406
         },
         {
          "0": "Queens",
          "1": " Sunnyside",
          "index": 407
         },
         {
          "0": "Manhattan",
          "1": " Upper West Side",
          "index": 408
         },
         {
          "0": "Brooklyn",
          "1": " Bedford-Stuyvesant",
          "index": 409
         },
         {
          "0": "Manhattan",
          "1": " Chelsea",
          "index": 410
         },
         {
          "0": "Brooklyn",
          "1": " Bedford-Stuyvesant",
          "index": 411
         },
         {
          "0": "Brooklyn",
          "1": " Bushwick",
          "index": 412
         },
         {
          "0": "Manhattan",
          "1": " Harlem",
          "index": 413
         },
         {
          "0": "Queens",
          "1": " Astoria",
          "index": 414
         },
         {
          "0": "Manhattan",
          "1": " Upper East Side",
          "index": 415
         },
         {
          "0": "Bronx",
          "1": " Van Nest",
          "index": 416
         },
         {
          "0": "Manhattan",
          "1": " Washington Heights",
          "index": 417
         },
         {
          "0": "Manhattan",
          "1": " Midtown",
          "index": 418
         },
         {
          "0": "Manhattan",
          "1": " Upper East Side",
          "index": 419
         },
         {
          "0": "Manhattan",
          "1": " Lower East Side",
          "index": 420
         },
         {
          "0": "Queens",
          "1": " Long Island City",
          "index": 421
         },
         {
          "0": "Manhattan",
          "1": " Midtown",
          "index": 422
         },
         {
          "0": "Manhattan",
          "1": " Financial District",
          "index": 423
         },
         {
          "0": "Brooklyn",
          "1": " Crown Heights",
          "index": 424
         },
         {
          "0": "Brooklyn",
          "1": " Bedford-Stuyvesant",
          "index": 425
         },
         {
          "0": "Queens",
          "1": " Astoria",
          "index": 426
         },
         {
          "0": "Manhattan",
          "1": " Hell's Kitchen",
          "index": 427
         },
         {
          "0": "Queens",
          "1": " Long Island City",
          "index": 428
         },
         {
          "0": "Manhattan",
          "1": " Harlem",
          "index": 429
         },
         {
          "0": "Brooklyn",
          "1": " Prospect-Lefferts Gardens",
          "index": 430
         },
         {
          "0": "Manhattan",
          "1": " Upper West Side",
          "index": 431
         },
         {
          "0": "Brooklyn",
          "1": " Crown Heights",
          "index": 432
         },
         {
          "0": "Manhattan",
          "1": " SoHo",
          "index": 433
         },
         {
          "0": "Bronx",
          "1": " Mott Haven",
          "index": 434
         },
         {
          "0": "Manhattan",
          "1": " Upper East Side",
          "index": 435
         },
         {
          "0": "Brooklyn",
          "1": " Fort Greene",
          "index": 436
         },
         {
          "0": "Brooklyn",
          "1": " Prospect-Lefferts Gardens",
          "index": 437
         },
         {
          "0": "Brooklyn",
          "1": " East Flatbush",
          "index": 438
         },
         {
          "0": "Manhattan",
          "1": " Roosevelt Island",
          "index": 439
         },
         {
          "0": "Manhattan",
          "1": " Greenwich Village",
          "index": 440
         },
         {
          "0": "Brooklyn",
          "1": " Bedford-Stuyvesant",
          "index": 441
         },
         {
          "0": "Manhattan",
          "1": " Hell's Kitchen",
          "index": 442
         },
         {
          "0": "Manhattan",
          "1": " Harlem",
          "index": 443
         },
         {
          "0": "Manhattan",
          "1": " SoHo",
          "index": 444
         },
         {
          "0": "Brooklyn",
          "1": " Bay Ridge",
          "index": 445
         },
         {
          "0": "Manhattan",
          "1": " East Harlem",
          "index": 446
         },
         {
          "0": "Brooklyn",
          "1": " East Flatbush",
          "index": 447
         },
         {
          "0": "Manhattan",
          "1": " Financial District",
          "index": 448
         },
         {
          "0": "Manhattan",
          "1": " Lower East Side",
          "index": 449
         },
         {
          "0": "Manhattan",
          "1": " East Village",
          "index": 450
         },
         {
          "0": "Manhattan",
          "1": " East Harlem",
          "index": 451
         },
         {
          "0": "Manhattan",
          "1": " Hell's Kitchen",
          "index": 452
         },
         {
          "0": "Manhattan",
          "1": " Inwood",
          "index": 453
         },
         {
          "0": "Manhattan",
          "1": " Financial District",
          "index": 454
         },
         {
          "0": "Manhattan",
          "1": " Midtown",
          "index": 455
         },
         {
          "0": "Brooklyn",
          "1": " Williamsburg",
          "index": 456
         },
         {
          "0": "Queens",
          "1": " Sunnyside",
          "index": 457
         },
         {
          "0": "Manhattan",
          "1": " Hell's Kitchen",
          "index": 458
         },
         {
          "0": "Manhattan",
          "1": " Nolita",
          "index": 459
         },
         {
          "0": "Queens",
          "1": " Flushing",
          "index": 460
         },
         {
          "0": "Brooklyn",
          "1": " East Flatbush",
          "index": 461
         },
         {
          "0": "Manhattan",
          "1": " Washington Heights",
          "index": 462
         },
         {
          "0": "Manhattan",
          "1": " Upper East Side",
          "index": 463
         },
         {
          "0": "Manhattan",
          "1": " Chelsea",
          "index": 464
         },
         {
          "0": "Manhattan",
          "1": " Harlem",
          "index": 465
         },
         {
          "0": "Staten Island",
          "1": " Stapleton",
          "index": 466
         },
         {
          "0": "Bronx",
          "1": " Kingsbridge",
          "index": 467
         },
         {
          "0": "Brooklyn",
          "1": " Bushwick",
          "index": 468
         },
         {
          "0": "Brooklyn",
          "1": " Gowanus",
          "index": 469
         },
         {
          "0": "Manhattan",
          "1": " Washington Heights",
          "index": 470
         },
         {
          "0": "Manhattan",
          "1": " Midtown",
          "index": 471
         },
         {
          "0": "Brooklyn",
          "1": " Williamsburg",
          "index": 472
         },
         {
          "0": "Brooklyn",
          "1": " Bedford-Stuyvesant",
          "index": 473
         },
         {
          "0": "Queens",
          "1": " Corona",
          "index": 474
         },
         {
          "0": "Brooklyn",
          "1": " Bedford-Stuyvesant",
          "index": 475
         },
         {
          "0": "Brooklyn",
          "1": " South Slope",
          "index": 476
         },
         {
          "0": "Manhattan",
          "1": " Murray Hill",
          "index": 477
         },
         {
          "0": "Queens",
          "1": " Middle Village",
          "index": 478
         },
         {
          "0": "Brooklyn",
          "1": " Williamsburg",
          "index": 479
         },
         {
          "0": "Brooklyn",
          "1": " Bushwick",
          "index": 480
         },
         {
          "0": "Manhattan",
          "1": " East Harlem",
          "index": 481
         },
         {
          "0": "Brooklyn",
          "1": " Williamsburg",
          "index": 482
         },
         {
          "0": "Manhattan",
          "1": " East Village",
          "index": 483
         },
         {
          "0": "Manhattan",
          "1": " Washington Heights",
          "index": 484
         },
         {
          "0": "Brooklyn",
          "1": " Bedford-Stuyvesant",
          "index": 485
         },
         {
          "0": "Brooklyn",
          "1": " Williamsburg",
          "index": 486
         },
         {
          "0": "Manhattan",
          "1": " Hell's Kitchen",
          "index": 487
         },
         {
          "0": "Manhattan",
          "1": " Upper East Side",
          "index": 488
         },
         {
          "0": "Queens",
          "1": " Jackson Heights",
          "index": 489
         },
         {
          "0": "Brooklyn",
          "1": " Flatbush",
          "index": 490
         },
         {
          "0": "Brooklyn",
          "1": " Gravesend",
          "index": 491
         },
         {
          "0": "Brooklyn",
          "1": " Greenpoint",
          "index": 492
         },
         {
          "0": "Brooklyn",
          "1": " Williamsburg",
          "index": 493
         },
         {
          "0": "Manhattan",
          "1": " Gramercy",
          "index": 494
         },
         {
          "0": "Manhattan",
          "1": " Upper West Side",
          "index": 495
         },
         {
          "0": "Brooklyn",
          "1": " Bushwick",
          "index": 496
         },
         {
          "0": "Manhattan",
          "1": " SoHo",
          "index": 497
         },
         {
          "0": "Brooklyn",
          "1": " Prospect-Lefferts Gardens",
          "index": 498
         },
         {
          "0": "Brooklyn",
          "1": " Prospect Heights",
          "index": 499
         },
         {
          "0": "Brooklyn",
          "1": " Bushwick",
          "index": 500
         },
         {
          "0": "Brooklyn",
          "1": " East Flatbush",
          "index": 501
         },
         {
          "0": "Manhattan",
          "1": " Hell's Kitchen",
          "index": 502
         },
         {
          "0": "Brooklyn",
          "1": " Bedford-Stuyvesant",
          "index": 503
         },
         {
          "0": "Queens",
          "1": " Woodside",
          "index": 504
         },
         {
          "0": "Queens",
          "1": " Woodhaven",
          "index": 505
         },
         {
          "0": "Brooklyn",
          "1": " East New York",
          "index": 506
         },
         {
          "0": "Manhattan",
          "1": " Upper West Side",
          "index": 507
         },
         {
          "0": "Manhattan",
          "1": " East Harlem",
          "index": 508
         },
         {
          "0": "Manhattan",
          "1": " Midtown",
          "index": 509
         },
         {
          "0": "Manhattan",
          "1": " Washington Heights",
          "index": 510
         },
         {
          "0": "Queens",
          "1": " Astoria",
          "index": 511
         },
         {
          "0": "Brooklyn",
          "1": " Crown Heights",
          "index": 512
         },
         {
          "0": "Manhattan",
          "1": " Flatiron District",
          "index": 513
         },
         {
          "0": "Manhattan",
          "1": " Harlem",
          "index": 514
         },
         {
          "0": "Manhattan",
          "1": " Hell's Kitchen",
          "index": 515
         },
         {
          "0": "Brooklyn",
          "1": " Sheepshead Bay",
          "index": 516
         },
         {
          "0": "Manhattan",
          "1": " Upper East Side",
          "index": 517
         },
         {
          "0": "Brooklyn",
          "1": " Sunset Park",
          "index": 518
         },
         {
          "0": "Manhattan",
          "1": " Upper West Side",
          "index": 519
         },
         {
          "0": "Bronx",
          "1": " Morrisania",
          "index": 520
         },
         {
          "0": "Manhattan",
          "1": " Upper East Side",
          "index": 521
         },
         {
          "0": "Manhattan",
          "1": " Harlem",
          "index": 522
         },
         {
          "0": "Manhattan",
          "1": " Washington Heights",
          "index": 523
         },
         {
          "0": "Brooklyn",
          "1": " Flatlands",
          "index": 524
         },
         {
          "0": "Manhattan",
          "1": " Hell's Kitchen",
          "index": 525
         },
         {
          "0": "Queens",
          "1": " East Elmhurst",
          "index": 526
         },
         {
          "0": "Manhattan",
          "1": " Upper East Side",
          "index": 527
         },
         {
          "0": "Brooklyn",
          "1": " Williamsburg",
          "index": 528
         },
         {
          "0": "Brooklyn",
          "1": " Kensington",
          "index": 529
         },
         {
          "0": "Brooklyn",
          "1": " Williamsburg",
          "index": 530
         },
         {
          "0": "Brooklyn",
          "1": " Williamsburg",
          "index": 531
         },
         {
          "0": "Brooklyn",
          "1": " Prospect Heights",
          "index": 532
         },
         {
          "0": "Manhattan",
          "1": " Financial District",
          "index": 533
         },
         {
          "0": "Brooklyn",
          "1": " Bay Ridge",
          "index": 534
         },
         {
          "0": "Brooklyn",
          "1": " Prospect-Lefferts Gardens",
          "index": 535
         },
         {
          "0": "Manhattan",
          "1": " Gramercy",
          "index": 536
         },
         {
          "0": "Brooklyn",
          "1": " Fort Greene",
          "index": 537
         },
         {
          "0": "Manhattan",
          "1": " West Village",
          "index": 538
         },
         {
          "0": "Queens",
          "1": " Ozone Park",
          "index": 539
         },
         {
          "0": "Brooklyn",
          "1": " Williamsburg",
          "index": 540
         },
         {
          "0": "Manhattan",
          "1": " Upper West Side",
          "index": 541
         },
         {
          "0": "Manhattan",
          "1": " East Village",
          "index": 542
         },
         {
          "0": "Brooklyn",
          "1": " Williamsburg",
          "index": 543
         },
         {
          "0": "Manhattan",
          "1": " Lower East Side",
          "index": 544
         },
         {
          "0": "Brooklyn",
          "1": " Clinton Hill",
          "index": 545
         },
         {
          "0": "Brooklyn",
          "1": " Greenpoint",
          "index": 546
         },
         {
          "0": "Manhattan",
          "1": " Washington Heights",
          "index": 547
         },
         {
          "0": "Brooklyn",
          "1": " Greenpoint",
          "index": 548
         },
         {
          "0": "Brooklyn",
          "1": " Crown Heights",
          "index": 549
         },
         {
          "0": "Manhattan",
          "1": " Lower East Side",
          "index": 550
         },
         {
          "0": "Manhattan",
          "1": " Theater District",
          "index": 551
         },
         {
          "0": "Queens",
          "1": " Ozone Park",
          "index": 552
         },
         {
          "0": "Brooklyn",
          "1": " Bushwick",
          "index": 553
         },
         {
          "0": "Brooklyn",
          "1": " Williamsburg",
          "index": 554
         },
         {
          "0": "Manhattan",
          "1": " East Village",
          "index": 555
         },
         {
          "0": "Brooklyn",
          "1": " Bedford-Stuyvesant",
          "index": 556
         },
         {
          "0": "Manhattan",
          "1": " Upper East Side",
          "index": 557
         },
         {
          "0": "Manhattan",
          "1": " Harlem",
          "index": 558
         },
         {
          "0": "Brooklyn",
          "1": " Clinton Hill",
          "index": 559
         },
         {
          "0": "Brooklyn",
          "1": " Crown Heights",
          "index": 560
         },
         {
          "0": "Manhattan",
          "1": " Hell's Kitchen",
          "index": 561
         },
         {
          "0": "Manhattan",
          "1": " Midtown",
          "index": 562
         },
         {
          "0": "Brooklyn",
          "1": " Gowanus",
          "index": 563
         },
         {
          "0": "Manhattan",
          "1": " Kips Bay",
          "index": 564
         },
         {
          "0": "Brooklyn",
          "1": " Flatbush",
          "index": 565
         },
         {
          "0": "Manhattan",
          "1": " Harlem",
          "index": 566
         },
         {
          "0": "Manhattan",
          "1": " Washington Heights",
          "index": 567
         },
         {
          "0": "Manhattan",
          "1": " Kips Bay",
          "index": 568
         },
         {
          "0": "Brooklyn",
          "1": " Bedford-Stuyvesant",
          "index": 569
         },
         {
          "0": "Manhattan",
          "1": " Midtown",
          "index": 570
         },
         {
          "0": "Manhattan",
          "1": " Washington Heights",
          "index": 571
         },
         {
          "0": "Brooklyn",
          "1": " Williamsburg",
          "index": 572
         },
         {
          "0": "Manhattan",
          "1": " East Village",
          "index": 573
         },
         {
          "0": "Brooklyn",
          "1": " Bushwick",
          "index": 574
         },
         {
          "0": "Manhattan",
          "1": " East Harlem",
          "index": 575
         },
         {
          "0": "Manhattan",
          "1": " Tribeca",
          "index": 576
         },
         {
          "0": "Brooklyn",
          "1": " Downtown Brooklyn",
          "index": 577
         },
         {
          "0": "Manhattan",
          "1": " Midtown",
          "index": 578
         },
         {
          "0": "Manhattan",
          "1": " West Village",
          "index": 579
         },
         {
          "0": "Queens",
          "1": " Woodhaven",
          "index": 580
         },
         {
          "0": "Manhattan",
          "1": " East Village",
          "index": 581
         },
         {
          "0": "Brooklyn",
          "1": " Crown Heights",
          "index": 582
         },
         {
          "0": "Manhattan",
          "1": " Hell's Kitchen",
          "index": 583
         },
         {
          "0": "Manhattan",
          "1": " Upper East Side",
          "index": 584
         },
         {
          "0": "Manhattan",
          "1": " West Village",
          "index": 585
         },
         {
          "0": "Bronx",
          "1": " Mott Haven",
          "index": 586
         },
         {
          "0": "Manhattan",
          "1": " Washington Heights",
          "index": 587
         },
         {
          "0": "Brooklyn",
          "1": " Crown Heights",
          "index": 588
         },
         {
          "0": "Manhattan",
          "1": " Lower East Side",
          "index": 589
         },
         {
          "0": "Queens",
          "1": " Sunnyside",
          "index": 590
         },
         {
          "0": "Manhattan",
          "1": " East Village",
          "index": 591
         },
         {
          "0": "Queens",
          "1": " Flushing",
          "index": 592
         },
         {
          "0": "Manhattan",
          "1": " East Village",
          "index": 593
         },
         {
          "0": "Brooklyn",
          "1": " Bedford-Stuyvesant",
          "index": 594
         },
         {
          "0": "Manhattan",
          "1": " East Harlem",
          "index": 595
         },
         {
          "0": "Manhattan",
          "1": " Hell's Kitchen",
          "index": 596
         },
         {
          "0": "Brooklyn",
          "1": " Flatbush",
          "index": 597
         },
         {
          "0": "Brooklyn",
          "1": " Bushwick",
          "index": 598
         },
         {
          "0": "Brooklyn",
          "1": " Williamsburg",
          "index": 599
         },
         {
          "0": "Brooklyn",
          "1": " Prospect Heights",
          "index": 600
         },
         {
          "0": "Manhattan",
          "1": " East Village",
          "index": 601
         },
         {
          "0": "Manhattan",
          "1": " West Village",
          "index": 602
         },
         {
          "0": "Brooklyn",
          "1": " Crown Heights",
          "index": 603
         },
         {
          "0": "Queens",
          "1": " Astoria",
          "index": 604
         },
         {
          "0": "Manhattan",
          "1": " Upper East Side",
          "index": 605
         },
         {
          "0": "Brooklyn",
          "1": " Bushwick",
          "index": 606
         },
         {
          "0": "Brooklyn",
          "1": " Greenpoint",
          "index": 607
         },
         {
          "0": "Brooklyn",
          "1": " Williamsburg",
          "index": 608
         },
         {
          "0": "Manhattan",
          "1": " Harlem",
          "index": 609
         },
         {
          "0": "Manhattan",
          "1": " Upper West Side",
          "index": 610
         },
         {
          "0": "Queens",
          "1": " Sunnyside",
          "index": 611
         },
         {
          "0": "Manhattan",
          "1": " Financial District",
          "index": 612
         },
         {
          "0": "Brooklyn",
          "1": " Crown Heights",
          "index": 613
         },
         {
          "0": "Manhattan",
          "1": " Upper East Side",
          "index": 614
         },
         {
          "0": "Manhattan",
          "1": " East Harlem",
          "index": 615
         },
         {
          "0": "Brooklyn",
          "1": " Bedford-Stuyvesant",
          "index": 616
         },
         {
          "0": "Manhattan",
          "1": " Lower East Side",
          "index": 617
         },
         {
          "0": "Brooklyn",
          "1": " Flatbush",
          "index": 618
         },
         {
          "0": "Brooklyn",
          "1": " Bushwick",
          "index": 619
         },
         {
          "0": "Manhattan",
          "1": " Financial District",
          "index": 620
         },
         {
          "0": "Brooklyn",
          "1": " Williamsburg",
          "index": 621
         },
         {
          "0": "Brooklyn",
          "1": " East Flatbush",
          "index": 622
         },
         {
          "0": "Staten Island",
          "1": " New Dorp Beach",
          "index": 623
         },
         {
          "0": "Brooklyn",
          "1": " Flatlands",
          "index": 624
         },
         {
          "0": "Brooklyn",
          "1": " East Flatbush",
          "index": 625
         },
         {
          "0": "Brooklyn",
          "1": " Cypress Hills",
          "index": 626
         },
         {
          "0": "Queens",
          "1": " Ridgewood",
          "index": 627
         },
         {
          "0": "Manhattan",
          "1": " Midtown",
          "index": 628
         },
         {
          "0": "Brooklyn",
          "1": " Bushwick",
          "index": 629
         },
         {
          "0": "Brooklyn",
          "1": " Williamsburg",
          "index": 630
         },
         {
          "0": "Manhattan",
          "1": " Harlem",
          "index": 631
         },
         {
          "0": "Manhattan",
          "1": " Upper East Side",
          "index": 632
         },
         {
          "0": "Manhattan",
          "1": " Harlem",
          "index": 633
         },
         {
          "0": "Bronx",
          "1": " Allerton",
          "index": 634
         },
         {
          "0": "Manhattan",
          "1": " East Village",
          "index": 635
         },
         {
          "0": "Manhattan",
          "1": " Upper East Side",
          "index": 636
         },
         {
          "0": "Brooklyn",
          "1": " Flatbush",
          "index": 637
         },
         {
          "0": "Brooklyn",
          "1": " Williamsburg",
          "index": 638
         },
         {
          "0": "Manhattan",
          "1": " Midtown",
          "index": 639
         },
         {
          "0": "Manhattan",
          "1": " Financial District",
          "index": 640
         },
         {
          "0": "Manhattan",
          "1": " Lower East Side",
          "index": 641
         },
         {
          "0": "Brooklyn",
          "1": " Bedford-Stuyvesant",
          "index": 642
         },
         {
          "0": "Queens",
          "1": " Astoria",
          "index": 643
         },
         {
          "0": "Brooklyn",
          "1": " Sunset Park",
          "index": 644
         },
         {
          "0": "Brooklyn",
          "1": " Bedford-Stuyvesant",
          "index": 645
         },
         {
          "0": "Brooklyn",
          "1": " Prospect-Lefferts Gardens",
          "index": 646
         },
         {
          "0": "Queens",
          "1": " Rego Park",
          "index": 647
         },
         {
          "0": "Brooklyn",
          "1": " Brooklyn Heights",
          "index": 648
         },
         {
          "0": "Manhattan",
          "1": " Hell's Kitchen",
          "index": 649
         },
         {
          "0": "Manhattan",
          "1": " Upper West Side",
          "index": 650
         },
         {
          "0": "Manhattan",
          "1": " Upper West Side",
          "index": 651
         },
         {
          "0": "Brooklyn",
          "1": " Bedford-Stuyvesant",
          "index": 652
         },
         {
          "0": "Brooklyn",
          "1": " Crown Heights",
          "index": 653
         },
         {
          "0": "Brooklyn",
          "1": " Williamsburg",
          "index": 654
         },
         {
          "0": "Queens",
          "1": " Elmhurst",
          "index": 655
         },
         {
          "0": "Manhattan",
          "1": " West Village",
          "index": 656
         },
         {
          "0": "Manhattan",
          "1": " Lower East Side",
          "index": 657
         },
         {
          "0": "Brooklyn",
          "1": " Brighton Beach",
          "index": 658
         },
         {
          "0": "Manhattan",
          "1": " Midtown",
          "index": 659
         },
         {
          "0": "Manhattan",
          "1": " Harlem",
          "index": 660
         },
         {
          "0": "Manhattan",
          "1": " Upper West Side",
          "index": 661
         },
         {
          "0": "Brooklyn",
          "1": " Williamsburg",
          "index": 662
         },
         {
          "0": "Brooklyn",
          "1": " Williamsburg",
          "index": 663
         },
         {
          "0": "Manhattan",
          "1": " Lower East Side",
          "index": 664
         },
         {
          "0": "Manhattan",
          "1": " Murray Hill",
          "index": 665
         },
         {
          "0": "Manhattan",
          "1": " Upper West Side",
          "index": 666
         },
         {
          "0": "Brooklyn",
          "1": " Crown Heights",
          "index": 667
         },
         {
          "0": "Manhattan",
          "1": " Harlem",
          "index": 668
         },
         {
          "0": "Manhattan",
          "1": " Harlem",
          "index": 669
         },
         {
          "0": "Queens",
          "1": " Flushing",
          "index": 670
         },
         {
          "0": "Brooklyn",
          "1": " Williamsburg",
          "index": 671
         },
         {
          "0": "Manhattan",
          "1": " Financial District",
          "index": 672
         },
         {
          "0": "Queens",
          "1": " Jamaica",
          "index": 673
         },
         {
          "0": "Brooklyn",
          "1": " East New York",
          "index": 674
         },
         {
          "0": "Brooklyn",
          "1": " Williamsburg",
          "index": 675
         },
         {
          "0": "Brooklyn",
          "1": " Fort Greene",
          "index": 676
         },
         {
          "0": "Manhattan",
          "1": " Murray Hill",
          "index": 677
         },
         {
          "0": "Brooklyn",
          "1": " Bushwick",
          "index": 678
         },
         {
          "0": "Brooklyn",
          "1": " Bedford-Stuyvesant",
          "index": 679
         },
         {
          "0": "Brooklyn",
          "1": " Windsor Terrace",
          "index": 680
         },
         {
          "0": "Brooklyn",
          "1": " Clinton Hill",
          "index": 681
         },
         {
          "0": "Brooklyn",
          "1": " Bushwick",
          "index": 682
         },
         {
          "0": "Brooklyn",
          "1": " Bushwick",
          "index": 683
         },
         {
          "0": "Brooklyn",
          "1": " Clinton Hill",
          "index": 684
         },
         {
          "0": "Manhattan",
          "1": " Chelsea",
          "index": 685
         },
         {
          "0": "Brooklyn",
          "1": " Greenpoint",
          "index": 686
         },
         {
          "0": "Brooklyn",
          "1": " Prospect Heights",
          "index": 687
         },
         {
          "0": "Manhattan",
          "1": " Harlem",
          "index": 688
         },
         {
          "0": "Brooklyn",
          "1": " Bedford-Stuyvesant",
          "index": 689
         },
         {
          "0": "Staten Island",
          "1": " Eltingville",
          "index": 690
         },
         {
          "0": "Queens",
          "1": " Jackson Heights",
          "index": 691
         },
         {
          "0": "Brooklyn",
          "1": " Park Slope",
          "index": 692
         },
         {
          "0": "Brooklyn",
          "1": " Bedford-Stuyvesant",
          "index": 693
         },
         {
          "0": "Brooklyn",
          "1": " Bedford-Stuyvesant",
          "index": 694
         },
         {
          "0": "Brooklyn",
          "1": " Williamsburg",
          "index": 695
         },
         {
          "0": "Brooklyn",
          "1": " Williamsburg",
          "index": 696
         },
         {
          "0": "Staten Island",
          "1": " Stapleton",
          "index": 697
         },
         {
          "0": "Queens",
          "1": " South Ozone Park",
          "index": 698
         },
         {
          "0": "Queens",
          "1": " Richmond Hill",
          "index": 699
         },
         {
          "0": "Brooklyn",
          "1": " Bushwick",
          "index": 700
         },
         {
          "0": "Brooklyn",
          "1": " Williamsburg",
          "index": 701
         },
         {
          "0": "Queens",
          "1": " Woodside",
          "index": 702
         },
         {
          "0": "Manhattan",
          "1": " Greenwich Village",
          "index": 703
         },
         {
          "0": "Brooklyn",
          "1": " Greenpoint",
          "index": 704
         },
         {
          "0": "Brooklyn",
          "1": " Canarsie",
          "index": 705
         },
         {
          "0": "Manhattan",
          "1": " East Village",
          "index": 706
         },
         {
          "0": "Manhattan",
          "1": " Chelsea",
          "index": 707
         },
         {
          "0": "Brooklyn",
          "1": " Bushwick",
          "index": 708
         },
         {
          "0": "Manhattan",
          "1": " East Village",
          "index": 709
         },
         {
          "0": "Manhattan",
          "1": " Kips Bay",
          "index": 710
         },
         {
          "0": "Manhattan",
          "1": " East Village",
          "index": 711
         },
         {
          "0": "Brooklyn",
          "1": " Bedford-Stuyvesant",
          "index": 712
         },
         {
          "0": "Manhattan",
          "1": " Upper West Side",
          "index": 713
         },
         {
          "0": "Brooklyn",
          "1": " Williamsburg",
          "index": 714
         },
         {
          "0": "Manhattan",
          "1": " East Harlem",
          "index": 715
         },
         {
          "0": "Manhattan",
          "1": " Morningside Heights",
          "index": 716
         },
         {
          "0": "Manhattan",
          "1": " Greenwich Village",
          "index": 717
         },
         {
          "0": "Brooklyn",
          "1": " Clinton Hill",
          "index": 718
         },
         {
          "0": "Manhattan",
          "1": " Upper West Side",
          "index": 719
         },
         {
          "0": "Manhattan",
          "1": " Upper East Side",
          "index": 720
         },
         {
          "0": "Manhattan",
          "1": " East Village",
          "index": 721
         },
         {
          "0": "Manhattan",
          "1": " Kips Bay",
          "index": 722
         },
         {
          "0": "Queens",
          "1": " Astoria",
          "index": 723
         },
         {
          "0": "Brooklyn",
          "1": " Williamsburg",
          "index": 724
         },
         {
          "0": "Manhattan",
          "1": " East Harlem",
          "index": 725
         },
         {
          "0": "Queens",
          "1": " Far Rockaway",
          "index": 726
         },
         {
          "0": "Manhattan",
          "1": " Midtown",
          "index": 727
         },
         {
          "0": "Manhattan",
          "1": " East Village",
          "index": 728
         },
         {
          "0": "Manhattan",
          "1": " Midtown",
          "index": 729
         },
         {
          "0": "Manhattan",
          "1": " Washington Heights",
          "index": 730
         },
         {
          "0": "Brooklyn",
          "1": " Williamsburg",
          "index": 731
         },
         {
          "0": "Manhattan",
          "1": " Hell's Kitchen",
          "index": 732
         },
         {
          "0": "Brooklyn",
          "1": " Windsor Terrace",
          "index": 733
         },
         {
          "0": "Manhattan",
          "1": " Harlem",
          "index": 734
         },
         {
          "0": "Manhattan",
          "1": " Inwood",
          "index": 735
         },
         {
          "0": "Queens",
          "1": " Flushing",
          "index": 736
         },
         {
          "0": "Manhattan",
          "1": " Harlem",
          "index": 737
         },
         {
          "0": "Brooklyn",
          "1": " Bedford-Stuyvesant",
          "index": 738
         },
         {
          "0": "Manhattan",
          "1": " Washington Heights",
          "index": 739
         },
         {
          "0": "Manhattan",
          "1": " Midtown",
          "index": 740
         },
         {
          "0": "Manhattan",
          "1": " SoHo",
          "index": 741
         },
         {
          "0": "Brooklyn",
          "1": " Bushwick",
          "index": 742
         },
         {
          "0": "Manhattan",
          "1": " Lower East Side",
          "index": 743
         },
         {
          "0": "Manhattan",
          "1": " Inwood",
          "index": 744
         },
         {
          "0": "Manhattan",
          "1": " West Village",
          "index": 745
         },
         {
          "0": "Manhattan",
          "1": " Hell's Kitchen",
          "index": 746
         },
         {
          "0": "Brooklyn",
          "1": " Bedford-Stuyvesant",
          "index": 747
         },
         {
          "0": "Manhattan",
          "1": " Kips Bay",
          "index": 748
         },
         {
          "0": "Brooklyn",
          "1": " Bushwick",
          "index": 749
         },
         {
          "0": "Manhattan",
          "1": " Hell's Kitchen",
          "index": 750
         },
         {
          "0": "Brooklyn",
          "1": " Williamsburg",
          "index": 751
         },
         {
          "0": "Bronx",
          "1": " Longwood",
          "index": 752
         },
         {
          "0": "Queens",
          "1": " Astoria",
          "index": 753
         },
         {
          "0": "Brooklyn",
          "1": " Williamsburg",
          "index": 754
         },
         {
          "0": "Brooklyn",
          "1": " Bushwick",
          "index": 755
         },
         {
          "0": "Queens",
          "1": " East Elmhurst",
          "index": 756
         },
         {
          "0": "Manhattan",
          "1": " Upper East Side",
          "index": 757
         },
         {
          "0": "Manhattan",
          "1": " Little Italy",
          "index": 758
         },
         {
          "0": "Brooklyn",
          "1": " Williamsburg",
          "index": 759
         },
         {
          "0": "Manhattan",
          "1": " Harlem",
          "index": 760
         },
         {
          "0": "Manhattan",
          "1": " Harlem",
          "index": 761
         },
         {
          "0": "Manhattan",
          "1": " Washington Heights",
          "index": 762
         },
         {
          "0": "Queens",
          "1": " Queens Village",
          "index": 763
         },
         {
          "0": "Manhattan",
          "1": " Financial District",
          "index": 764
         },
         {
          "0": "Brooklyn",
          "1": " Bedford-Stuyvesant",
          "index": 765
         },
         {
          "0": "Brooklyn",
          "1": " Fort Greene",
          "index": 766
         },
         {
          "0": "Brooklyn",
          "1": " Fort Greene",
          "index": 767
         },
         {
          "0": "Queens",
          "1": " Long Island City",
          "index": 768
         },
         {
          "0": "Brooklyn",
          "1": " Bushwick",
          "index": 769
         },
         {
          "0": "Manhattan",
          "1": " Midtown",
          "index": 770
         },
         {
          "0": "Manhattan",
          "1": " Hell's Kitchen",
          "index": 771
         },
         {
          "0": "Manhattan",
          "1": " Upper West Side",
          "index": 772
         },
         {
          "0": "Queens",
          "1": " Glendale",
          "index": 773
         },
         {
          "0": "Queens",
          "1": " Astoria",
          "index": 774
         },
         {
          "0": "Manhattan",
          "1": " Upper East Side",
          "index": 775
         },
         {
          "0": "Brooklyn",
          "1": " Williamsburg",
          "index": 776
         },
         {
          "0": "Queens",
          "1": " East Elmhurst",
          "index": 777
         },
         {
          "0": "Brooklyn",
          "1": " Cypress Hills",
          "index": 778
         },
         {
          "0": "Queens",
          "1": " Long Island City",
          "index": 779
         },
         {
          "0": "Manhattan",
          "1": " Nolita",
          "index": 780
         },
         {
          "0": "Manhattan",
          "1": " Upper West Side",
          "index": 781
         },
         {
          "0": "Manhattan",
          "1": " Chinatown",
          "index": 782
         },
         {
          "0": "Brooklyn",
          "1": " Canarsie",
          "index": 783
         },
         {
          "0": "Manhattan",
          "1": " East Harlem",
          "index": 784
         },
         {
          "0": "Manhattan",
          "1": " SoHo",
          "index": 785
         },
         {
          "0": "Brooklyn",
          "1": " Bedford-Stuyvesant",
          "index": 786
         },
         {
          "0": "Manhattan",
          "1": " Harlem",
          "index": 787
         },
         {
          "0": "Brooklyn",
          "1": " Clinton Hill",
          "index": 788
         },
         {
          "0": "Brooklyn",
          "1": " Greenpoint",
          "index": 789
         },
         {
          "0": "Brooklyn",
          "1": " Bushwick",
          "index": 790
         },
         {
          "0": "Manhattan",
          "1": " Nolita",
          "index": 791
         },
         {
          "0": "Manhattan",
          "1": " Chelsea",
          "index": 792
         },
         {
          "0": "Manhattan",
          "1": " Chelsea",
          "index": 793
         },
         {
          "0": "Brooklyn",
          "1": " Flatbush",
          "index": 794
         },
         {
          "0": "Manhattan",
          "1": " Upper West Side",
          "index": 795
         },
         {
          "0": "Manhattan",
          "1": " East Harlem",
          "index": 796
         },
         {
          "0": "Brooklyn",
          "1": " Gowanus",
          "index": 797
         },
         {
          "0": "Brooklyn",
          "1": " Williamsburg",
          "index": 798
         },
         {
          "0": "Brooklyn",
          "1": " East Flatbush",
          "index": 799
         },
         {
          "0": "Manhattan",
          "1": " Harlem",
          "index": 800
         },
         {
          "0": "Queens",
          "1": " Astoria",
          "index": 801
         },
         {
          "0": "Manhattan",
          "1": " Financial District",
          "index": 802
         },
         {
          "0": "Manhattan",
          "1": " Upper East Side",
          "index": 803
         },
         {
          "0": "Manhattan",
          "1": " Harlem",
          "index": 804
         },
         {
          "0": "Brooklyn",
          "1": " Williamsburg",
          "index": 805
         },
         {
          "0": "Manhattan",
          "1": " Lower East Side",
          "index": 806
         },
         {
          "0": "Brooklyn",
          "1": " Bushwick",
          "index": 807
         },
         {
          "0": "Manhattan",
          "1": " Chelsea",
          "index": 808
         },
         {
          "0": "Manhattan",
          "1": " Tribeca",
          "index": 809
         },
         {
          "0": "Brooklyn",
          "1": " Bushwick",
          "index": 810
         },
         {
          "0": "Queens",
          "1": " Astoria",
          "index": 811
         },
         {
          "0": "Brooklyn",
          "1": " Bushwick",
          "index": 812
         },
         {
          "0": "Brooklyn",
          "1": " Crown Heights",
          "index": 813
         },
         {
          "0": "Manhattan",
          "1": " Lower East Side",
          "index": 814
         },
         {
          "0": "Queens",
          "1": " Rego Park",
          "index": 815
         },
         {
          "0": "Manhattan",
          "1": " Little Italy",
          "index": 816
         },
         {
          "0": "Brooklyn",
          "1": " Williamsburg",
          "index": 817
         },
         {
          "0": "Manhattan",
          "1": " Upper West Side",
          "index": 818
         },
         {
          "0": "Brooklyn",
          "1": " Williamsburg",
          "index": 819
         },
         {
          "0": "Brooklyn",
          "1": " Bushwick",
          "index": 820
         },
         {
          "0": "Brooklyn",
          "1": " Bedford-Stuyvesant",
          "index": 821
         },
         {
          "0": "Queens",
          "1": " Ditmars Steinway",
          "index": 822
         },
         {
          "0": "Brooklyn",
          "1": " Kensington",
          "index": 823
         },
         {
          "0": "Brooklyn",
          "1": " Williamsburg",
          "index": 824
         },
         {
          "0": "Manhattan",
          "1": " Morningside Heights",
          "index": 825
         },
         {
          "0": "Manhattan",
          "1": " Upper East Side",
          "index": 826
         },
         {
          "0": "Staten Island",
          "1": " Dongan Hills",
          "index": 827
         },
         {
          "0": "Brooklyn",
          "1": " Bedford-Stuyvesant",
          "index": 828
         },
         {
          "0": "Queens",
          "1": " Hollis",
          "index": 829
         },
         {
          "0": "Brooklyn",
          "1": " Greenpoint",
          "index": 830
         },
         {
          "0": "Queens",
          "1": " Long Island City",
          "index": 831
         },
         {
          "0": "Brooklyn",
          "1": " Carroll Gardens",
          "index": 832
         },
         {
          "0": "Brooklyn",
          "1": " Bedford-Stuyvesant",
          "index": 833
         },
         {
          "0": "Manhattan",
          "1": " SoHo",
          "index": 834
         },
         {
          "0": "Brooklyn",
          "1": " Prospect-Lefferts Gardens",
          "index": 835
         },
         {
          "0": "Manhattan",
          "1": " Upper East Side",
          "index": 836
         },
         {
          "0": "Brooklyn",
          "1": " Sheepshead Bay",
          "index": 837
         },
         {
          "0": "Manhattan",
          "1": " Upper West Side",
          "index": 838
         },
         {
          "0": "Manhattan",
          "1": " Battery Park City",
          "index": 839
         },
         {
          "0": "Brooklyn",
          "1": " Flatbush",
          "index": 840
         },
         {
          "0": "Queens",
          "1": " Middle Village",
          "index": 841
         },
         {
          "0": "Manhattan",
          "1": " Gramercy",
          "index": 842
         },
         {
          "0": "Manhattan",
          "1": " Lower East Side",
          "index": 843
         },
         {
          "0": "Manhattan",
          "1": " Upper West Side",
          "index": 844
         },
         {
          "0": "Brooklyn",
          "1": " Bushwick",
          "index": 845
         },
         {
          "0": "Queens",
          "1": " Ozone Park",
          "index": 846
         },
         {
          "0": "Manhattan",
          "1": " Lower East Side",
          "index": 847
         },
         {
          "0": "Brooklyn",
          "1": " Bushwick",
          "index": 848
         },
         {
          "0": "Brooklyn",
          "1": " Bedford-Stuyvesant",
          "index": 849
         },
         {
          "0": "Brooklyn",
          "1": " Bushwick",
          "index": 850
         },
         {
          "0": "Manhattan",
          "1": " East Harlem",
          "index": 851
         },
         {
          "0": "Manhattan",
          "1": " Stuyvesant Town",
          "index": 852
         },
         {
          "0": "Brooklyn",
          "1": " Williamsburg",
          "index": 853
         },
         {
          "0": "Manhattan",
          "1": " Upper East Side",
          "index": 854
         },
         {
          "0": "Queens",
          "1": " Flushing",
          "index": 855
         },
         {
          "0": "Brooklyn",
          "1": " Kensington",
          "index": 856
         },
         {
          "0": "Brooklyn",
          "1": " Bushwick",
          "index": 857
         },
         {
          "0": "Manhattan",
          "1": " Kips Bay",
          "index": 858
         },
         {
          "0": "Brooklyn",
          "1": " East New York",
          "index": 859
         },
         {
          "0": "Brooklyn",
          "1": " Bedford-Stuyvesant",
          "index": 860
         },
         {
          "0": "Brooklyn",
          "1": " Bedford-Stuyvesant",
          "index": 861
         },
         {
          "0": "Brooklyn",
          "1": " Greenpoint",
          "index": 862
         },
         {
          "0": "Queens",
          "1": " East Elmhurst",
          "index": 863
         },
         {
          "0": "Manhattan",
          "1": " East Harlem",
          "index": 864
         },
         {
          "0": "Staten Island",
          "1": " Tompkinsville",
          "index": 865
         },
         {
          "0": "Manhattan",
          "1": " East Village",
          "index": 866
         },
         {
          "0": "Brooklyn",
          "1": " Flatbush",
          "index": 867
         },
         {
          "0": "Brooklyn",
          "1": " Crown Heights",
          "index": 868
         },
         {
          "0": "Brooklyn",
          "1": " Bedford-Stuyvesant",
          "index": 869
         },
         {
          "0": "Brooklyn",
          "1": " Crown Heights",
          "index": 870
         },
         {
          "0": "Manhattan",
          "1": " Washington Heights",
          "index": 871
         },
         {
          "0": "Manhattan",
          "1": " Harlem",
          "index": 872
         },
         {
          "0": "Manhattan",
          "1": " SoHo",
          "index": 873
         },
         {
          "0": "Queens",
          "1": " Long Island City",
          "index": 874
         },
         {
          "0": "Staten Island",
          "1": " Grymes Hill",
          "index": 875
         },
         {
          "0": "Manhattan",
          "1": " Washington Heights",
          "index": 876
         },
         {
          "0": "Manhattan",
          "1": " Lower East Side",
          "index": 877
         },
         {
          "0": "Brooklyn",
          "1": " Crown Heights",
          "index": 878
         },
         {
          "0": "Brooklyn",
          "1": " Williamsburg",
          "index": 879
         },
         {
          "0": "Brooklyn",
          "1": " Williamsburg",
          "index": 880
         },
         {
          "0": "Manhattan",
          "1": " Little Italy",
          "index": 881
         },
         {
          "0": "Manhattan",
          "1": " Upper East Side",
          "index": 882
         },
         {
          "0": "Manhattan",
          "1": " Nolita",
          "index": 883
         },
         {
          "0": "Brooklyn",
          "1": " Williamsburg",
          "index": 884
         },
         {
          "0": "Queens",
          "1": " Rego Park",
          "index": 885
         },
         {
          "0": "Brooklyn",
          "1": " Bedford-Stuyvesant",
          "index": 886
         },
         {
          "0": "Manhattan",
          "1": " Chelsea",
          "index": 887
         },
         {
          "0": "Queens",
          "1": " Ridgewood",
          "index": 888
         },
         {
          "0": "Manhattan",
          "1": " Chelsea",
          "index": 889
         },
         {
          "0": "Brooklyn",
          "1": " Bedford-Stuyvesant",
          "index": 890
         },
         {
          "0": "Queens",
          "1": " Springfield Gardens",
          "index": 891
         },
         {
          "0": "Queens",
          "1": " Elmhurst",
          "index": 892
         },
         {
          "0": "Manhattan",
          "1": " Chelsea",
          "index": 893
         },
         {
          "0": "Brooklyn",
          "1": " Greenpoint",
          "index": 894
         },
         {
          "0": "Queens",
          "1": " Sunnyside",
          "index": 895
         },
         {
          "0": "Brooklyn",
          "1": " Greenpoint",
          "index": 896
         },
         {
          "0": "Brooklyn",
          "1": " East New York",
          "index": 897
         },
         {
          "0": "Brooklyn",
          "1": " Bushwick",
          "index": 898
         },
         {
          "0": "Brooklyn",
          "1": " Bushwick",
          "index": 899
         },
         {
          "0": "Brooklyn",
          "1": " Bedford-Stuyvesant",
          "index": 900
         },
         {
          "0": "Brooklyn",
          "1": " Williamsburg",
          "index": 901
         },
         {
          "0": "Manhattan",
          "1": " Hell's Kitchen",
          "index": 902
         },
         {
          "0": "Brooklyn",
          "1": " East Flatbush",
          "index": 903
         },
         {
          "0": "Brooklyn",
          "1": " Gowanus",
          "index": 904
         },
         {
          "0": "Brooklyn",
          "1": " Greenpoint",
          "index": 905
         },
         {
          "0": "Brooklyn",
          "1": " Bushwick",
          "index": 906
         },
         {
          "0": "Brooklyn",
          "1": " Williamsburg",
          "index": 907
         },
         {
          "0": "Manhattan",
          "1": " Harlem",
          "index": 908
         },
         {
          "0": "Brooklyn",
          "1": " Williamsburg",
          "index": 909
         },
         {
          "0": "Queens",
          "1": " Ridgewood",
          "index": 910
         },
         {
          "0": "Manhattan",
          "1": " Gramercy",
          "index": 911
         },
         {
          "0": "Brooklyn",
          "1": " Williamsburg",
          "index": 912
         },
         {
          "0": "Brooklyn",
          "1": " Bedford-Stuyvesant",
          "index": 913
         },
         {
          "0": "Brooklyn",
          "1": " Bedford-Stuyvesant",
          "index": 914
         },
         {
          "0": "Manhattan",
          "1": " Morningside Heights",
          "index": 915
         },
         {
          "0": "Brooklyn",
          "1": " Williamsburg",
          "index": 916
         },
         {
          "0": "Brooklyn",
          "1": " Crown Heights",
          "index": 917
         },
         {
          "0": "Bronx",
          "1": " Concourse Village",
          "index": 918
         },
         {
          "0": "Manhattan",
          "1": " Greenwich Village",
          "index": 919
         },
         {
          "0": "Manhattan",
          "1": " Chelsea",
          "index": 920
         },
         {
          "0": "Manhattan",
          "1": " Hell's Kitchen",
          "index": 921
         },
         {
          "0": "Brooklyn",
          "1": " Clinton Hill",
          "index": 922
         },
         {
          "0": "Manhattan",
          "1": " Chelsea",
          "index": 923
         },
         {
          "0": "Brooklyn",
          "1": " Bushwick",
          "index": 924
         },
         {
          "0": "Manhattan",
          "1": " Hell's Kitchen",
          "index": 925
         },
         {
          "0": "Manhattan",
          "1": " Upper West Side",
          "index": 926
         },
         {
          "0": "Brooklyn",
          "1": " East Flatbush",
          "index": 927
         },
         {
          "0": "Brooklyn",
          "1": " Bedford-Stuyvesant",
          "index": 928
         },
         {
          "0": "Manhattan",
          "1": " Murray Hill",
          "index": 929
         },
         {
          "0": "Manhattan",
          "1": " Harlem",
          "index": 930
         },
         {
          "0": "Manhattan",
          "1": " Midtown",
          "index": 931
         },
         {
          "0": "Brooklyn",
          "1": " Park Slope",
          "index": 932
         },
         {
          "0": "Manhattan",
          "1": " Greenwich Village",
          "index": 933
         },
         {
          "0": "Queens",
          "1": " Maspeth",
          "index": 934
         },
         {
          "0": "Manhattan",
          "1": " Midtown",
          "index": 935
         },
         {
          "0": "Brooklyn",
          "1": " Gowanus",
          "index": 936
         },
         {
          "0": "Manhattan",
          "1": " Hell's Kitchen",
          "index": 937
         },
         {
          "0": "Brooklyn",
          "1": " Williamsburg",
          "index": 938
         },
         {
          "0": "Brooklyn",
          "1": " Greenpoint",
          "index": 939
         },
         {
          "0": "Brooklyn",
          "1": " Bedford-Stuyvesant",
          "index": 940
         },
         {
          "0": "Brooklyn",
          "1": " Fort Greene",
          "index": 941
         },
         {
          "0": "Brooklyn",
          "1": " Bushwick",
          "index": 942
         },
         {
          "0": "Brooklyn",
          "1": " Williamsburg",
          "index": 943
         },
         {
          "0": "Manhattan",
          "1": " Chelsea",
          "index": 944
         },
         {
          "0": "Manhattan",
          "1": " Washington Heights",
          "index": 945
         },
         {
          "0": "Manhattan",
          "1": " Midtown",
          "index": 946
         },
         {
          "0": "Manhattan",
          "1": " East Village",
          "index": 947
         },
         {
          "0": "Manhattan",
          "1": " East Harlem",
          "index": 948
         },
         {
          "0": "Brooklyn",
          "1": " Bushwick",
          "index": 949
         },
         {
          "0": "Manhattan",
          "1": " Washington Heights",
          "index": 950
         },
         {
          "0": "Manhattan",
          "1": " Chelsea",
          "index": 951
         },
         {
          "0": "Manhattan",
          "1": " Harlem",
          "index": 952
         },
         {
          "0": "Manhattan",
          "1": " Nolita",
          "index": 953
         },
         {
          "0": "Brooklyn",
          "1": " East Flatbush",
          "index": 954
         },
         {
          "0": "Brooklyn",
          "1": " Flatbush",
          "index": 955
         },
         {
          "0": "Manhattan",
          "1": " Lower East Side",
          "index": 956
         },
         {
          "0": "Manhattan",
          "1": " Washington Heights",
          "index": 957
         },
         {
          "0": "Brooklyn",
          "1": " Sunset Park",
          "index": 958
         },
         {
          "0": "Brooklyn",
          "1": " Williamsburg",
          "index": 959
         },
         {
          "0": "Brooklyn",
          "1": " Williamsburg",
          "index": 960
         },
         {
          "0": "Brooklyn",
          "1": " Clinton Hill",
          "index": 961
         },
         {
          "0": "Manhattan",
          "1": " East Village",
          "index": 962
         },
         {
          "0": "Brooklyn",
          "1": " Bushwick",
          "index": 963
         },
         {
          "0": "Brooklyn",
          "1": " Williamsburg",
          "index": 964
         },
         {
          "0": "Brooklyn",
          "1": " Flatbush",
          "index": 965
         },
         {
          "0": "Manhattan",
          "1": " Harlem",
          "index": 966
         },
         {
          "0": "Manhattan",
          "1": " Upper West Side",
          "index": 967
         },
         {
          "0": "Manhattan",
          "1": " SoHo",
          "index": 968
         },
         {
          "0": "Brooklyn",
          "1": " Crown Heights",
          "index": 969
         },
         {
          "0": "Manhattan",
          "1": " Upper West Side",
          "index": 970
         },
         {
          "0": "Manhattan",
          "1": " Midtown",
          "index": 971
         },
         {
          "0": "Brooklyn",
          "1": " Bedford-Stuyvesant",
          "index": 972
         },
         {
          "0": "Brooklyn",
          "1": " Williamsburg",
          "index": 973
         },
         {
          "0": "Manhattan",
          "1": " Midtown",
          "index": 974
         },
         {
          "0": "Brooklyn",
          "1": " Bushwick",
          "index": 975
         },
         {
          "0": "Brooklyn",
          "1": " Bedford-Stuyvesant",
          "index": 976
         },
         {
          "0": "Manhattan",
          "1": " Hell's Kitchen",
          "index": 977
         },
         {
          "0": "Brooklyn",
          "1": " Prospect-Lefferts Gardens",
          "index": 978
         },
         {
          "0": "Brooklyn",
          "1": " Clinton Hill",
          "index": 979
         },
         {
          "0": "Brooklyn",
          "1": " Williamsburg",
          "index": 980
         },
         {
          "0": "Manhattan",
          "1": " Harlem",
          "index": 981
         },
         {
          "0": "Manhattan",
          "1": " Roosevelt Island",
          "index": 982
         },
         {
          "0": "Bronx",
          "1": " Throgs Neck",
          "index": 983
         },
         {
          "0": "Brooklyn",
          "1": " Bedford-Stuyvesant",
          "index": 984
         },
         {
          "0": "Brooklyn",
          "1": " Bedford-Stuyvesant",
          "index": 985
         },
         {
          "0": "Manhattan",
          "1": " Kips Bay",
          "index": 986
         },
         {
          "0": "Manhattan",
          "1": " East Harlem",
          "index": 987
         },
         {
          "0": "Manhattan",
          "1": " Tribeca",
          "index": 988
         },
         {
          "0": "Brooklyn",
          "1": " Bedford-Stuyvesant",
          "index": 989
         },
         {
          "0": "Brooklyn",
          "1": " Bedford-Stuyvesant",
          "index": 990
         },
         {
          "0": "Brooklyn",
          "1": " Williamsburg",
          "index": 991
         },
         {
          "0": "Brooklyn",
          "1": " Bushwick",
          "index": 992
         },
         {
          "0": "Brooklyn",
          "1": " Flatbush",
          "index": 993
         },
         {
          "0": "Queens",
          "1": " Ditmars Steinway",
          "index": 994
         },
         {
          "0": "Brooklyn",
          "1": " Bushwick",
          "index": 995
         },
         {
          "0": "Manhattan",
          "1": " Chinatown",
          "index": 996
         },
         {
          "0": "Brooklyn",
          "1": " Williamsburg",
          "index": 997
         },
         {
          "0": "Manhattan",
          "1": " Harlem",
          "index": 998
         },
         {
          "0": "Manhattan",
          "1": " East Harlem",
          "index": 999
         },
         {
          "0": "Queens",
          "1": " Sunnyside",
          "index": 1000
         },
         {
          "0": "Manhattan",
          "1": " Greenwich Village",
          "index": 1001
         },
         {
          "0": "Brooklyn",
          "1": " Williamsburg",
          "index": 1002
         },
         {
          "0": "Manhattan",
          "1": " Financial District",
          "index": 1003
         },
         {
          "0": "Brooklyn",
          "1": " Park Slope",
          "index": 1004
         },
         {
          "0": "Brooklyn",
          "1": " Bedford-Stuyvesant",
          "index": 1005
         },
         {
          "0": "Manhattan",
          "1": " East Village",
          "index": 1006
         },
         {
          "0": "Brooklyn",
          "1": " Sunset Park",
          "index": 1007
         },
         {
          "0": "Manhattan",
          "1": " Kips Bay",
          "index": 1008
         },
         {
          "0": "Brooklyn",
          "1": " Bedford-Stuyvesant",
          "index": 1009
         },
         {
          "0": "Queens",
          "1": " Ditmars Steinway",
          "index": 1010
         },
         {
          "0": "Manhattan",
          "1": " Washington Heights",
          "index": 1011
         },
         {
          "0": "Manhattan",
          "1": " Upper West Side",
          "index": 1012
         },
         {
          "0": "Brooklyn",
          "1": " Prospect-Lefferts Gardens",
          "index": 1013
         },
         {
          "0": "Brooklyn",
          "1": " Fort Greene",
          "index": 1014
         },
         {
          "0": "Staten Island",
          "1": " South Beach",
          "index": 1015
         },
         {
          "0": "Manhattan",
          "1": " East Harlem",
          "index": 1016
         },
         {
          "0": "Brooklyn",
          "1": " Williamsburg",
          "index": 1017
         },
         {
          "0": "Queens",
          "1": " Elmhurst",
          "index": 1018
         },
         {
          "0": "Manhattan",
          "1": " Midtown",
          "index": 1019
         },
         {
          "0": "Manhattan",
          "1": " Upper West Side",
          "index": 1020
         },
         {
          "0": "Brooklyn",
          "1": " Williamsburg",
          "index": 1021
         },
         {
          "0": "Brooklyn",
          "1": " Bushwick",
          "index": 1022
         },
         {
          "0": "Manhattan",
          "1": " Financial District",
          "index": 1023
         },
         {
          "0": "Brooklyn",
          "1": " Bedford-Stuyvesant",
          "index": 1024
         },
         {
          "0": "Brooklyn",
          "1": " East Flatbush",
          "index": 1025
         },
         {
          "0": "Manhattan",
          "1": " Upper East Side",
          "index": 1026
         },
         {
          "0": "Manhattan",
          "1": " East Village",
          "index": 1027
         },
         {
          "0": "Brooklyn",
          "1": " Bedford-Stuyvesant",
          "index": 1028
         },
         {
          "0": "Brooklyn",
          "1": " South Slope",
          "index": 1029
         },
         {
          "0": "Manhattan",
          "1": " East Harlem",
          "index": 1030
         },
         {
          "0": "Manhattan",
          "1": " Harlem",
          "index": 1031
         },
         {
          "0": "Brooklyn",
          "1": " Williamsburg",
          "index": 1032
         },
         {
          "0": "Manhattan",
          "1": " Greenwich Village",
          "index": 1033
         },
         {
          "0": "Brooklyn",
          "1": " Park Slope",
          "index": 1034
         },
         {
          "0": "Brooklyn",
          "1": " Bushwick",
          "index": 1035
         },
         {
          "0": "Brooklyn",
          "1": " Bushwick",
          "index": 1036
         },
         {
          "0": "Brooklyn",
          "1": " Williamsburg",
          "index": 1037
         },
         {
          "0": "Manhattan",
          "1": " Hell's Kitchen",
          "index": 1038
         },
         {
          "0": "Manhattan",
          "1": " Murray Hill",
          "index": 1039
         },
         {
          "0": "Bronx",
          "1": " North Riverdale",
          "index": 1040
         },
         {
          "0": "Manhattan",
          "1": " Harlem",
          "index": 1041
         },
         {
          "0": "Manhattan",
          "1": " Hell's Kitchen",
          "index": 1042
         },
         {
          "0": "Queens",
          "1": " Sunnyside",
          "index": 1043
         },
         {
          "0": "Brooklyn",
          "1": " Sheepshead Bay",
          "index": 1044
         },
         {
          "0": "Manhattan",
          "1": " Upper West Side",
          "index": 1045
         },
         {
          "0": "Manhattan",
          "1": " East Village",
          "index": 1046
         },
         {
          "0": "Brooklyn",
          "1": " Bushwick",
          "index": 1047
         },
         {
          "0": "Manhattan",
          "1": " SoHo",
          "index": 1048
         },
         {
          "0": "Brooklyn",
          "1": " Williamsburg",
          "index": 1049
         },
         {
          "0": "Manhattan",
          "1": " East Harlem",
          "index": 1050
         },
         {
          "0": "Brooklyn",
          "1": " Williamsburg",
          "index": 1051
         },
         {
          "0": "Queens",
          "1": " Elmhurst",
          "index": 1052
         },
         {
          "0": "Queens",
          "1": " Ozone Park",
          "index": 1053
         },
         {
          "0": "Brooklyn",
          "1": " Bedford-Stuyvesant",
          "index": 1054
         },
         {
          "0": "Brooklyn",
          "1": " Sunset Park",
          "index": 1055
         },
         {
          "0": "Manhattan",
          "1": " Harlem",
          "index": 1056
         },
         {
          "0": "Manhattan",
          "1": " Theater District",
          "index": 1057
         },
         {
          "0": "Brooklyn",
          "1": " Williamsburg",
          "index": 1058
         },
         {
          "0": "Manhattan",
          "1": " West Village",
          "index": 1059
         },
         {
          "0": "Manhattan",
          "1": " NoHo",
          "index": 1060
         },
         {
          "0": "Brooklyn",
          "1": " Bushwick",
          "index": 1061
         },
         {
          "0": "Manhattan",
          "1": " West Village",
          "index": 1062
         },
         {
          "0": "Brooklyn",
          "1": " Bedford-Stuyvesant",
          "index": 1063
         },
         {
          "0": "Bronx",
          "1": " Pelham Bay",
          "index": 1064
         },
         {
          "0": "Manhattan",
          "1": " Chinatown",
          "index": 1065
         },
         {
          "0": "Manhattan",
          "1": " Little Italy",
          "index": 1066
         },
         {
          "0": "Manhattan",
          "1": " Upper East Side",
          "index": 1067
         },
         {
          "0": "Manhattan",
          "1": " Hell's Kitchen",
          "index": 1068
         },
         {
          "0": "Queens",
          "1": " Forest Hills",
          "index": 1069
         },
         {
          "0": "Brooklyn",
          "1": " Crown Heights",
          "index": 1070
         },
         {
          "0": "Manhattan",
          "1": " Nolita",
          "index": 1071
         },
         {
          "0": "Brooklyn",
          "1": " Bushwick",
          "index": 1072
         },
         {
          "0": "Manhattan",
          "1": " Upper East Side",
          "index": 1073
         },
         {
          "0": "Queens",
          "1": " Astoria",
          "index": 1074
         },
         {
          "0": "Brooklyn",
          "1": " Bedford-Stuyvesant",
          "index": 1075
         },
         {
          "0": "Manhattan",
          "1": " Kips Bay",
          "index": 1076
         },
         {
          "0": "Queens",
          "1": " Flushing",
          "index": 1077
         },
         {
          "0": "Brooklyn",
          "1": " Crown Heights",
          "index": 1078
         },
         {
          "0": "Brooklyn",
          "1": " Williamsburg",
          "index": 1079
         },
         {
          "0": "Queens",
          "1": " Rosedale",
          "index": 1080
         },
         {
          "0": "Manhattan",
          "1": " Midtown",
          "index": 1081
         },
         {
          "0": "Manhattan",
          "1": " Murray Hill",
          "index": 1082
         },
         {
          "0": "Manhattan",
          "1": " West Village",
          "index": 1083
         },
         {
          "0": "Queens",
          "1": " Sunnyside",
          "index": 1084
         },
         {
          "0": "Queens",
          "1": " Long Island City",
          "index": 1085
         },
         {
          "0": "Manhattan",
          "1": " Kips Bay",
          "index": 1086
         },
         {
          "0": "Brooklyn",
          "1": " Brooklyn Heights",
          "index": 1087
         },
         {
          "0": "Manhattan",
          "1": " Chelsea",
          "index": 1088
         },
         {
          "0": "Brooklyn",
          "1": " Downtown Brooklyn",
          "index": 1089
         },
         {
          "0": "Manhattan",
          "1": " Chelsea",
          "index": 1090
         },
         {
          "0": "Queens",
          "1": " Astoria",
          "index": 1091
         },
         {
          "0": "Brooklyn",
          "1": " Fort Greene",
          "index": 1092
         },
         {
          "0": "Manhattan",
          "1": " Washington Heights",
          "index": 1093
         },
         {
          "0": "Brooklyn",
          "1": " Bedford-Stuyvesant",
          "index": 1094
         },
         {
          "0": "Queens",
          "1": " Corona",
          "index": 1095
         },
         {
          "0": "Manhattan",
          "1": " Midtown",
          "index": 1096
         },
         {
          "0": "Manhattan",
          "1": " West Village",
          "index": 1097
         },
         {
          "0": "Queens",
          "1": " Ridgewood",
          "index": 1098
         },
         {
          "0": "Brooklyn",
          "1": " East New York",
          "index": 1099
         },
         {
          "0": "Brooklyn",
          "1": " Clinton Hill",
          "index": 1100
         },
         {
          "0": "Queens",
          "1": " Elmhurst",
          "index": 1101
         },
         {
          "0": "Bronx",
          "1": " Mount Hope",
          "index": 1102
         },
         {
          "0": "Manhattan",
          "1": " Harlem",
          "index": 1103
         },
         {
          "0": "Brooklyn",
          "1": " Bushwick",
          "index": 1104
         },
         {
          "0": "Brooklyn",
          "1": " Bedford-Stuyvesant",
          "index": 1105
         },
         {
          "0": "Queens",
          "1": " Long Island City",
          "index": 1106
         },
         {
          "0": "Manhattan",
          "1": " Washington Heights",
          "index": 1107
         },
         {
          "0": "Brooklyn",
          "1": " Crown Heights",
          "index": 1108
         },
         {
          "0": "Brooklyn",
          "1": " Flatbush",
          "index": 1109
         },
         {
          "0": "Brooklyn",
          "1": " Crown Heights",
          "index": 1110
         },
         {
          "0": "Brooklyn",
          "1": " East Flatbush",
          "index": 1111
         },
         {
          "0": "Manhattan",
          "1": " Lower East Side",
          "index": 1112
         },
         {
          "0": "Manhattan",
          "1": " Chelsea",
          "index": 1113
         },
         {
          "0": "Brooklyn",
          "1": " Borough Park",
          "index": 1114
         },
         {
          "0": "Brooklyn",
          "1": " Bedford-Stuyvesant",
          "index": 1115
         },
         {
          "0": "Bronx",
          "1": " Clason Point",
          "index": 1116
         },
         {
          "0": "Manhattan",
          "1": " West Village",
          "index": 1117
         },
         {
          "0": "Manhattan",
          "1": " Harlem",
          "index": 1118
         },
         {
          "0": "Manhattan",
          "1": " East Village",
          "index": 1119
         },
         {
          "0": "Queens",
          "1": " Astoria",
          "index": 1120
         },
         {
          "0": "Manhattan",
          "1": " East Village",
          "index": 1121
         },
         {
          "0": "Brooklyn",
          "1": " Bushwick",
          "index": 1122
         },
         {
          "0": "Queens",
          "1": " Rockaway Beach",
          "index": 1123
         },
         {
          "0": "Manhattan",
          "1": " Harlem",
          "index": 1124
         },
         {
          "0": "Brooklyn",
          "1": " Sheepshead Bay",
          "index": 1125
         },
         {
          "0": "Manhattan",
          "1": " Two Bridges",
          "index": 1126
         },
         {
          "0": "Manhattan",
          "1": " Upper East Side",
          "index": 1127
         },
         {
          "0": "Manhattan",
          "1": " Harlem",
          "index": 1128
         },
         {
          "0": "Queens",
          "1": " Astoria",
          "index": 1129
         },
         {
          "0": "Manhattan",
          "1": " Upper East Side",
          "index": 1130
         },
         {
          "0": "Manhattan",
          "1": " Midtown",
          "index": 1131
         },
         {
          "0": "Brooklyn",
          "1": " Crown Heights",
          "index": 1132
         },
         {
          "0": "Brooklyn",
          "1": " Park Slope",
          "index": 1133
         },
         {
          "0": "Brooklyn",
          "1": " Prospect-Lefferts Gardens",
          "index": 1134
         },
         {
          "0": "Brooklyn",
          "1": " Carroll Gardens",
          "index": 1135
         },
         {
          "0": "Brooklyn",
          "1": " Park Slope",
          "index": 1136
         },
         {
          "0": "Brooklyn",
          "1": " Park Slope",
          "index": 1137
         },
         {
          "0": "Brooklyn",
          "1": " Brooklyn Heights",
          "index": 1138
         },
         {
          "0": "Queens",
          "1": " Long Island City",
          "index": 1139
         },
         {
          "0": "Manhattan",
          "1": " Harlem",
          "index": 1140
         },
         {
          "0": "Bronx",
          "1": " Parkchester",
          "index": 1141
         },
         {
          "0": "Brooklyn",
          "1": " Williamsburg",
          "index": 1142
         },
         {
          "0": "Queens",
          "1": " Astoria",
          "index": 1143
         },
         {
          "0": "Manhattan",
          "1": " Midtown",
          "index": 1144
         },
         {
          "0": "Manhattan",
          "1": " Murray Hill",
          "index": 1145
         },
         {
          "0": "Brooklyn",
          "1": " Bedford-Stuyvesant",
          "index": 1146
         },
         {
          "0": "Manhattan",
          "1": " SoHo",
          "index": 1147
         },
         {
          "0": "Manhattan",
          "1": " Tribeca",
          "index": 1148
         },
         {
          "0": "Manhattan",
          "1": " Harlem",
          "index": 1149
         },
         {
          "0": "Brooklyn",
          "1": " Crown Heights",
          "index": 1150
         },
         {
          "0": "Brooklyn",
          "1": " Bushwick",
          "index": 1151
         },
         {
          "0": "Queens",
          "1": " Richmond Hill",
          "index": 1152
         },
         {
          "0": "Queens",
          "1": " East Elmhurst",
          "index": 1153
         },
         {
          "0": "Brooklyn",
          "1": " Williamsburg",
          "index": 1154
         },
         {
          "0": "Manhattan",
          "1": " Midtown",
          "index": 1155
         },
         {
          "0": "Brooklyn",
          "1": " Bedford-Stuyvesant",
          "index": 1156
         },
         {
          "0": "Brooklyn",
          "1": " Bedford-Stuyvesant",
          "index": 1157
         },
         {
          "0": "Manhattan",
          "1": " Lower East Side",
          "index": 1158
         },
         {
          "0": "Brooklyn",
          "1": " Williamsburg",
          "index": 1159
         },
         {
          "0": "Manhattan",
          "1": " Chinatown",
          "index": 1160
         },
         {
          "0": "Brooklyn",
          "1": " Bedford-Stuyvesant",
          "index": 1161
         },
         {
          "0": "Manhattan",
          "1": " East Village",
          "index": 1162
         },
         {
          "0": "Brooklyn",
          "1": " Bedford-Stuyvesant",
          "index": 1163
         },
         {
          "0": "Manhattan",
          "1": " East Village",
          "index": 1164
         },
         {
          "0": "Manhattan",
          "1": " Upper East Side",
          "index": 1165
         },
         {
          "0": "Manhattan",
          "1": " East Village",
          "index": 1166
         },
         {
          "0": "Brooklyn",
          "1": " Park Slope",
          "index": 1167
         },
         {
          "0": "Brooklyn",
          "1": " Crown Heights",
          "index": 1168
         },
         {
          "0": "Manhattan",
          "1": " Harlem",
          "index": 1169
         },
         {
          "0": "Queens",
          "1": " Jamaica",
          "index": 1170
         },
         {
          "0": "Manhattan",
          "1": " Upper East Side",
          "index": 1171
         },
         {
          "0": "Brooklyn",
          "1": " Bushwick",
          "index": 1172
         },
         {
          "0": "Manhattan",
          "1": " NoHo",
          "index": 1173
         },
         {
          "0": "Brooklyn",
          "1": " Bedford-Stuyvesant",
          "index": 1174
         },
         {
          "0": "Brooklyn",
          "1": " Bedford-Stuyvesant",
          "index": 1175
         },
         {
          "0": "Manhattan",
          "1": " Chinatown",
          "index": 1176
         },
         {
          "0": "Bronx",
          "1": " Kingsbridge",
          "index": 1177
         },
         {
          "0": "Manhattan",
          "1": " Lower East Side",
          "index": 1178
         },
         {
          "0": "Queens",
          "1": " Elmhurst",
          "index": 1179
         },
         {
          "0": "Queens",
          "1": " Long Island City",
          "index": 1180
         },
         {
          "0": "Manhattan",
          "1": " Harlem",
          "index": 1181
         },
         {
          "0": "Manhattan",
          "1": " East Harlem",
          "index": 1182
         },
         {
          "0": "Brooklyn",
          "1": " Greenpoint",
          "index": 1183
         },
         {
          "0": "Brooklyn",
          "1": " Williamsburg",
          "index": 1184
         },
         {
          "0": "Manhattan",
          "1": " Hell's Kitchen",
          "index": 1185
         },
         {
          "0": "Manhattan",
          "1": " Harlem",
          "index": 1186
         },
         {
          "0": "Manhattan",
          "1": " Lower East Side",
          "index": 1187
         },
         {
          "0": "Queens",
          "1": " Flushing",
          "index": 1188
         },
         {
          "0": "Queens",
          "1": " Maspeth",
          "index": 1189
         },
         {
          "0": "Manhattan",
          "1": " Tribeca",
          "index": 1190
         },
         {
          "0": "Brooklyn",
          "1": " Bushwick",
          "index": 1191
         },
         {
          "0": "Brooklyn",
          "1": " Williamsburg",
          "index": 1192
         },
         {
          "0": "Brooklyn",
          "1": " Gowanus",
          "index": 1193
         },
         {
          "0": "Manhattan",
          "1": " Harlem",
          "index": 1194
         },
         {
          "0": "Manhattan",
          "1": " Harlem",
          "index": 1195
         },
         {
          "0": "Manhattan",
          "1": " Midtown",
          "index": 1196
         },
         {
          "0": "Manhattan",
          "1": " Washington Heights",
          "index": 1197
         },
         {
          "0": "Brooklyn",
          "1": " Bedford-Stuyvesant",
          "index": 1198
         },
         {
          "0": "Queens",
          "1": " Ditmars Steinway",
          "index": 1199
         },
         {
          "0": "Brooklyn",
          "1": " Bedford-Stuyvesant",
          "index": 1200
         },
         {
          "0": "Brooklyn",
          "1": " Crown Heights",
          "index": 1201
         },
         {
          "0": "Manhattan",
          "1": " Theater District",
          "index": 1202
         },
         {
          "0": "Brooklyn",
          "1": " Greenpoint",
          "index": 1203
         },
         {
          "0": "Manhattan",
          "1": " Chinatown",
          "index": 1204
         },
         {
          "0": "Brooklyn",
          "1": " Bushwick",
          "index": 1205
         },
         {
          "0": "Brooklyn",
          "1": " Bushwick",
          "index": 1206
         },
         {
          "0": "Brooklyn",
          "1": " Bedford-Stuyvesant",
          "index": 1207
         },
         {
          "0": "Manhattan",
          "1": " Upper West Side",
          "index": 1208
         },
         {
          "0": "Manhattan",
          "1": " Harlem",
          "index": 1209
         },
         {
          "0": "Brooklyn",
          "1": " Bushwick",
          "index": 1210
         },
         {
          "0": "Brooklyn",
          "1": " East Flatbush",
          "index": 1211
         },
         {
          "0": "Brooklyn",
          "1": " Bedford-Stuyvesant",
          "index": 1212
         },
         {
          "0": "Manhattan",
          "1": " Washington Heights",
          "index": 1213
         },
         {
          "0": "Manhattan",
          "1": " Upper East Side",
          "index": 1214
         },
         {
          "0": "Manhattan",
          "1": " Midtown",
          "index": 1215
         },
         {
          "0": "Brooklyn",
          "1": " Kensington",
          "index": 1216
         },
         {
          "0": "Manhattan",
          "1": " Financial District",
          "index": 1217
         },
         {
          "0": "Brooklyn",
          "1": " Windsor Terrace",
          "index": 1218
         },
         {
          "0": "Manhattan",
          "1": " Lower East Side",
          "index": 1219
         },
         {
          "0": "Manhattan",
          "1": " West Village",
          "index": 1220
         },
         {
          "0": "Manhattan",
          "1": " Chelsea",
          "index": 1221
         },
         {
          "0": "Manhattan",
          "1": " Hell's Kitchen",
          "index": 1222
         },
         {
          "0": "Brooklyn",
          "1": " Bedford-Stuyvesant",
          "index": 1223
         },
         {
          "0": "Manhattan",
          "1": " East Village",
          "index": 1224
         },
         {
          "0": "Brooklyn",
          "1": " Boerum Hill",
          "index": 1225
         },
         {
          "0": "Manhattan",
          "1": " East Harlem",
          "index": 1226
         },
         {
          "0": "Brooklyn",
          "1": " Flatbush",
          "index": 1227
         },
         {
          "0": "Brooklyn",
          "1": " Bushwick",
          "index": 1228
         },
         {
          "0": "Brooklyn",
          "1": " Greenpoint",
          "index": 1229
         },
         {
          "0": "Queens",
          "1": " Astoria",
          "index": 1230
         },
         {
          "0": "Queens",
          "1": " Flushing",
          "index": 1231
         },
         {
          "0": "Manhattan",
          "1": " Upper West Side",
          "index": 1232
         },
         {
          "0": "Brooklyn",
          "1": " Crown Heights",
          "index": 1233
         },
         {
          "0": "Brooklyn",
          "1": " Fort Greene",
          "index": 1234
         },
         {
          "0": "Brooklyn",
          "1": " Bushwick",
          "index": 1235
         },
         {
          "0": "Brooklyn",
          "1": " South Slope",
          "index": 1236
         },
         {
          "0": "Manhattan",
          "1": " Flatiron District",
          "index": 1237
         },
         {
          "0": "Queens",
          "1": " Ditmars Steinway",
          "index": 1238
         },
         {
          "0": "Brooklyn",
          "1": " Flatbush",
          "index": 1239
         },
         {
          "0": "Manhattan",
          "1": " Chelsea",
          "index": 1240
         },
         {
          "0": "Brooklyn",
          "1": " Bushwick",
          "index": 1241
         },
         {
          "0": "Manhattan",
          "1": " Gramercy",
          "index": 1242
         },
         {
          "0": "Manhattan",
          "1": " Chelsea",
          "index": 1243
         },
         {
          "0": "Brooklyn",
          "1": " Cypress Hills",
          "index": 1244
         },
         {
          "0": "Brooklyn",
          "1": " Mill Basin",
          "index": 1245
         },
         {
          "0": "Bronx",
          "1": " Williamsbridge",
          "index": 1246
         },
         {
          "0": "Brooklyn",
          "1": " Brownsville",
          "index": 1247
         },
         {
          "0": "Brooklyn",
          "1": " Bedford-Stuyvesant",
          "index": 1248
         },
         {
          "0": "Manhattan",
          "1": " Harlem",
          "index": 1249
         },
         {
          "0": "Queens",
          "1": " Maspeth",
          "index": 1250
         },
         {
          "0": "Brooklyn",
          "1": " Sheepshead Bay",
          "index": 1251
         },
         {
          "0": "Manhattan",
          "1": " East Harlem",
          "index": 1252
         },
         {
          "0": "Manhattan",
          "1": " Upper East Side",
          "index": 1253
         },
         {
          "0": "Manhattan",
          "1": " Upper East Side",
          "index": 1254
         },
         {
          "0": "Manhattan",
          "1": " West Village",
          "index": 1255
         },
         {
          "0": "Queens",
          "1": " Astoria",
          "index": 1256
         },
         {
          "0": "Manhattan",
          "1": " Washington Heights",
          "index": 1257
         },
         {
          "0": "Manhattan",
          "1": " Harlem",
          "index": 1258
         },
         {
          "0": "Brooklyn",
          "1": " Williamsburg",
          "index": 1259
         },
         {
          "0": "Manhattan",
          "1": " East Harlem",
          "index": 1260
         },
         {
          "0": "Manhattan",
          "1": " Upper East Side",
          "index": 1261
         },
         {
          "0": "Brooklyn",
          "1": " Bushwick",
          "index": 1262
         },
         {
          "0": "Manhattan",
          "1": " Upper West Side",
          "index": 1263
         },
         {
          "0": "Brooklyn",
          "1": " Prospect-Lefferts Gardens",
          "index": 1264
         },
         {
          "0": "Brooklyn",
          "1": " Crown Heights",
          "index": 1265
         },
         {
          "0": "Brooklyn",
          "1": " Prospect-Lefferts Gardens",
          "index": 1266
         },
         {
          "0": "Manhattan",
          "1": " West Village",
          "index": 1267
         },
         {
          "0": "Manhattan",
          "1": " Midtown",
          "index": 1268
         },
         {
          "0": "Manhattan",
          "1": " East Village",
          "index": 1269
         },
         {
          "0": "Manhattan",
          "1": " Midtown",
          "index": 1270
         },
         {
          "0": "Brooklyn",
          "1": " Bushwick",
          "index": 1271
         },
         {
          "0": "Manhattan",
          "1": " Midtown",
          "index": 1272
         },
         {
          "0": "Queens",
          "1": " Queens Village",
          "index": 1273
         },
         {
          "0": "Manhattan",
          "1": " East Village",
          "index": 1274
         },
         {
          "0": "Manhattan",
          "1": " East Village",
          "index": 1275
         },
         {
          "0": "Brooklyn",
          "1": " Williamsburg",
          "index": 1276
         },
         {
          "0": "Brooklyn",
          "1": " Gowanus",
          "index": 1277
         },
         {
          "0": "Manhattan",
          "1": " Two Bridges",
          "index": 1278
         },
         {
          "0": "Manhattan",
          "1": " Harlem",
          "index": 1279
         },
         {
          "0": "Manhattan",
          "1": " Lower East Side",
          "index": 1280
         },
         {
          "0": "Queens",
          "1": " Astoria",
          "index": 1281
         },
         {
          "0": "Manhattan",
          "1": " Chinatown",
          "index": 1282
         },
         {
          "0": "Brooklyn",
          "1": " Bensonhurst",
          "index": 1283
         },
         {
          "0": "Queens",
          "1": " Jackson Heights",
          "index": 1284
         },
         {
          "0": "Brooklyn",
          "1": " Fort Hamilton",
          "index": 1285
         },
         {
          "0": "Manhattan",
          "1": " Upper West Side",
          "index": 1286
         },
         {
          "0": "Queens",
          "1": " Howard Beach",
          "index": 1287
         },
         {
          "0": "Brooklyn",
          "1": " East Flatbush",
          "index": 1288
         },
         {
          "0": "Brooklyn",
          "1": " Gowanus",
          "index": 1289
         },
         {
          "0": "Manhattan",
          "1": " Chelsea",
          "index": 1290
         },
         {
          "0": "Brooklyn",
          "1": " Bedford-Stuyvesant",
          "index": 1291
         },
         {
          "0": "Brooklyn",
          "1": " Clinton Hill",
          "index": 1292
         },
         {
          "0": "Queens",
          "1": " Astoria",
          "index": 1293
         },
         {
          "0": "Manhattan",
          "1": " Chinatown",
          "index": 1294
         },
         {
          "0": "Brooklyn",
          "1": " Bedford-Stuyvesant",
          "index": 1295
         },
         {
          "0": "Brooklyn",
          "1": " Prospect Heights",
          "index": 1296
         },
         {
          "0": "Brooklyn",
          "1": " Greenpoint",
          "index": 1297
         },
         {
          "0": "Brooklyn",
          "1": " Crown Heights",
          "index": 1298
         },
         {
          "0": "Manhattan",
          "1": " Inwood",
          "index": 1299
         },
         {
          "0": "Manhattan",
          "1": " Washington Heights",
          "index": 1300
         },
         {
          "0": "Manhattan",
          "1": " East Village",
          "index": 1301
         },
         {
          "0": "Brooklyn",
          "1": " Bedford-Stuyvesant",
          "index": 1302
         },
         {
          "0": "Queens",
          "1": " Long Island City",
          "index": 1303
         },
         {
          "0": "Brooklyn",
          "1": " Williamsburg",
          "index": 1304
         },
         {
          "0": "Brooklyn",
          "1": " Crown Heights",
          "index": 1305
         },
         {
          "0": "Brooklyn",
          "1": " Crown Heights",
          "index": 1306
         },
         {
          "0": "Brooklyn",
          "1": " Greenpoint",
          "index": 1307
         },
         {
          "0": "Brooklyn",
          "1": " Brighton Beach",
          "index": 1308
         },
         {
          "0": "Manhattan",
          "1": " Upper West Side",
          "index": 1309
         },
         {
          "0": "Brooklyn",
          "1": " Bedford-Stuyvesant",
          "index": 1310
         },
         {
          "0": "Manhattan",
          "1": " Hell's Kitchen",
          "index": 1311
         },
         {
          "0": "Manhattan",
          "1": " Upper West Side",
          "index": 1312
         },
         {
          "0": "Brooklyn",
          "1": " Clinton Hill",
          "index": 1313
         },
         {
          "0": "Manhattan",
          "1": " Upper East Side",
          "index": 1314
         },
         {
          "0": "Manhattan",
          "1": " Hell's Kitchen",
          "index": 1315
         },
         {
          "0": "Brooklyn",
          "1": " East Flatbush",
          "index": 1316
         },
         {
          "0": "Brooklyn",
          "1": " Crown Heights",
          "index": 1317
         },
         {
          "0": "Brooklyn",
          "1": " East New York",
          "index": 1318
         },
         {
          "0": "Bronx",
          "1": " Parkchester",
          "index": 1319
         },
         {
          "0": "Manhattan",
          "1": " Harlem",
          "index": 1320
         },
         {
          "0": "Brooklyn",
          "1": " Bedford-Stuyvesant",
          "index": 1321
         },
         {
          "0": "Manhattan",
          "1": " Hell's Kitchen",
          "index": 1322
         },
         {
          "0": "Manhattan",
          "1": " East Harlem",
          "index": 1323
         },
         {
          "0": "Manhattan",
          "1": " Upper West Side",
          "index": 1324
         },
         {
          "0": "Manhattan",
          "1": " Greenwich Village",
          "index": 1325
         },
         {
          "0": "Manhattan",
          "1": " Chelsea",
          "index": 1326
         },
         {
          "0": "Queens",
          "1": " Ozone Park",
          "index": 1327
         },
         {
          "0": "Brooklyn",
          "1": " Clinton Hill",
          "index": 1328
         },
         {
          "0": "Manhattan",
          "1": " Chelsea",
          "index": 1329
         },
         {
          "0": "Brooklyn",
          "1": " Crown Heights",
          "index": 1330
         },
         {
          "0": "Brooklyn",
          "1": " Carroll Gardens",
          "index": 1331
         },
         {
          "0": "Brooklyn",
          "1": " Bushwick",
          "index": 1332
         },
         {
          "0": "Brooklyn",
          "1": " Bedford-Stuyvesant",
          "index": 1333
         },
         {
          "0": "Manhattan",
          "1": " West Village",
          "index": 1334
         },
         {
          "0": "Manhattan",
          "1": " Harlem",
          "index": 1335
         },
         {
          "0": "Manhattan",
          "1": " Hell's Kitchen",
          "index": 1336
         },
         {
          "0": "Manhattan",
          "1": " Upper East Side",
          "index": 1337
         },
         {
          "0": "Manhattan",
          "1": " Upper West Side",
          "index": 1338
         },
         {
          "0": "Brooklyn",
          "1": " Park Slope",
          "index": 1339
         },
         {
          "0": "Manhattan",
          "1": " Nolita",
          "index": 1340
         },
         {
          "0": "Staten Island",
          "1": " Tompkinsville",
          "index": 1341
         },
         {
          "0": "Manhattan",
          "1": " Harlem",
          "index": 1342
         },
         {
          "0": "Manhattan",
          "1": " Harlem",
          "index": 1343
         },
         {
          "0": "Manhattan",
          "1": " Chelsea",
          "index": 1344
         },
         {
          "0": "Manhattan",
          "1": " Greenwich Village",
          "index": 1345
         },
         {
          "0": "Manhattan",
          "1": " Kips Bay",
          "index": 1346
         },
         {
          "0": "Manhattan",
          "1": " Lower East Side",
          "index": 1347
         },
         {
          "0": "Brooklyn",
          "1": " Carroll Gardens",
          "index": 1348
         },
         {
          "0": "Manhattan",
          "1": " Hell's Kitchen",
          "index": 1349
         },
         {
          "0": "Manhattan",
          "1": " Upper West Side",
          "index": 1350
         },
         {
          "0": "Manhattan",
          "1": " Battery Park City",
          "index": 1351
         },
         {
          "0": "Manhattan",
          "1": " Greenwich Village",
          "index": 1352
         },
         {
          "0": "Brooklyn",
          "1": " Flatbush",
          "index": 1353
         },
         {
          "0": "Brooklyn",
          "1": " Fort Greene",
          "index": 1354
         },
         {
          "0": "Brooklyn",
          "1": " Clinton Hill",
          "index": 1355
         },
         {
          "0": "Manhattan",
          "1": " East Harlem",
          "index": 1356
         },
         {
          "0": "Brooklyn",
          "1": " Crown Heights",
          "index": 1357
         },
         {
          "0": "Brooklyn",
          "1": " Williamsburg",
          "index": 1358
         },
         {
          "0": "Bronx",
          "1": " Concourse",
          "index": 1359
         },
         {
          "0": "Brooklyn",
          "1": " Bedford-Stuyvesant",
          "index": 1360
         },
         {
          "0": "Manhattan",
          "1": " East Village",
          "index": 1361
         },
         {
          "0": "Manhattan",
          "1": " Hell's Kitchen",
          "index": 1362
         },
         {
          "0": "Manhattan",
          "1": " Lower East Side",
          "index": 1363
         },
         {
          "0": "Manhattan",
          "1": " Inwood",
          "index": 1364
         },
         {
          "0": "Queens",
          "1": " Rosedale",
          "index": 1365
         },
         {
          "0": "Queens",
          "1": " Woodside",
          "index": 1366
         },
         {
          "0": "Manhattan",
          "1": " East Harlem",
          "index": 1367
         },
         {
          "0": "Brooklyn",
          "1": " Crown Heights",
          "index": 1368
         },
         {
          "0": "Queens",
          "1": " Queens Village",
          "index": 1369
         },
         {
          "0": "Manhattan",
          "1": " Upper East Side",
          "index": 1370
         },
         {
          "0": "Brooklyn",
          "1": " Prospect-Lefferts Gardens",
          "index": 1371
         },
         {
          "0": "Brooklyn",
          "1": " Prospect Heights",
          "index": 1372
         },
         {
          "0": "Manhattan",
          "1": " East Village",
          "index": 1373
         },
         {
          "0": "Brooklyn",
          "1": " Prospect Heights",
          "index": 1374
         },
         {
          "0": "Brooklyn",
          "1": " Park Slope",
          "index": 1375
         },
         {
          "0": "Manhattan",
          "1": " Hell's Kitchen",
          "index": 1376
         },
         {
          "0": "Manhattan",
          "1": " Upper West Side",
          "index": 1377
         },
         {
          "0": "Manhattan",
          "1": " Hell's Kitchen",
          "index": 1378
         },
         {
          "0": "Manhattan",
          "1": " Upper East Side",
          "index": 1379
         },
         {
          "0": "Manhattan",
          "1": " Lower East Side",
          "index": 1380
         },
         {
          "0": "Manhattan",
          "1": " Harlem",
          "index": 1381
         },
         {
          "0": "Brooklyn",
          "1": " Bushwick",
          "index": 1382
         },
         {
          "0": "Manhattan",
          "1": " Kips Bay",
          "index": 1383
         },
         {
          "0": "Manhattan",
          "1": " Upper East Side",
          "index": 1384
         },
         {
          "0": "Manhattan",
          "1": " Upper East Side",
          "index": 1385
         },
         {
          "0": "Brooklyn",
          "1": " Bedford-Stuyvesant",
          "index": 1386
         },
         {
          "0": "Brooklyn",
          "1": " Bedford-Stuyvesant",
          "index": 1387
         },
         {
          "0": "Manhattan",
          "1": " Upper West Side",
          "index": 1388
         },
         {
          "0": "Brooklyn",
          "1": " Gowanus",
          "index": 1389
         },
         {
          "0": "Brooklyn",
          "1": " Prospect Heights",
          "index": 1390
         },
         {
          "0": "Manhattan",
          "1": " NoHo",
          "index": 1391
         },
         {
          "0": "Manhattan",
          "1": " Upper West Side",
          "index": 1392
         },
         {
          "0": "Manhattan",
          "1": " Chinatown",
          "index": 1393
         },
         {
          "0": "Brooklyn",
          "1": " Bushwick",
          "index": 1394
         },
         {
          "0": "Manhattan",
          "1": " Greenwich Village",
          "index": 1395
         },
         {
          "0": "Brooklyn",
          "1": " Greenpoint",
          "index": 1396
         },
         {
          "0": "Manhattan",
          "1": " West Village",
          "index": 1397
         },
         {
          "0": "Manhattan",
          "1": " East Village",
          "index": 1398
         },
         {
          "0": "Brooklyn",
          "1": " Williamsburg",
          "index": 1399
         },
         {
          "0": "Brooklyn",
          "1": " Bushwick",
          "index": 1400
         },
         {
          "0": "Brooklyn",
          "1": " Borough Park",
          "index": 1401
         },
         {
          "0": "Brooklyn",
          "1": " Bedford-Stuyvesant",
          "index": 1402
         },
         {
          "0": "Brooklyn",
          "1": " Cobble Hill",
          "index": 1403
         },
         {
          "0": "Brooklyn",
          "1": " Crown Heights",
          "index": 1404
         },
         {
          "0": "Bronx",
          "1": " Concourse Village",
          "index": 1405
         },
         {
          "0": "Brooklyn",
          "1": " Bushwick",
          "index": 1406
         },
         {
          "0": "Queens",
          "1": " Sunnyside",
          "index": 1407
         },
         {
          "0": "Brooklyn",
          "1": " Bedford-Stuyvesant",
          "index": 1408
         },
         {
          "0": "Brooklyn",
          "1": " Fort Greene",
          "index": 1409
         },
         {
          "0": "Manhattan",
          "1": " Upper East Side",
          "index": 1410
         },
         {
          "0": "Queens",
          "1": " Sunnyside",
          "index": 1411
         },
         {
          "0": "Manhattan",
          "1": " Kips Bay",
          "index": 1412
         },
         {
          "0": "Brooklyn",
          "1": " Flatlands",
          "index": 1413
         },
         {
          "0": "Brooklyn",
          "1": " Crown Heights",
          "index": 1414
         },
         {
          "0": "Manhattan",
          "1": " Chelsea",
          "index": 1415
         },
         {
          "0": "Manhattan",
          "1": " East Village",
          "index": 1416
         },
         {
          "0": "Manhattan",
          "1": " Flatiron District",
          "index": 1417
         },
         {
          "0": "Brooklyn",
          "1": " Bushwick",
          "index": 1418
         },
         {
          "0": "Brooklyn",
          "1": " Bay Ridge",
          "index": 1419
         },
         {
          "0": "Brooklyn",
          "1": " Williamsburg",
          "index": 1420
         },
         {
          "0": "Brooklyn",
          "1": " Canarsie",
          "index": 1421
         },
         {
          "0": "Brooklyn",
          "1": " Bedford-Stuyvesant",
          "index": 1422
         },
         {
          "0": "Manhattan",
          "1": " Chelsea",
          "index": 1423
         },
         {
          "0": "Manhattan",
          "1": " Upper West Side",
          "index": 1424
         },
         {
          "0": "Queens",
          "1": " Bayside",
          "index": 1425
         },
         {
          "0": "Manhattan",
          "1": " East Harlem",
          "index": 1426
         },
         {
          "0": "Brooklyn",
          "1": " Brighton Beach",
          "index": 1427
         },
         {
          "0": "Brooklyn",
          "1": " Williamsburg",
          "index": 1428
         },
         {
          "0": "Manhattan",
          "1": " SoHo",
          "index": 1429
         },
         {
          "0": "Brooklyn",
          "1": " Fort Greene",
          "index": 1430
         },
         {
          "0": "Brooklyn",
          "1": " Bedford-Stuyvesant",
          "index": 1431
         },
         {
          "0": "Brooklyn",
          "1": " Clinton Hill",
          "index": 1432
         },
         {
          "0": "Queens",
          "1": " Astoria",
          "index": 1433
         },
         {
          "0": "Manhattan",
          "1": " Hell's Kitchen",
          "index": 1434
         },
         {
          "0": "Manhattan",
          "1": " Upper East Side",
          "index": 1435
         },
         {
          "0": "Manhattan",
          "1": " Harlem",
          "index": 1436
         },
         {
          "0": "Manhattan",
          "1": " Financial District",
          "index": 1437
         },
         {
          "0": "Brooklyn",
          "1": " Greenpoint",
          "index": 1438
         },
         {
          "0": "Brooklyn",
          "1": " Williamsburg",
          "index": 1439
         },
         {
          "0": "Brooklyn",
          "1": " Greenpoint",
          "index": 1440
         },
         {
          "0": "Brooklyn",
          "1": " East Flatbush",
          "index": 1441
         },
         {
          "0": "Brooklyn",
          "1": " Bedford-Stuyvesant",
          "index": 1442
         },
         {
          "0": "Manhattan",
          "1": " Hell's Kitchen",
          "index": 1443
         },
         {
          "0": "Brooklyn",
          "1": " Williamsburg",
          "index": 1444
         },
         {
          "0": "Queens",
          "1": " Hollis",
          "index": 1445
         },
         {
          "0": "Brooklyn",
          "1": " Bedford-Stuyvesant",
          "index": 1446
         },
         {
          "0": "Brooklyn",
          "1": " Park Slope",
          "index": 1447
         },
         {
          "0": "Brooklyn",
          "1": " Williamsburg",
          "index": 1448
         },
         {
          "0": "Brooklyn",
          "1": " Park Slope",
          "index": 1449
         },
         {
          "0": "Brooklyn",
          "1": " South Slope",
          "index": 1450
         },
         {
          "0": "Brooklyn",
          "1": " Canarsie",
          "index": 1451
         },
         {
          "0": "Manhattan",
          "1": " Chelsea",
          "index": 1452
         },
         {
          "0": "Brooklyn",
          "1": " Bushwick",
          "index": 1453
         },
         {
          "0": "Manhattan",
          "1": " Harlem",
          "index": 1454
         },
         {
          "0": "Manhattan",
          "1": " Upper West Side",
          "index": 1455
         },
         {
          "0": "Manhattan",
          "1": " Midtown",
          "index": 1456
         },
         {
          "0": "Brooklyn",
          "1": " Prospect-Lefferts Gardens",
          "index": 1457
         },
         {
          "0": "Queens",
          "1": " St. Albans",
          "index": 1458
         },
         {
          "0": "Brooklyn",
          "1": " East New York",
          "index": 1459
         },
         {
          "0": "Brooklyn",
          "1": " Bushwick",
          "index": 1460
         },
         {
          "0": "Brooklyn",
          "1": " Bedford-Stuyvesant",
          "index": 1461
         },
         {
          "0": "Bronx",
          "1": " Pelham Gardens",
          "index": 1462
         },
         {
          "0": "Brooklyn",
          "1": " East New York",
          "index": 1463
         },
         {
          "0": "Manhattan",
          "1": " Midtown",
          "index": 1464
         },
         {
          "0": "Manhattan",
          "1": " Harlem",
          "index": 1465
         },
         {
          "0": "Manhattan",
          "1": " Upper East Side",
          "index": 1466
         },
         {
          "0": "Manhattan",
          "1": " Upper East Side",
          "index": 1467
         },
         {
          "0": "Brooklyn",
          "1": " Bedford-Stuyvesant",
          "index": 1468
         },
         {
          "0": "Brooklyn",
          "1": " Williamsburg",
          "index": 1469
         },
         {
          "0": "Bronx",
          "1": " Westchester Square",
          "index": 1470
         },
         {
          "0": "Manhattan",
          "1": " Upper East Side",
          "index": 1471
         },
         {
          "0": "Brooklyn",
          "1": " Williamsburg",
          "index": 1472
         },
         {
          "0": "Manhattan",
          "1": " East Village",
          "index": 1473
         },
         {
          "0": "Manhattan",
          "1": " East Harlem",
          "index": 1474
         },
         {
          "0": "Queens",
          "1": " Flushing",
          "index": 1475
         },
         {
          "0": "Brooklyn",
          "1": " Williamsburg",
          "index": 1476
         },
         {
          "0": "Queens",
          "1": " Ridgewood",
          "index": 1477
         },
         {
          "0": "Manhattan",
          "1": " Greenwich Village",
          "index": 1478
         },
         {
          "0": "Manhattan",
          "1": " Greenwich Village",
          "index": 1479
         },
         {
          "0": "Manhattan",
          "1": " Hell's Kitchen",
          "index": 1480
         },
         {
          "0": "Brooklyn",
          "1": " Bedford-Stuyvesant",
          "index": 1481
         },
         {
          "0": "Manhattan",
          "1": " Kips Bay",
          "index": 1482
         },
         {
          "0": "Brooklyn",
          "1": " Clinton Hill",
          "index": 1483
         },
         {
          "0": "Manhattan",
          "1": " Upper East Side",
          "index": 1484
         },
         {
          "0": "Brooklyn",
          "1": " Williamsburg",
          "index": 1485
         },
         {
          "0": "Manhattan",
          "1": " Financial District",
          "index": 1486
         },
         {
          "0": "Queens",
          "1": " East Elmhurst",
          "index": 1487
         },
         {
          "0": "Brooklyn",
          "1": " South Slope",
          "index": 1488
         },
         {
          "0": "Brooklyn",
          "1": " Bedford-Stuyvesant",
          "index": 1489
         },
         {
          "0": "Staten Island",
          "1": " Arrochar",
          "index": 1490
         },
         {
          "0": "Brooklyn",
          "1": " Bedford-Stuyvesant",
          "index": 1491
         },
         {
          "0": "Manhattan",
          "1": " SoHo",
          "index": 1492
         },
         {
          "0": "Manhattan",
          "1": " Upper West Side",
          "index": 1493
         },
         {
          "0": "Manhattan",
          "1": " Tribeca",
          "index": 1494
         },
         {
          "0": "Brooklyn",
          "1": " Crown Heights",
          "index": 1495
         },
         {
          "0": "Brooklyn",
          "1": " Williamsburg",
          "index": 1496
         },
         {
          "0": "Queens",
          "1": " Edgemere",
          "index": 1497
         },
         {
          "0": "Brooklyn",
          "1": " Bedford-Stuyvesant",
          "index": 1498
         },
         {
          "0": "Brooklyn",
          "1": " Clinton Hill",
          "index": 1499
         },
         {
          "0": "Brooklyn",
          "1": " Bedford-Stuyvesant",
          "index": 1500
         },
         {
          "0": "Manhattan",
          "1": " West Village",
          "index": 1501
         },
         {
          "0": "Brooklyn",
          "1": " East Flatbush",
          "index": 1502
         },
         {
          "0": "Manhattan",
          "1": " West Village",
          "index": 1503
         },
         {
          "0": "Brooklyn",
          "1": " Clinton Hill",
          "index": 1504
         },
         {
          "0": "Brooklyn",
          "1": " Fort Greene",
          "index": 1505
         },
         {
          "0": "Manhattan",
          "1": " Harlem",
          "index": 1506
         },
         {
          "0": "Brooklyn",
          "1": " Cypress Hills",
          "index": 1507
         },
         {
          "0": "Manhattan",
          "1": " East Village",
          "index": 1508
         },
         {
          "0": "Manhattan",
          "1": " East Village",
          "index": 1509
         },
         {
          "0": "Manhattan",
          "1": " Harlem",
          "index": 1510
         },
         {
          "0": "Queens",
          "1": " Jackson Heights",
          "index": 1511
         },
         {
          "0": "Bronx",
          "1": " Wakefield",
          "index": 1512
         },
         {
          "0": "Brooklyn",
          "1": " Bedford-Stuyvesant",
          "index": 1513
         },
         {
          "0": "Queens",
          "1": " Long Island City",
          "index": 1514
         },
         {
          "0": "Brooklyn",
          "1": " Brighton Beach",
          "index": 1515
         },
         {
          "0": "Manhattan",
          "1": " West Village",
          "index": 1516
         },
         {
          "0": "Brooklyn",
          "1": " Williamsburg",
          "index": 1517
         },
         {
          "0": "Brooklyn",
          "1": " Williamsburg",
          "index": 1518
         },
         {
          "0": "Manhattan",
          "1": " Chelsea",
          "index": 1519
         },
         {
          "0": "Queens",
          "1": " Sunnyside",
          "index": 1520
         },
         {
          "0": "Brooklyn",
          "1": " Sunset Park",
          "index": 1521
         },
         {
          "0": "Brooklyn",
          "1": " Downtown Brooklyn",
          "index": 1522
         },
         {
          "0": "Manhattan",
          "1": " Lower East Side",
          "index": 1523
         },
         {
          "0": "Bronx",
          "1": " Pelham Gardens",
          "index": 1524
         },
         {
          "0": "Brooklyn",
          "1": " Bedford-Stuyvesant",
          "index": 1525
         },
         {
          "0": "Manhattan",
          "1": " Chinatown",
          "index": 1526
         },
         {
          "0": "Manhattan",
          "1": " Upper West Side",
          "index": 1527
         },
         {
          "0": "Manhattan",
          "1": " West Village",
          "index": 1528
         },
         {
          "0": "Brooklyn",
          "1": " Greenpoint",
          "index": 1529
         },
         {
          "0": "Brooklyn",
          "1": " Williamsburg",
          "index": 1530
         },
         {
          "0": "Manhattan",
          "1": " Harlem",
          "index": 1531
         },
         {
          "0": "Manhattan",
          "1": " Harlem",
          "index": 1532
         },
         {
          "0": "Manhattan",
          "1": " West Village",
          "index": 1533
         },
         {
          "0": "Manhattan",
          "1": " Hell's Kitchen",
          "index": 1534
         },
         {
          "0": "Brooklyn",
          "1": " Williamsburg",
          "index": 1535
         },
         {
          "0": "Queens",
          "1": " Forest Hills",
          "index": 1536
         },
         {
          "0": "Brooklyn",
          "1": " Crown Heights",
          "index": 1537
         },
         {
          "0": "Brooklyn",
          "1": " Park Slope",
          "index": 1538
         },
         {
          "0": "Manhattan",
          "1": " Chelsea",
          "index": 1539
         },
         {
          "0": "Queens",
          "1": " Sunnyside",
          "index": 1540
         },
         {
          "0": "Manhattan",
          "1": " Harlem",
          "index": 1541
         },
         {
          "0": "Manhattan",
          "1": " Upper East Side",
          "index": 1542
         },
         {
          "0": "Manhattan",
          "1": " SoHo",
          "index": 1543
         },
         {
          "0": "Brooklyn",
          "1": " Bedford-Stuyvesant",
          "index": 1544
         },
         {
          "0": "Manhattan",
          "1": " Harlem",
          "index": 1545
         },
         {
          "0": "Manhattan",
          "1": " Harlem",
          "index": 1546
         },
         {
          "0": "Brooklyn",
          "1": " Clinton Hill",
          "index": 1547
         },
         {
          "0": "Manhattan",
          "1": " Upper West Side",
          "index": 1548
         },
         {
          "0": "Manhattan",
          "1": " Chelsea",
          "index": 1549
         },
         {
          "0": "Manhattan",
          "1": " Harlem",
          "index": 1550
         },
         {
          "0": "Manhattan",
          "1": " East Village",
          "index": 1551
         },
         {
          "0": "Manhattan",
          "1": " Kips Bay",
          "index": 1552
         },
         {
          "0": "Brooklyn",
          "1": " Greenpoint",
          "index": 1553
         },
         {
          "0": "Brooklyn",
          "1": " Crown Heights",
          "index": 1554
         },
         {
          "0": "Manhattan",
          "1": " Midtown",
          "index": 1555
         },
         {
          "0": "Brooklyn",
          "1": " Sheepshead Bay",
          "index": 1556
         },
         {
          "0": "Manhattan",
          "1": " Upper East Side",
          "index": 1557
         },
         {
          "0": "Manhattan",
          "1": " West Village",
          "index": 1558
         },
         {
          "0": "Brooklyn",
          "1": " Gravesend",
          "index": 1559
         },
         {
          "0": "Brooklyn",
          "1": " Williamsburg",
          "index": 1560
         },
         {
          "0": "Manhattan",
          "1": " East Harlem",
          "index": 1561
         },
         {
          "0": "Brooklyn",
          "1": " Bedford-Stuyvesant",
          "index": 1562
         },
         {
          "0": "Manhattan",
          "1": " Harlem",
          "index": 1563
         },
         {
          "0": "Brooklyn",
          "1": " Williamsburg",
          "index": 1564
         },
         {
          "0": "Brooklyn",
          "1": " Bushwick",
          "index": 1565
         },
         {
          "0": "Manhattan",
          "1": " East Village",
          "index": 1566
         },
         {
          "0": "Manhattan",
          "1": " Chinatown",
          "index": 1567
         },
         {
          "0": "Brooklyn",
          "1": " Bedford-Stuyvesant",
          "index": 1568
         },
         {
          "0": "Brooklyn",
          "1": " Clinton Hill",
          "index": 1569
         },
         {
          "0": "Manhattan",
          "1": " East Village",
          "index": 1570
         },
         {
          "0": "Queens",
          "1": " Ditmars Steinway",
          "index": 1571
         },
         {
          "0": "Brooklyn",
          "1": " South Slope",
          "index": 1572
         },
         {
          "0": "Manhattan",
          "1": " Morningside Heights",
          "index": 1573
         },
         {
          "0": "Brooklyn",
          "1": " Flatbush",
          "index": 1574
         },
         {
          "0": "Brooklyn",
          "1": " Bushwick",
          "index": 1575
         },
         {
          "0": "Manhattan",
          "1": " Midtown",
          "index": 1576
         },
         {
          "0": "Manhattan",
          "1": " Theater District",
          "index": 1577
         },
         {
          "0": "Manhattan",
          "1": " Murray Hill",
          "index": 1578
         },
         {
          "0": "Manhattan",
          "1": " SoHo",
          "index": 1579
         },
         {
          "0": "Manhattan",
          "1": " Chinatown",
          "index": 1580
         },
         {
          "0": "Brooklyn",
          "1": " Brooklyn Heights",
          "index": 1581
         },
         {
          "0": "Brooklyn",
          "1": " Bedford-Stuyvesant",
          "index": 1582
         },
         {
          "0": "Brooklyn",
          "1": " East Flatbush",
          "index": 1583
         },
         {
          "0": "Brooklyn",
          "1": " Crown Heights",
          "index": 1584
         },
         {
          "0": "Manhattan",
          "1": " Harlem",
          "index": 1585
         },
         {
          "0": "Manhattan",
          "1": " Kips Bay",
          "index": 1586
         },
         {
          "0": "Manhattan",
          "1": " Little Italy",
          "index": 1587
         },
         {
          "0": "Manhattan",
          "1": " Harlem",
          "index": 1588
         },
         {
          "0": "Queens",
          "1": " Rosedale",
          "index": 1589
         },
         {
          "0": "Manhattan",
          "1": " Hell's Kitchen",
          "index": 1590
         },
         {
          "0": "Brooklyn",
          "1": " Flatbush",
          "index": 1591
         },
         {
          "0": "Brooklyn",
          "1": " Prospect-Lefferts Gardens",
          "index": 1592
         },
         {
          "0": "Manhattan",
          "1": " Chelsea",
          "index": 1593
         },
         {
          "0": "Brooklyn",
          "1": " Dyker Heights",
          "index": 1594
         },
         {
          "0": "Manhattan",
          "1": " East Harlem",
          "index": 1595
         },
         {
          "0": "Manhattan",
          "1": " Upper West Side",
          "index": 1596
         },
         {
          "0": "Queens",
          "1": " Ditmars Steinway",
          "index": 1597
         },
         {
          "0": "Queens",
          "1": " Astoria",
          "index": 1598
         },
         {
          "0": "Manhattan",
          "1": " Murray Hill",
          "index": 1599
         },
         {
          "0": "Brooklyn",
          "1": " Crown Heights",
          "index": 1600
         },
         {
          "0": "Queens",
          "1": " Springfield Gardens",
          "index": 1601
         },
         {
          "0": "Brooklyn",
          "1": " Williamsburg",
          "index": 1602
         },
         {
          "0": "Manhattan",
          "1": " Upper West Side",
          "index": 1603
         },
         {
          "0": "Manhattan",
          "1": " Hell's Kitchen",
          "index": 1604
         },
         {
          "0": "Brooklyn",
          "1": " Prospect-Lefferts Gardens",
          "index": 1605
         },
         {
          "0": "Brooklyn",
          "1": " Bedford-Stuyvesant",
          "index": 1606
         },
         {
          "0": "Brooklyn",
          "1": " Bedford-Stuyvesant",
          "index": 1607
         },
         {
          "0": "Manhattan",
          "1": " East Harlem",
          "index": 1608
         },
         {
          "0": "Queens",
          "1": " Ridgewood",
          "index": 1609
         },
         {
          "0": "Manhattan",
          "1": " Murray Hill",
          "index": 1610
         },
         {
          "0": "Queens",
          "1": " Rosedale",
          "index": 1611
         },
         {
          "0": "Queens",
          "1": " St. Albans",
          "index": 1612
         },
         {
          "0": "Brooklyn",
          "1": " Prospect-Lefferts Gardens",
          "index": 1613
         },
         {
          "0": "Manhattan",
          "1": " Upper West Side",
          "index": 1614
         },
         {
          "0": "Brooklyn",
          "1": " Crown Heights",
          "index": 1615
         },
         {
          "0": "Manhattan",
          "1": " Upper West Side",
          "index": 1616
         },
         {
          "0": "Manhattan",
          "1": " Upper East Side",
          "index": 1617
         },
         {
          "0": "Brooklyn",
          "1": " Williamsburg",
          "index": 1618
         },
         {
          "0": "Manhattan",
          "1": " Upper West Side",
          "index": 1619
         },
         {
          "0": "Queens",
          "1": " Long Island City",
          "index": 1620
         },
         {
          "0": "Bronx",
          "1": " Mount Eden",
          "index": 1621
         },
         {
          "0": "Brooklyn",
          "1": " Bushwick",
          "index": 1622
         },
         {
          "0": "Manhattan",
          "1": " Harlem",
          "index": 1623
         },
         {
          "0": "Queens",
          "1": " Ridgewood",
          "index": 1624
         },
         {
          "0": "Brooklyn",
          "1": " Williamsburg",
          "index": 1625
         },
         {
          "0": "Manhattan",
          "1": " Upper West Side",
          "index": 1626
         },
         {
          "0": "Manhattan",
          "1": " Morningside Heights",
          "index": 1627
         },
         {
          "0": "Manhattan",
          "1": " Nolita",
          "index": 1628
         },
         {
          "0": "Bronx",
          "1": " Wakefield",
          "index": 1629
         },
         {
          "0": "Brooklyn",
          "1": " Williamsburg",
          "index": 1630
         },
         {
          "0": "Brooklyn",
          "1": " Flatbush",
          "index": 1631
         },
         {
          "0": "Queens",
          "1": " Woodside",
          "index": 1632
         },
         {
          "0": "Manhattan",
          "1": " Harlem",
          "index": 1633
         },
         {
          "0": "Bronx",
          "1": " Kingsbridge",
          "index": 1634
         },
         {
          "0": "Manhattan",
          "1": " Upper West Side",
          "index": 1635
         },
         {
          "0": "Brooklyn",
          "1": " Bedford-Stuyvesant",
          "index": 1636
         },
         {
          "0": "Brooklyn",
          "1": " Williamsburg",
          "index": 1637
         },
         {
          "0": "Manhattan",
          "1": " Harlem",
          "index": 1638
         },
         {
          "0": "Brooklyn",
          "1": " Bedford-Stuyvesant",
          "index": 1639
         },
         {
          "0": "Queens",
          "1": " Forest Hills",
          "index": 1640
         },
         {
          "0": "Manhattan",
          "1": " SoHo",
          "index": 1641
         },
         {
          "0": "Brooklyn",
          "1": " Bedford-Stuyvesant",
          "index": 1642
         },
         {
          "0": "Queens",
          "1": " Woodside",
          "index": 1643
         },
         {
          "0": "Queens",
          "1": " Jackson Heights",
          "index": 1644
         },
         {
          "0": "Manhattan",
          "1": " East Village",
          "index": 1645
         },
         {
          "0": "Brooklyn",
          "1": " Williamsburg",
          "index": 1646
         },
         {
          "0": "Manhattan",
          "1": " Chelsea",
          "index": 1647
         },
         {
          "0": "Brooklyn",
          "1": " Bedford-Stuyvesant",
          "index": 1648
         },
         {
          "0": "Brooklyn",
          "1": " Bushwick",
          "index": 1649
         },
         {
          "0": "Queens",
          "1": " Glendale",
          "index": 1650
         },
         {
          "0": "Brooklyn",
          "1": " Williamsburg",
          "index": 1651
         },
         {
          "0": "Brooklyn",
          "1": " Bushwick",
          "index": 1652
         },
         {
          "0": "Queens",
          "1": " Astoria",
          "index": 1653
         },
         {
          "0": "Brooklyn",
          "1": " Bedford-Stuyvesant",
          "index": 1654
         },
         {
          "0": "Queens",
          "1": " Bayside",
          "index": 1655
         },
         {
          "0": "Brooklyn",
          "1": " Midwood",
          "index": 1656
         },
         {
          "0": "Brooklyn",
          "1": " Williamsburg",
          "index": 1657
         },
         {
          "0": "Brooklyn",
          "1": " Greenpoint",
          "index": 1658
         },
         {
          "0": "Brooklyn",
          "1": " Clinton Hill",
          "index": 1659
         },
         {
          "0": "Manhattan",
          "1": " East Harlem",
          "index": 1660
         },
         {
          "0": "Manhattan",
          "1": " Lower East Side",
          "index": 1661
         },
         {
          "0": "Staten Island",
          "1": " Randall Manor",
          "index": 1662
         },
         {
          "0": "Brooklyn",
          "1": " Williamsburg",
          "index": 1663
         },
         {
          "0": "Brooklyn",
          "1": " Bay Ridge",
          "index": 1664
         },
         {
          "0": "Brooklyn",
          "1": " Clinton Hill",
          "index": 1665
         },
         {
          "0": "Queens",
          "1": " Woodside",
          "index": 1666
         },
         {
          "0": "Brooklyn",
          "1": " Williamsburg",
          "index": 1667
         },
         {
          "0": "Brooklyn",
          "1": " Williamsburg",
          "index": 1668
         },
         {
          "0": "Brooklyn",
          "1": " Fort Greene",
          "index": 1669
         },
         {
          "0": "Manhattan",
          "1": " West Village",
          "index": 1670
         },
         {
          "0": "Manhattan",
          "1": " Washington Heights",
          "index": 1671
         },
         {
          "0": "Manhattan",
          "1": " Hell's Kitchen",
          "index": 1672
         },
         {
          "0": "Manhattan",
          "1": " Midtown",
          "index": 1673
         },
         {
          "0": "Manhattan",
          "1": " Roosevelt Island",
          "index": 1674
         },
         {
          "0": "Brooklyn",
          "1": " East Flatbush",
          "index": 1675
         },
         {
          "0": "Manhattan",
          "1": " Morningside Heights",
          "index": 1676
         },
         {
          "0": "Queens",
          "1": " Woodside",
          "index": 1677
         },
         {
          "0": "Brooklyn",
          "1": " Bensonhurst",
          "index": 1678
         },
         {
          "0": "Queens",
          "1": " Rosedale",
          "index": 1679
         },
         {
          "0": "Brooklyn",
          "1": " Cobble Hill",
          "index": 1680
         },
         {
          "0": "Brooklyn",
          "1": " Park Slope",
          "index": 1681
         },
         {
          "0": "Manhattan",
          "1": " Chelsea",
          "index": 1682
         },
         {
          "0": "Manhattan",
          "1": " Harlem",
          "index": 1683
         },
         {
          "0": "Brooklyn",
          "1": " Greenpoint",
          "index": 1684
         },
         {
          "0": "Brooklyn",
          "1": " Cypress Hills",
          "index": 1685
         },
         {
          "0": "Manhattan",
          "1": " Upper West Side",
          "index": 1686
         },
         {
          "0": "Brooklyn",
          "1": " Williamsburg",
          "index": 1687
         },
         {
          "0": "Queens",
          "1": " Ridgewood",
          "index": 1688
         },
         {
          "0": "Manhattan",
          "1": " Upper West Side",
          "index": 1689
         },
         {
          "0": "Manhattan",
          "1": " Morningside Heights",
          "index": 1690
         },
         {
          "0": "Manhattan",
          "1": " Hell's Kitchen",
          "index": 1691
         },
         {
          "0": "Manhattan",
          "1": " Roosevelt Island",
          "index": 1692
         },
         {
          "0": "Manhattan",
          "1": " Chinatown",
          "index": 1693
         },
         {
          "0": "Brooklyn",
          "1": " Bedford-Stuyvesant",
          "index": 1694
         },
         {
          "0": "Brooklyn",
          "1": " Williamsburg",
          "index": 1695
         },
         {
          "0": "Brooklyn",
          "1": " Bedford-Stuyvesant",
          "index": 1696
         },
         {
          "0": "Brooklyn",
          "1": " Williamsburg",
          "index": 1697
         },
         {
          "0": "Queens",
          "1": " East Elmhurst",
          "index": 1698
         },
         {
          "0": "Manhattan",
          "1": " Washington Heights",
          "index": 1699
         },
         {
          "0": "Brooklyn",
          "1": " Park Slope",
          "index": 1700
         },
         {
          "0": "Manhattan",
          "1": " Financial District",
          "index": 1701
         },
         {
          "0": "Brooklyn",
          "1": " Greenpoint",
          "index": 1702
         },
         {
          "0": "Manhattan",
          "1": " Upper East Side",
          "index": 1703
         },
         {
          "0": "Manhattan",
          "1": " Upper West Side",
          "index": 1704
         },
         {
          "0": "Brooklyn",
          "1": " Carroll Gardens",
          "index": 1705
         },
         {
          "0": "Brooklyn",
          "1": " Greenpoint",
          "index": 1706
         },
         {
          "0": "Brooklyn",
          "1": " Prospect Heights",
          "index": 1707
         },
         {
          "0": "Queens",
          "1": " Jackson Heights",
          "index": 1708
         },
         {
          "0": "Manhattan",
          "1": " Upper West Side",
          "index": 1709
         },
         {
          "0": "Manhattan",
          "1": " Chinatown",
          "index": 1710
         },
         {
          "0": "Manhattan",
          "1": " Little Italy",
          "index": 1711
         },
         {
          "0": "Manhattan",
          "1": " Harlem",
          "index": 1712
         },
         {
          "0": "Brooklyn",
          "1": " Gowanus",
          "index": 1713
         },
         {
          "0": "Manhattan",
          "1": " Upper East Side",
          "index": 1714
         },
         {
          "0": "Brooklyn",
          "1": " Fort Greene",
          "index": 1715
         },
         {
          "0": "Manhattan",
          "1": " East Harlem",
          "index": 1716
         },
         {
          "0": "Manhattan",
          "1": " Chinatown",
          "index": 1717
         },
         {
          "0": "Manhattan",
          "1": " Hell's Kitchen",
          "index": 1718
         },
         {
          "0": "Brooklyn",
          "1": " Boerum Hill",
          "index": 1719
         },
         {
          "0": "Brooklyn",
          "1": " Bedford-Stuyvesant",
          "index": 1720
         },
         {
          "0": "Manhattan",
          "1": " Harlem",
          "index": 1721
         },
         {
          "0": "Brooklyn",
          "1": " Bedford-Stuyvesant",
          "index": 1722
         },
         {
          "0": "Manhattan",
          "1": " Harlem",
          "index": 1723
         },
         {
          "0": "Queens",
          "1": " Ridgewood",
          "index": 1724
         },
         {
          "0": "Brooklyn",
          "1": " Williamsburg",
          "index": 1725
         },
         {
          "0": "Queens",
          "1": " Jackson Heights",
          "index": 1726
         },
         {
          "0": "Manhattan",
          "1": " Harlem",
          "index": 1727
         },
         {
          "0": "Manhattan",
          "1": " Harlem",
          "index": 1728
         },
         {
          "0": "Queens",
          "1": " Jamaica Hills",
          "index": 1729
         },
         {
          "0": "Brooklyn",
          "1": " Williamsburg",
          "index": 1730
         },
         {
          "0": "Brooklyn",
          "1": " Bedford-Stuyvesant",
          "index": 1731
         },
         {
          "0": "Brooklyn",
          "1": " Bedford-Stuyvesant",
          "index": 1732
         },
         {
          "0": "Queens",
          "1": " Ridgewood",
          "index": 1733
         },
         {
          "0": "Manhattan",
          "1": " East Village",
          "index": 1734
         },
         {
          "0": "Manhattan",
          "1": " Midtown",
          "index": 1735
         },
         {
          "0": "Queens",
          "1": " Ridgewood",
          "index": 1736
         },
         {
          "0": "Brooklyn",
          "1": " Williamsburg",
          "index": 1737
         },
         {
          "0": "Brooklyn",
          "1": " East Flatbush",
          "index": 1738
         },
         {
          "0": "Brooklyn",
          "1": " Flatbush",
          "index": 1739
         },
         {
          "0": "Manhattan",
          "1": " Chelsea",
          "index": 1740
         },
         {
          "0": "Bronx",
          "1": " Mott Haven",
          "index": 1741
         },
         {
          "0": "Manhattan",
          "1": " Upper East Side",
          "index": 1742
         },
         {
          "0": "Manhattan",
          "1": " Kips Bay",
          "index": 1743
         },
         {
          "0": "Manhattan",
          "1": " Financial District",
          "index": 1744
         },
         {
          "0": "Queens",
          "1": " Ditmars Steinway",
          "index": 1745
         },
         {
          "0": "Brooklyn",
          "1": " East Flatbush",
          "index": 1746
         },
         {
          "0": "Brooklyn",
          "1": " Bedford-Stuyvesant",
          "index": 1747
         },
         {
          "0": "Brooklyn",
          "1": " Flatbush",
          "index": 1748
         },
         {
          "0": "Manhattan",
          "1": " Upper West Side",
          "index": 1749
         },
         {
          "0": "Brooklyn",
          "1": " Crown Heights",
          "index": 1750
         },
         {
          "0": "Brooklyn",
          "1": " Greenpoint",
          "index": 1751
         },
         {
          "0": "Brooklyn",
          "1": " East New York",
          "index": 1752
         },
         {
          "0": "Queens",
          "1": " Astoria",
          "index": 1753
         },
         {
          "0": "Manhattan",
          "1": " Lower East Side",
          "index": 1754
         },
         {
          "0": "Manhattan",
          "1": " Harlem",
          "index": 1755
         },
         {
          "0": "Queens",
          "1": " Glendale",
          "index": 1756
         },
         {
          "0": "Queens",
          "1": " Astoria",
          "index": 1757
         },
         {
          "0": "Manhattan",
          "1": " East Harlem",
          "index": 1758
         },
         {
          "0": "Brooklyn",
          "1": " Crown Heights",
          "index": 1759
         },
         {
          "0": "Manhattan",
          "1": " Chelsea",
          "index": 1760
         },
         {
          "0": "Brooklyn",
          "1": " Clinton Hill",
          "index": 1761
         },
         {
          "0": "Brooklyn",
          "1": " Williamsburg",
          "index": 1762
         },
         {
          "0": "Manhattan",
          "1": " Harlem",
          "index": 1763
         },
         {
          "0": "Manhattan",
          "1": " Upper West Side",
          "index": 1764
         },
         {
          "0": "Brooklyn",
          "1": " Flatbush",
          "index": 1765
         },
         {
          "0": "Brooklyn",
          "1": " Bay Ridge",
          "index": 1766
         },
         {
          "0": "Brooklyn",
          "1": " Bedford-Stuyvesant",
          "index": 1767
         },
         {
          "0": "Manhattan",
          "1": " Murray Hill",
          "index": 1768
         },
         {
          "0": "Manhattan",
          "1": " East Harlem",
          "index": 1769
         },
         {
          "0": "Brooklyn",
          "1": " Bedford-Stuyvesant",
          "index": 1770
         },
         {
          "0": "Manhattan",
          "1": " West Village",
          "index": 1771
         },
         {
          "0": "Brooklyn",
          "1": " Bushwick",
          "index": 1772
         },
         {
          "0": "Manhattan",
          "1": " East Village",
          "index": 1773
         },
         {
          "0": "Manhattan",
          "1": " Harlem",
          "index": 1774
         },
         {
          "0": "Brooklyn",
          "1": " Fort Greene",
          "index": 1775
         },
         {
          "0": "Manhattan",
          "1": " Upper West Side",
          "index": 1776
         },
         {
          "0": "Bronx",
          "1": " Allerton",
          "index": 1777
         },
         {
          "0": "Manhattan",
          "1": " West Village",
          "index": 1778
         },
         {
          "0": "Manhattan",
          "1": " Upper West Side",
          "index": 1779
         },
         {
          "0": "Brooklyn",
          "1": " Clinton Hill",
          "index": 1780
         },
         {
          "0": "Manhattan",
          "1": " Kips Bay",
          "index": 1781
         },
         {
          "0": "Brooklyn",
          "1": " Williamsburg",
          "index": 1782
         },
         {
          "0": "Brooklyn",
          "1": " Bedford-Stuyvesant",
          "index": 1783
         },
         {
          "0": "Brooklyn",
          "1": " Bushwick",
          "index": 1784
         },
         {
          "0": "Manhattan",
          "1": " Upper West Side",
          "index": 1785
         },
         {
          "0": "Brooklyn",
          "1": " Sheepshead Bay",
          "index": 1786
         },
         {
          "0": "Brooklyn",
          "1": " Bedford-Stuyvesant",
          "index": 1787
         },
         {
          "0": "Brooklyn",
          "1": " Crown Heights",
          "index": 1788
         },
         {
          "0": "Brooklyn",
          "1": " Bedford-Stuyvesant",
          "index": 1789
         },
         {
          "0": "Manhattan",
          "1": " Lower East Side",
          "index": 1790
         },
         {
          "0": "Manhattan",
          "1": " Greenwich Village",
          "index": 1791
         },
         {
          "0": "Queens",
          "1": " Astoria",
          "index": 1792
         },
         {
          "0": "Queens",
          "1": " Long Island City",
          "index": 1793
         },
         {
          "0": "Manhattan",
          "1": " Murray Hill",
          "index": 1794
         },
         {
          "0": "Manhattan",
          "1": " Harlem",
          "index": 1795
         },
         {
          "0": "Manhattan",
          "1": " Harlem",
          "index": 1796
         },
         {
          "0": "Brooklyn",
          "1": " Williamsburg",
          "index": 1797
         },
         {
          "0": "Manhattan",
          "1": " Washington Heights",
          "index": 1798
         },
         {
          "0": "Bronx",
          "1": " Wakefield",
          "index": 1799
         },
         {
          "0": "Manhattan",
          "1": " Harlem",
          "index": 1800
         },
         {
          "0": "Brooklyn",
          "1": " Midwood",
          "index": 1801
         },
         {
          "0": "Manhattan",
          "1": " Harlem",
          "index": 1802
         },
         {
          "0": "Manhattan",
          "1": " Upper East Side",
          "index": 1803
         },
         {
          "0": "Brooklyn",
          "1": " Bedford-Stuyvesant",
          "index": 1804
         },
         {
          "0": "Manhattan",
          "1": " Upper East Side",
          "index": 1805
         },
         {
          "0": "Brooklyn",
          "1": " Bedford-Stuyvesant",
          "index": 1806
         },
         {
          "0": "Brooklyn",
          "1": " Williamsburg",
          "index": 1807
         },
         {
          "0": "Brooklyn",
          "1": " Fort Greene",
          "index": 1808
         },
         {
          "0": "Manhattan",
          "1": " Upper West Side",
          "index": 1809
         },
         {
          "0": "Queens",
          "1": " Glendale",
          "index": 1810
         },
         {
          "0": "Brooklyn",
          "1": " Bensonhurst",
          "index": 1811
         },
         {
          "0": "Brooklyn",
          "1": " Williamsburg",
          "index": 1812
         },
         {
          "0": "Bronx",
          "1": " Throgs Neck",
          "index": 1813
         },
         {
          "0": "Manhattan",
          "1": " Harlem",
          "index": 1814
         },
         {
          "0": "Brooklyn",
          "1": " Williamsburg",
          "index": 1815
         },
         {
          "0": "Manhattan",
          "1": " Upper East Side",
          "index": 1816
         },
         {
          "0": "Brooklyn",
          "1": " Gowanus",
          "index": 1817
         },
         {
          "0": "Queens",
          "1": " Astoria",
          "index": 1818
         },
         {
          "0": "Manhattan",
          "1": " Harlem",
          "index": 1819
         },
         {
          "0": "Brooklyn",
          "1": " Flatbush",
          "index": 1820
         },
         {
          "0": "Manhattan",
          "1": " Lower East Side",
          "index": 1821
         },
         {
          "0": "Manhattan",
          "1": " Midtown",
          "index": 1822
         },
         {
          "0": "Bronx",
          "1": " Norwood",
          "index": 1823
         },
         {
          "0": "Brooklyn",
          "1": " Fort Greene",
          "index": 1824
         },
         {
          "0": "Bronx",
          "1": " Belmont",
          "index": 1825
         },
         {
          "0": "Manhattan",
          "1": " Chelsea",
          "index": 1826
         },
         {
          "0": "Manhattan",
          "1": " Chelsea",
          "index": 1827
         },
         {
          "0": "Manhattan",
          "1": " Harlem",
          "index": 1828
         },
         {
          "0": "Brooklyn",
          "1": " Williamsburg",
          "index": 1829
         },
         {
          "0": "Manhattan",
          "1": " Upper West Side",
          "index": 1830
         },
         {
          "0": "Manhattan",
          "1": " Midtown",
          "index": 1831
         },
         {
          "0": "Brooklyn",
          "1": " Bushwick",
          "index": 1832
         },
         {
          "0": "Brooklyn",
          "1": " Williamsburg",
          "index": 1833
         },
         {
          "0": "Brooklyn",
          "1": " Bushwick",
          "index": 1834
         },
         {
          "0": "Manhattan",
          "1": " West Village",
          "index": 1835
         },
         {
          "0": "Manhattan",
          "1": " Harlem",
          "index": 1836
         },
         {
          "0": "Brooklyn",
          "1": " Fort Greene",
          "index": 1837
         },
         {
          "0": "Brooklyn",
          "1": " East Flatbush",
          "index": 1838
         },
         {
          "0": "Manhattan",
          "1": " West Village",
          "index": 1839
         },
         {
          "0": "Brooklyn",
          "1": " Crown Heights",
          "index": 1840
         },
         {
          "0": "Queens",
          "1": " Flushing",
          "index": 1841
         },
         {
          "0": "Queens",
          "1": " Astoria",
          "index": 1842
         },
         {
          "0": "Brooklyn",
          "1": " Bedford-Stuyvesant",
          "index": 1843
         },
         {
          "0": "Brooklyn",
          "1": " Bushwick",
          "index": 1844
         },
         {
          "0": "Queens",
          "1": " Long Island City",
          "index": 1845
         },
         {
          "0": "Manhattan",
          "1": " Upper East Side",
          "index": 1846
         },
         {
          "0": "Manhattan",
          "1": " Upper West Side",
          "index": 1847
         },
         {
          "0": "Queens",
          "1": " St. Albans",
          "index": 1848
         },
         {
          "0": "Brooklyn",
          "1": " Williamsburg",
          "index": 1849
         },
         {
          "0": "Brooklyn",
          "1": " Williamsburg",
          "index": 1850
         },
         {
          "0": "Manhattan",
          "1": " Upper West Side",
          "index": 1851
         },
         {
          "0": "Queens",
          "1": " Arverne",
          "index": 1852
         },
         {
          "0": "Manhattan",
          "1": " Hell's Kitchen",
          "index": 1853
         },
         {
          "0": "Manhattan",
          "1": " Upper East Side",
          "index": 1854
         },
         {
          "0": "Brooklyn",
          "1": " Crown Heights",
          "index": 1855
         },
         {
          "0": "Manhattan",
          "1": " Harlem",
          "index": 1856
         },
         {
          "0": "Brooklyn",
          "1": " Flatbush",
          "index": 1857
         },
         {
          "0": "Brooklyn",
          "1": " Downtown Brooklyn",
          "index": 1858
         },
         {
          "0": "Manhattan",
          "1": " Harlem",
          "index": 1859
         },
         {
          "0": "Brooklyn",
          "1": " Crown Heights",
          "index": 1860
         },
         {
          "0": "Manhattan",
          "1": " Financial District",
          "index": 1861
         },
         {
          "0": "Queens",
          "1": " Astoria",
          "index": 1862
         },
         {
          "0": "Brooklyn",
          "1": " Bushwick",
          "index": 1863
         },
         {
          "0": "Brooklyn",
          "1": " Williamsburg",
          "index": 1864
         },
         {
          "0": "Manhattan",
          "1": " Financial District",
          "index": 1865
         },
         {
          "0": "Manhattan",
          "1": " Harlem",
          "index": 1866
         },
         {
          "0": "Manhattan",
          "1": " Upper East Side",
          "index": 1867
         },
         {
          "0": "Brooklyn",
          "1": " Brighton Beach",
          "index": 1868
         },
         {
          "0": "Brooklyn",
          "1": " Fort Greene",
          "index": 1869
         },
         {
          "0": "Brooklyn",
          "1": " Williamsburg",
          "index": 1870
         },
         {
          "0": "Brooklyn",
          "1": " Bedford-Stuyvesant",
          "index": 1871
         },
         {
          "0": "Brooklyn",
          "1": " Williamsburg",
          "index": 1872
         },
         {
          "0": "Brooklyn",
          "1": " Bedford-Stuyvesant",
          "index": 1873
         },
         {
          "0": "Bronx",
          "1": " Allerton",
          "index": 1874
         },
         {
          "0": "Manhattan",
          "1": " Gramercy",
          "index": 1875
         },
         {
          "0": "Queens",
          "1": " Forest Hills",
          "index": 1876
         },
         {
          "0": "Manhattan",
          "1": " Midtown",
          "index": 1877
         },
         {
          "0": "Manhattan",
          "1": " Harlem",
          "index": 1878
         },
         {
          "0": "Manhattan",
          "1": " Hell's Kitchen",
          "index": 1879
         },
         {
          "0": "Manhattan",
          "1": " East Harlem",
          "index": 1880
         },
         {
          "0": "Queens",
          "1": " Ozone Park",
          "index": 1881
         },
         {
          "0": "Brooklyn",
          "1": " Bushwick",
          "index": 1882
         },
         {
          "0": "Manhattan",
          "1": " Upper East Side",
          "index": 1883
         },
         {
          "0": "Brooklyn",
          "1": " Crown Heights",
          "index": 1884
         },
         {
          "0": "Brooklyn",
          "1": " Clinton Hill",
          "index": 1885
         },
         {
          "0": "Manhattan",
          "1": " Midtown",
          "index": 1886
         },
         {
          "0": "Manhattan",
          "1": " East Harlem",
          "index": 1887
         },
         {
          "0": "Brooklyn",
          "1": " Midwood",
          "index": 1888
         },
         {
          "0": "Queens",
          "1": " Arverne",
          "index": 1889
         },
         {
          "0": "Queens",
          "1": " Far Rockaway",
          "index": 1890
         },
         {
          "0": "Manhattan",
          "1": " Chelsea",
          "index": 1891
         },
         {
          "0": "Manhattan",
          "1": " Murray Hill",
          "index": 1892
         },
         {
          "0": "Manhattan",
          "1": " Harlem",
          "index": 1893
         },
         {
          "0": "Brooklyn",
          "1": " East Flatbush",
          "index": 1894
         },
         {
          "0": "Brooklyn",
          "1": " East Flatbush",
          "index": 1895
         },
         {
          "0": "Brooklyn",
          "1": " Bedford-Stuyvesant",
          "index": 1896
         },
         {
          "0": "Manhattan",
          "1": " Upper West Side",
          "index": 1897
         },
         {
          "0": "Manhattan",
          "1": " Upper West Side",
          "index": 1898
         },
         {
          "0": "Brooklyn",
          "1": " Williamsburg",
          "index": 1899
         },
         {
          "0": "Manhattan",
          "1": " East Village",
          "index": 1900
         },
         {
          "0": "Brooklyn",
          "1": " Brooklyn Heights",
          "index": 1901
         },
         {
          "0": "Queens",
          "1": " Flushing",
          "index": 1902
         },
         {
          "0": "Manhattan",
          "1": " Upper West Side",
          "index": 1903
         },
         {
          "0": "Manhattan",
          "1": " Harlem",
          "index": 1904
         },
         {
          "0": "Queens",
          "1": " Laurelton",
          "index": 1905
         },
         {
          "0": "Manhattan",
          "1": " East Village",
          "index": 1906
         },
         {
          "0": "Brooklyn",
          "1": " Bushwick",
          "index": 1907
         },
         {
          "0": "Queens",
          "1": " Jamaica",
          "index": 1908
         },
         {
          "0": "Manhattan",
          "1": " Upper West Side",
          "index": 1909
         },
         {
          "0": "Brooklyn",
          "1": " Williamsburg",
          "index": 1910
         },
         {
          "0": "Manhattan",
          "1": " Midtown",
          "index": 1911
         },
         {
          "0": "Queens",
          "1": " Fresh Meadows",
          "index": 1912
         },
         {
          "0": "Staten Island",
          "1": " Tottenville",
          "index": 1913
         },
         {
          "0": "Queens",
          "1": " Ridgewood",
          "index": 1914
         },
         {
          "0": "Manhattan",
          "1": " Upper West Side",
          "index": 1915
         },
         {
          "0": "Manhattan",
          "1": " Greenwich Village",
          "index": 1916
         },
         {
          "0": "Brooklyn",
          "1": " Williamsburg",
          "index": 1917
         },
         {
          "0": "Manhattan",
          "1": " West Village",
          "index": 1918
         },
         {
          "0": "Brooklyn",
          "1": " South Slope",
          "index": 1919
         },
         {
          "0": "Brooklyn",
          "1": " Williamsburg",
          "index": 1920
         },
         {
          "0": "Manhattan",
          "1": " Upper West Side",
          "index": 1921
         },
         {
          "0": "Manhattan",
          "1": " Upper East Side",
          "index": 1922
         },
         {
          "0": "Brooklyn",
          "1": " Greenpoint",
          "index": 1923
         },
         {
          "0": "Manhattan",
          "1": " East Village",
          "index": 1924
         },
         {
          "0": "Bronx",
          "1": " Mott Haven",
          "index": 1925
         },
         {
          "0": "Manhattan",
          "1": " West Village",
          "index": 1926
         },
         {
          "0": "Queens",
          "1": " Laurelton",
          "index": 1927
         },
         {
          "0": "Manhattan",
          "1": " Harlem",
          "index": 1928
         },
         {
          "0": "Manhattan",
          "1": " East Village",
          "index": 1929
         },
         {
          "0": "Manhattan",
          "1": " East Harlem",
          "index": 1930
         },
         {
          "0": "Brooklyn",
          "1": " Fort Greene",
          "index": 1931
         },
         {
          "0": "Manhattan",
          "1": " Chinatown",
          "index": 1932
         },
         {
          "0": "Manhattan",
          "1": " Harlem",
          "index": 1933
         },
         {
          "0": "Manhattan",
          "1": " East Harlem",
          "index": 1934
         },
         {
          "0": "Brooklyn",
          "1": " Bushwick",
          "index": 1935
         },
         {
          "0": "Manhattan",
          "1": " Murray Hill",
          "index": 1936
         },
         {
          "0": "Manhattan",
          "1": " Upper West Side",
          "index": 1937
         },
         {
          "0": "Brooklyn",
          "1": " Bedford-Stuyvesant",
          "index": 1938
         },
         {
          "0": "Queens",
          "1": " Jamaica",
          "index": 1939
         },
         {
          "0": "Brooklyn",
          "1": " Crown Heights",
          "index": 1940
         },
         {
          "0": "Brooklyn",
          "1": " Bedford-Stuyvesant",
          "index": 1941
         },
         {
          "0": "Manhattan",
          "1": " Hell's Kitchen",
          "index": 1942
         },
         {
          "0": "Manhattan",
          "1": " Hell's Kitchen",
          "index": 1943
         },
         {
          "0": "Manhattan",
          "1": " Upper East Side",
          "index": 1944
         },
         {
          "0": "Manhattan",
          "1": " Chelsea",
          "index": 1945
         },
         {
          "0": "Brooklyn",
          "1": " East New York",
          "index": 1946
         },
         {
          "0": "Manhattan",
          "1": " Lower East Side",
          "index": 1947
         },
         {
          "0": "Queens",
          "1": " Sunnyside",
          "index": 1948
         },
         {
          "0": "Brooklyn",
          "1": " East Flatbush",
          "index": 1949
         },
         {
          "0": "Queens",
          "1": " Long Island City",
          "index": 1950
         },
         {
          "0": "Brooklyn",
          "1": " Bay Ridge",
          "index": 1951
         },
         {
          "0": "Brooklyn",
          "1": " Crown Heights",
          "index": 1952
         },
         {
          "0": "Brooklyn",
          "1": " Bensonhurst",
          "index": 1953
         },
         {
          "0": "Manhattan",
          "1": " Upper West Side",
          "index": 1954
         },
         {
          "0": "Queens",
          "1": " Woodside",
          "index": 1955
         },
         {
          "0": "Brooklyn",
          "1": " Greenpoint",
          "index": 1956
         },
         {
          "0": "Queens",
          "1": " Flushing",
          "index": 1957
         },
         {
          "0": "Manhattan",
          "1": " Tribeca",
          "index": 1958
         },
         {
          "0": "Brooklyn",
          "1": " Bedford-Stuyvesant",
          "index": 1959
         },
         {
          "0": "Manhattan",
          "1": " East Village",
          "index": 1960
         },
         {
          "0": "Brooklyn",
          "1": " Prospect Heights",
          "index": 1961
         },
         {
          "0": "Brooklyn",
          "1": " Midwood",
          "index": 1962
         },
         {
          "0": "Manhattan",
          "1": " Murray Hill",
          "index": 1963
         },
         {
          "0": "Manhattan",
          "1": " Midtown",
          "index": 1964
         },
         {
          "0": "Manhattan",
          "1": " Greenwich Village",
          "index": 1965
         },
         {
          "0": "Brooklyn",
          "1": " Williamsburg",
          "index": 1966
         },
         {
          "0": "Queens",
          "1": " Springfield Gardens",
          "index": 1967
         },
         {
          "0": "Brooklyn",
          "1": " Williamsburg",
          "index": 1968
         },
         {
          "0": "Manhattan",
          "1": " West Village",
          "index": 1969
         },
         {
          "0": "Queens",
          "1": " Astoria",
          "index": 1970
         },
         {
          "0": "Manhattan",
          "1": " Harlem",
          "index": 1971
         },
         {
          "0": "Manhattan",
          "1": " Kips Bay",
          "index": 1972
         },
         {
          "0": "Queens",
          "1": " Astoria",
          "index": 1973
         },
         {
          "0": "Brooklyn",
          "1": " Bedford-Stuyvesant",
          "index": 1974
         },
         {
          "0": "Brooklyn",
          "1": " Bedford-Stuyvesant",
          "index": 1975
         },
         {
          "0": "Manhattan",
          "1": " West Village",
          "index": 1976
         },
         {
          "0": "Manhattan",
          "1": " Harlem",
          "index": 1977
         },
         {
          "0": "Manhattan",
          "1": " East Village",
          "index": 1978
         },
         {
          "0": "Brooklyn",
          "1": " Crown Heights",
          "index": 1979
         },
         {
          "0": "Brooklyn",
          "1": " Prospect-Lefferts Gardens",
          "index": 1980
         },
         {
          "0": "Brooklyn",
          "1": " Bushwick",
          "index": 1981
         },
         {
          "0": "Brooklyn",
          "1": " Sunset Park",
          "index": 1982
         },
         {
          "0": "Manhattan",
          "1": " Nolita",
          "index": 1983
         },
         {
          "0": "Brooklyn",
          "1": " Canarsie",
          "index": 1984
         },
         {
          "0": "Manhattan",
          "1": " Financial District",
          "index": 1985
         },
         {
          "0": "Manhattan",
          "1": " East Village",
          "index": 1986
         },
         {
          "0": "Manhattan",
          "1": " Midtown",
          "index": 1987
         },
         {
          "0": "Bronx",
          "1": " East Morrisania",
          "index": 1988
         },
         {
          "0": "Manhattan",
          "1": " Chelsea",
          "index": 1989
         },
         {
          "0": "Bronx",
          "1": " Fordham",
          "index": 1990
         },
         {
          "0": "Manhattan",
          "1": " Hell's Kitchen",
          "index": 1991
         },
         {
          "0": "Bronx",
          "1": " Soundview",
          "index": 1992
         },
         {
          "0": "Brooklyn",
          "1": " Clinton Hill",
          "index": 1993
         },
         {
          "0": "Brooklyn",
          "1": " Bushwick",
          "index": 1994
         },
         {
          "0": "Brooklyn",
          "1": " Crown Heights",
          "index": 1995
         },
         {
          "0": "Brooklyn",
          "1": " Flatbush",
          "index": 1996
         },
         {
          "0": "Manhattan",
          "1": " Harlem",
          "index": 1997
         },
         {
          "0": "Queens",
          "1": " Astoria",
          "index": 1998
         },
         {
          "0": "Brooklyn",
          "1": " Williamsburg",
          "index": 1999
         },
         {
          "0": "Brooklyn",
          "1": " Bushwick",
          "index": 2000
         },
         {
          "0": "Manhattan",
          "1": " East Village",
          "index": 2001
         },
         {
          "0": "Manhattan",
          "1": " Upper East Side",
          "index": 2002
         },
         {
          "0": "Manhattan",
          "1": " Hell's Kitchen",
          "index": 2003
         },
         {
          "0": "Brooklyn",
          "1": " Williamsburg",
          "index": 2004
         },
         {
          "0": "Brooklyn",
          "1": " Clinton Hill",
          "index": 2005
         },
         {
          "0": "Manhattan",
          "1": " Nolita",
          "index": 2006
         },
         {
          "0": "Manhattan",
          "1": " Kips Bay",
          "index": 2007
         },
         {
          "0": "Brooklyn",
          "1": " Bedford-Stuyvesant",
          "index": 2008
         },
         {
          "0": "Brooklyn",
          "1": " Williamsburg",
          "index": 2009
         },
         {
          "0": "Queens",
          "1": " Long Island City",
          "index": 2010
         },
         {
          "0": "Manhattan",
          "1": " Upper East Side",
          "index": 2011
         },
         {
          "0": "Brooklyn",
          "1": " Bedford-Stuyvesant",
          "index": 2012
         },
         {
          "0": "Manhattan",
          "1": " Harlem",
          "index": 2013
         },
         {
          "0": "Manhattan",
          "1": " Upper East Side",
          "index": 2014
         },
         {
          "0": "Queens",
          "1": " Astoria",
          "index": 2015
         },
         {
          "0": "Manhattan",
          "1": " Chelsea",
          "index": 2016
         },
         {
          "0": "Brooklyn",
          "1": " Williamsburg",
          "index": 2017
         },
         {
          "0": "Manhattan",
          "1": " Upper West Side",
          "index": 2018
         },
         {
          "0": "Manhattan",
          "1": " Midtown",
          "index": 2019
         },
         {
          "0": "Manhattan",
          "1": " East Harlem",
          "index": 2020
         },
         {
          "0": "Manhattan",
          "1": " Upper West Side",
          "index": 2021
         },
         {
          "0": "Manhattan",
          "1": " Tribeca",
          "index": 2022
         },
         {
          "0": "Brooklyn",
          "1": " Gowanus",
          "index": 2023
         },
         {
          "0": "Brooklyn",
          "1": " Crown Heights",
          "index": 2024
         },
         {
          "0": "Bronx",
          "1": " Port Morris",
          "index": 2025
         },
         {
          "0": "Manhattan",
          "1": " Lower East Side",
          "index": 2026
         },
         {
          "0": "Brooklyn",
          "1": " Williamsburg",
          "index": 2027
         },
         {
          "0": "Brooklyn",
          "1": " Williamsburg",
          "index": 2028
         },
         {
          "0": "Brooklyn",
          "1": " Williamsburg",
          "index": 2029
         },
         {
          "0": "Brooklyn",
          "1": " Greenpoint",
          "index": 2030
         },
         {
          "0": "Manhattan",
          "1": " Harlem",
          "index": 2031
         },
         {
          "0": "Brooklyn",
          "1": " Bushwick",
          "index": 2032
         },
         {
          "0": "Manhattan",
          "1": " Upper East Side",
          "index": 2033
         },
         {
          "0": "Brooklyn",
          "1": " Bedford-Stuyvesant",
          "index": 2034
         },
         {
          "0": "Manhattan",
          "1": " East Harlem",
          "index": 2035
         },
         {
          "0": "Manhattan",
          "1": " Upper East Side",
          "index": 2036
         },
         {
          "0": "Brooklyn",
          "1": " Williamsburg",
          "index": 2037
         },
         {
          "0": "Brooklyn",
          "1": " Bedford-Stuyvesant",
          "index": 2038
         },
         {
          "0": "Brooklyn",
          "1": " Bushwick",
          "index": 2039
         },
         {
          "0": "Manhattan",
          "1": " West Village",
          "index": 2040
         },
         {
          "0": "Manhattan",
          "1": " East Village",
          "index": 2041
         },
         {
          "0": "Queens",
          "1": " St. Albans",
          "index": 2042
         },
         {
          "0": "Manhattan",
          "1": " Greenwich Village",
          "index": 2043
         },
         {
          "0": "Manhattan",
          "1": " Kips Bay",
          "index": 2044
         },
         {
          "0": "Brooklyn",
          "1": " Windsor Terrace",
          "index": 2045
         },
         {
          "0": "Manhattan",
          "1": " Harlem",
          "index": 2046
         },
         {
          "0": "Brooklyn",
          "1": " Bushwick",
          "index": 2047
         },
         {
          "0": "Brooklyn",
          "1": " Bedford-Stuyvesant",
          "index": 2048
         },
         {
          "0": "Manhattan",
          "1": " Lower East Side",
          "index": 2049
         },
         {
          "0": "Manhattan",
          "1": " East Harlem",
          "index": 2050
         },
         {
          "0": "Manhattan",
          "1": " Washington Heights",
          "index": 2051
         },
         {
          "0": "Brooklyn",
          "1": " Williamsburg",
          "index": 2052
         },
         {
          "0": "Brooklyn",
          "1": " Bushwick",
          "index": 2053
         },
         {
          "0": "Queens",
          "1": " Ridgewood",
          "index": 2054
         },
         {
          "0": "Queens",
          "1": " Long Island City",
          "index": 2055
         },
         {
          "0": "Bronx",
          "1": " Morris Park",
          "index": 2056
         },
         {
          "0": "Brooklyn",
          "1": " Prospect Heights",
          "index": 2057
         },
         {
          "0": "Brooklyn",
          "1": " Bushwick",
          "index": 2058
         },
         {
          "0": "Manhattan",
          "1": " Upper East Side",
          "index": 2059
         },
         {
          "0": "Manhattan",
          "1": " Midtown",
          "index": 2060
         },
         {
          "0": "Manhattan",
          "1": " Upper East Side",
          "index": 2061
         },
         {
          "0": "Manhattan",
          "1": " East Village",
          "index": 2062
         },
         {
          "0": "Queens",
          "1": " Ditmars Steinway",
          "index": 2063
         },
         {
          "0": "Brooklyn",
          "1": " Bushwick",
          "index": 2064
         },
         {
          "0": "Queens",
          "1": " Astoria",
          "index": 2065
         },
         {
          "0": "Manhattan",
          "1": " Midtown",
          "index": 2066
         },
         {
          "0": "Brooklyn",
          "1": " Bushwick",
          "index": 2067
         },
         {
          "0": "Manhattan",
          "1": " Upper East Side",
          "index": 2068
         },
         {
          "0": "Manhattan",
          "1": " Harlem",
          "index": 2069
         },
         {
          "0": "Manhattan",
          "1": " Nolita",
          "index": 2070
         },
         {
          "0": "Brooklyn",
          "1": " Williamsburg",
          "index": 2071
         },
         {
          "0": "Manhattan",
          "1": " Harlem",
          "index": 2072
         },
         {
          "0": "Brooklyn",
          "1": " Bedford-Stuyvesant",
          "index": 2073
         },
         {
          "0": "Brooklyn",
          "1": " Park Slope",
          "index": 2074
         },
         {
          "0": "Manhattan",
          "1": " Morningside Heights",
          "index": 2075
         },
         {
          "0": "Brooklyn",
          "1": " Fort Greene",
          "index": 2076
         },
         {
          "0": "Manhattan",
          "1": " Hell's Kitchen",
          "index": 2077
         },
         {
          "0": "Manhattan",
          "1": " Civic Center",
          "index": 2078
         },
         {
          "0": "Brooklyn",
          "1": " Fort Greene",
          "index": 2079
         },
         {
          "0": "Brooklyn",
          "1": " Bedford-Stuyvesant",
          "index": 2080
         },
         {
          "0": "Manhattan",
          "1": " Washington Heights",
          "index": 2081
         },
         {
          "0": "Manhattan",
          "1": " Upper East Side",
          "index": 2082
         },
         {
          "0": "Manhattan",
          "1": " Upper East Side",
          "index": 2083
         },
         {
          "0": "Manhattan",
          "1": " Chelsea",
          "index": 2084
         },
         {
          "0": "Manhattan",
          "1": " Inwood",
          "index": 2085
         },
         {
          "0": "Manhattan",
          "1": " Greenwich Village",
          "index": 2086
         },
         {
          "0": "Brooklyn",
          "1": " Crown Heights",
          "index": 2087
         },
         {
          "0": "Brooklyn",
          "1": " Williamsburg",
          "index": 2088
         },
         {
          "0": "Brooklyn",
          "1": " Bushwick",
          "index": 2089
         },
         {
          "0": "Manhattan",
          "1": " Theater District",
          "index": 2090
         },
         {
          "0": "Brooklyn",
          "1": " Greenpoint",
          "index": 2091
         },
         {
          "0": "Brooklyn",
          "1": " Williamsburg",
          "index": 2092
         },
         {
          "0": "Brooklyn",
          "1": " Park Slope",
          "index": 2093
         },
         {
          "0": "Brooklyn",
          "1": " Flatbush",
          "index": 2094
         },
         {
          "0": "Manhattan",
          "1": " Lower East Side",
          "index": 2095
         },
         {
          "0": "Brooklyn",
          "1": " Midwood",
          "index": 2096
         },
         {
          "0": "Brooklyn",
          "1": " Bushwick",
          "index": 2097
         },
         {
          "0": "Manhattan",
          "1": " Inwood",
          "index": 2098
         },
         {
          "0": "Brooklyn",
          "1": " Bedford-Stuyvesant",
          "index": 2099
         },
         {
          "0": "Manhattan",
          "1": " Washington Heights",
          "index": 2100
         },
         {
          "0": "Manhattan",
          "1": " Hell's Kitchen",
          "index": 2101
         },
         {
          "0": "Brooklyn",
          "1": " Bedford-Stuyvesant",
          "index": 2102
         },
         {
          "0": "Manhattan",
          "1": " Midtown",
          "index": 2103
         },
         {
          "0": "Brooklyn",
          "1": " Carroll Gardens",
          "index": 2104
         },
         {
          "0": "Manhattan",
          "1": " Harlem",
          "index": 2105
         },
         {
          "0": "Brooklyn",
          "1": " Bedford-Stuyvesant",
          "index": 2106
         },
         {
          "0": "Brooklyn",
          "1": " Bushwick",
          "index": 2107
         },
         {
          "0": "Manhattan",
          "1": " Upper East Side",
          "index": 2108
         },
         {
          "0": "Manhattan",
          "1": " Kips Bay",
          "index": 2109
         },
         {
          "0": "Manhattan",
          "1": " Harlem",
          "index": 2110
         },
         {
          "0": "Queens",
          "1": " Maspeth",
          "index": 2111
         },
         {
          "0": "Brooklyn",
          "1": " Crown Heights",
          "index": 2112
         },
         {
          "0": "Queens",
          "1": " Jamaica",
          "index": 2113
         },
         {
          "0": "Queens",
          "1": " Sunnyside",
          "index": 2114
         },
         {
          "0": "Brooklyn",
          "1": " Crown Heights",
          "index": 2115
         },
         {
          "0": "Brooklyn",
          "1": " Williamsburg",
          "index": 2116
         },
         {
          "0": "Manhattan",
          "1": " East Harlem",
          "index": 2117
         },
         {
          "0": "Brooklyn",
          "1": " Bedford-Stuyvesant",
          "index": 2118
         },
         {
          "0": "Brooklyn",
          "1": " Williamsburg",
          "index": 2119
         },
         {
          "0": "Manhattan",
          "1": " SoHo",
          "index": 2120
         },
         {
          "0": "Queens",
          "1": " Richmond Hill",
          "index": 2121
         },
         {
          "0": "Queens",
          "1": " Astoria",
          "index": 2122
         },
         {
          "0": "Manhattan",
          "1": " Civic Center",
          "index": 2123
         },
         {
          "0": "Brooklyn",
          "1": " Bedford-Stuyvesant",
          "index": 2124
         },
         {
          "0": "Brooklyn",
          "1": " Flatbush",
          "index": 2125
         },
         {
          "0": "Brooklyn",
          "1": " Cypress Hills",
          "index": 2126
         },
         {
          "0": "Manhattan",
          "1": " Midtown",
          "index": 2127
         },
         {
          "0": "Brooklyn",
          "1": " Crown Heights",
          "index": 2128
         },
         {
          "0": "Queens",
          "1": " Long Island City",
          "index": 2129
         },
         {
          "0": "Brooklyn",
          "1": " Williamsburg",
          "index": 2130
         },
         {
          "0": "Manhattan",
          "1": " SoHo",
          "index": 2131
         },
         {
          "0": "Manhattan",
          "1": " Harlem",
          "index": 2132
         },
         {
          "0": "Queens",
          "1": " Flushing",
          "index": 2133
         },
         {
          "0": "Queens",
          "1": " Flushing",
          "index": 2134
         },
         {
          "0": "Brooklyn",
          "1": " Bedford-Stuyvesant",
          "index": 2135
         },
         {
          "0": "Manhattan",
          "1": " Harlem",
          "index": 2136
         },
         {
          "0": "Brooklyn",
          "1": " Bushwick",
          "index": 2137
         },
         {
          "0": "Brooklyn",
          "1": " Crown Heights",
          "index": 2138
         },
         {
          "0": "Manhattan",
          "1": " East Harlem",
          "index": 2139
         },
         {
          "0": "Brooklyn",
          "1": " Bushwick",
          "index": 2140
         },
         {
          "0": "Manhattan",
          "1": " Hell's Kitchen",
          "index": 2141
         },
         {
          "0": "Manhattan",
          "1": " Financial District",
          "index": 2142
         },
         {
          "0": "Manhattan",
          "1": " Hell's Kitchen",
          "index": 2143
         },
         {
          "0": "Manhattan",
          "1": " Upper East Side",
          "index": 2144
         },
         {
          "0": "Manhattan",
          "1": " Harlem",
          "index": 2145
         },
         {
          "0": "Manhattan",
          "1": " Upper West Side",
          "index": 2146
         },
         {
          "0": "Brooklyn",
          "1": " Windsor Terrace",
          "index": 2147
         },
         {
          "0": "Brooklyn",
          "1": " Bedford-Stuyvesant",
          "index": 2148
         },
         {
          "0": "Brooklyn",
          "1": " Prospect-Lefferts Gardens",
          "index": 2149
         },
         {
          "0": "Manhattan",
          "1": " Chelsea",
          "index": 2150
         },
         {
          "0": "Queens",
          "1": " Elmhurst",
          "index": 2151
         },
         {
          "0": "Queens",
          "1": " Ditmars Steinway",
          "index": 2152
         },
         {
          "0": "Queens",
          "1": " Ridgewood",
          "index": 2153
         },
         {
          "0": "Brooklyn",
          "1": " Williamsburg",
          "index": 2154
         },
         {
          "0": "Brooklyn",
          "1": " East Flatbush",
          "index": 2155
         },
         {
          "0": "Manhattan",
          "1": " East Harlem",
          "index": 2156
         },
         {
          "0": "Manhattan",
          "1": " East Harlem",
          "index": 2157
         },
         {
          "0": "Brooklyn",
          "1": " Flatbush",
          "index": 2158
         },
         {
          "0": "Brooklyn",
          "1": " Bedford-Stuyvesant",
          "index": 2159
         },
         {
          "0": "Brooklyn",
          "1": " Bedford-Stuyvesant",
          "index": 2160
         },
         {
          "0": "Brooklyn",
          "1": " Bedford-Stuyvesant",
          "index": 2161
         },
         {
          "0": "Queens",
          "1": " Flushing",
          "index": 2162
         },
         {
          "0": "Bronx",
          "1": " Bronxdale",
          "index": 2163
         },
         {
          "0": "Brooklyn",
          "1": " Bedford-Stuyvesant",
          "index": 2164
         },
         {
          "0": "Manhattan",
          "1": " Harlem",
          "index": 2165
         },
         {
          "0": "Manhattan",
          "1": " Gramercy",
          "index": 2166
         },
         {
          "0": "Brooklyn",
          "1": " Sunset Park",
          "index": 2167
         },
         {
          "0": "Brooklyn",
          "1": " Bedford-Stuyvesant",
          "index": 2168
         },
         {
          "0": "Brooklyn",
          "1": " Carroll Gardens",
          "index": 2169
         },
         {
          "0": "Manhattan",
          "1": " Kips Bay",
          "index": 2170
         },
         {
          "0": "Brooklyn",
          "1": " Bedford-Stuyvesant",
          "index": 2171
         },
         {
          "0": "Brooklyn",
          "1": " Clinton Hill",
          "index": 2172
         },
         {
          "0": "Brooklyn",
          "1": " Williamsburg",
          "index": 2173
         },
         {
          "0": "Manhattan",
          "1": " East Village",
          "index": 2174
         },
         {
          "0": "Queens",
          "1": " Flushing",
          "index": 2175
         },
         {
          "0": "Brooklyn",
          "1": " Bedford-Stuyvesant",
          "index": 2176
         },
         {
          "0": "Manhattan",
          "1": " East Harlem",
          "index": 2177
         },
         {
          "0": "Brooklyn",
          "1": " Bushwick",
          "index": 2178
         },
         {
          "0": "Manhattan",
          "1": " SoHo",
          "index": 2179
         },
         {
          "0": "Manhattan",
          "1": " Upper East Side",
          "index": 2180
         },
         {
          "0": "Manhattan",
          "1": " Hell's Kitchen",
          "index": 2181
         },
         {
          "0": "Brooklyn",
          "1": " Crown Heights",
          "index": 2182
         },
         {
          "0": "Bronx",
          "1": " Kingsbridge",
          "index": 2183
         },
         {
          "0": "Manhattan",
          "1": " West Village",
          "index": 2184
         },
         {
          "0": "Manhattan",
          "1": " Lower East Side",
          "index": 2185
         },
         {
          "0": "Manhattan",
          "1": " Washington Heights",
          "index": 2186
         },
         {
          "0": "Manhattan",
          "1": " Morningside Heights",
          "index": 2187
         },
         {
          "0": "Brooklyn",
          "1": " Crown Heights",
          "index": 2188
         },
         {
          "0": "Manhattan",
          "1": " Midtown",
          "index": 2189
         },
         {
          "0": "Queens",
          "1": " Springfield Gardens",
          "index": 2190
         },
         {
          "0": "Brooklyn",
          "1": " Bedford-Stuyvesant",
          "index": 2191
         },
         {
          "0": "Manhattan",
          "1": " Upper West Side",
          "index": 2192
         },
         {
          "0": "Manhattan",
          "1": " Harlem",
          "index": 2193
         },
         {
          "0": "Brooklyn",
          "1": " Williamsburg",
          "index": 2194
         },
         {
          "0": "Brooklyn",
          "1": " Williamsburg",
          "index": 2195
         },
         {
          "0": "Brooklyn",
          "1": " Carroll Gardens",
          "index": 2196
         },
         {
          "0": "Manhattan",
          "1": " Midtown",
          "index": 2197
         },
         {
          "0": "Manhattan",
          "1": " Midtown",
          "index": 2198
         },
         {
          "0": "Queens",
          "1": " Ridgewood",
          "index": 2199
         },
         {
          "0": "Queens",
          "1": " Bellerose",
          "index": 2200
         },
         {
          "0": "Manhattan",
          "1": " East Village",
          "index": 2201
         },
         {
          "0": "Manhattan",
          "1": " Lower East Side",
          "index": 2202
         },
         {
          "0": "Brooklyn",
          "1": " Bedford-Stuyvesant",
          "index": 2203
         },
         {
          "0": "Manhattan",
          "1": " Washington Heights",
          "index": 2204
         },
         {
          "0": "Queens",
          "1": " Sunnyside",
          "index": 2205
         },
         {
          "0": "Brooklyn",
          "1": " Carroll Gardens",
          "index": 2206
         },
         {
          "0": "Brooklyn",
          "1": " Flatbush",
          "index": 2207
         },
         {
          "0": "Manhattan",
          "1": " Chinatown",
          "index": 2208
         },
         {
          "0": "Manhattan",
          "1": " Morningside Heights",
          "index": 2209
         },
         {
          "0": "Queens",
          "1": " Astoria",
          "index": 2210
         },
         {
          "0": "Brooklyn",
          "1": " Williamsburg",
          "index": 2211
         },
         {
          "0": "Manhattan",
          "1": " Hell's Kitchen",
          "index": 2212
         },
         {
          "0": "Manhattan",
          "1": " Harlem",
          "index": 2213
         },
         {
          "0": "Queens",
          "1": " Ridgewood",
          "index": 2214
         },
         {
          "0": "Manhattan",
          "1": " East Harlem",
          "index": 2215
         },
         {
          "0": "Brooklyn",
          "1": " Prospect Heights",
          "index": 2216
         },
         {
          "0": "Manhattan",
          "1": " Upper West Side",
          "index": 2217
         },
         {
          "0": "Brooklyn",
          "1": " Boerum Hill",
          "index": 2218
         },
         {
          "0": "Queens",
          "1": " Sunnyside",
          "index": 2219
         },
         {
          "0": "Queens",
          "1": " Long Island City",
          "index": 2220
         },
         {
          "0": "Brooklyn",
          "1": " Williamsburg",
          "index": 2221
         },
         {
          "0": "Brooklyn",
          "1": " Williamsburg",
          "index": 2222
         },
         {
          "0": "Brooklyn",
          "1": " Bedford-Stuyvesant",
          "index": 2223
         },
         {
          "0": "Queens",
          "1": " Sunnyside",
          "index": 2224
         },
         {
          "0": "Brooklyn",
          "1": " Bushwick",
          "index": 2225
         },
         {
          "0": "Brooklyn",
          "1": " Sunset Park",
          "index": 2226
         },
         {
          "0": "Brooklyn",
          "1": " Williamsburg",
          "index": 2227
         },
         {
          "0": "Queens",
          "1": " Sunnyside",
          "index": 2228
         },
         {
          "0": "Brooklyn",
          "1": " Navy Yard",
          "index": 2229
         },
         {
          "0": "Manhattan",
          "1": " East Harlem",
          "index": 2230
         },
         {
          "0": "Brooklyn",
          "1": " Bay Ridge",
          "index": 2231
         },
         {
          "0": "Brooklyn",
          "1": " Williamsburg",
          "index": 2232
         },
         {
          "0": "Brooklyn",
          "1": " Bedford-Stuyvesant",
          "index": 2233
         },
         {
          "0": "Manhattan",
          "1": " Upper West Side",
          "index": 2234
         },
         {
          "0": "Manhattan",
          "1": " Chelsea",
          "index": 2235
         },
         {
          "0": "Brooklyn",
          "1": " Bay Ridge",
          "index": 2236
         },
         {
          "0": "Queens",
          "1": " Ridgewood",
          "index": 2237
         },
         {
          "0": "Brooklyn",
          "1": " Bushwick",
          "index": 2238
         },
         {
          "0": "Brooklyn",
          "1": " Crown Heights",
          "index": 2239
         },
         {
          "0": "Queens",
          "1": " Corona",
          "index": 2240
         },
         {
          "0": "Manhattan",
          "1": " SoHo",
          "index": 2241
         },
         {
          "0": "Brooklyn",
          "1": " Bedford-Stuyvesant",
          "index": 2242
         },
         {
          "0": "Manhattan",
          "1": " Upper East Side",
          "index": 2243
         },
         {
          "0": "Brooklyn",
          "1": " Greenpoint",
          "index": 2244
         },
         {
          "0": "Manhattan",
          "1": " Chelsea",
          "index": 2245
         },
         {
          "0": "Brooklyn",
          "1": " Flatbush",
          "index": 2246
         },
         {
          "0": "Queens",
          "1": " Flushing",
          "index": 2247
         },
         {
          "0": "Bronx",
          "1": " Kingsbridge",
          "index": 2248
         },
         {
          "0": "Queens",
          "1": " Long Island City",
          "index": 2249
         },
         {
          "0": "Brooklyn",
          "1": " Williamsburg",
          "index": 2250
         },
         {
          "0": "Brooklyn",
          "1": " Bushwick",
          "index": 2251
         },
         {
          "0": "Brooklyn",
          "1": " Williamsburg",
          "index": 2252
         },
         {
          "0": "Bronx",
          "1": " Kingsbridge",
          "index": 2253
         },
         {
          "0": "Brooklyn",
          "1": " Bushwick",
          "index": 2254
         },
         {
          "0": "Manhattan",
          "1": " Morningside Heights",
          "index": 2255
         },
         {
          "0": "Queens",
          "1": " Flushing",
          "index": 2256
         },
         {
          "0": "Brooklyn",
          "1": " Prospect Heights",
          "index": 2257
         },
         {
          "0": "Manhattan",
          "1": " Upper West Side",
          "index": 2258
         },
         {
          "0": "Brooklyn",
          "1": " Clinton Hill",
          "index": 2259
         },
         {
          "0": "Brooklyn",
          "1": " Bedford-Stuyvesant",
          "index": 2260
         },
         {
          "0": "Manhattan",
          "1": " Upper East Side",
          "index": 2261
         },
         {
          "0": "Manhattan",
          "1": " West Village",
          "index": 2262
         },
         {
          "0": "Brooklyn",
          "1": " Williamsburg",
          "index": 2263
         },
         {
          "0": "Brooklyn",
          "1": " Carroll Gardens",
          "index": 2264
         },
         {
          "0": "Brooklyn",
          "1": " Williamsburg",
          "index": 2265
         },
         {
          "0": "Manhattan",
          "1": " East Village",
          "index": 2266
         },
         {
          "0": "Manhattan",
          "1": " Harlem",
          "index": 2267
         },
         {
          "0": "Manhattan",
          "1": " Nolita",
          "index": 2268
         },
         {
          "0": "Manhattan",
          "1": " Washington Heights",
          "index": 2269
         },
         {
          "0": "Brooklyn",
          "1": " Clinton Hill",
          "index": 2270
         },
         {
          "0": "Queens",
          "1": " Elmhurst",
          "index": 2271
         },
         {
          "0": "Brooklyn",
          "1": " Greenpoint",
          "index": 2272
         },
         {
          "0": "Manhattan",
          "1": " Upper East Side",
          "index": 2273
         },
         {
          "0": "Manhattan",
          "1": " East Harlem",
          "index": 2274
         },
         {
          "0": "Brooklyn",
          "1": " Bushwick",
          "index": 2275
         },
         {
          "0": "Brooklyn",
          "1": " Crown Heights",
          "index": 2276
         },
         {
          "0": "Brooklyn",
          "1": " Bedford-Stuyvesant",
          "index": 2277
         },
         {
          "0": "Manhattan",
          "1": " Harlem",
          "index": 2278
         },
         {
          "0": "Manhattan",
          "1": " Upper West Side",
          "index": 2279
         },
         {
          "0": "Brooklyn",
          "1": " Park Slope",
          "index": 2280
         },
         {
          "0": "Brooklyn",
          "1": " Bedford-Stuyvesant",
          "index": 2281
         },
         {
          "0": "Brooklyn",
          "1": " Bay Ridge",
          "index": 2282
         },
         {
          "0": "Brooklyn",
          "1": " Greenpoint",
          "index": 2283
         },
         {
          "0": "Brooklyn",
          "1": " Greenpoint",
          "index": 2284
         },
         {
          "0": "Manhattan",
          "1": " Chinatown",
          "index": 2285
         },
         {
          "0": "Queens",
          "1": " Long Island City",
          "index": 2286
         },
         {
          "0": "Brooklyn",
          "1": " Gowanus",
          "index": 2287
         },
         {
          "0": "Manhattan",
          "1": " East Harlem",
          "index": 2288
         },
         {
          "0": "Manhattan",
          "1": " Upper West Side",
          "index": 2289
         },
         {
          "0": "Manhattan",
          "1": " East Harlem",
          "index": 2290
         },
         {
          "0": "Manhattan",
          "1": " Upper West Side",
          "index": 2291
         },
         {
          "0": "Manhattan",
          "1": " Lower East Side",
          "index": 2292
         },
         {
          "0": "Manhattan",
          "1": " Hell's Kitchen",
          "index": 2293
         },
         {
          "0": "Brooklyn",
          "1": " Boerum Hill",
          "index": 2294
         },
         {
          "0": "Manhattan",
          "1": " Chinatown",
          "index": 2295
         },
         {
          "0": "Queens",
          "1": " Flushing",
          "index": 2296
         },
         {
          "0": "Brooklyn",
          "1": " Sunset Park",
          "index": 2297
         },
         {
          "0": "Queens",
          "1": " Flushing",
          "index": 2298
         },
         {
          "0": "Brooklyn",
          "1": " Prospect Heights",
          "index": 2299
         },
         {
          "0": "Brooklyn",
          "1": " Greenpoint",
          "index": 2300
         },
         {
          "0": "Brooklyn",
          "1": " Bushwick",
          "index": 2301
         },
         {
          "0": "Brooklyn",
          "1": " Bedford-Stuyvesant",
          "index": 2302
         },
         {
          "0": "Staten Island",
          "1": " Concord",
          "index": 2303
         },
         {
          "0": "Brooklyn",
          "1": " Williamsburg",
          "index": 2304
         },
         {
          "0": "Manhattan",
          "1": " Hell's Kitchen",
          "index": 2305
         },
         {
          "0": "Queens",
          "1": " Astoria",
          "index": 2306
         },
         {
          "0": "Brooklyn",
          "1": " Bedford-Stuyvesant",
          "index": 2307
         },
         {
          "0": "Brooklyn",
          "1": " Bushwick",
          "index": 2308
         },
         {
          "0": "Queens",
          "1": " Long Island City",
          "index": 2309
         },
         {
          "0": "Brooklyn",
          "1": " Canarsie",
          "index": 2310
         },
         {
          "0": "Manhattan",
          "1": " Upper East Side",
          "index": 2311
         },
         {
          "0": "Manhattan",
          "1": " East Village",
          "index": 2312
         },
         {
          "0": "Brooklyn",
          "1": " Williamsburg",
          "index": 2313
         },
         {
          "0": "Brooklyn",
          "1": " Bedford-Stuyvesant",
          "index": 2314
         },
         {
          "0": "Brooklyn",
          "1": " Bedford-Stuyvesant",
          "index": 2315
         },
         {
          "0": "Manhattan",
          "1": " Harlem",
          "index": 2316
         },
         {
          "0": "Manhattan",
          "1": " West Village",
          "index": 2317
         },
         {
          "0": "Queens",
          "1": " East Elmhurst",
          "index": 2318
         },
         {
          "0": "Manhattan",
          "1": " Lower East Side",
          "index": 2319
         },
         {
          "0": "Manhattan",
          "1": " Lower East Side",
          "index": 2320
         },
         {
          "0": "Brooklyn",
          "1": " Williamsburg",
          "index": 2321
         },
         {
          "0": "Manhattan",
          "1": " Harlem",
          "index": 2322
         },
         {
          "0": "Brooklyn",
          "1": " Bedford-Stuyvesant",
          "index": 2323
         },
         {
          "0": "Manhattan",
          "1": " Harlem",
          "index": 2324
         },
         {
          "0": "Brooklyn",
          "1": " Greenpoint",
          "index": 2325
         },
         {
          "0": "Brooklyn",
          "1": " Bedford-Stuyvesant",
          "index": 2326
         },
         {
          "0": "Brooklyn",
          "1": " Fort Greene",
          "index": 2327
         },
         {
          "0": "Brooklyn",
          "1": " Williamsburg",
          "index": 2328
         },
         {
          "0": "Brooklyn",
          "1": " Prospect Heights",
          "index": 2329
         },
         {
          "0": "Brooklyn",
          "1": " Bushwick",
          "index": 2330
         },
         {
          "0": "Manhattan",
          "1": " Upper East Side",
          "index": 2331
         },
         {
          "0": "Manhattan",
          "1": " Tribeca",
          "index": 2332
         },
         {
          "0": "Manhattan",
          "1": " Midtown",
          "index": 2333
         },
         {
          "0": "Queens",
          "1": " Astoria",
          "index": 2334
         },
         {
          "0": "Brooklyn",
          "1": " Cypress Hills",
          "index": 2335
         },
         {
          "0": "Brooklyn",
          "1": " Gowanus",
          "index": 2336
         },
         {
          "0": "Brooklyn",
          "1": " Williamsburg",
          "index": 2337
         },
         {
          "0": "Brooklyn",
          "1": " Williamsburg",
          "index": 2338
         },
         {
          "0": "Manhattan",
          "1": " Harlem",
          "index": 2339
         },
         {
          "0": "Manhattan",
          "1": " Midtown",
          "index": 2340
         },
         {
          "0": "Brooklyn",
          "1": " Prospect-Lefferts Gardens",
          "index": 2341
         },
         {
          "0": "Brooklyn",
          "1": " Bushwick",
          "index": 2342
         },
         {
          "0": "Brooklyn",
          "1": " Bay Ridge",
          "index": 2343
         },
         {
          "0": "Queens",
          "1": " Ditmars Steinway",
          "index": 2344
         },
         {
          "0": "Bronx",
          "1": " Unionport",
          "index": 2345
         },
         {
          "0": "Manhattan",
          "1": " Greenwich Village",
          "index": 2346
         },
         {
          "0": "Manhattan",
          "1": " Midtown",
          "index": 2347
         },
         {
          "0": "Brooklyn",
          "1": " Williamsburg",
          "index": 2348
         },
         {
          "0": "Manhattan",
          "1": " Harlem",
          "index": 2349
         },
         {
          "0": "Manhattan",
          "1": " Harlem",
          "index": 2350
         },
         {
          "0": "Manhattan",
          "1": " Financial District",
          "index": 2351
         },
         {
          "0": "Manhattan",
          "1": " Harlem",
          "index": 2352
         },
         {
          "0": "Queens",
          "1": " Astoria",
          "index": 2353
         },
         {
          "0": "Manhattan",
          "1": " East Village",
          "index": 2354
         },
         {
          "0": "Brooklyn",
          "1": " Gravesend",
          "index": 2355
         },
         {
          "0": "Manhattan",
          "1": " East Harlem",
          "index": 2356
         },
         {
          "0": "Manhattan",
          "1": " Midtown",
          "index": 2357
         },
         {
          "0": "Manhattan",
          "1": " East Village",
          "index": 2358
         },
         {
          "0": "Brooklyn",
          "1": " East New York",
          "index": 2359
         },
         {
          "0": "Brooklyn",
          "1": " Bedford-Stuyvesant",
          "index": 2360
         },
         {
          "0": "Manhattan",
          "1": " East Village",
          "index": 2361
         },
         {
          "0": "Brooklyn",
          "1": " Bedford-Stuyvesant",
          "index": 2362
         },
         {
          "0": "Brooklyn",
          "1": " Williamsburg",
          "index": 2363
         },
         {
          "0": "Brooklyn",
          "1": " Flatbush",
          "index": 2364
         },
         {
          "0": "Brooklyn",
          "1": " Greenpoint",
          "index": 2365
         },
         {
          "0": "Brooklyn",
          "1": " Crown Heights",
          "index": 2366
         },
         {
          "0": "Brooklyn",
          "1": " Clinton Hill",
          "index": 2367
         },
         {
          "0": "Brooklyn",
          "1": " Williamsburg",
          "index": 2368
         },
         {
          "0": "Manhattan",
          "1": " Greenwich Village",
          "index": 2369
         },
         {
          "0": "Manhattan",
          "1": " Upper East Side",
          "index": 2370
         },
         {
          "0": "Queens",
          "1": " Glendale",
          "index": 2371
         },
         {
          "0": "Manhattan",
          "1": " Little Italy",
          "index": 2372
         },
         {
          "0": "Brooklyn",
          "1": " Williamsburg",
          "index": 2373
         },
         {
          "0": "Brooklyn",
          "1": " Greenpoint",
          "index": 2374
         },
         {
          "0": "Manhattan",
          "1": " Chinatown",
          "index": 2375
         },
         {
          "0": "Manhattan",
          "1": " Upper East Side",
          "index": 2376
         },
         {
          "0": "Brooklyn",
          "1": " Williamsburg",
          "index": 2377
         },
         {
          "0": "Manhattan",
          "1": " East Village",
          "index": 2378
         },
         {
          "0": "Manhattan",
          "1": " Upper East Side",
          "index": 2379
         },
         {
          "0": "Manhattan",
          "1": " Hell's Kitchen",
          "index": 2380
         },
         {
          "0": "Brooklyn",
          "1": " East Flatbush",
          "index": 2381
         },
         {
          "0": "Queens",
          "1": " Bayswater",
          "index": 2382
         },
         {
          "0": "Manhattan",
          "1": " Upper West Side",
          "index": 2383
         },
         {
          "0": "Brooklyn",
          "1": " Greenpoint",
          "index": 2384
         },
         {
          "0": "Manhattan",
          "1": " East Village",
          "index": 2385
         },
         {
          "0": "Manhattan",
          "1": " Chelsea",
          "index": 2386
         },
         {
          "0": "Manhattan",
          "1": " Inwood",
          "index": 2387
         },
         {
          "0": "Brooklyn",
          "1": " Kensington",
          "index": 2388
         },
         {
          "0": "Manhattan",
          "1": " East Harlem",
          "index": 2389
         },
         {
          "0": "Manhattan",
          "1": " Hell's Kitchen",
          "index": 2390
         },
         {
          "0": "Manhattan",
          "1": " NoHo",
          "index": 2391
         },
         {
          "0": "Manhattan",
          "1": " Upper West Side",
          "index": 2392
         },
         {
          "0": "Brooklyn",
          "1": " Boerum Hill",
          "index": 2393
         },
         {
          "0": "Manhattan",
          "1": " Harlem",
          "index": 2394
         },
         {
          "0": "Queens",
          "1": " Jamaica",
          "index": 2395
         },
         {
          "0": "Staten Island",
          "1": " Tompkinsville",
          "index": 2396
         },
         {
          "0": "Brooklyn",
          "1": " Crown Heights",
          "index": 2397
         },
         {
          "0": "Manhattan",
          "1": " SoHo",
          "index": 2398
         },
         {
          "0": "Manhattan",
          "1": " East Harlem",
          "index": 2399
         },
         {
          "0": "Manhattan",
          "1": " East Village",
          "index": 2400
         },
         {
          "0": "Manhattan",
          "1": " Washington Heights",
          "index": 2401
         },
         {
          "0": "Manhattan",
          "1": " Harlem",
          "index": 2402
         },
         {
          "0": "Manhattan",
          "1": " Midtown",
          "index": 2403
         },
         {
          "0": "Queens",
          "1": " Queens Village",
          "index": 2404
         },
         {
          "0": "Brooklyn",
          "1": " Williamsburg",
          "index": 2405
         },
         {
          "0": "Manhattan",
          "1": " East Village",
          "index": 2406
         },
         {
          "0": "Manhattan",
          "1": " Upper East Side",
          "index": 2407
         },
         {
          "0": "Brooklyn",
          "1": " Flatlands",
          "index": 2408
         },
         {
          "0": "Brooklyn",
          "1": " Bedford-Stuyvesant",
          "index": 2409
         },
         {
          "0": "Manhattan",
          "1": " Nolita",
          "index": 2410
         },
         {
          "0": "Manhattan",
          "1": " Kips Bay",
          "index": 2411
         },
         {
          "0": "Manhattan",
          "1": " Lower East Side",
          "index": 2412
         },
         {
          "0": "Manhattan",
          "1": " East Harlem",
          "index": 2413
         },
         {
          "0": "Manhattan",
          "1": " Hell's Kitchen",
          "index": 2414
         },
         {
          "0": "Brooklyn",
          "1": " Bedford-Stuyvesant",
          "index": 2415
         },
         {
          "0": "Manhattan",
          "1": " Chelsea",
          "index": 2416
         },
         {
          "0": "Brooklyn",
          "1": " Prospect-Lefferts Gardens",
          "index": 2417
         },
         {
          "0": "Brooklyn",
          "1": " Bedford-Stuyvesant",
          "index": 2418
         },
         {
          "0": "Manhattan",
          "1": " Upper East Side",
          "index": 2419
         },
         {
          "0": "Brooklyn",
          "1": " Williamsburg",
          "index": 2420
         },
         {
          "0": "Brooklyn",
          "1": " Williamsburg",
          "index": 2421
         },
         {
          "0": "Brooklyn",
          "1": " Clinton Hill",
          "index": 2422
         },
         {
          "0": "Manhattan",
          "1": " Harlem",
          "index": 2423
         },
         {
          "0": "Brooklyn",
          "1": " Williamsburg",
          "index": 2424
         },
         {
          "0": "Manhattan",
          "1": " Harlem",
          "index": 2425
         },
         {
          "0": "Manhattan",
          "1": " Harlem",
          "index": 2426
         },
         {
          "0": "Queens",
          "1": " Sunnyside",
          "index": 2427
         },
         {
          "0": "Manhattan",
          "1": " Hell's Kitchen",
          "index": 2428
         },
         {
          "0": "Manhattan",
          "1": " Midtown",
          "index": 2429
         },
         {
          "0": "Manhattan",
          "1": " Harlem",
          "index": 2430
         },
         {
          "0": "Manhattan",
          "1": " Hell's Kitchen",
          "index": 2431
         },
         {
          "0": "Manhattan",
          "1": " Harlem",
          "index": 2432
         },
         {
          "0": "Manhattan",
          "1": " Harlem",
          "index": 2433
         },
         {
          "0": "Queens",
          "1": " Sunnyside",
          "index": 2434
         },
         {
          "0": "Manhattan",
          "1": " East Village",
          "index": 2435
         },
         {
          "0": "Brooklyn",
          "1": " Red Hook",
          "index": 2436
         },
         {
          "0": "Bronx",
          "1": " Mott Haven",
          "index": 2437
         },
         {
          "0": "Brooklyn",
          "1": " Williamsburg",
          "index": 2438
         },
         {
          "0": "Manhattan",
          "1": " Financial District",
          "index": 2439
         },
         {
          "0": "Brooklyn",
          "1": " Boerum Hill",
          "index": 2440
         },
         {
          "0": "Manhattan",
          "1": " Midtown",
          "index": 2441
         },
         {
          "0": "Brooklyn",
          "1": " Bensonhurst",
          "index": 2442
         },
         {
          "0": "Brooklyn",
          "1": " Williamsburg",
          "index": 2443
         },
         {
          "0": "Manhattan",
          "1": " Inwood",
          "index": 2444
         },
         {
          "0": "Bronx",
          "1": " Tremont",
          "index": 2445
         },
         {
          "0": "Manhattan",
          "1": " Harlem",
          "index": 2446
         },
         {
          "0": "Brooklyn",
          "1": " Bedford-Stuyvesant",
          "index": 2447
         },
         {
          "0": "Brooklyn",
          "1": " Bushwick",
          "index": 2448
         },
         {
          "0": "Brooklyn",
          "1": " Greenpoint",
          "index": 2449
         },
         {
          "0": "Brooklyn",
          "1": " Bedford-Stuyvesant",
          "index": 2450
         },
         {
          "0": "Manhattan",
          "1": " Murray Hill",
          "index": 2451
         },
         {
          "0": "Brooklyn",
          "1": " Bushwick",
          "index": 2452
         },
         {
          "0": "Manhattan",
          "1": " East Village",
          "index": 2453
         },
         {
          "0": "Manhattan",
          "1": " Hell's Kitchen",
          "index": 2454
         },
         {
          "0": "Brooklyn",
          "1": " Bedford-Stuyvesant",
          "index": 2455
         },
         {
          "0": "Queens",
          "1": " Glendale",
          "index": 2456
         },
         {
          "0": "Brooklyn",
          "1": " Bedford-Stuyvesant",
          "index": 2457
         },
         {
          "0": "Manhattan",
          "1": " Lower East Side",
          "index": 2458
         },
         {
          "0": "Manhattan",
          "1": " Chelsea",
          "index": 2459
         },
         {
          "0": "Manhattan",
          "1": " East Village",
          "index": 2460
         },
         {
          "0": "Manhattan",
          "1": " Financial District",
          "index": 2461
         },
         {
          "0": "Manhattan",
          "1": " Hell's Kitchen",
          "index": 2462
         },
         {
          "0": "Brooklyn",
          "1": " Prospect Heights",
          "index": 2463
         },
         {
          "0": "Brooklyn",
          "1": " East Flatbush",
          "index": 2464
         },
         {
          "0": "Brooklyn",
          "1": " Bedford-Stuyvesant",
          "index": 2465
         },
         {
          "0": "Manhattan",
          "1": " Chinatown",
          "index": 2466
         },
         {
          "0": "Brooklyn",
          "1": " Greenpoint",
          "index": 2467
         },
         {
          "0": "Manhattan",
          "1": " East Harlem",
          "index": 2468
         },
         {
          "0": "Manhattan",
          "1": " Greenwich Village",
          "index": 2469
         },
         {
          "0": "Brooklyn",
          "1": " Bedford-Stuyvesant",
          "index": 2470
         },
         {
          "0": "Manhattan",
          "1": " Theater District",
          "index": 2471
         },
         {
          "0": "Manhattan",
          "1": " West Village",
          "index": 2472
         },
         {
          "0": "Brooklyn",
          "1": " Bushwick",
          "index": 2473
         },
         {
          "0": "Manhattan",
          "1": " Financial District",
          "index": 2474
         },
         {
          "0": "Manhattan",
          "1": " Little Italy",
          "index": 2475
         },
         {
          "0": "Queens",
          "1": " Maspeth",
          "index": 2476
         },
         {
          "0": "Queens",
          "1": " Elmhurst",
          "index": 2477
         },
         {
          "0": "Manhattan",
          "1": " Kips Bay",
          "index": 2478
         },
         {
          "0": "Manhattan",
          "1": " East Village",
          "index": 2479
         },
         {
          "0": "Brooklyn",
          "1": " Williamsburg",
          "index": 2480
         },
         {
          "0": "Queens",
          "1": " Astoria",
          "index": 2481
         },
         {
          "0": "Brooklyn",
          "1": " Bushwick",
          "index": 2482
         },
         {
          "0": "Manhattan",
          "1": " Gramercy",
          "index": 2483
         },
         {
          "0": "Brooklyn",
          "1": " Boerum Hill",
          "index": 2484
         },
         {
          "0": "Manhattan",
          "1": " West Village",
          "index": 2485
         },
         {
          "0": "Brooklyn",
          "1": " Carroll Gardens",
          "index": 2486
         },
         {
          "0": "Queens",
          "1": " Flushing",
          "index": 2487
         },
         {
          "0": "Manhattan",
          "1": " Hell's Kitchen",
          "index": 2488
         },
         {
          "0": "Manhattan",
          "1": " Murray Hill",
          "index": 2489
         },
         {
          "0": "Manhattan",
          "1": " Harlem",
          "index": 2490
         },
         {
          "0": "Brooklyn",
          "1": " Bedford-Stuyvesant",
          "index": 2491
         },
         {
          "0": "Brooklyn",
          "1": " South Slope",
          "index": 2492
         },
         {
          "0": "Brooklyn",
          "1": " Crown Heights",
          "index": 2493
         },
         {
          "0": "Brooklyn",
          "1": " Williamsburg",
          "index": 2494
         },
         {
          "0": "Brooklyn",
          "1": " Williamsburg",
          "index": 2495
         },
         {
          "0": "Manhattan",
          "1": " Washington Heights",
          "index": 2496
         },
         {
          "0": "Brooklyn",
          "1": " Williamsburg",
          "index": 2497
         },
         {
          "0": "Manhattan",
          "1": " Kips Bay",
          "index": 2498
         },
         {
          "0": "Manhattan",
          "1": " Harlem",
          "index": 2499
         },
         {
          "0": "Manhattan",
          "1": " Upper East Side",
          "index": 2500
         },
         {
          "0": "Manhattan",
          "1": " Upper East Side",
          "index": 2501
         },
         {
          "0": "Brooklyn",
          "1": " Canarsie",
          "index": 2502
         },
         {
          "0": "Brooklyn",
          "1": " Bushwick",
          "index": 2503
         },
         {
          "0": "Brooklyn",
          "1": " Crown Heights",
          "index": 2504
         },
         {
          "0": "Manhattan",
          "1": " Lower East Side",
          "index": 2505
         },
         {
          "0": "Manhattan",
          "1": " Financial District",
          "index": 2506
         },
         {
          "0": "Brooklyn",
          "1": " Greenpoint",
          "index": 2507
         },
         {
          "0": "Manhattan",
          "1": " Harlem",
          "index": 2508
         },
         {
          "0": "Brooklyn",
          "1": " Flatbush",
          "index": 2509
         },
         {
          "0": "Manhattan",
          "1": " East Harlem",
          "index": 2510
         },
         {
          "0": "Brooklyn",
          "1": " Boerum Hill",
          "index": 2511
         },
         {
          "0": "Manhattan",
          "1": " Upper East Side",
          "index": 2512
         },
         {
          "0": "Bronx",
          "1": " Highbridge",
          "index": 2513
         },
         {
          "0": "Queens",
          "1": " Rockaway Beach",
          "index": 2514
         },
         {
          "0": "Queens",
          "1": " Ridgewood",
          "index": 2515
         },
         {
          "0": "Manhattan",
          "1": " Chelsea",
          "index": 2516
         },
         {
          "0": "Manhattan",
          "1": " Upper West Side",
          "index": 2517
         },
         {
          "0": "Brooklyn",
          "1": " Bushwick",
          "index": 2518
         },
         {
          "0": "Manhattan",
          "1": " Gramercy",
          "index": 2519
         },
         {
          "0": "Manhattan",
          "1": " Harlem",
          "index": 2520
         },
         {
          "0": "Brooklyn",
          "1": " Bushwick",
          "index": 2521
         },
         {
          "0": "Brooklyn",
          "1": " Bedford-Stuyvesant",
          "index": 2522
         },
         {
          "0": "Manhattan",
          "1": " Upper West Side",
          "index": 2523
         },
         {
          "0": "Manhattan",
          "1": " East Village",
          "index": 2524
         },
         {
          "0": "Brooklyn",
          "1": " Bedford-Stuyvesant",
          "index": 2525
         },
         {
          "0": "Brooklyn",
          "1": " Park Slope",
          "index": 2526
         },
         {
          "0": "Manhattan",
          "1": " Chelsea",
          "index": 2527
         },
         {
          "0": "Bronx",
          "1": " Longwood",
          "index": 2528
         },
         {
          "0": "Manhattan",
          "1": " Upper West Side",
          "index": 2529
         },
         {
          "0": "Manhattan",
          "1": " Harlem",
          "index": 2530
         },
         {
          "0": "Brooklyn",
          "1": " Bushwick",
          "index": 2531
         },
         {
          "0": "Brooklyn",
          "1": " Bedford-Stuyvesant",
          "index": 2532
         },
         {
          "0": "Manhattan",
          "1": " Midtown",
          "index": 2533
         },
         {
          "0": "Manhattan",
          "1": " East Village",
          "index": 2534
         },
         {
          "0": "Brooklyn",
          "1": " Greenpoint",
          "index": 2535
         },
         {
          "0": "Queens",
          "1": " Richmond Hill",
          "index": 2536
         },
         {
          "0": "Manhattan",
          "1": " Chinatown",
          "index": 2537
         },
         {
          "0": "Brooklyn",
          "1": " Bushwick",
          "index": 2538
         },
         {
          "0": "Brooklyn",
          "1": " Fort Greene",
          "index": 2539
         },
         {
          "0": "Manhattan",
          "1": " Gramercy",
          "index": 2540
         },
         {
          "0": "Brooklyn",
          "1": " Carroll Gardens",
          "index": 2541
         },
         {
          "0": "Brooklyn",
          "1": " Williamsburg",
          "index": 2542
         },
         {
          "0": "Manhattan",
          "1": " Upper East Side",
          "index": 2543
         },
         {
          "0": "Manhattan",
          "1": " Harlem",
          "index": 2544
         },
         {
          "0": "Brooklyn",
          "1": " Bushwick",
          "index": 2545
         },
         {
          "0": "Brooklyn",
          "1": " Flatbush",
          "index": 2546
         },
         {
          "0": "Brooklyn",
          "1": " Gravesend",
          "index": 2547
         },
         {
          "0": "Brooklyn",
          "1": " Crown Heights",
          "index": 2548
         },
         {
          "0": "Manhattan",
          "1": " Harlem",
          "index": 2549
         },
         {
          "0": "Brooklyn",
          "1": " Bedford-Stuyvesant",
          "index": 2550
         },
         {
          "0": "Manhattan",
          "1": " Greenwich Village",
          "index": 2551
         },
         {
          "0": "Brooklyn",
          "1": " Greenpoint",
          "index": 2552
         },
         {
          "0": "Manhattan",
          "1": " Lower East Side",
          "index": 2553
         },
         {
          "0": "Queens",
          "1": " Astoria",
          "index": 2554
         },
         {
          "0": "Manhattan",
          "1": " NoHo",
          "index": 2555
         },
         {
          "0": "Manhattan",
          "1": " Hell's Kitchen",
          "index": 2556
         },
         {
          "0": "Manhattan",
          "1": " Upper West Side",
          "index": 2557
         },
         {
          "0": "Manhattan",
          "1": " Upper East Side",
          "index": 2558
         },
         {
          "0": "Brooklyn",
          "1": " South Slope",
          "index": 2559
         },
         {
          "0": "Brooklyn",
          "1": " Williamsburg",
          "index": 2560
         },
         {
          "0": "Manhattan",
          "1": " Harlem",
          "index": 2561
         },
         {
          "0": "Manhattan",
          "1": " Harlem",
          "index": 2562
         },
         {
          "0": "Brooklyn",
          "1": " Williamsburg",
          "index": 2563
         },
         {
          "0": "Brooklyn",
          "1": " Bushwick",
          "index": 2564
         },
         {
          "0": "Brooklyn",
          "1": " Bedford-Stuyvesant",
          "index": 2565
         },
         {
          "0": "Brooklyn",
          "1": " Williamsburg",
          "index": 2566
         },
         {
          "0": "Queens",
          "1": " Jackson Heights",
          "index": 2567
         },
         {
          "0": "Manhattan",
          "1": " Morningside Heights",
          "index": 2568
         },
         {
          "0": "Brooklyn",
          "1": " Williamsburg",
          "index": 2569
         },
         {
          "0": "Manhattan",
          "1": " Lower East Side",
          "index": 2570
         },
         {
          "0": "Manhattan",
          "1": " Washington Heights",
          "index": 2571
         },
         {
          "0": "Brooklyn",
          "1": " Bedford-Stuyvesant",
          "index": 2572
         },
         {
          "0": "Queens",
          "1": " Jackson Heights",
          "index": 2573
         },
         {
          "0": "Manhattan",
          "1": " Murray Hill",
          "index": 2574
         },
         {
          "0": "Brooklyn",
          "1": " Greenpoint",
          "index": 2575
         },
         {
          "0": "Queens",
          "1": " Forest Hills",
          "index": 2576
         },
         {
          "0": "Manhattan",
          "1": " Washington Heights",
          "index": 2577
         },
         {
          "0": "Queens",
          "1": " Woodside",
          "index": 2578
         },
         {
          "0": "Brooklyn",
          "1": " Williamsburg",
          "index": 2579
         },
         {
          "0": "Manhattan",
          "1": " East Village",
          "index": 2580
         },
         {
          "0": "Queens",
          "1": " Astoria",
          "index": 2581
         },
         {
          "0": "Manhattan",
          "1": " East Harlem",
          "index": 2582
         },
         {
          "0": "Brooklyn",
          "1": " Clinton Hill",
          "index": 2583
         },
         {
          "0": "Manhattan",
          "1": " East Harlem",
          "index": 2584
         },
         {
          "0": "Manhattan",
          "1": " SoHo",
          "index": 2585
         },
         {
          "0": "Brooklyn",
          "1": " Bedford-Stuyvesant",
          "index": 2586
         },
         {
          "0": "Queens",
          "1": " Corona",
          "index": 2587
         },
         {
          "0": "Brooklyn",
          "1": " East Flatbush",
          "index": 2588
         },
         {
          "0": "Queens",
          "1": " St. Albans",
          "index": 2589
         },
         {
          "0": "Manhattan",
          "1": " Harlem",
          "index": 2590
         },
         {
          "0": "Brooklyn",
          "1": " Prospect Heights",
          "index": 2591
         },
         {
          "0": "Manhattan",
          "1": " Lower East Side",
          "index": 2592
         },
         {
          "0": "Manhattan",
          "1": " Hell's Kitchen",
          "index": 2593
         },
         {
          "0": "Brooklyn",
          "1": " Williamsburg",
          "index": 2594
         },
         {
          "0": "Brooklyn",
          "1": " Bedford-Stuyvesant",
          "index": 2595
         },
         {
          "0": "Manhattan",
          "1": " Harlem",
          "index": 2596
         },
         {
          "0": "Brooklyn",
          "1": " Gowanus",
          "index": 2597
         },
         {
          "0": "Brooklyn",
          "1": " Bedford-Stuyvesant",
          "index": 2598
         },
         {
          "0": "Queens",
          "1": " Forest Hills",
          "index": 2599
         },
         {
          "0": "Queens",
          "1": " East Elmhurst",
          "index": 2600
         },
         {
          "0": "Manhattan",
          "1": " Greenwich Village",
          "index": 2601
         },
         {
          "0": "Brooklyn",
          "1": " Crown Heights",
          "index": 2602
         },
         {
          "0": "Queens",
          "1": " Long Island City",
          "index": 2603
         },
         {
          "0": "Queens",
          "1": " Arverne",
          "index": 2604
         },
         {
          "0": "Manhattan",
          "1": " West Village",
          "index": 2605
         },
         {
          "0": "Brooklyn",
          "1": " Bushwick",
          "index": 2606
         },
         {
          "0": "Manhattan",
          "1": " Lower East Side",
          "index": 2607
         },
         {
          "0": "Manhattan",
          "1": " Chelsea",
          "index": 2608
         },
         {
          "0": "Brooklyn",
          "1": " Downtown Brooklyn",
          "index": 2609
         },
         {
          "0": "Manhattan",
          "1": " Harlem",
          "index": 2610
         },
         {
          "0": "Queens",
          "1": " Woodside",
          "index": 2611
         },
         {
          "0": "Queens",
          "1": " Astoria",
          "index": 2612
         },
         {
          "0": "Manhattan",
          "1": " East Harlem",
          "index": 2613
         },
         {
          "0": "Brooklyn",
          "1": " Clinton Hill",
          "index": 2614
         },
         {
          "0": "Brooklyn",
          "1": " Williamsburg",
          "index": 2615
         },
         {
          "0": "Manhattan",
          "1": " Midtown",
          "index": 2616
         },
         {
          "0": "Brooklyn",
          "1": " Bushwick",
          "index": 2617
         },
         {
          "0": "Queens",
          "1": " Long Island City",
          "index": 2618
         },
         {
          "0": "Manhattan",
          "1": " Washington Heights",
          "index": 2619
         },
         {
          "0": "Queens",
          "1": " Astoria",
          "index": 2620
         },
         {
          "0": "Bronx",
          "1": " Clason Point",
          "index": 2621
         },
         {
          "0": "Brooklyn",
          "1": " Williamsburg",
          "index": 2622
         },
         {
          "0": "Manhattan",
          "1": " Chelsea",
          "index": 2623
         },
         {
          "0": "Manhattan",
          "1": " Upper East Side",
          "index": 2624
         },
         {
          "0": "Manhattan",
          "1": " Kips Bay",
          "index": 2625
         },
         {
          "0": "Brooklyn",
          "1": " Williamsburg",
          "index": 2626
         },
         {
          "0": "Queens",
          "1": " Flushing",
          "index": 2627
         },
         {
          "0": "Queens",
          "1": " Sunnyside",
          "index": 2628
         },
         {
          "0": "Queens",
          "1": " Long Island City",
          "index": 2629
         },
         {
          "0": "Manhattan",
          "1": " East Harlem",
          "index": 2630
         },
         {
          "0": "Manhattan",
          "1": " Lower East Side",
          "index": 2631
         },
         {
          "0": "Bronx",
          "1": " Bronxdale",
          "index": 2632
         },
         {
          "0": "Brooklyn",
          "1": " Greenpoint",
          "index": 2633
         },
         {
          "0": "Brooklyn",
          "1": " Bedford-Stuyvesant",
          "index": 2634
         },
         {
          "0": "Queens",
          "1": " Springfield Gardens",
          "index": 2635
         },
         {
          "0": "Manhattan",
          "1": " East Village",
          "index": 2636
         },
         {
          "0": "Brooklyn",
          "1": " Bedford-Stuyvesant",
          "index": 2637
         },
         {
          "0": "Brooklyn",
          "1": " Bedford-Stuyvesant",
          "index": 2638
         },
         {
          "0": "Brooklyn",
          "1": " Bedford-Stuyvesant",
          "index": 2639
         },
         {
          "0": "Brooklyn",
          "1": " Cobble Hill",
          "index": 2640
         },
         {
          "0": "Manhattan",
          "1": " Upper East Side",
          "index": 2641
         },
         {
          "0": "Manhattan",
          "1": " Morningside Heights",
          "index": 2642
         },
         {
          "0": "Brooklyn",
          "1": " Williamsburg",
          "index": 2643
         },
         {
          "0": "Brooklyn",
          "1": " Bedford-Stuyvesant",
          "index": 2644
         },
         {
          "0": "Staten Island",
          "1": " Graniteville",
          "index": 2645
         },
         {
          "0": "Brooklyn",
          "1": " Flatlands",
          "index": 2646
         },
         {
          "0": "Brooklyn",
          "1": " Crown Heights",
          "index": 2647
         },
         {
          "0": "Manhattan",
          "1": " Upper West Side",
          "index": 2648
         },
         {
          "0": "Brooklyn",
          "1": " Sheepshead Bay",
          "index": 2649
         },
         {
          "0": "Brooklyn",
          "1": " Bushwick",
          "index": 2650
         },
         {
          "0": "Queens",
          "1": " Rego Park",
          "index": 2651
         },
         {
          "0": "Manhattan",
          "1": " Financial District",
          "index": 2652
         },
         {
          "0": "Manhattan",
          "1": " Chelsea",
          "index": 2653
         },
         {
          "0": "Manhattan",
          "1": " Lower East Side",
          "index": 2654
         },
         {
          "0": "Queens",
          "1": " Jackson Heights",
          "index": 2655
         },
         {
          "0": "Brooklyn",
          "1": " Clinton Hill",
          "index": 2656
         },
         {
          "0": "Manhattan",
          "1": " Little Italy",
          "index": 2657
         },
         {
          "0": "Queens",
          "1": " Jackson Heights",
          "index": 2658
         },
         {
          "0": "Manhattan",
          "1": " Chinatown",
          "index": 2659
         },
         {
          "0": "Brooklyn",
          "1": " Williamsburg",
          "index": 2660
         },
         {
          "0": "Brooklyn",
          "1": " Williamsburg",
          "index": 2661
         },
         {
          "0": "Brooklyn",
          "1": " Bedford-Stuyvesant",
          "index": 2662
         },
         {
          "0": "Manhattan",
          "1": " Financial District",
          "index": 2663
         },
         {
          "0": "Brooklyn",
          "1": " Bedford-Stuyvesant",
          "index": 2664
         },
         {
          "0": "Queens",
          "1": " Ditmars Steinway",
          "index": 2665
         },
         {
          "0": "Brooklyn",
          "1": " Williamsburg",
          "index": 2666
         },
         {
          "0": "Brooklyn",
          "1": " South Slope",
          "index": 2667
         },
         {
          "0": "Brooklyn",
          "1": " Williamsburg",
          "index": 2668
         },
         {
          "0": "Brooklyn",
          "1": " Red Hook",
          "index": 2669
         },
         {
          "0": "Brooklyn",
          "1": " Bedford-Stuyvesant",
          "index": 2670
         },
         {
          "0": "Manhattan",
          "1": " Harlem",
          "index": 2671
         },
         {
          "0": "Brooklyn",
          "1": " Prospect Heights",
          "index": 2672
         },
         {
          "0": "Brooklyn",
          "1": " Bedford-Stuyvesant",
          "index": 2673
         },
         {
          "0": "Manhattan",
          "1": " East Village",
          "index": 2674
         },
         {
          "0": "Brooklyn",
          "1": " Prospect Heights",
          "index": 2675
         },
         {
          "0": "Manhattan",
          "1": " Hell's Kitchen",
          "index": 2676
         },
         {
          "0": "Manhattan",
          "1": " Upper East Side",
          "index": 2677
         },
         {
          "0": "Queens",
          "1": " Jamaica",
          "index": 2678
         },
         {
          "0": "Queens",
          "1": " Richmond Hill",
          "index": 2679
         },
         {
          "0": "Queens",
          "1": " Long Island City",
          "index": 2680
         },
         {
          "0": "Queens",
          "1": " Rockaway Beach",
          "index": 2681
         },
         {
          "0": "Manhattan",
          "1": " West Village",
          "index": 2682
         },
         {
          "0": "Manhattan",
          "1": " Washington Heights",
          "index": 2683
         },
         {
          "0": "Brooklyn",
          "1": " Bedford-Stuyvesant",
          "index": 2684
         },
         {
          "0": "Manhattan",
          "1": " Upper West Side",
          "index": 2685
         },
         {
          "0": "Manhattan",
          "1": " Upper East Side",
          "index": 2686
         },
         {
          "0": "Brooklyn",
          "1": " Crown Heights",
          "index": 2687
         },
         {
          "0": "Manhattan",
          "1": " East Village",
          "index": 2688
         },
         {
          "0": "Manhattan",
          "1": " Harlem",
          "index": 2689
         },
         {
          "0": "Brooklyn",
          "1": " Greenpoint",
          "index": 2690
         },
         {
          "0": "Manhattan",
          "1": " Upper West Side",
          "index": 2691
         },
         {
          "0": "Queens",
          "1": " Astoria",
          "index": 2692
         },
         {
          "0": "Manhattan",
          "1": " Murray Hill",
          "index": 2693
         },
         {
          "0": "Brooklyn",
          "1": " East Flatbush",
          "index": 2694
         },
         {
          "0": "Brooklyn",
          "1": " Williamsburg",
          "index": 2695
         },
         {
          "0": "Brooklyn",
          "1": " Bedford-Stuyvesant",
          "index": 2696
         },
         {
          "0": "Manhattan",
          "1": " East Village",
          "index": 2697
         },
         {
          "0": "Bronx",
          "1": " Port Morris",
          "index": 2698
         },
         {
          "0": "Brooklyn",
          "1": " Prospect Heights",
          "index": 2699
         },
         {
          "0": "Queens",
          "1": " Ridgewood",
          "index": 2700
         },
         {
          "0": "Manhattan",
          "1": " Harlem",
          "index": 2701
         },
         {
          "0": "Brooklyn",
          "1": " South Slope",
          "index": 2702
         },
         {
          "0": "Manhattan",
          "1": " Harlem",
          "index": 2703
         },
         {
          "0": "Brooklyn",
          "1": " Greenpoint",
          "index": 2704
         },
         {
          "0": "Queens",
          "1": " Kew Gardens",
          "index": 2705
         },
         {
          "0": "Manhattan",
          "1": " Upper West Side",
          "index": 2706
         },
         {
          "0": "Manhattan",
          "1": " Hell's Kitchen",
          "index": 2707
         },
         {
          "0": "Manhattan",
          "1": " Hell's Kitchen",
          "index": 2708
         },
         {
          "0": "Brooklyn",
          "1": " Williamsburg",
          "index": 2709
         },
         {
          "0": "Queens",
          "1": " Jackson Heights",
          "index": 2710
         },
         {
          "0": "Brooklyn",
          "1": " Bedford-Stuyvesant",
          "index": 2711
         },
         {
          "0": "Manhattan",
          "1": " Hell's Kitchen",
          "index": 2712
         },
         {
          "0": "Brooklyn",
          "1": " Sunset Park",
          "index": 2713
         },
         {
          "0": "Brooklyn",
          "1": " Prospect-Lefferts Gardens",
          "index": 2714
         },
         {
          "0": "Queens",
          "1": " Woodside",
          "index": 2715
         },
         {
          "0": "Brooklyn",
          "1": " Prospect Heights",
          "index": 2716
         },
         {
          "0": "Manhattan",
          "1": " Financial District",
          "index": 2717
         },
         {
          "0": "Brooklyn",
          "1": " Bedford-Stuyvesant",
          "index": 2718
         },
         {
          "0": "Manhattan",
          "1": " Financial District",
          "index": 2719
         },
         {
          "0": "Manhattan",
          "1": " West Village",
          "index": 2720
         },
         {
          "0": "Brooklyn",
          "1": " Williamsburg",
          "index": 2721
         },
         {
          "0": "Brooklyn",
          "1": " Dyker Heights",
          "index": 2722
         },
         {
          "0": "Brooklyn",
          "1": " Bedford-Stuyvesant",
          "index": 2723
         },
         {
          "0": "Brooklyn",
          "1": " Williamsburg",
          "index": 2724
         },
         {
          "0": "Brooklyn",
          "1": " Clinton Hill",
          "index": 2725
         },
         {
          "0": "Manhattan",
          "1": " West Village",
          "index": 2726
         },
         {
          "0": "Brooklyn",
          "1": " Crown Heights",
          "index": 2727
         },
         {
          "0": "Manhattan",
          "1": " Upper East Side",
          "index": 2728
         },
         {
          "0": "Brooklyn",
          "1": " Crown Heights",
          "index": 2729
         },
         {
          "0": "Manhattan",
          "1": " Upper East Side",
          "index": 2730
         },
         {
          "0": "Manhattan",
          "1": " Upper East Side",
          "index": 2731
         },
         {
          "0": "Manhattan",
          "1": " East Village",
          "index": 2732
         },
         {
          "0": "Manhattan",
          "1": " Midtown",
          "index": 2733
         },
         {
          "0": "Manhattan",
          "1": " Chelsea",
          "index": 2734
         },
         {
          "0": "Manhattan",
          "1": " Midtown",
          "index": 2735
         },
         {
          "0": "Brooklyn",
          "1": " Sunset Park",
          "index": 2736
         },
         {
          "0": "Brooklyn",
          "1": " Greenpoint",
          "index": 2737
         },
         {
          "0": "Manhattan",
          "1": " Washington Heights",
          "index": 2738
         },
         {
          "0": "Manhattan",
          "1": " Harlem",
          "index": 2739
         },
         {
          "0": "Queens",
          "1": " Jamaica",
          "index": 2740
         },
         {
          "0": "Queens",
          "1": " Astoria",
          "index": 2741
         },
         {
          "0": "Manhattan",
          "1": " Battery Park City",
          "index": 2742
         },
         {
          "0": "Brooklyn",
          "1": " Williamsburg",
          "index": 2743
         },
         {
          "0": "Brooklyn",
          "1": " Bedford-Stuyvesant",
          "index": 2744
         },
         {
          "0": "Brooklyn",
          "1": " Greenpoint",
          "index": 2745
         },
         {
          "0": "Queens",
          "1": " Far Rockaway",
          "index": 2746
         },
         {
          "0": "Brooklyn",
          "1": " Borough Park",
          "index": 2747
         },
         {
          "0": "Brooklyn",
          "1": " Gowanus",
          "index": 2748
         },
         {
          "0": "Brooklyn",
          "1": " Park Slope",
          "index": 2749
         },
         {
          "0": "Manhattan",
          "1": " Gramercy",
          "index": 2750
         },
         {
          "0": "Queens",
          "1": " Queens Village",
          "index": 2751
         },
         {
          "0": "Manhattan",
          "1": " Financial District",
          "index": 2752
         },
         {
          "0": "Brooklyn",
          "1": " Sunset Park",
          "index": 2753
         },
         {
          "0": "Brooklyn",
          "1": " Williamsburg",
          "index": 2754
         },
         {
          "0": "Manhattan",
          "1": " Upper East Side",
          "index": 2755
         },
         {
          "0": "Brooklyn",
          "1": " Bedford-Stuyvesant",
          "index": 2756
         },
         {
          "0": "Manhattan",
          "1": " Gramercy",
          "index": 2757
         },
         {
          "0": "Manhattan",
          "1": " Nolita",
          "index": 2758
         },
         {
          "0": "Brooklyn",
          "1": " Williamsburg",
          "index": 2759
         },
         {
          "0": "Brooklyn",
          "1": " Williamsburg",
          "index": 2760
         },
         {
          "0": "Manhattan",
          "1": " Kips Bay",
          "index": 2761
         },
         {
          "0": "Brooklyn",
          "1": " Bedford-Stuyvesant",
          "index": 2762
         },
         {
          "0": "Manhattan",
          "1": " Hell's Kitchen",
          "index": 2763
         },
         {
          "0": "Queens",
          "1": " Glendale",
          "index": 2764
         },
         {
          "0": "Brooklyn",
          "1": " Flatlands",
          "index": 2765
         },
         {
          "0": "Manhattan",
          "1": " West Village",
          "index": 2766
         },
         {
          "0": "Queens",
          "1": " St. Albans",
          "index": 2767
         },
         {
          "0": "Manhattan",
          "1": " Washington Heights",
          "index": 2768
         },
         {
          "0": "Manhattan",
          "1": " Financial District",
          "index": 2769
         },
         {
          "0": "Brooklyn",
          "1": " Bushwick",
          "index": 2770
         },
         {
          "0": "Brooklyn",
          "1": " Prospect-Lefferts Gardens",
          "index": 2771
         },
         {
          "0": "Queens",
          "1": " Flushing",
          "index": 2772
         },
         {
          "0": "Brooklyn",
          "1": " East Flatbush",
          "index": 2773
         },
         {
          "0": "Brooklyn",
          "1": " Bushwick",
          "index": 2774
         },
         {
          "0": "Brooklyn",
          "1": " Crown Heights",
          "index": 2775
         },
         {
          "0": "Manhattan",
          "1": " Kips Bay",
          "index": 2776
         },
         {
          "0": "Brooklyn",
          "1": " Bedford-Stuyvesant",
          "index": 2777
         },
         {
          "0": "Manhattan",
          "1": " East Harlem",
          "index": 2778
         },
         {
          "0": "Brooklyn",
          "1": " Gravesend",
          "index": 2779
         },
         {
          "0": "Brooklyn",
          "1": " Bushwick",
          "index": 2780
         },
         {
          "0": "Manhattan",
          "1": " Chelsea",
          "index": 2781
         },
         {
          "0": "Brooklyn",
          "1": " Bedford-Stuyvesant",
          "index": 2782
         },
         {
          "0": "Brooklyn",
          "1": " East Flatbush",
          "index": 2783
         },
         {
          "0": "Brooklyn",
          "1": " Williamsburg",
          "index": 2784
         },
         {
          "0": "Brooklyn",
          "1": " Bedford-Stuyvesant",
          "index": 2785
         },
         {
          "0": "Brooklyn",
          "1": " Clinton Hill",
          "index": 2786
         },
         {
          "0": "Brooklyn",
          "1": " Greenpoint",
          "index": 2787
         },
         {
          "0": "Manhattan",
          "1": " Harlem",
          "index": 2788
         },
         {
          "0": "Manhattan",
          "1": " Harlem",
          "index": 2789
         },
         {
          "0": "Manhattan",
          "1": " West Village",
          "index": 2790
         },
         {
          "0": "Brooklyn",
          "1": " Bedford-Stuyvesant",
          "index": 2791
         },
         {
          "0": "Queens",
          "1": " Bayswater",
          "index": 2792
         },
         {
          "0": "Brooklyn",
          "1": " Williamsburg",
          "index": 2793
         },
         {
          "0": "Manhattan",
          "1": " East Harlem",
          "index": 2794
         },
         {
          "0": "Brooklyn",
          "1": " Bedford-Stuyvesant",
          "index": 2795
         },
         {
          "0": "Manhattan",
          "1": " Greenwich Village",
          "index": 2796
         },
         {
          "0": "Brooklyn",
          "1": " Bedford-Stuyvesant",
          "index": 2797
         },
         {
          "0": "Manhattan",
          "1": " Harlem",
          "index": 2798
         },
         {
          "0": "Manhattan",
          "1": " Midtown",
          "index": 2799
         },
         {
          "0": "Brooklyn",
          "1": " Fort Greene",
          "index": 2800
         },
         {
          "0": "Manhattan",
          "1": " East Village",
          "index": 2801
         },
         {
          "0": "Manhattan",
          "1": " East Harlem",
          "index": 2802
         },
         {
          "0": "Brooklyn",
          "1": " Bedford-Stuyvesant",
          "index": 2803
         },
         {
          "0": "Manhattan",
          "1": " SoHo",
          "index": 2804
         },
         {
          "0": "Brooklyn",
          "1": " Bedford-Stuyvesant",
          "index": 2805
         },
         {
          "0": "Manhattan",
          "1": " Murray Hill",
          "index": 2806
         },
         {
          "0": "Brooklyn",
          "1": " Bedford-Stuyvesant",
          "index": 2807
         },
         {
          "0": "Manhattan",
          "1": " Flatiron District",
          "index": 2808
         },
         {
          "0": "Manhattan",
          "1": " West Village",
          "index": 2809
         },
         {
          "0": "Queens",
          "1": " Flushing",
          "index": 2810
         },
         {
          "0": "Manhattan",
          "1": " Harlem",
          "index": 2811
         },
         {
          "0": "Manhattan",
          "1": " Upper West Side",
          "index": 2812
         },
         {
          "0": "Brooklyn",
          "1": " Kensington",
          "index": 2813
         },
         {
          "0": "Brooklyn",
          "1": " Bedford-Stuyvesant",
          "index": 2814
         },
         {
          "0": "Manhattan",
          "1": " East Village",
          "index": 2815
         },
         {
          "0": "Brooklyn",
          "1": " South Slope",
          "index": 2816
         },
         {
          "0": "Manhattan",
          "1": " East Harlem",
          "index": 2817
         },
         {
          "0": "Brooklyn",
          "1": " South Slope",
          "index": 2818
         },
         {
          "0": "Brooklyn",
          "1": " Williamsburg",
          "index": 2819
         },
         {
          "0": "Manhattan",
          "1": " East Harlem",
          "index": 2820
         },
         {
          "0": "Brooklyn",
          "1": " Gowanus",
          "index": 2821
         },
         {
          "0": "Queens",
          "1": " Long Island City",
          "index": 2822
         },
         {
          "0": "Brooklyn",
          "1": " Flatbush",
          "index": 2823
         },
         {
          "0": "Bronx",
          "1": " Baychester",
          "index": 2824
         },
         {
          "0": "Manhattan",
          "1": " Hell's Kitchen",
          "index": 2825
         },
         {
          "0": "Manhattan",
          "1": " Harlem",
          "index": 2826
         },
         {
          "0": "Brooklyn",
          "1": " Crown Heights",
          "index": 2827
         },
         {
          "0": "Queens",
          "1": " Flushing",
          "index": 2828
         },
         {
          "0": "Manhattan",
          "1": " Chinatown",
          "index": 2829
         },
         {
          "0": "Manhattan",
          "1": " Harlem",
          "index": 2830
         },
         {
          "0": "Bronx",
          "1": " Norwood",
          "index": 2831
         },
         {
          "0": "Bronx",
          "1": " Morris Heights",
          "index": 2832
         },
         {
          "0": "Brooklyn",
          "1": " Williamsburg",
          "index": 2833
         },
         {
          "0": "Manhattan",
          "1": " Lower East Side",
          "index": 2834
         },
         {
          "0": "Manhattan",
          "1": " Upper East Side",
          "index": 2835
         },
         {
          "0": "Brooklyn",
          "1": " Coney Island",
          "index": 2836
         },
         {
          "0": "Brooklyn",
          "1": " Greenpoint",
          "index": 2837
         },
         {
          "0": "Brooklyn",
          "1": " Prospect Heights",
          "index": 2838
         },
         {
          "0": "Manhattan",
          "1": " Chelsea",
          "index": 2839
         },
         {
          "0": "Manhattan",
          "1": " Chinatown",
          "index": 2840
         },
         {
          "0": "Manhattan",
          "1": " Upper West Side",
          "index": 2841
         },
         {
          "0": "Brooklyn",
          "1": " Bedford-Stuyvesant",
          "index": 2842
         },
         {
          "0": "Manhattan",
          "1": " Harlem",
          "index": 2843
         },
         {
          "0": "Brooklyn",
          "1": " Bedford-Stuyvesant",
          "index": 2844
         },
         {
          "0": "Brooklyn",
          "1": " Park Slope",
          "index": 2845
         },
         {
          "0": "Staten Island",
          "1": " Concord",
          "index": 2846
         },
         {
          "0": "Bronx",
          "1": " Port Morris",
          "index": 2847
         },
         {
          "0": "Manhattan",
          "1": " Two Bridges",
          "index": 2848
         },
         {
          "0": "Brooklyn",
          "1": " Williamsburg",
          "index": 2849
         },
         {
          "0": "Brooklyn",
          "1": " Bushwick",
          "index": 2850
         },
         {
          "0": "Queens",
          "1": " Briarwood",
          "index": 2851
         },
         {
          "0": "Queens",
          "1": " Sunnyside",
          "index": 2852
         },
         {
          "0": "Brooklyn",
          "1": " Bensonhurst",
          "index": 2853
         },
         {
          "0": "Manhattan",
          "1": " East Village",
          "index": 2854
         },
         {
          "0": "Brooklyn",
          "1": " Bushwick",
          "index": 2855
         },
         {
          "0": "Bronx",
          "1": " Longwood",
          "index": 2856
         },
         {
          "0": "Manhattan",
          "1": " East Village",
          "index": 2857
         },
         {
          "0": "Staten Island",
          "1": " Randall Manor",
          "index": 2858
         },
         {
          "0": "Brooklyn",
          "1": " Gowanus",
          "index": 2859
         },
         {
          "0": "Manhattan",
          "1": " Upper East Side",
          "index": 2860
         },
         {
          "0": "Manhattan",
          "1": " Harlem",
          "index": 2861
         },
         {
          "0": "Manhattan",
          "1": " Upper East Side",
          "index": 2862
         },
         {
          "0": "Queens",
          "1": " Elmhurst",
          "index": 2863
         },
         {
          "0": "Manhattan",
          "1": " Lower East Side",
          "index": 2864
         },
         {
          "0": "Manhattan",
          "1": " Nolita",
          "index": 2865
         },
         {
          "0": "Manhattan",
          "1": " Hell's Kitchen",
          "index": 2866
         },
         {
          "0": "Manhattan",
          "1": " Upper West Side",
          "index": 2867
         },
         {
          "0": "Brooklyn",
          "1": " Bushwick",
          "index": 2868
         },
         {
          "0": "Manhattan",
          "1": " East Harlem",
          "index": 2869
         },
         {
          "0": "Brooklyn",
          "1": " Bedford-Stuyvesant",
          "index": 2870
         },
         {
          "0": "Manhattan",
          "1": " Upper West Side",
          "index": 2871
         },
         {
          "0": "Manhattan",
          "1": " East Village",
          "index": 2872
         },
         {
          "0": "Brooklyn",
          "1": " Bushwick",
          "index": 2873
         },
         {
          "0": "Manhattan",
          "1": " Financial District",
          "index": 2874
         },
         {
          "0": "Brooklyn",
          "1": " Bushwick",
          "index": 2875
         },
         {
          "0": "Manhattan",
          "1": " Upper East Side",
          "index": 2876
         },
         {
          "0": "Manhattan",
          "1": " Inwood",
          "index": 2877
         },
         {
          "0": "Manhattan",
          "1": " Inwood",
          "index": 2878
         },
         {
          "0": "Brooklyn",
          "1": " Cobble Hill",
          "index": 2879
         },
         {
          "0": "Brooklyn",
          "1": " Bedford-Stuyvesant",
          "index": 2880
         },
         {
          "0": "Queens",
          "1": " Astoria",
          "index": 2881
         },
         {
          "0": "Manhattan",
          "1": " Harlem",
          "index": 2882
         },
         {
          "0": "Brooklyn",
          "1": " East New York",
          "index": 2883
         },
         {
          "0": "Manhattan",
          "1": " Upper West Side",
          "index": 2884
         },
         {
          "0": "Manhattan",
          "1": " Washington Heights",
          "index": 2885
         },
         {
          "0": "Brooklyn",
          "1": " Clinton Hill",
          "index": 2886
         },
         {
          "0": "Queens",
          "1": " Sunnyside",
          "index": 2887
         },
         {
          "0": "Manhattan",
          "1": " East Harlem",
          "index": 2888
         },
         {
          "0": "Queens",
          "1": " College Point",
          "index": 2889
         },
         {
          "0": "Queens",
          "1": " Flushing",
          "index": 2890
         },
         {
          "0": "Manhattan",
          "1": " Chelsea",
          "index": 2891
         },
         {
          "0": "Brooklyn",
          "1": " Flatbush",
          "index": 2892
         },
         {
          "0": "Brooklyn",
          "1": " Williamsburg",
          "index": 2893
         },
         {
          "0": "Brooklyn",
          "1": " Bedford-Stuyvesant",
          "index": 2894
         },
         {
          "0": "Manhattan",
          "1": " East Harlem",
          "index": 2895
         },
         {
          "0": "Brooklyn",
          "1": " Williamsburg",
          "index": 2896
         },
         {
          "0": "Manhattan",
          "1": " Hell's Kitchen",
          "index": 2897
         },
         {
          "0": "Manhattan",
          "1": " Upper East Side",
          "index": 2898
         },
         {
          "0": "Brooklyn",
          "1": " Gowanus",
          "index": 2899
         },
         {
          "0": "Manhattan",
          "1": " Midtown",
          "index": 2900
         },
         {
          "0": "Brooklyn",
          "1": " Kensington",
          "index": 2901
         },
         {
          "0": "Brooklyn",
          "1": " Williamsburg",
          "index": 2902
         },
         {
          "0": "Brooklyn",
          "1": " Bedford-Stuyvesant",
          "index": 2903
         },
         {
          "0": "Brooklyn",
          "1": " Bushwick",
          "index": 2904
         },
         {
          "0": "Brooklyn",
          "1": " Sheepshead Bay",
          "index": 2905
         },
         {
          "0": "Queens",
          "1": " Rego Park",
          "index": 2906
         },
         {
          "0": "Manhattan",
          "1": " Harlem",
          "index": 2907
         },
         {
          "0": "Manhattan",
          "1": " East Village",
          "index": 2908
         },
         {
          "0": "Queens",
          "1": " Astoria",
          "index": 2909
         },
         {
          "0": "Manhattan",
          "1": " Upper West Side",
          "index": 2910
         },
         {
          "0": "Manhattan",
          "1": " Harlem",
          "index": 2911
         },
         {
          "0": "Brooklyn",
          "1": " Crown Heights",
          "index": 2912
         },
         {
          "0": "Manhattan",
          "1": " East Village",
          "index": 2913
         },
         {
          "0": "Brooklyn",
          "1": " Clinton Hill",
          "index": 2914
         },
         {
          "0": "Queens",
          "1": " East Elmhurst",
          "index": 2915
         },
         {
          "0": "Manhattan",
          "1": " Midtown",
          "index": 2916
         },
         {
          "0": "Manhattan",
          "1": " Harlem",
          "index": 2917
         },
         {
          "0": "Manhattan",
          "1": " Washington Heights",
          "index": 2918
         },
         {
          "0": "Manhattan",
          "1": " Chinatown",
          "index": 2919
         },
         {
          "0": "Brooklyn",
          "1": " Williamsburg",
          "index": 2920
         },
         {
          "0": "Manhattan",
          "1": " Harlem",
          "index": 2921
         },
         {
          "0": "Manhattan",
          "1": " Gramercy",
          "index": 2922
         },
         {
          "0": "Manhattan",
          "1": " Washington Heights",
          "index": 2923
         },
         {
          "0": "Queens",
          "1": " Rego Park",
          "index": 2924
         },
         {
          "0": "Manhattan",
          "1": " Upper West Side",
          "index": 2925
         },
         {
          "0": "Brooklyn",
          "1": " Gowanus",
          "index": 2926
         },
         {
          "0": "Queens",
          "1": " Jamaica",
          "index": 2927
         },
         {
          "0": "Manhattan",
          "1": " Tribeca",
          "index": 2928
         },
         {
          "0": "Manhattan",
          "1": " Washington Heights",
          "index": 2929
         },
         {
          "0": "Brooklyn",
          "1": " Sunset Park",
          "index": 2930
         },
         {
          "0": "Brooklyn",
          "1": " Crown Heights",
          "index": 2931
         },
         {
          "0": "Manhattan",
          "1": " Chelsea",
          "index": 2932
         },
         {
          "0": "Brooklyn",
          "1": " East Flatbush",
          "index": 2933
         },
         {
          "0": "Manhattan",
          "1": " Midtown",
          "index": 2934
         },
         {
          "0": "Brooklyn",
          "1": " Greenpoint",
          "index": 2935
         },
         {
          "0": "Queens",
          "1": " Jamaica",
          "index": 2936
         },
         {
          "0": "Brooklyn",
          "1": " Greenpoint",
          "index": 2937
         },
         {
          "0": "Manhattan",
          "1": " Upper West Side",
          "index": 2938
         },
         {
          "0": "Brooklyn",
          "1": " Williamsburg",
          "index": 2939
         },
         {
          "0": "Manhattan",
          "1": " Hell's Kitchen",
          "index": 2940
         },
         {
          "0": "Manhattan",
          "1": " Washington Heights",
          "index": 2941
         },
         {
          "0": "Manhattan",
          "1": " Harlem",
          "index": 2942
         },
         {
          "0": "Brooklyn",
          "1": " Bedford-Stuyvesant",
          "index": 2943
         },
         {
          "0": "Manhattan",
          "1": " Chinatown",
          "index": 2944
         },
         {
          "0": "Bronx",
          "1": " West Farms",
          "index": 2945
         },
         {
          "0": "Brooklyn",
          "1": " Greenpoint",
          "index": 2946
         },
         {
          "0": "Manhattan",
          "1": " Upper East Side",
          "index": 2947
         },
         {
          "0": "Manhattan",
          "1": " Midtown",
          "index": 2948
         },
         {
          "0": "Manhattan",
          "1": " East Harlem",
          "index": 2949
         },
         {
          "0": "Brooklyn",
          "1": " Williamsburg",
          "index": 2950
         },
         {
          "0": "Brooklyn",
          "1": " Flatbush",
          "index": 2951
         },
         {
          "0": "Brooklyn",
          "1": " East Flatbush",
          "index": 2952
         },
         {
          "0": "Brooklyn",
          "1": " Borough Park",
          "index": 2953
         },
         {
          "0": "Brooklyn",
          "1": " Boerum Hill",
          "index": 2954
         },
         {
          "0": "Manhattan",
          "1": " Lower East Side",
          "index": 2955
         },
         {
          "0": "Brooklyn",
          "1": " Bushwick",
          "index": 2956
         },
         {
          "0": "Brooklyn",
          "1": " Borough Park",
          "index": 2957
         },
         {
          "0": "Manhattan",
          "1": " Lower East Side",
          "index": 2958
         },
         {
          "0": "Queens",
          "1": " Flushing",
          "index": 2959
         },
         {
          "0": "Brooklyn",
          "1": " Fort Greene",
          "index": 2960
         },
         {
          "0": "Brooklyn",
          "1": " Prospect-Lefferts Gardens",
          "index": 2961
         },
         {
          "0": "Brooklyn",
          "1": " Bedford-Stuyvesant",
          "index": 2962
         },
         {
          "0": "Brooklyn",
          "1": " Bedford-Stuyvesant",
          "index": 2963
         },
         {
          "0": "Manhattan",
          "1": " Chelsea",
          "index": 2964
         },
         {
          "0": "Manhattan",
          "1": " Harlem",
          "index": 2965
         },
         {
          "0": "Brooklyn",
          "1": " Brighton Beach",
          "index": 2966
         },
         {
          "0": "Manhattan",
          "1": " Upper West Side",
          "index": 2967
         },
         {
          "0": "Manhattan",
          "1": " Hell's Kitchen",
          "index": 2968
         },
         {
          "0": "Brooklyn",
          "1": " Gowanus",
          "index": 2969
         },
         {
          "0": "Manhattan",
          "1": " Murray Hill",
          "index": 2970
         },
         {
          "0": "Manhattan",
          "1": " Washington Heights",
          "index": 2971
         },
         {
          "0": "Brooklyn",
          "1": " Williamsburg",
          "index": 2972
         },
         {
          "0": "Brooklyn",
          "1": " Williamsburg",
          "index": 2973
         },
         {
          "0": "Manhattan",
          "1": " Morningside Heights",
          "index": 2974
         },
         {
          "0": "Brooklyn",
          "1": " Bedford-Stuyvesant",
          "index": 2975
         },
         {
          "0": "Queens",
          "1": " Ditmars Steinway",
          "index": 2976
         },
         {
          "0": "Manhattan",
          "1": " Hell's Kitchen",
          "index": 2977
         },
         {
          "0": "Manhattan",
          "1": " West Village",
          "index": 2978
         },
         {
          "0": "Brooklyn",
          "1": " Williamsburg",
          "index": 2979
         },
         {
          "0": "Brooklyn",
          "1": " Clinton Hill",
          "index": 2980
         },
         {
          "0": "Brooklyn",
          "1": " Bushwick",
          "index": 2981
         },
         {
          "0": "Brooklyn",
          "1": " Williamsburg",
          "index": 2982
         },
         {
          "0": "Brooklyn",
          "1": " Bedford-Stuyvesant",
          "index": 2983
         },
         {
          "0": "Manhattan",
          "1": " Upper East Side",
          "index": 2984
         },
         {
          "0": "Brooklyn",
          "1": " Bedford-Stuyvesant",
          "index": 2985
         },
         {
          "0": "Manhattan",
          "1": " Theater District",
          "index": 2986
         },
         {
          "0": "Queens",
          "1": " Ridgewood",
          "index": 2987
         },
         {
          "0": "Manhattan",
          "1": " Chelsea",
          "index": 2988
         },
         {
          "0": "Brooklyn",
          "1": " Williamsburg",
          "index": 2989
         },
         {
          "0": "Queens",
          "1": " Astoria",
          "index": 2990
         },
         {
          "0": "Manhattan",
          "1": " Upper East Side",
          "index": 2991
         },
         {
          "0": "Manhattan",
          "1": " Greenwich Village",
          "index": 2992
         },
         {
          "0": "Queens",
          "1": " Sunnyside",
          "index": 2993
         },
         {
          "0": "Manhattan",
          "1": " Hell's Kitchen",
          "index": 2994
         },
         {
          "0": "Manhattan",
          "1": " East Village",
          "index": 2995
         },
         {
          "0": "Manhattan",
          "1": " Harlem",
          "index": 2996
         },
         {
          "0": "Brooklyn",
          "1": " Williamsburg",
          "index": 2997
         },
         {
          "0": "Brooklyn",
          "1": " Bedford-Stuyvesant",
          "index": 2998
         },
         {
          "0": "Brooklyn",
          "1": " Park Slope",
          "index": 2999
         },
         {
          "0": "Brooklyn",
          "1": " Fort Hamilton",
          "index": 3000
         },
         {
          "0": "Queens",
          "1": " Ridgewood",
          "index": 3001
         },
         {
          "0": "Manhattan",
          "1": " Lower East Side",
          "index": 3002
         },
         {
          "0": "Manhattan",
          "1": " Harlem",
          "index": 3003
         },
         {
          "0": "Brooklyn",
          "1": " Boerum Hill",
          "index": 3004
         },
         {
          "0": "Manhattan",
          "1": " Midtown",
          "index": 3005
         },
         {
          "0": "Brooklyn",
          "1": " Williamsburg",
          "index": 3006
         },
         {
          "0": "Manhattan",
          "1": " Lower East Side",
          "index": 3007
         },
         {
          "0": "Brooklyn",
          "1": " Williamsburg",
          "index": 3008
         },
         {
          "0": "Manhattan",
          "1": " Hell's Kitchen",
          "index": 3009
         },
         {
          "0": "Manhattan",
          "1": " Harlem",
          "index": 3010
         },
         {
          "0": "Queens",
          "1": " Ditmars Steinway",
          "index": 3011
         },
         {
          "0": "Brooklyn",
          "1": " Williamsburg",
          "index": 3012
         },
         {
          "0": "Brooklyn",
          "1": " Prospect Heights",
          "index": 3013
         },
         {
          "0": "Brooklyn",
          "1": " Williamsburg",
          "index": 3014
         },
         {
          "0": "Manhattan",
          "1": " East Harlem",
          "index": 3015
         },
         {
          "0": "Brooklyn",
          "1": " Clinton Hill",
          "index": 3016
         },
         {
          "0": "Queens",
          "1": " Woodside",
          "index": 3017
         },
         {
          "0": "Brooklyn",
          "1": " South Slope",
          "index": 3018
         },
         {
          "0": "Manhattan",
          "1": " Harlem",
          "index": 3019
         },
         {
          "0": "Brooklyn",
          "1": " Williamsburg",
          "index": 3020
         },
         {
          "0": "Queens",
          "1": " Jamaica",
          "index": 3021
         },
         {
          "0": "Brooklyn",
          "1": " Crown Heights",
          "index": 3022
         },
         {
          "0": "Manhattan",
          "1": " West Village",
          "index": 3023
         },
         {
          "0": "Brooklyn",
          "1": " Park Slope",
          "index": 3024
         },
         {
          "0": "Manhattan",
          "1": " Lower East Side",
          "index": 3025
         },
         {
          "0": "Brooklyn",
          "1": " Brighton Beach",
          "index": 3026
         },
         {
          "0": "Queens",
          "1": " Elmhurst",
          "index": 3027
         },
         {
          "0": "Manhattan",
          "1": " Chinatown",
          "index": 3028
         },
         {
          "0": "Brooklyn",
          "1": " Crown Heights",
          "index": 3029
         },
         {
          "0": "Manhattan",
          "1": " Upper West Side",
          "index": 3030
         },
         {
          "0": "Brooklyn",
          "1": " Bedford-Stuyvesant",
          "index": 3031
         },
         {
          "0": "Manhattan",
          "1": " East Village",
          "index": 3032
         },
         {
          "0": "Queens",
          "1": " Astoria",
          "index": 3033
         },
         {
          "0": "Manhattan",
          "1": " East Harlem",
          "index": 3034
         },
         {
          "0": "Brooklyn",
          "1": " Sunset Park",
          "index": 3035
         },
         {
          "0": "Manhattan",
          "1": " Midtown",
          "index": 3036
         },
         {
          "0": "Brooklyn",
          "1": " Bushwick",
          "index": 3037
         },
         {
          "0": "Brooklyn",
          "1": " Bedford-Stuyvesant",
          "index": 3038
         },
         {
          "0": "Queens",
          "1": " Richmond Hill",
          "index": 3039
         },
         {
          "0": "Manhattan",
          "1": " East Harlem",
          "index": 3040
         },
         {
          "0": "Brooklyn",
          "1": " Bedford-Stuyvesant",
          "index": 3041
         },
         {
          "0": "Brooklyn",
          "1": " Williamsburg",
          "index": 3042
         },
         {
          "0": "Staten Island",
          "1": " Concord",
          "index": 3043
         },
         {
          "0": "Brooklyn",
          "1": " Park Slope",
          "index": 3044
         },
         {
          "0": "Manhattan",
          "1": " Hell's Kitchen",
          "index": 3045
         },
         {
          "0": "Manhattan",
          "1": " Upper East Side",
          "index": 3046
         },
         {
          "0": "Manhattan",
          "1": " Murray Hill",
          "index": 3047
         },
         {
          "0": "Manhattan",
          "1": " Midtown",
          "index": 3048
         },
         {
          "0": "Brooklyn",
          "1": " Bedford-Stuyvesant",
          "index": 3049
         },
         {
          "0": "Manhattan",
          "1": " East Village",
          "index": 3050
         },
         {
          "0": "Manhattan",
          "1": " Two Bridges",
          "index": 3051
         },
         {
          "0": "Manhattan",
          "1": " Washington Heights",
          "index": 3052
         },
         {
          "0": "Manhattan",
          "1": " Midtown",
          "index": 3053
         },
         {
          "0": "Manhattan",
          "1": " Hell's Kitchen",
          "index": 3054
         },
         {
          "0": "Manhattan",
          "1": " East Village",
          "index": 3055
         },
         {
          "0": "Manhattan",
          "1": " Upper West Side",
          "index": 3056
         },
         {
          "0": "Brooklyn",
          "1": " Windsor Terrace",
          "index": 3057
         },
         {
          "0": "Manhattan",
          "1": " Harlem",
          "index": 3058
         },
         {
          "0": "Manhattan",
          "1": " Harlem",
          "index": 3059
         },
         {
          "0": "Manhattan",
          "1": " Midtown",
          "index": 3060
         },
         {
          "0": "Brooklyn",
          "1": " Sunset Park",
          "index": 3061
         },
         {
          "0": "Brooklyn",
          "1": " Cobble Hill",
          "index": 3062
         },
         {
          "0": "Manhattan",
          "1": " Midtown",
          "index": 3063
         },
         {
          "0": "Brooklyn",
          "1": " Clinton Hill",
          "index": 3064
         },
         {
          "0": "Manhattan",
          "1": " East Village",
          "index": 3065
         },
         {
          "0": "Queens",
          "1": " Elmhurst",
          "index": 3066
         },
         {
          "0": "Manhattan",
          "1": " Harlem",
          "index": 3067
         },
         {
          "0": "Brooklyn",
          "1": " Prospect-Lefferts Gardens",
          "index": 3068
         },
         {
          "0": "Manhattan",
          "1": " Upper West Side",
          "index": 3069
         },
         {
          "0": "Manhattan",
          "1": " Harlem",
          "index": 3070
         },
         {
          "0": "Brooklyn",
          "1": " Greenpoint",
          "index": 3071
         },
         {
          "0": "Brooklyn",
          "1": " Bushwick",
          "index": 3072
         },
         {
          "0": "Brooklyn",
          "1": " Red Hook",
          "index": 3073
         },
         {
          "0": "Brooklyn",
          "1": " Bushwick",
          "index": 3074
         },
         {
          "0": "Brooklyn",
          "1": " Bushwick",
          "index": 3075
         },
         {
          "0": "Manhattan",
          "1": " Midtown",
          "index": 3076
         },
         {
          "0": "Manhattan",
          "1": " Harlem",
          "index": 3077
         },
         {
          "0": "Brooklyn",
          "1": " Williamsburg",
          "index": 3078
         },
         {
          "0": "Brooklyn",
          "1": " Bushwick",
          "index": 3079
         },
         {
          "0": "Queens",
          "1": " Maspeth",
          "index": 3080
         },
         {
          "0": "Brooklyn",
          "1": " Bedford-Stuyvesant",
          "index": 3081
         },
         {
          "0": "Manhattan",
          "1": " Hell's Kitchen",
          "index": 3082
         },
         {
          "0": "Brooklyn",
          "1": " Crown Heights",
          "index": 3083
         },
         {
          "0": "Manhattan",
          "1": " Harlem",
          "index": 3084
         },
         {
          "0": "Brooklyn",
          "1": " East Flatbush",
          "index": 3085
         },
         {
          "0": "Queens",
          "1": " Woodside",
          "index": 3086
         },
         {
          "0": "Manhattan",
          "1": " Lower East Side",
          "index": 3087
         },
         {
          "0": "Manhattan",
          "1": " Kips Bay",
          "index": 3088
         },
         {
          "0": "Brooklyn",
          "1": " Prospect-Lefferts Gardens",
          "index": 3089
         },
         {
          "0": "Manhattan",
          "1": " East Village",
          "index": 3090
         },
         {
          "0": "Manhattan",
          "1": " Harlem",
          "index": 3091
         },
         {
          "0": "Manhattan",
          "1": " Hell's Kitchen",
          "index": 3092
         },
         {
          "0": "Manhattan",
          "1": " East Village",
          "index": 3093
         },
         {
          "0": "Manhattan",
          "1": " Greenwich Village",
          "index": 3094
         },
         {
          "0": "Brooklyn",
          "1": " Bedford-Stuyvesant",
          "index": 3095
         },
         {
          "0": "Brooklyn",
          "1": " Fort Greene",
          "index": 3096
         },
         {
          "0": "Manhattan",
          "1": " Upper West Side",
          "index": 3097
         },
         {
          "0": "Manhattan",
          "1": " Midtown",
          "index": 3098
         },
         {
          "0": "Brooklyn",
          "1": " Bedford-Stuyvesant",
          "index": 3099
         },
         {
          "0": "Manhattan",
          "1": " Lower East Side",
          "index": 3100
         },
         {
          "0": "Manhattan",
          "1": " Upper East Side",
          "index": 3101
         },
         {
          "0": "Manhattan",
          "1": " Tribeca",
          "index": 3102
         },
         {
          "0": "Brooklyn",
          "1": " Clinton Hill",
          "index": 3103
         },
         {
          "0": "Manhattan",
          "1": " East Harlem",
          "index": 3104
         },
         {
          "0": "Brooklyn",
          "1": " Red Hook",
          "index": 3105
         },
         {
          "0": "Brooklyn",
          "1": " Prospect-Lefferts Gardens",
          "index": 3106
         },
         {
          "0": "Brooklyn",
          "1": " Williamsburg",
          "index": 3107
         },
         {
          "0": "Queens",
          "1": " Maspeth",
          "index": 3108
         },
         {
          "0": "Queens",
          "1": " Howard Beach",
          "index": 3109
         },
         {
          "0": "Brooklyn",
          "1": " Park Slope",
          "index": 3110
         },
         {
          "0": "Brooklyn",
          "1": " Greenpoint",
          "index": 3111
         },
         {
          "0": "Manhattan",
          "1": " Upper East Side",
          "index": 3112
         },
         {
          "0": "Brooklyn",
          "1": " Williamsburg",
          "index": 3113
         },
         {
          "0": "Queens",
          "1": " Richmond Hill",
          "index": 3114
         },
         {
          "0": "Bronx",
          "1": " Fordham",
          "index": 3115
         },
         {
          "0": "Manhattan",
          "1": " Financial District",
          "index": 3116
         },
         {
          "0": "Manhattan",
          "1": " Chelsea",
          "index": 3117
         },
         {
          "0": "Manhattan",
          "1": " Washington Heights",
          "index": 3118
         },
         {
          "0": "Brooklyn",
          "1": " Bushwick",
          "index": 3119
         },
         {
          "0": "Manhattan",
          "1": " Hell's Kitchen",
          "index": 3120
         },
         {
          "0": "Brooklyn",
          "1": " Bushwick",
          "index": 3121
         },
         {
          "0": "Brooklyn",
          "1": " Boerum Hill",
          "index": 3122
         },
         {
          "0": "Manhattan",
          "1": " Harlem",
          "index": 3123
         },
         {
          "0": "Brooklyn",
          "1": " Bedford-Stuyvesant",
          "index": 3124
         },
         {
          "0": "Brooklyn",
          "1": " Bedford-Stuyvesant",
          "index": 3125
         },
         {
          "0": "Manhattan",
          "1": " Financial District",
          "index": 3126
         },
         {
          "0": "Brooklyn",
          "1": " Bushwick",
          "index": 3127
         },
         {
          "0": "Manhattan",
          "1": " Gramercy",
          "index": 3128
         },
         {
          "0": "Manhattan",
          "1": " Lower East Side",
          "index": 3129
         },
         {
          "0": "Brooklyn",
          "1": " Carroll Gardens",
          "index": 3130
         },
         {
          "0": "Manhattan",
          "1": " Hell's Kitchen",
          "index": 3131
         },
         {
          "0": "Manhattan",
          "1": " Upper West Side",
          "index": 3132
         },
         {
          "0": "Brooklyn",
          "1": " Bedford-Stuyvesant",
          "index": 3133
         },
         {
          "0": "Brooklyn",
          "1": " Bedford-Stuyvesant",
          "index": 3134
         },
         {
          "0": "Manhattan",
          "1": " Upper East Side",
          "index": 3135
         },
         {
          "0": "Brooklyn",
          "1": " Greenpoint",
          "index": 3136
         },
         {
          "0": "Manhattan",
          "1": " SoHo",
          "index": 3137
         },
         {
          "0": "Manhattan",
          "1": " Hell's Kitchen",
          "index": 3138
         },
         {
          "0": "Manhattan",
          "1": " Lower East Side",
          "index": 3139
         },
         {
          "0": "Manhattan",
          "1": " Financial District",
          "index": 3140
         },
         {
          "0": "Brooklyn",
          "1": " Cypress Hills",
          "index": 3141
         },
         {
          "0": "Manhattan",
          "1": " Financial District",
          "index": 3142
         },
         {
          "0": "Manhattan",
          "1": " Harlem",
          "index": 3143
         },
         {
          "0": "Brooklyn",
          "1": " South Slope",
          "index": 3144
         },
         {
          "0": "Brooklyn",
          "1": " Bushwick",
          "index": 3145
         },
         {
          "0": "Manhattan",
          "1": " Upper East Side",
          "index": 3146
         },
         {
          "0": "Manhattan",
          "1": " East Village",
          "index": 3147
         },
         {
          "0": "Brooklyn",
          "1": " Bushwick",
          "index": 3148
         },
         {
          "0": "Brooklyn",
          "1": " Brighton Beach",
          "index": 3149
         },
         {
          "0": "Brooklyn",
          "1": " Williamsburg",
          "index": 3150
         },
         {
          "0": "Queens",
          "1": " Springfield Gardens",
          "index": 3151
         },
         {
          "0": "Bronx",
          "1": " University Heights",
          "index": 3152
         },
         {
          "0": "Brooklyn",
          "1": " Crown Heights",
          "index": 3153
         },
         {
          "0": "Manhattan",
          "1": " NoHo",
          "index": 3154
         },
         {
          "0": "Manhattan",
          "1": " Harlem",
          "index": 3155
         },
         {
          "0": "Brooklyn",
          "1": " East New York",
          "index": 3156
         },
         {
          "0": "Queens",
          "1": " Astoria",
          "index": 3157
         },
         {
          "0": "Brooklyn",
          "1": " Brooklyn Heights",
          "index": 3158
         },
         {
          "0": "Manhattan",
          "1": " Upper West Side",
          "index": 3159
         },
         {
          "0": "Brooklyn",
          "1": " Prospect-Lefferts Gardens",
          "index": 3160
         },
         {
          "0": "Manhattan",
          "1": " Kips Bay",
          "index": 3161
         },
         {
          "0": "Manhattan",
          "1": " East Village",
          "index": 3162
         },
         {
          "0": "Manhattan",
          "1": " Upper East Side",
          "index": 3163
         },
         {
          "0": "Manhattan",
          "1": " Kips Bay",
          "index": 3164
         },
         {
          "0": "Manhattan",
          "1": " East Harlem",
          "index": 3165
         },
         {
          "0": "Brooklyn",
          "1": " Bedford-Stuyvesant",
          "index": 3166
         },
         {
          "0": "Brooklyn",
          "1": " Crown Heights",
          "index": 3167
         },
         {
          "0": "Brooklyn",
          "1": " Bedford-Stuyvesant",
          "index": 3168
         },
         {
          "0": "Brooklyn",
          "1": " Williamsburg",
          "index": 3169
         },
         {
          "0": "Manhattan",
          "1": " Upper West Side",
          "index": 3170
         },
         {
          "0": "Brooklyn",
          "1": " Williamsburg",
          "index": 3171
         },
         {
          "0": "Brooklyn",
          "1": " Canarsie",
          "index": 3172
         },
         {
          "0": "Manhattan",
          "1": " Midtown",
          "index": 3173
         },
         {
          "0": "Brooklyn",
          "1": " Crown Heights",
          "index": 3174
         },
         {
          "0": "Brooklyn",
          "1": " Brighton Beach",
          "index": 3175
         },
         {
          "0": "Brooklyn",
          "1": " Williamsburg",
          "index": 3176
         },
         {
          "0": "Manhattan",
          "1": " Lower East Side",
          "index": 3177
         },
         {
          "0": "Queens",
          "1": " Rego Park",
          "index": 3178
         },
         {
          "0": "Manhattan",
          "1": " Kips Bay",
          "index": 3179
         },
         {
          "0": "Manhattan",
          "1": " Hell's Kitchen",
          "index": 3180
         },
         {
          "0": "Manhattan",
          "1": " Midtown",
          "index": 3181
         },
         {
          "0": "Manhattan",
          "1": " Hell's Kitchen",
          "index": 3182
         },
         {
          "0": "Brooklyn",
          "1": " Flatbush",
          "index": 3183
         },
         {
          "0": "Manhattan",
          "1": " NoHo",
          "index": 3184
         },
         {
          "0": "Brooklyn",
          "1": " Brighton Beach",
          "index": 3185
         },
         {
          "0": "Brooklyn",
          "1": " Fort Greene",
          "index": 3186
         },
         {
          "0": "Brooklyn",
          "1": " Williamsburg",
          "index": 3187
         },
         {
          "0": "Queens",
          "1": " Queens Village",
          "index": 3188
         },
         {
          "0": "Manhattan",
          "1": " Harlem",
          "index": 3189
         },
         {
          "0": "Brooklyn",
          "1": " Clinton Hill",
          "index": 3190
         },
         {
          "0": "Brooklyn",
          "1": " Prospect Heights",
          "index": 3191
         },
         {
          "0": "Manhattan",
          "1": " Harlem",
          "index": 3192
         },
         {
          "0": "Queens",
          "1": " Ditmars Steinway",
          "index": 3193
         },
         {
          "0": "Manhattan",
          "1": " Murray Hill",
          "index": 3194
         },
         {
          "0": "Brooklyn",
          "1": " Crown Heights",
          "index": 3195
         },
         {
          "0": "Queens",
          "1": " Flushing",
          "index": 3196
         },
         {
          "0": "Manhattan",
          "1": " Midtown",
          "index": 3197
         },
         {
          "0": "Manhattan",
          "1": " Upper West Side",
          "index": 3198
         },
         {
          "0": "Brooklyn",
          "1": " Gowanus",
          "index": 3199
         },
         {
          "0": "Manhattan",
          "1": " East Harlem",
          "index": 3200
         },
         {
          "0": "Manhattan",
          "1": " Gramercy",
          "index": 3201
         },
         {
          "0": "Brooklyn",
          "1": " Clinton Hill",
          "index": 3202
         },
         {
          "0": "Brooklyn",
          "1": " Greenpoint",
          "index": 3203
         },
         {
          "0": "Manhattan",
          "1": " Washington Heights",
          "index": 3204
         },
         {
          "0": "Brooklyn",
          "1": " Crown Heights",
          "index": 3205
         },
         {
          "0": "Brooklyn",
          "1": " Williamsburg",
          "index": 3206
         },
         {
          "0": "Manhattan",
          "1": " East Village",
          "index": 3207
         },
         {
          "0": "Manhattan",
          "1": " Hell's Kitchen",
          "index": 3208
         },
         {
          "0": "Manhattan",
          "1": " Hell's Kitchen",
          "index": 3209
         },
         {
          "0": "Brooklyn",
          "1": " Prospect Heights",
          "index": 3210
         },
         {
          "0": "Manhattan",
          "1": " East Village",
          "index": 3211
         },
         {
          "0": "Manhattan",
          "1": " East Harlem",
          "index": 3212
         },
         {
          "0": "Brooklyn",
          "1": " Williamsburg",
          "index": 3213
         },
         {
          "0": "Manhattan",
          "1": " Upper East Side",
          "index": 3214
         },
         {
          "0": "Queens",
          "1": " Briarwood",
          "index": 3215
         },
         {
          "0": "Brooklyn",
          "1": " Brownsville",
          "index": 3216
         },
         {
          "0": "Brooklyn",
          "1": " Williamsburg",
          "index": 3217
         },
         {
          "0": "Queens",
          "1": " Arverne",
          "index": 3218
         },
         {
          "0": "Queens",
          "1": " Kew Gardens",
          "index": 3219
         },
         {
          "0": "Queens",
          "1": " Ditmars Steinway",
          "index": 3220
         },
         {
          "0": "Manhattan",
          "1": " East Village",
          "index": 3221
         },
         {
          "0": "Brooklyn",
          "1": " Williamsburg",
          "index": 3222
         },
         {
          "0": "Queens",
          "1": " Ridgewood",
          "index": 3223
         },
         {
          "0": "Manhattan",
          "1": " Upper East Side",
          "index": 3224
         },
         {
          "0": "Brooklyn",
          "1": " Williamsburg",
          "index": 3225
         },
         {
          "0": "Manhattan",
          "1": " West Village",
          "index": 3226
         },
         {
          "0": "Manhattan",
          "1": " Chelsea",
          "index": 3227
         },
         {
          "0": "Manhattan",
          "1": " East Village",
          "index": 3228
         },
         {
          "0": "Manhattan",
          "1": " East Village",
          "index": 3229
         },
         {
          "0": "Staten Island",
          "1": " Tompkinsville",
          "index": 3230
         },
         {
          "0": "Brooklyn",
          "1": " Bedford-Stuyvesant",
          "index": 3231
         },
         {
          "0": "Manhattan",
          "1": " Upper West Side",
          "index": 3232
         },
         {
          "0": "Queens",
          "1": " Ditmars Steinway",
          "index": 3233
         },
         {
          "0": "Brooklyn",
          "1": " Williamsburg",
          "index": 3234
         },
         {
          "0": "Brooklyn",
          "1": " East Flatbush",
          "index": 3235
         },
         {
          "0": "Manhattan",
          "1": " Upper West Side",
          "index": 3236
         },
         {
          "0": "Brooklyn",
          "1": " Crown Heights",
          "index": 3237
         },
         {
          "0": "Manhattan",
          "1": " Midtown",
          "index": 3238
         },
         {
          "0": "Brooklyn",
          "1": " Bedford-Stuyvesant",
          "index": 3239
         },
         {
          "0": "Bronx",
          "1": " Highbridge",
          "index": 3240
         },
         {
          "0": "Manhattan",
          "1": " Hell's Kitchen",
          "index": 3241
         },
         {
          "0": "Brooklyn",
          "1": " Flatbush",
          "index": 3242
         },
         {
          "0": "Brooklyn",
          "1": " Park Slope",
          "index": 3243
         },
         {
          "0": "Queens",
          "1": " Astoria",
          "index": 3244
         },
         {
          "0": "Manhattan",
          "1": " Upper West Side",
          "index": 3245
         },
         {
          "0": "Brooklyn",
          "1": " Fort Greene",
          "index": 3246
         },
         {
          "0": "Bronx",
          "1": " Belmont",
          "index": 3247
         },
         {
          "0": "Brooklyn",
          "1": " Bushwick",
          "index": 3248
         },
         {
          "0": "Manhattan",
          "1": " Murray Hill",
          "index": 3249
         },
         {
          "0": "Queens",
          "1": " Ridgewood",
          "index": 3250
         },
         {
          "0": "Brooklyn",
          "1": " Greenpoint",
          "index": 3251
         },
         {
          "0": "Manhattan",
          "1": " Upper East Side",
          "index": 3252
         },
         {
          "0": "Manhattan",
          "1": " Harlem",
          "index": 3253
         },
         {
          "0": "Manhattan",
          "1": " Harlem",
          "index": 3254
         },
         {
          "0": "Brooklyn",
          "1": " Williamsburg",
          "index": 3255
         },
         {
          "0": "Queens",
          "1": " Middle Village",
          "index": 3256
         },
         {
          "0": "Brooklyn",
          "1": " Bushwick",
          "index": 3257
         },
         {
          "0": "Manhattan",
          "1": " Hell's Kitchen",
          "index": 3258
         },
         {
          "0": "Brooklyn",
          "1": " Flatbush",
          "index": 3259
         },
         {
          "0": "Brooklyn",
          "1": " Sheepshead Bay",
          "index": 3260
         },
         {
          "0": "Brooklyn",
          "1": " Williamsburg",
          "index": 3261
         },
         {
          "0": "Brooklyn",
          "1": " Canarsie",
          "index": 3262
         },
         {
          "0": "Queens",
          "1": " Astoria",
          "index": 3263
         },
         {
          "0": "Brooklyn",
          "1": " Williamsburg",
          "index": 3264
         },
         {
          "0": "Brooklyn",
          "1": " Bedford-Stuyvesant",
          "index": 3265
         },
         {
          "0": "Manhattan",
          "1": " Kips Bay",
          "index": 3266
         },
         {
          "0": "Brooklyn",
          "1": " Boerum Hill",
          "index": 3267
         },
         {
          "0": "Brooklyn",
          "1": " Williamsburg",
          "index": 3268
         },
         {
          "0": "Brooklyn",
          "1": " Williamsburg",
          "index": 3269
         },
         {
          "0": "Bronx",
          "1": " Throgs Neck",
          "index": 3270
         },
         {
          "0": "Brooklyn",
          "1": " Brooklyn Heights",
          "index": 3271
         },
         {
          "0": "Manhattan",
          "1": " Hell's Kitchen",
          "index": 3272
         },
         {
          "0": "Manhattan",
          "1": " Lower East Side",
          "index": 3273
         },
         {
          "0": "Brooklyn",
          "1": " Bedford-Stuyvesant",
          "index": 3274
         },
         {
          "0": "Manhattan",
          "1": " Hell's Kitchen",
          "index": 3275
         },
         {
          "0": "Brooklyn",
          "1": " Bushwick",
          "index": 3276
         },
         {
          "0": "Brooklyn",
          "1": " Flatbush",
          "index": 3277
         },
         {
          "0": "Manhattan",
          "1": " Upper East Side",
          "index": 3278
         },
         {
          "0": "Brooklyn",
          "1": " Midwood",
          "index": 3279
         },
         {
          "0": "Manhattan",
          "1": " Washington Heights",
          "index": 3280
         },
         {
          "0": "Brooklyn",
          "1": " Park Slope",
          "index": 3281
         },
         {
          "0": "Queens",
          "1": " Long Island City",
          "index": 3282
         },
         {
          "0": "Manhattan",
          "1": " Harlem",
          "index": 3283
         },
         {
          "0": "Brooklyn",
          "1": " Greenpoint",
          "index": 3284
         },
         {
          "0": "Bronx",
          "1": " Kingsbridge",
          "index": 3285
         },
         {
          "0": "Manhattan",
          "1": " Lower East Side",
          "index": 3286
         },
         {
          "0": "Brooklyn",
          "1": " Williamsburg",
          "index": 3287
         },
         {
          "0": "Brooklyn",
          "1": " Bedford-Stuyvesant",
          "index": 3288
         },
         {
          "0": "Manhattan",
          "1": " Murray Hill",
          "index": 3289
         },
         {
          "0": "Manhattan",
          "1": " Upper West Side",
          "index": 3290
         },
         {
          "0": "Brooklyn",
          "1": " Bushwick",
          "index": 3291
         },
         {
          "0": "Bronx",
          "1": " Belmont",
          "index": 3292
         },
         {
          "0": "Queens",
          "1": " Jackson Heights",
          "index": 3293
         },
         {
          "0": "Manhattan",
          "1": " East Village",
          "index": 3294
         },
         {
          "0": "Manhattan",
          "1": " Greenwich Village",
          "index": 3295
         },
         {
          "0": "Queens",
          "1": " Queens Village",
          "index": 3296
         },
         {
          "0": "Manhattan",
          "1": " Midtown",
          "index": 3297
         },
         {
          "0": "Queens",
          "1": " Astoria",
          "index": 3298
         },
         {
          "0": "Brooklyn",
          "1": " Sunset Park",
          "index": 3299
         },
         {
          "0": "Brooklyn",
          "1": " Crown Heights",
          "index": 3300
         },
         {
          "0": "Manhattan",
          "1": " Upper East Side",
          "index": 3301
         },
         {
          "0": "Manhattan",
          "1": " Harlem",
          "index": 3302
         },
         {
          "0": "Brooklyn",
          "1": " Crown Heights",
          "index": 3303
         },
         {
          "0": "Brooklyn",
          "1": " Bedford-Stuyvesant",
          "index": 3304
         },
         {
          "0": "Manhattan",
          "1": " Harlem",
          "index": 3305
         },
         {
          "0": "Queens",
          "1": " Ditmars Steinway",
          "index": 3306
         },
         {
          "0": "Manhattan",
          "1": " West Village",
          "index": 3307
         },
         {
          "0": "Manhattan",
          "1": " West Village",
          "index": 3308
         },
         {
          "0": "Queens",
          "1": " Sunnyside",
          "index": 3309
         },
         {
          "0": "Brooklyn",
          "1": " Fort Greene",
          "index": 3310
         },
         {
          "0": "Queens",
          "1": " Long Island City",
          "index": 3311
         },
         {
          "0": "Brooklyn",
          "1": " Bedford-Stuyvesant",
          "index": 3312
         },
         {
          "0": "Queens",
          "1": " Long Island City",
          "index": 3313
         },
         {
          "0": "Manhattan",
          "1": " Midtown",
          "index": 3314
         },
         {
          "0": "Manhattan",
          "1": " Hell's Kitchen",
          "index": 3315
         },
         {
          "0": "Manhattan",
          "1": " Washington Heights",
          "index": 3316
         },
         {
          "0": "Manhattan",
          "1": " Harlem",
          "index": 3317
         },
         {
          "0": "Brooklyn",
          "1": " Greenpoint",
          "index": 3318
         },
         {
          "0": "Brooklyn",
          "1": " Bedford-Stuyvesant",
          "index": 3319
         },
         {
          "0": "Queens",
          "1": " Sunnyside",
          "index": 3320
         },
         {
          "0": "Brooklyn",
          "1": " Williamsburg",
          "index": 3321
         },
         {
          "0": "Queens",
          "1": " Jamaica",
          "index": 3322
         },
         {
          "0": "Manhattan",
          "1": " West Village",
          "index": 3323
         },
         {
          "0": "Manhattan",
          "1": " Chinatown",
          "index": 3324
         },
         {
          "0": "Brooklyn",
          "1": " Flatbush",
          "index": 3325
         },
         {
          "0": "Manhattan",
          "1": " Hell's Kitchen",
          "index": 3326
         },
         {
          "0": "Manhattan",
          "1": " Chelsea",
          "index": 3327
         },
         {
          "0": "Queens",
          "1": " Ditmars Steinway",
          "index": 3328
         },
         {
          "0": "Queens",
          "1": " Fresh Meadows",
          "index": 3329
         },
         {
          "0": "Brooklyn",
          "1": " Crown Heights",
          "index": 3330
         },
         {
          "0": "Brooklyn",
          "1": " East New York",
          "index": 3331
         },
         {
          "0": "Brooklyn",
          "1": " Bedford-Stuyvesant",
          "index": 3332
         },
         {
          "0": "Brooklyn",
          "1": " Cypress Hills",
          "index": 3333
         },
         {
          "0": "Brooklyn",
          "1": " Bushwick",
          "index": 3334
         },
         {
          "0": "Manhattan",
          "1": " East Village",
          "index": 3335
         },
         {
          "0": "Brooklyn",
          "1": " Park Slope",
          "index": 3336
         },
         {
          "0": "Brooklyn",
          "1": " Williamsburg",
          "index": 3337
         },
         {
          "0": "Manhattan",
          "1": " Harlem",
          "index": 3338
         },
         {
          "0": "Manhattan",
          "1": " Midtown",
          "index": 3339
         },
         {
          "0": "Brooklyn",
          "1": " Bedford-Stuyvesant",
          "index": 3340
         },
         {
          "0": "Brooklyn",
          "1": " Bedford-Stuyvesant",
          "index": 3341
         },
         {
          "0": "Manhattan",
          "1": " East Village",
          "index": 3342
         },
         {
          "0": "Queens",
          "1": " Long Island City",
          "index": 3343
         },
         {
          "0": "Manhattan",
          "1": " Chelsea",
          "index": 3344
         },
         {
          "0": "Queens",
          "1": " Astoria",
          "index": 3345
         },
         {
          "0": "Bronx",
          "1": " Highbridge",
          "index": 3346
         },
         {
          "0": "Brooklyn",
          "1": " Bedford-Stuyvesant",
          "index": 3347
         },
         {
          "0": "Queens",
          "1": " Sunnyside",
          "index": 3348
         },
         {
          "0": "Queens",
          "1": " Astoria",
          "index": 3349
         },
         {
          "0": "Manhattan",
          "1": " Upper East Side",
          "index": 3350
         },
         {
          "0": "Manhattan",
          "1": " Washington Heights",
          "index": 3351
         },
         {
          "0": "Brooklyn",
          "1": " Fort Greene",
          "index": 3352
         },
         {
          "0": "Manhattan",
          "1": " SoHo",
          "index": 3353
         },
         {
          "0": "Manhattan",
          "1": " Kips Bay",
          "index": 3354
         },
         {
          "0": "Brooklyn",
          "1": " Williamsburg",
          "index": 3355
         },
         {
          "0": "Brooklyn",
          "1": " Sheepshead Bay",
          "index": 3356
         },
         {
          "0": "Queens",
          "1": " Long Island City",
          "index": 3357
         },
         {
          "0": "Brooklyn",
          "1": " Williamsburg",
          "index": 3358
         },
         {
          "0": "Brooklyn",
          "1": " Prospect Heights",
          "index": 3359
         },
         {
          "0": "Manhattan",
          "1": " Harlem",
          "index": 3360
         },
         {
          "0": "Brooklyn",
          "1": " Park Slope",
          "index": 3361
         },
         {
          "0": "Manhattan",
          "1": " Upper East Side",
          "index": 3362
         },
         {
          "0": "Brooklyn",
          "1": " Williamsburg",
          "index": 3363
         },
         {
          "0": "Manhattan",
          "1": " Chinatown",
          "index": 3364
         },
         {
          "0": "Bronx",
          "1": " Williamsbridge",
          "index": 3365
         },
         {
          "0": "Manhattan",
          "1": " Hell's Kitchen",
          "index": 3366
         },
         {
          "0": "Brooklyn",
          "1": " Greenpoint",
          "index": 3367
         },
         {
          "0": "Manhattan",
          "1": " East Village",
          "index": 3368
         },
         {
          "0": "Brooklyn",
          "1": " Bedford-Stuyvesant",
          "index": 3369
         },
         {
          "0": "Brooklyn",
          "1": " Downtown Brooklyn",
          "index": 3370
         },
         {
          "0": "Manhattan",
          "1": " Greenwich Village",
          "index": 3371
         },
         {
          "0": "Brooklyn",
          "1": " Park Slope",
          "index": 3372
         },
         {
          "0": "Brooklyn",
          "1": " Bushwick",
          "index": 3373
         },
         {
          "0": "Manhattan",
          "1": " Morningside Heights",
          "index": 3374
         },
         {
          "0": "Queens",
          "1": " Briarwood",
          "index": 3375
         },
         {
          "0": "Manhattan",
          "1": " Inwood",
          "index": 3376
         },
         {
          "0": "Queens",
          "1": " Jamaica",
          "index": 3377
         },
         {
          "0": "Manhattan",
          "1": " Financial District",
          "index": 3378
         },
         {
          "0": "Manhattan",
          "1": " Murray Hill",
          "index": 3379
         },
         {
          "0": "Queens",
          "1": " Long Island City",
          "index": 3380
         },
         {
          "0": "Manhattan",
          "1": " Lower East Side",
          "index": 3381
         },
         {
          "0": "Manhattan",
          "1": " Hell's Kitchen",
          "index": 3382
         },
         {
          "0": "Manhattan",
          "1": " Upper West Side",
          "index": 3383
         },
         {
          "0": "Bronx",
          "1": " Morris Park",
          "index": 3384
         },
         {
          "0": "Brooklyn",
          "1": " Bedford-Stuyvesant",
          "index": 3385
         },
         {
          "0": "Bronx",
          "1": " Clason Point",
          "index": 3386
         },
         {
          "0": "Manhattan",
          "1": " Harlem",
          "index": 3387
         },
         {
          "0": "Queens",
          "1": " Long Island City",
          "index": 3388
         },
         {
          "0": "Queens",
          "1": " Astoria",
          "index": 3389
         },
         {
          "0": "Brooklyn",
          "1": " Bushwick",
          "index": 3390
         },
         {
          "0": "Queens",
          "1": " St. Albans",
          "index": 3391
         },
         {
          "0": "Manhattan",
          "1": " Hell's Kitchen",
          "index": 3392
         },
         {
          "0": "Brooklyn",
          "1": " Crown Heights",
          "index": 3393
         },
         {
          "0": "Brooklyn",
          "1": " Williamsburg",
          "index": 3394
         },
         {
          "0": "Brooklyn",
          "1": " Bedford-Stuyvesant",
          "index": 3395
         },
         {
          "0": "Brooklyn",
          "1": " Flatbush",
          "index": 3396
         },
         {
          "0": "Staten Island",
          "1": " St. George",
          "index": 3397
         },
         {
          "0": "Manhattan",
          "1": " Kips Bay",
          "index": 3398
         },
         {
          "0": "Manhattan",
          "1": " East Village",
          "index": 3399
         },
         {
          "0": "Brooklyn",
          "1": " Crown Heights",
          "index": 3400
         },
         {
          "0": "Manhattan",
          "1": " Upper West Side",
          "index": 3401
         },
         {
          "0": "Manhattan",
          "1": " Upper East Side",
          "index": 3402
         },
         {
          "0": "Manhattan",
          "1": " Financial District",
          "index": 3403
         },
         {
          "0": "Queens",
          "1": " Astoria",
          "index": 3404
         },
         {
          "0": "Queens",
          "1": " Flushing",
          "index": 3405
         },
         {
          "0": "Manhattan",
          "1": " Hell's Kitchen",
          "index": 3406
         },
         {
          "0": "Brooklyn",
          "1": " East Flatbush",
          "index": 3407
         },
         {
          "0": "Brooklyn",
          "1": " Crown Heights",
          "index": 3408
         },
         {
          "0": "Bronx",
          "1": " Allerton",
          "index": 3409
         },
         {
          "0": "Manhattan",
          "1": " Chelsea",
          "index": 3410
         },
         {
          "0": "Brooklyn",
          "1": " East Flatbush",
          "index": 3411
         },
         {
          "0": "Queens",
          "1": " Forest Hills",
          "index": 3412
         },
         {
          "0": "Manhattan",
          "1": " Murray Hill",
          "index": 3413
         },
         {
          "0": "Manhattan",
          "1": " East Village",
          "index": 3414
         },
         {
          "0": "Brooklyn",
          "1": " Bushwick",
          "index": 3415
         },
         {
          "0": "Brooklyn",
          "1": " Williamsburg",
          "index": 3416
         },
         {
          "0": "Brooklyn",
          "1": " Williamsburg",
          "index": 3417
         },
         {
          "0": "Brooklyn",
          "1": " Cobble Hill",
          "index": 3418
         },
         {
          "0": "Brooklyn",
          "1": " Bedford-Stuyvesant",
          "index": 3419
         },
         {
          "0": "Queens",
          "1": " Forest Hills",
          "index": 3420
         },
         {
          "0": "Bronx",
          "1": " Longwood",
          "index": 3421
         },
         {
          "0": "Brooklyn",
          "1": " Flatbush",
          "index": 3422
         },
         {
          "0": "Manhattan",
          "1": " East Village",
          "index": 3423
         },
         {
          "0": "Manhattan",
          "1": " Upper West Side",
          "index": 3424
         },
         {
          "0": "Manhattan",
          "1": " East Village",
          "index": 3425
         },
         {
          "0": "Manhattan",
          "1": " SoHo",
          "index": 3426
         },
         {
          "0": "Brooklyn",
          "1": " Brooklyn Heights",
          "index": 3427
         },
         {
          "0": "Queens",
          "1": " Bay Terrace",
          "index": 3428
         },
         {
          "0": "Manhattan",
          "1": " Harlem",
          "index": 3429
         },
         {
          "0": "Manhattan",
          "1": " Upper West Side",
          "index": 3430
         },
         {
          "0": "Manhattan",
          "1": " Hell's Kitchen",
          "index": 3431
         },
         {
          "0": "Queens",
          "1": " Maspeth",
          "index": 3432
         },
         {
          "0": "Manhattan",
          "1": " Hell's Kitchen",
          "index": 3433
         },
         {
          "0": "Brooklyn",
          "1": " Bedford-Stuyvesant",
          "index": 3434
         },
         {
          "0": "Brooklyn",
          "1": " East New York",
          "index": 3435
         },
         {
          "0": "Brooklyn",
          "1": " Greenpoint",
          "index": 3436
         },
         {
          "0": "Manhattan",
          "1": " Midtown",
          "index": 3437
         },
         {
          "0": "Manhattan",
          "1": " Morningside Heights",
          "index": 3438
         },
         {
          "0": "Brooklyn",
          "1": " Bedford-Stuyvesant",
          "index": 3439
         },
         {
          "0": "Queens",
          "1": " Elmhurst",
          "index": 3440
         },
         {
          "0": "Brooklyn",
          "1": " Williamsburg",
          "index": 3441
         },
         {
          "0": "Manhattan",
          "1": " Upper East Side",
          "index": 3442
         },
         {
          "0": "Brooklyn",
          "1": " Bedford-Stuyvesant",
          "index": 3443
         },
         {
          "0": "Brooklyn",
          "1": " Bushwick",
          "index": 3444
         },
         {
          "0": "Brooklyn",
          "1": " Williamsburg",
          "index": 3445
         },
         {
          "0": "Manhattan",
          "1": " Harlem",
          "index": 3446
         },
         {
          "0": "Queens",
          "1": " Sunnyside",
          "index": 3447
         },
         {
          "0": "Manhattan",
          "1": " East Harlem",
          "index": 3448
         },
         {
          "0": "Manhattan",
          "1": " Washington Heights",
          "index": 3449
         },
         {
          "0": "Manhattan",
          "1": " Chelsea",
          "index": 3450
         },
         {
          "0": "Manhattan",
          "1": " Hell's Kitchen",
          "index": 3451
         },
         {
          "0": "Brooklyn",
          "1": " Greenpoint",
          "index": 3452
         },
         {
          "0": "Manhattan",
          "1": " Harlem",
          "index": 3453
         },
         {
          "0": "Manhattan",
          "1": " Midtown",
          "index": 3454
         },
         {
          "0": "Brooklyn",
          "1": " Greenpoint",
          "index": 3455
         },
         {
          "0": "Brooklyn",
          "1": " Williamsburg",
          "index": 3456
         },
         {
          "0": "Brooklyn",
          "1": " Prospect-Lefferts Gardens",
          "index": 3457
         },
         {
          "0": "Brooklyn",
          "1": " Bedford-Stuyvesant",
          "index": 3458
         },
         {
          "0": "Queens",
          "1": " Flushing",
          "index": 3459
         },
         {
          "0": "Brooklyn",
          "1": " Bedford-Stuyvesant",
          "index": 3460
         },
         {
          "0": "Brooklyn",
          "1": " Bedford-Stuyvesant",
          "index": 3461
         },
         {
          "0": "Brooklyn",
          "1": " Williamsburg",
          "index": 3462
         },
         {
          "0": "Manhattan",
          "1": " West Village",
          "index": 3463
         },
         {
          "0": "Brooklyn",
          "1": " Williamsburg",
          "index": 3464
         },
         {
          "0": "Brooklyn",
          "1": " Bushwick",
          "index": 3465
         },
         {
          "0": "Brooklyn",
          "1": " Bedford-Stuyvesant",
          "index": 3466
         },
         {
          "0": "Manhattan",
          "1": " Nolita",
          "index": 3467
         },
         {
          "0": "Queens",
          "1": " Long Island City",
          "index": 3468
         },
         {
          "0": "Manhattan",
          "1": " Midtown",
          "index": 3469
         },
         {
          "0": "Manhattan",
          "1": " Kips Bay",
          "index": 3470
         },
         {
          "0": "Bronx",
          "1": " City Island",
          "index": 3471
         },
         {
          "0": "Manhattan",
          "1": " Morningside Heights",
          "index": 3472
         },
         {
          "0": "Manhattan",
          "1": " Hell's Kitchen",
          "index": 3473
         },
         {
          "0": "Manhattan",
          "1": " East Harlem",
          "index": 3474
         },
         {
          "0": "Manhattan",
          "1": " East Village",
          "index": 3475
         },
         {
          "0": "Manhattan",
          "1": " Upper East Side",
          "index": 3476
         },
         {
          "0": "Manhattan",
          "1": " East Village",
          "index": 3477
         },
         {
          "0": "Manhattan",
          "1": " Gramercy",
          "index": 3478
         },
         {
          "0": "Brooklyn",
          "1": " Williamsburg",
          "index": 3479
         },
         {
          "0": "Manhattan",
          "1": " Chelsea",
          "index": 3480
         },
         {
          "0": "Manhattan",
          "1": " Inwood",
          "index": 3481
         },
         {
          "0": "Brooklyn",
          "1": " Brownsville",
          "index": 3482
         },
         {
          "0": "Manhattan",
          "1": " Upper East Side",
          "index": 3483
         },
         {
          "0": "Brooklyn",
          "1": " Clinton Hill",
          "index": 3484
         },
         {
          "0": "Brooklyn",
          "1": " East Flatbush",
          "index": 3485
         },
         {
          "0": "Manhattan",
          "1": " Tribeca",
          "index": 3486
         },
         {
          "0": "Manhattan",
          "1": " East Village",
          "index": 3487
         },
         {
          "0": "Manhattan",
          "1": " Morningside Heights",
          "index": 3488
         },
         {
          "0": "Bronx",
          "1": " Williamsbridge",
          "index": 3489
         },
         {
          "0": "Brooklyn",
          "1": " Bushwick",
          "index": 3490
         },
         {
          "0": "Queens",
          "1": " Woodside",
          "index": 3491
         },
         {
          "0": "Brooklyn",
          "1": " Bedford-Stuyvesant",
          "index": 3492
         },
         {
          "0": "Manhattan",
          "1": " Upper West Side",
          "index": 3493
         },
         {
          "0": "Manhattan",
          "1": " Upper West Side",
          "index": 3494
         },
         {
          "0": "Queens",
          "1": " Bayside",
          "index": 3495
         },
         {
          "0": "Manhattan",
          "1": " Hell's Kitchen",
          "index": 3496
         },
         {
          "0": "Brooklyn",
          "1": " Williamsburg",
          "index": 3497
         },
         {
          "0": "Manhattan",
          "1": " Washington Heights",
          "index": 3498
         },
         {
          "0": "Brooklyn",
          "1": " Bushwick",
          "index": 3499
         },
         {
          "0": "Bronx",
          "1": " Soundview",
          "index": 3500
         },
         {
          "0": "Manhattan",
          "1": " Midtown",
          "index": 3501
         },
         {
          "0": "Manhattan",
          "1": " Murray Hill",
          "index": 3502
         },
         {
          "0": "Brooklyn",
          "1": " East Flatbush",
          "index": 3503
         },
         {
          "0": "Brooklyn",
          "1": " Crown Heights",
          "index": 3504
         },
         {
          "0": "Brooklyn",
          "1": " Bedford-Stuyvesant",
          "index": 3505
         },
         {
          "0": "Brooklyn",
          "1": " Williamsburg",
          "index": 3506
         },
         {
          "0": "Brooklyn",
          "1": " Bedford-Stuyvesant",
          "index": 3507
         },
         {
          "0": "Manhattan",
          "1": " Harlem",
          "index": 3508
         },
         {
          "0": "Brooklyn",
          "1": " Bedford-Stuyvesant",
          "index": 3509
         },
         {
          "0": "Brooklyn",
          "1": " Flatbush",
          "index": 3510
         },
         {
          "0": "Bronx",
          "1": " Mott Haven",
          "index": 3511
         },
         {
          "0": "Queens",
          "1": " Elmhurst",
          "index": 3512
         },
         {
          "0": "Brooklyn",
          "1": " Bushwick",
          "index": 3513
         },
         {
          "0": "Staten Island",
          "1": " South Beach",
          "index": 3514
         },
         {
          "0": "Queens",
          "1": " Elmhurst",
          "index": 3515
         },
         {
          "0": "Brooklyn",
          "1": " Williamsburg",
          "index": 3516
         },
         {
          "0": "Bronx",
          "1": " Fordham",
          "index": 3517
         },
         {
          "0": "Queens",
          "1": " Ridgewood",
          "index": 3518
         },
         {
          "0": "Bronx",
          "1": " Kingsbridge",
          "index": 3519
         },
         {
          "0": "Queens",
          "1": " Rego Park",
          "index": 3520
         },
         {
          "0": "Manhattan",
          "1": " Lower East Side",
          "index": 3521
         },
         {
          "0": "Brooklyn",
          "1": " Canarsie",
          "index": 3522
         },
         {
          "0": "Brooklyn",
          "1": " Fort Greene",
          "index": 3523
         },
         {
          "0": "Brooklyn",
          "1": " Bushwick",
          "index": 3524
         },
         {
          "0": "Queens",
          "1": " Richmond Hill",
          "index": 3525
         },
         {
          "0": "Staten Island",
          "1": " West Brighton",
          "index": 3526
         },
         {
          "0": "Manhattan",
          "1": " Murray Hill",
          "index": 3527
         },
         {
          "0": "Brooklyn",
          "1": " Bushwick",
          "index": 3528
         },
         {
          "0": "Manhattan",
          "1": " Upper West Side",
          "index": 3529
         },
         {
          "0": "Brooklyn",
          "1": " Sheepshead Bay",
          "index": 3530
         },
         {
          "0": "Manhattan",
          "1": " Upper East Side",
          "index": 3531
         },
         {
          "0": "Brooklyn",
          "1": " Park Slope",
          "index": 3532
         },
         {
          "0": "Brooklyn",
          "1": " Park Slope",
          "index": 3533
         },
         {
          "0": "Brooklyn",
          "1": " Bedford-Stuyvesant",
          "index": 3534
         },
         {
          "0": "Manhattan",
          "1": " East Harlem",
          "index": 3535
         },
         {
          "0": "Manhattan",
          "1": " East Harlem",
          "index": 3536
         },
         {
          "0": "Brooklyn",
          "1": " Bushwick",
          "index": 3537
         },
         {
          "0": "Brooklyn",
          "1": " East Flatbush",
          "index": 3538
         },
         {
          "0": "Manhattan",
          "1": " West Village",
          "index": 3539
         },
         {
          "0": "Brooklyn",
          "1": " Fort Greene",
          "index": 3540
         },
         {
          "0": "Manhattan",
          "1": " Hell's Kitchen",
          "index": 3541
         },
         {
          "0": "Manhattan",
          "1": " Little Italy",
          "index": 3542
         },
         {
          "0": "Manhattan",
          "1": " Greenwich Village",
          "index": 3543
         },
         {
          "0": "Manhattan",
          "1": " Hell's Kitchen",
          "index": 3544
         },
         {
          "0": "Manhattan",
          "1": " Upper West Side",
          "index": 3545
         },
         {
          "0": "Manhattan",
          "1": " Upper West Side",
          "index": 3546
         },
         {
          "0": "Brooklyn",
          "1": " Cypress Hills",
          "index": 3547
         },
         {
          "0": "Brooklyn",
          "1": " Bedford-Stuyvesant",
          "index": 3548
         },
         {
          "0": "Manhattan",
          "1": " Upper East Side",
          "index": 3549
         },
         {
          "0": "Manhattan",
          "1": " Murray Hill",
          "index": 3550
         },
         {
          "0": "Manhattan",
          "1": " Lower East Side",
          "index": 3551
         },
         {
          "0": "Manhattan",
          "1": " Harlem",
          "index": 3552
         },
         {
          "0": "Manhattan",
          "1": " Harlem",
          "index": 3553
         },
         {
          "0": "Brooklyn",
          "1": " Downtown Brooklyn",
          "index": 3554
         },
         {
          "0": "Brooklyn",
          "1": " Bushwick",
          "index": 3555
         },
         {
          "0": "Brooklyn",
          "1": " Prospect Heights",
          "index": 3556
         },
         {
          "0": "Brooklyn",
          "1": " Bedford-Stuyvesant",
          "index": 3557
         },
         {
          "0": "Brooklyn",
          "1": " Williamsburg",
          "index": 3558
         },
         {
          "0": "Brooklyn",
          "1": " Park Slope",
          "index": 3559
         },
         {
          "0": "Brooklyn",
          "1": " Bedford-Stuyvesant",
          "index": 3560
         },
         {
          "0": "Queens",
          "1": " Jamaica",
          "index": 3561
         },
         {
          "0": "Manhattan",
          "1": " Upper East Side",
          "index": 3562
         },
         {
          "0": "Manhattan",
          "1": " Midtown",
          "index": 3563
         },
         {
          "0": "Manhattan",
          "1": " Financial District",
          "index": 3564
         },
         {
          "0": "Brooklyn",
          "1": " Park Slope",
          "index": 3565
         },
         {
          "0": "Brooklyn",
          "1": " Bedford-Stuyvesant",
          "index": 3566
         },
         {
          "0": "Brooklyn",
          "1": " Kensington",
          "index": 3567
         },
         {
          "0": "Queens",
          "1": " Astoria",
          "index": 3568
         },
         {
          "0": "Brooklyn",
          "1": " Fort Hamilton",
          "index": 3569
         },
         {
          "0": "Brooklyn",
          "1": " Prospect Heights",
          "index": 3570
         },
         {
          "0": "Brooklyn",
          "1": " Sunset Park",
          "index": 3571
         },
         {
          "0": "Brooklyn",
          "1": " South Slope",
          "index": 3572
         },
         {
          "0": "Brooklyn",
          "1": " Prospect-Lefferts Gardens",
          "index": 3573
         },
         {
          "0": "Brooklyn",
          "1": " Sunset Park",
          "index": 3574
         },
         {
          "0": "Brooklyn",
          "1": " Flatbush",
          "index": 3575
         },
         {
          "0": "Brooklyn",
          "1": " Carroll Gardens",
          "index": 3576
         },
         {
          "0": "Brooklyn",
          "1": " Williamsburg",
          "index": 3577
         },
         {
          "0": "Manhattan",
          "1": " Midtown",
          "index": 3578
         },
         {
          "0": "Manhattan",
          "1": " Gramercy",
          "index": 3579
         },
         {
          "0": "Manhattan",
          "1": " Upper West Side",
          "index": 3580
         },
         {
          "0": "Manhattan",
          "1": " Washington Heights",
          "index": 3581
         },
         {
          "0": "Brooklyn",
          "1": " Crown Heights",
          "index": 3582
         },
         {
          "0": "Queens",
          "1": " Long Island City",
          "index": 3583
         },
         {
          "0": "Manhattan",
          "1": " Harlem",
          "index": 3584
         },
         {
          "0": "Brooklyn",
          "1": " Greenpoint",
          "index": 3585
         },
         {
          "0": "Queens",
          "1": " Ditmars Steinway",
          "index": 3586
         },
         {
          "0": "Manhattan",
          "1": " Upper East Side",
          "index": 3587
         },
         {
          "0": "Brooklyn",
          "1": " Gowanus",
          "index": 3588
         },
         {
          "0": "Manhattan",
          "1": " Harlem",
          "index": 3589
         },
         {
          "0": "Manhattan",
          "1": " Chelsea",
          "index": 3590
         },
         {
          "0": "Brooklyn",
          "1": " Prospect-Lefferts Gardens",
          "index": 3591
         },
         {
          "0": "Brooklyn",
          "1": " South Slope",
          "index": 3592
         },
         {
          "0": "Staten Island",
          "1": " Arrochar",
          "index": 3593
         },
         {
          "0": "Manhattan",
          "1": " Gramercy",
          "index": 3594
         },
         {
          "0": "Queens",
          "1": " Queens Village",
          "index": 3595
         },
         {
          "0": "Brooklyn",
          "1": " Dyker Heights",
          "index": 3596
         },
         {
          "0": "Bronx",
          "1": " Tremont",
          "index": 3597
         },
         {
          "0": "Queens",
          "1": " Douglaston",
          "index": 3598
         },
         {
          "0": "Manhattan",
          "1": " East Harlem",
          "index": 3599
         },
         {
          "0": "Brooklyn",
          "1": " Bedford-Stuyvesant",
          "index": 3600
         },
         {
          "0": "Queens",
          "1": " Long Island City",
          "index": 3601
         },
         {
          "0": "Manhattan",
          "1": " Lower East Side",
          "index": 3602
         },
         {
          "0": "Manhattan",
          "1": " Hell's Kitchen",
          "index": 3603
         },
         {
          "0": "Manhattan",
          "1": " East Village",
          "index": 3604
         },
         {
          "0": "Manhattan",
          "1": " Midtown",
          "index": 3605
         },
         {
          "0": "Manhattan",
          "1": " Washington Heights",
          "index": 3606
         },
         {
          "0": "Manhattan",
          "1": " West Village",
          "index": 3607
         },
         {
          "0": "Queens",
          "1": " Ditmars Steinway",
          "index": 3608
         },
         {
          "0": "Brooklyn",
          "1": " Park Slope",
          "index": 3609
         },
         {
          "0": "Manhattan",
          "1": " East Village",
          "index": 3610
         },
         {
          "0": "Brooklyn",
          "1": " Cypress Hills",
          "index": 3611
         },
         {
          "0": "Brooklyn",
          "1": " Bushwick",
          "index": 3612
         },
         {
          "0": "Brooklyn",
          "1": " Bushwick",
          "index": 3613
         },
         {
          "0": "Brooklyn",
          "1": " Bedford-Stuyvesant",
          "index": 3614
         },
         {
          "0": "Manhattan",
          "1": " Financial District",
          "index": 3615
         },
         {
          "0": "Manhattan",
          "1": " East Village",
          "index": 3616
         },
         {
          "0": "Brooklyn",
          "1": " Williamsburg",
          "index": 3617
         },
         {
          "0": "Brooklyn",
          "1": " Bedford-Stuyvesant",
          "index": 3618
         },
         {
          "0": "Brooklyn",
          "1": " Williamsburg",
          "index": 3619
         },
         {
          "0": "Manhattan",
          "1": " East Harlem",
          "index": 3620
         },
         {
          "0": "Manhattan",
          "1": " East Village",
          "index": 3621
         },
         {
          "0": "Manhattan",
          "1": " Upper West Side",
          "index": 3622
         },
         {
          "0": "Brooklyn",
          "1": " Bushwick",
          "index": 3623
         },
         {
          "0": "Queens",
          "1": " Rockaway Beach",
          "index": 3624
         },
         {
          "0": "Manhattan",
          "1": " Nolita",
          "index": 3625
         },
         {
          "0": "Brooklyn",
          "1": " Crown Heights",
          "index": 3626
         },
         {
          "0": "Manhattan",
          "1": " Hell's Kitchen",
          "index": 3627
         },
         {
          "0": "Manhattan",
          "1": " Lower East Side",
          "index": 3628
         },
         {
          "0": "Manhattan",
          "1": " Harlem",
          "index": 3629
         },
         {
          "0": "Queens",
          "1": " Briarwood",
          "index": 3630
         },
         {
          "0": "Manhattan",
          "1": " Harlem",
          "index": 3631
         },
         {
          "0": "Manhattan",
          "1": " Washington Heights",
          "index": 3632
         },
         {
          "0": "Brooklyn",
          "1": " Williamsburg",
          "index": 3633
         },
         {
          "0": "Queens",
          "1": " Astoria",
          "index": 3634
         },
         {
          "0": "Queens",
          "1": " Elmhurst",
          "index": 3635
         },
         {
          "0": "Manhattan",
          "1": " Upper West Side",
          "index": 3636
         },
         {
          "0": "Brooklyn",
          "1": " Crown Heights",
          "index": 3637
         },
         {
          "0": "Brooklyn",
          "1": " Bedford-Stuyvesant",
          "index": 3638
         },
         {
          "0": "Brooklyn",
          "1": " South Slope",
          "index": 3639
         },
         {
          "0": "Manhattan",
          "1": " Washington Heights",
          "index": 3640
         },
         {
          "0": "Brooklyn",
          "1": " East Flatbush",
          "index": 3641
         },
         {
          "0": "Queens",
          "1": " East Elmhurst",
          "index": 3642
         },
         {
          "0": "Manhattan",
          "1": " Harlem",
          "index": 3643
         },
         {
          "0": "Manhattan",
          "1": " Harlem",
          "index": 3644
         },
         {
          "0": "Manhattan",
          "1": " Harlem",
          "index": 3645
         },
         {
          "0": "Queens",
          "1": " East Elmhurst",
          "index": 3646
         },
         {
          "0": "Brooklyn",
          "1": " Bedford-Stuyvesant",
          "index": 3647
         },
         {
          "0": "Bronx",
          "1": " Schuylerville",
          "index": 3648
         },
         {
          "0": "Brooklyn",
          "1": " Greenpoint",
          "index": 3649
         },
         {
          "0": "Brooklyn",
          "1": " Prospect Heights",
          "index": 3650
         },
         {
          "0": "Brooklyn",
          "1": " Cobble Hill",
          "index": 3651
         },
         {
          "0": "Brooklyn",
          "1": " Williamsburg",
          "index": 3652
         },
         {
          "0": "Brooklyn",
          "1": " Boerum Hill",
          "index": 3653
         },
         {
          "0": "Manhattan",
          "1": " Kips Bay",
          "index": 3654
         },
         {
          "0": "Brooklyn",
          "1": " Williamsburg",
          "index": 3655
         },
         {
          "0": "Manhattan",
          "1": " Harlem",
          "index": 3656
         },
         {
          "0": "Manhattan",
          "1": " Financial District",
          "index": 3657
         },
         {
          "0": "Brooklyn",
          "1": " Williamsburg",
          "index": 3658
         },
         {
          "0": "Brooklyn",
          "1": " Prospect-Lefferts Gardens",
          "index": 3659
         },
         {
          "0": "Queens",
          "1": " Jamaica",
          "index": 3660
         },
         {
          "0": "Manhattan",
          "1": " East Harlem",
          "index": 3661
         },
         {
          "0": "Queens",
          "1": " Jackson Heights",
          "index": 3662
         },
         {
          "0": "Manhattan",
          "1": " Lower East Side",
          "index": 3663
         },
         {
          "0": "Brooklyn",
          "1": " Sunset Park",
          "index": 3664
         },
         {
          "0": "Manhattan",
          "1": " Inwood",
          "index": 3665
         },
         {
          "0": "Brooklyn",
          "1": " East New York",
          "index": 3666
         },
         {
          "0": "Brooklyn",
          "1": " Bedford-Stuyvesant",
          "index": 3667
         },
         {
          "0": "Brooklyn",
          "1": " Bushwick",
          "index": 3668
         },
         {
          "0": "Manhattan",
          "1": " Theater District",
          "index": 3669
         },
         {
          "0": "Manhattan",
          "1": " Inwood",
          "index": 3670
         },
         {
          "0": "Brooklyn",
          "1": " Williamsburg",
          "index": 3671
         },
         {
          "0": "Brooklyn",
          "1": " Williamsburg",
          "index": 3672
         },
         {
          "0": "Queens",
          "1": " Springfield Gardens",
          "index": 3673
         },
         {
          "0": "Queens",
          "1": " Woodside",
          "index": 3674
         },
         {
          "0": "Brooklyn",
          "1": " Prospect Heights",
          "index": 3675
         },
         {
          "0": "Manhattan",
          "1": " Hell's Kitchen",
          "index": 3676
         },
         {
          "0": "Queens",
          "1": " Astoria",
          "index": 3677
         },
         {
          "0": "Manhattan",
          "1": " Inwood",
          "index": 3678
         },
         {
          "0": "Queens",
          "1": " Forest Hills",
          "index": 3679
         },
         {
          "0": "Brooklyn",
          "1": " Williamsburg",
          "index": 3680
         },
         {
          "0": "Brooklyn",
          "1": " Bedford-Stuyvesant",
          "index": 3681
         },
         {
          "0": "Manhattan",
          "1": " Harlem",
          "index": 3682
         },
         {
          "0": "Manhattan",
          "1": " Chelsea",
          "index": 3683
         },
         {
          "0": "Brooklyn",
          "1": " Bushwick",
          "index": 3684
         },
         {
          "0": "Brooklyn",
          "1": " Bushwick",
          "index": 3685
         },
         {
          "0": "Manhattan",
          "1": " East Village",
          "index": 3686
         },
         {
          "0": "Brooklyn",
          "1": " Brighton Beach",
          "index": 3687
         },
         {
          "0": "Queens",
          "1": " Fresh Meadows",
          "index": 3688
         },
         {
          "0": "Manhattan",
          "1": " East Harlem",
          "index": 3689
         },
         {
          "0": "Bronx",
          "1": " Pelham Bay",
          "index": 3690
         },
         {
          "0": "Brooklyn",
          "1": " Bushwick",
          "index": 3691
         },
         {
          "0": "Manhattan",
          "1": " East Village",
          "index": 3692
         },
         {
          "0": "Manhattan",
          "1": " Washington Heights",
          "index": 3693
         },
         {
          "0": "Manhattan",
          "1": " Greenwich Village",
          "index": 3694
         },
         {
          "0": "Manhattan",
          "1": " Lower East Side",
          "index": 3695
         },
         {
          "0": "Brooklyn",
          "1": " Sheepshead Bay",
          "index": 3696
         },
         {
          "0": "Brooklyn",
          "1": " Crown Heights",
          "index": 3697
         },
         {
          "0": "Manhattan",
          "1": " West Village",
          "index": 3698
         },
         {
          "0": "Queens",
          "1": " Flushing",
          "index": 3699
         },
         {
          "0": "Queens",
          "1": " Rockaway Beach",
          "index": 3700
         },
         {
          "0": "Manhattan",
          "1": " Washington Heights",
          "index": 3701
         },
         {
          "0": "Manhattan",
          "1": " Harlem",
          "index": 3702
         },
         {
          "0": "Manhattan",
          "1": " Hell's Kitchen",
          "index": 3703
         },
         {
          "0": "Manhattan",
          "1": " Harlem",
          "index": 3704
         },
         {
          "0": "Bronx",
          "1": " Mott Haven",
          "index": 3705
         },
         {
          "0": "Manhattan",
          "1": " Hell's Kitchen",
          "index": 3706
         },
         {
          "0": "Manhattan",
          "1": " Hell's Kitchen",
          "index": 3707
         },
         {
          "0": "Manhattan",
          "1": " Midtown",
          "index": 3708
         },
         {
          "0": "Manhattan",
          "1": " Upper East Side",
          "index": 3709
         },
         {
          "0": "Manhattan",
          "1": " Chinatown",
          "index": 3710
         },
         {
          "0": "Brooklyn",
          "1": " Crown Heights",
          "index": 3711
         },
         {
          "0": "Brooklyn",
          "1": " Crown Heights",
          "index": 3712
         },
         {
          "0": "Queens",
          "1": " Jackson Heights",
          "index": 3713
         },
         {
          "0": "Brooklyn",
          "1": " Columbia St",
          "index": 3714
         },
         {
          "0": "Brooklyn",
          "1": " Fort Hamilton",
          "index": 3715
         },
         {
          "0": "Manhattan",
          "1": " Lower East Side",
          "index": 3716
         },
         {
          "0": "Brooklyn",
          "1": " Bedford-Stuyvesant",
          "index": 3717
         },
         {
          "0": "Queens",
          "1": " Astoria",
          "index": 3718
         },
         {
          "0": "Brooklyn",
          "1": " Flatbush",
          "index": 3719
         },
         {
          "0": "Manhattan",
          "1": " Nolita",
          "index": 3720
         },
         {
          "0": "Brooklyn",
          "1": " Bushwick",
          "index": 3721
         },
         {
          "0": "Brooklyn",
          "1": " Bedford-Stuyvesant",
          "index": 3722
         },
         {
          "0": "Manhattan",
          "1": " Harlem",
          "index": 3723
         },
         {
          "0": "Manhattan",
          "1": " Chinatown",
          "index": 3724
         },
         {
          "0": "Brooklyn",
          "1": " Williamsburg",
          "index": 3725
         },
         {
          "0": "Manhattan",
          "1": " Upper West Side",
          "index": 3726
         },
         {
          "0": "Brooklyn",
          "1": " Crown Heights",
          "index": 3727
         },
         {
          "0": "Manhattan",
          "1": " West Village",
          "index": 3728
         },
         {
          "0": "Staten Island",
          "1": " Stapleton",
          "index": 3729
         },
         {
          "0": "Queens",
          "1": " Long Island City",
          "index": 3730
         },
         {
          "0": "Brooklyn",
          "1": " Prospect Heights",
          "index": 3731
         },
         {
          "0": "Brooklyn",
          "1": " Bushwick",
          "index": 3732
         },
         {
          "0": "Queens",
          "1": " Maspeth",
          "index": 3733
         },
         {
          "0": "Queens",
          "1": " Forest Hills",
          "index": 3734
         },
         {
          "0": "Queens",
          "1": " Ditmars Steinway",
          "index": 3735
         },
         {
          "0": "Manhattan",
          "1": " Harlem",
          "index": 3736
         },
         {
          "0": "Manhattan",
          "1": " Nolita",
          "index": 3737
         },
         {
          "0": "Manhattan",
          "1": " East Village",
          "index": 3738
         },
         {
          "0": "Brooklyn",
          "1": " Downtown Brooklyn",
          "index": 3739
         },
         {
          "0": "Brooklyn",
          "1": " Bedford-Stuyvesant",
          "index": 3740
         },
         {
          "0": "Brooklyn",
          "1": " Williamsburg",
          "index": 3741
         },
         {
          "0": "Bronx",
          "1": " Norwood",
          "index": 3742
         },
         {
          "0": "Brooklyn",
          "1": " Prospect Heights",
          "index": 3743
         },
         {
          "0": "Brooklyn",
          "1": " Williamsburg",
          "index": 3744
         },
         {
          "0": "Brooklyn",
          "1": " Bedford-Stuyvesant",
          "index": 3745
         },
         {
          "0": "Queens",
          "1": " Jamaica",
          "index": 3746
         },
         {
          "0": "Queens",
          "1": " Kew Gardens Hills",
          "index": 3747
         },
         {
          "0": "Brooklyn",
          "1": " Bedford-Stuyvesant",
          "index": 3748
         },
         {
          "0": "Manhattan",
          "1": " East Village",
          "index": 3749
         },
         {
          "0": "Manhattan",
          "1": " Hell's Kitchen",
          "index": 3750
         },
         {
          "0": "Manhattan",
          "1": " Upper East Side",
          "index": 3751
         },
         {
          "0": "Queens",
          "1": " Ditmars Steinway",
          "index": 3752
         },
         {
          "0": "Manhattan",
          "1": " Harlem",
          "index": 3753
         },
         {
          "0": "Brooklyn",
          "1": " Williamsburg",
          "index": 3754
         },
         {
          "0": "Brooklyn",
          "1": " Prospect Heights",
          "index": 3755
         },
         {
          "0": "Brooklyn",
          "1": " Park Slope",
          "index": 3756
         },
         {
          "0": "Brooklyn",
          "1": " Sheepshead Bay",
          "index": 3757
         },
         {
          "0": "Brooklyn",
          "1": " Borough Park",
          "index": 3758
         },
         {
          "0": "Brooklyn",
          "1": " Williamsburg",
          "index": 3759
         },
         {
          "0": "Manhattan",
          "1": " Chelsea",
          "index": 3760
         },
         {
          "0": "Brooklyn",
          "1": " Bushwick",
          "index": 3761
         },
         {
          "0": "Brooklyn",
          "1": " Flatbush",
          "index": 3762
         },
         {
          "0": "Manhattan",
          "1": " Hell's Kitchen",
          "index": 3763
         },
         {
          "0": "Manhattan",
          "1": " East Village",
          "index": 3764
         },
         {
          "0": "Manhattan",
          "1": " Financial District",
          "index": 3765
         },
         {
          "0": "Brooklyn",
          "1": " East New York",
          "index": 3766
         },
         {
          "0": "Brooklyn",
          "1": " Canarsie",
          "index": 3767
         },
         {
          "0": "Brooklyn",
          "1": " Williamsburg",
          "index": 3768
         },
         {
          "0": "Queens",
          "1": " Ditmars Steinway",
          "index": 3769
         },
         {
          "0": "Manhattan",
          "1": " Lower East Side",
          "index": 3770
         },
         {
          "0": "Brooklyn",
          "1": " Greenpoint",
          "index": 3771
         },
         {
          "0": "Brooklyn",
          "1": " Sunset Park",
          "index": 3772
         },
         {
          "0": "Queens",
          "1": " Richmond Hill",
          "index": 3773
         },
         {
          "0": "Manhattan",
          "1": " Hell's Kitchen",
          "index": 3774
         },
         {
          "0": "Brooklyn",
          "1": " Midwood",
          "index": 3775
         },
         {
          "0": "Queens",
          "1": " Long Island City",
          "index": 3776
         },
         {
          "0": "Manhattan",
          "1": " East Harlem",
          "index": 3777
         },
         {
          "0": "Brooklyn",
          "1": " Bushwick",
          "index": 3778
         },
         {
          "0": "Manhattan",
          "1": " Upper East Side",
          "index": 3779
         },
         {
          "0": "Brooklyn",
          "1": " Crown Heights",
          "index": 3780
         },
         {
          "0": "Brooklyn",
          "1": " Greenpoint",
          "index": 3781
         },
         {
          "0": "Manhattan",
          "1": " Harlem",
          "index": 3782
         },
         {
          "0": "Manhattan",
          "1": " Upper West Side",
          "index": 3783
         },
         {
          "0": "Queens",
          "1": " Astoria",
          "index": 3784
         },
         {
          "0": "Brooklyn",
          "1": " Bedford-Stuyvesant",
          "index": 3785
         },
         {
          "0": "Manhattan",
          "1": " Midtown",
          "index": 3786
         },
         {
          "0": "Brooklyn",
          "1": " Bushwick",
          "index": 3787
         },
         {
          "0": "Queens",
          "1": " Jamaica",
          "index": 3788
         },
         {
          "0": "Manhattan",
          "1": " Hell's Kitchen",
          "index": 3789
         },
         {
          "0": "Brooklyn",
          "1": " Williamsburg",
          "index": 3790
         },
         {
          "0": "Manhattan",
          "1": " Washington Heights",
          "index": 3791
         },
         {
          "0": "Brooklyn",
          "1": " Williamsburg",
          "index": 3792
         },
         {
          "0": "Brooklyn",
          "1": " Greenpoint",
          "index": 3793
         },
         {
          "0": "Brooklyn",
          "1": " Flatbush",
          "index": 3794
         },
         {
          "0": "Manhattan",
          "1": " West Village",
          "index": 3795
         },
         {
          "0": "Brooklyn",
          "1": " Williamsburg",
          "index": 3796
         },
         {
          "0": "Brooklyn",
          "1": " Bedford-Stuyvesant",
          "index": 3797
         },
         {
          "0": "Queens",
          "1": " Elmhurst",
          "index": 3798
         },
         {
          "0": "Brooklyn",
          "1": " South Slope",
          "index": 3799
         },
         {
          "0": "Brooklyn",
          "1": " Bedford-Stuyvesant",
          "index": 3800
         },
         {
          "0": "Brooklyn",
          "1": " Bushwick",
          "index": 3801
         },
         {
          "0": "Brooklyn",
          "1": " Bushwick",
          "index": 3802
         },
         {
          "0": "Bronx",
          "1": " North Riverdale",
          "index": 3803
         },
         {
          "0": "Manhattan",
          "1": " Gramercy",
          "index": 3804
         },
         {
          "0": "Manhattan",
          "1": " East Village",
          "index": 3805
         },
         {
          "0": "Brooklyn",
          "1": " Bedford-Stuyvesant",
          "index": 3806
         },
         {
          "0": "Brooklyn",
          "1": " Borough Park",
          "index": 3807
         },
         {
          "0": "Manhattan",
          "1": " Washington Heights",
          "index": 3808
         },
         {
          "0": "Brooklyn",
          "1": " Boerum Hill",
          "index": 3809
         },
         {
          "0": "Staten Island",
          "1": " Tompkinsville",
          "index": 3810
         },
         {
          "0": "Brooklyn",
          "1": " Flatlands",
          "index": 3811
         },
         {
          "0": "Brooklyn",
          "1": " Prospect Heights",
          "index": 3812
         },
         {
          "0": "Manhattan",
          "1": " Little Italy",
          "index": 3813
         },
         {
          "0": "Brooklyn",
          "1": " Fort Greene",
          "index": 3814
         },
         {
          "0": "Brooklyn",
          "1": " Kensington",
          "index": 3815
         },
         {
          "0": "Manhattan",
          "1": " Washington Heights",
          "index": 3816
         },
         {
          "0": "Brooklyn",
          "1": " Sunset Park",
          "index": 3817
         },
         {
          "0": "Manhattan",
          "1": " Lower East Side",
          "index": 3818
         },
         {
          "0": "Manhattan",
          "1": " East Harlem",
          "index": 3819
         },
         {
          "0": "Manhattan",
          "1": " Morningside Heights",
          "index": 3820
         },
         {
          "0": "Queens",
          "1": " Astoria",
          "index": 3821
         },
         {
          "0": "Manhattan",
          "1": " Upper East Side",
          "index": 3822
         },
         {
          "0": "Brooklyn",
          "1": " Williamsburg",
          "index": 3823
         },
         {
          "0": "Manhattan",
          "1": " Greenwich Village",
          "index": 3824
         },
         {
          "0": "Brooklyn",
          "1": " Williamsburg",
          "index": 3825
         },
         {
          "0": "Queens",
          "1": " Sunnyside",
          "index": 3826
         },
         {
          "0": "Brooklyn",
          "1": " Park Slope",
          "index": 3827
         },
         {
          "0": "Manhattan",
          "1": " Gramercy",
          "index": 3828
         },
         {
          "0": "Manhattan",
          "1": " Chelsea",
          "index": 3829
         },
         {
          "0": "Manhattan",
          "1": " Hell's Kitchen",
          "index": 3830
         },
         {
          "0": "Brooklyn",
          "1": " Downtown Brooklyn",
          "index": 3831
         },
         {
          "0": "Brooklyn",
          "1": " Clinton Hill",
          "index": 3832
         },
         {
          "0": "Manhattan",
          "1": " Hell's Kitchen",
          "index": 3833
         },
         {
          "0": "Manhattan",
          "1": " Hell's Kitchen",
          "index": 3834
         },
         {
          "0": "Brooklyn",
          "1": " Kensington",
          "index": 3835
         },
         {
          "0": "Brooklyn",
          "1": " East New York",
          "index": 3836
         },
         {
          "0": "Queens",
          "1": " Ridgewood",
          "index": 3837
         },
         {
          "0": "Manhattan",
          "1": " Chinatown",
          "index": 3838
         },
         {
          "0": "Brooklyn",
          "1": " Williamsburg",
          "index": 3839
         },
         {
          "0": "Manhattan",
          "1": " Upper East Side",
          "index": 3840
         },
         {
          "0": "Brooklyn",
          "1": " Bedford-Stuyvesant",
          "index": 3841
         },
         {
          "0": "Brooklyn",
          "1": " Bedford-Stuyvesant",
          "index": 3842
         },
         {
          "0": "Manhattan",
          "1": " Upper West Side",
          "index": 3843
         },
         {
          "0": "Manhattan",
          "1": " Upper East Side",
          "index": 3844
         },
         {
          "0": "Brooklyn",
          "1": " Crown Heights",
          "index": 3845
         },
         {
          "0": "Queens",
          "1": " Long Island City",
          "index": 3846
         },
         {
          "0": "Brooklyn",
          "1": " Williamsburg",
          "index": 3847
         },
         {
          "0": "Brooklyn",
          "1": " Prospect-Lefferts Gardens",
          "index": 3848
         },
         {
          "0": "Manhattan",
          "1": " Financial District",
          "index": 3849
         },
         {
          "0": "Manhattan",
          "1": " Morningside Heights",
          "index": 3850
         },
         {
          "0": "Brooklyn",
          "1": " Williamsburg",
          "index": 3851
         },
         {
          "0": "Queens",
          "1": " Rego Park",
          "index": 3852
         },
         {
          "0": "Manhattan",
          "1": " Upper East Side",
          "index": 3853
         },
         {
          "0": "Brooklyn",
          "1": " Crown Heights",
          "index": 3854
         },
         {
          "0": "Queens",
          "1": " Sunnyside",
          "index": 3855
         },
         {
          "0": "Brooklyn",
          "1": " Bedford-Stuyvesant",
          "index": 3856
         },
         {
          "0": "Queens",
          "1": " Maspeth",
          "index": 3857
         },
         {
          "0": "Staten Island",
          "1": " Oakwood",
          "index": 3858
         },
         {
          "0": "Queens",
          "1": " Astoria",
          "index": 3859
         },
         {
          "0": "Manhattan",
          "1": " Chinatown",
          "index": 3860
         },
         {
          "0": "Brooklyn",
          "1": " Prospect-Lefferts Gardens",
          "index": 3861
         },
         {
          "0": "Manhattan",
          "1": " East Village",
          "index": 3862
         },
         {
          "0": "Manhattan",
          "1": " Financial District",
          "index": 3863
         },
         {
          "0": "Manhattan",
          "1": " Lower East Side",
          "index": 3864
         },
         {
          "0": "Manhattan",
          "1": " Midtown",
          "index": 3865
         },
         {
          "0": "Manhattan",
          "1": " Upper East Side",
          "index": 3866
         },
         {
          "0": "Staten Island",
          "1": " Westerleigh",
          "index": 3867
         },
         {
          "0": "Queens",
          "1": " Ridgewood",
          "index": 3868
         },
         {
          "0": "Manhattan",
          "1": " Upper West Side",
          "index": 3869
         },
         {
          "0": "Brooklyn",
          "1": " Williamsburg",
          "index": 3870
         },
         {
          "0": "Brooklyn",
          "1": " Bedford-Stuyvesant",
          "index": 3871
         },
         {
          "0": "Queens",
          "1": " Long Island City",
          "index": 3872
         },
         {
          "0": "Brooklyn",
          "1": " Borough Park",
          "index": 3873
         },
         {
          "0": "Queens",
          "1": " Ditmars Steinway",
          "index": 3874
         },
         {
          "0": "Manhattan",
          "1": " Murray Hill",
          "index": 3875
         },
         {
          "0": "Brooklyn",
          "1": " Crown Heights",
          "index": 3876
         },
         {
          "0": "Brooklyn",
          "1": " Crown Heights",
          "index": 3877
         },
         {
          "0": "Brooklyn",
          "1": " Williamsburg",
          "index": 3878
         },
         {
          "0": "Brooklyn",
          "1": " Williamsburg",
          "index": 3879
         },
         {
          "0": "Brooklyn",
          "1": " Crown Heights",
          "index": 3880
         },
         {
          "0": "Manhattan",
          "1": " East Harlem",
          "index": 3881
         },
         {
          "0": "Manhattan",
          "1": " Upper East Side",
          "index": 3882
         },
         {
          "0": "Brooklyn",
          "1": " Bushwick",
          "index": 3883
         },
         {
          "0": "Manhattan",
          "1": " Harlem",
          "index": 3884
         },
         {
          "0": "Manhattan",
          "1": " East Village",
          "index": 3885
         },
         {
          "0": "Brooklyn",
          "1": " Bedford-Stuyvesant",
          "index": 3886
         },
         {
          "0": "Manhattan",
          "1": " Chelsea",
          "index": 3887
         },
         {
          "0": "Manhattan",
          "1": " Financial District",
          "index": 3888
         },
         {
          "0": "Brooklyn",
          "1": " Williamsburg",
          "index": 3889
         },
         {
          "0": "Manhattan",
          "1": " Harlem",
          "index": 3890
         },
         {
          "0": "Brooklyn",
          "1": " Greenpoint",
          "index": 3891
         },
         {
          "0": "Brooklyn",
          "1": " Williamsburg",
          "index": 3892
         },
         {
          "0": "Manhattan",
          "1": " Washington Heights",
          "index": 3893
         },
         {
          "0": "Brooklyn",
          "1": " Greenpoint",
          "index": 3894
         },
         {
          "0": "Manhattan",
          "1": " Harlem",
          "index": 3895
         },
         {
          "0": "Brooklyn",
          "1": " Clinton Hill",
          "index": 3896
         },
         {
          "0": "Manhattan",
          "1": " Lower East Side",
          "index": 3897
         },
         {
          "0": "Brooklyn",
          "1": " Williamsburg",
          "index": 3898
         },
         {
          "0": "Queens",
          "1": " Ditmars Steinway",
          "index": 3899
         },
         {
          "0": "Manhattan",
          "1": " Harlem",
          "index": 3900
         },
         {
          "0": "Manhattan",
          "1": " Hell's Kitchen",
          "index": 3901
         },
         {
          "0": "Manhattan",
          "1": " Upper West Side",
          "index": 3902
         },
         {
          "0": "Manhattan",
          "1": " Midtown",
          "index": 3903
         },
         {
          "0": "Manhattan",
          "1": " Washington Heights",
          "index": 3904
         },
         {
          "0": "Manhattan",
          "1": " Upper East Side",
          "index": 3905
         },
         {
          "0": "Queens",
          "1": " Ridgewood",
          "index": 3906
         },
         {
          "0": "Manhattan",
          "1": " Upper East Side",
          "index": 3907
         },
         {
          "0": "Manhattan",
          "1": " Harlem",
          "index": 3908
         },
         {
          "0": "Manhattan",
          "1": " Upper West Side",
          "index": 3909
         },
         {
          "0": "Brooklyn",
          "1": " Brooklyn Heights",
          "index": 3910
         },
         {
          "0": "Manhattan",
          "1": " Kips Bay",
          "index": 3911
         },
         {
          "0": "Manhattan",
          "1": " East Harlem",
          "index": 3912
         },
         {
          "0": "Brooklyn",
          "1": " Bedford-Stuyvesant",
          "index": 3913
         },
         {
          "0": "Brooklyn",
          "1": " Crown Heights",
          "index": 3914
         },
         {
          "0": "Manhattan",
          "1": " Midtown",
          "index": 3915
         },
         {
          "0": "Brooklyn",
          "1": " Greenpoint",
          "index": 3916
         },
         {
          "0": "Brooklyn",
          "1": " Williamsburg",
          "index": 3917
         },
         {
          "0": "Queens",
          "1": " Elmhurst",
          "index": 3918
         },
         {
          "0": "Manhattan",
          "1": " Washington Heights",
          "index": 3919
         },
         {
          "0": "Brooklyn",
          "1": " Bedford-Stuyvesant",
          "index": 3920
         },
         {
          "0": "Brooklyn",
          "1": " Prospect Heights",
          "index": 3921
         },
         {
          "0": "Manhattan",
          "1": " Murray Hill",
          "index": 3922
         },
         {
          "0": "Manhattan",
          "1": " Gramercy",
          "index": 3923
         },
         {
          "0": "Manhattan",
          "1": " Upper West Side",
          "index": 3924
         },
         {
          "0": "Manhattan",
          "1": " Upper East Side",
          "index": 3925
         },
         {
          "0": "Manhattan",
          "1": " Upper East Side",
          "index": 3926
         },
         {
          "0": "Brooklyn",
          "1": " Greenpoint",
          "index": 3927
         },
         {
          "0": "Manhattan",
          "1": " East Village",
          "index": 3928
         },
         {
          "0": "Manhattan",
          "1": " Financial District",
          "index": 3929
         },
         {
          "0": "Manhattan",
          "1": " East Harlem",
          "index": 3930
         },
         {
          "0": "Queens",
          "1": " Astoria",
          "index": 3931
         },
         {
          "0": "Brooklyn",
          "1": " Williamsburg",
          "index": 3932
         },
         {
          "0": "Manhattan",
          "1": " Upper East Side",
          "index": 3933
         },
         {
          "0": "Brooklyn",
          "1": " Bushwick",
          "index": 3934
         },
         {
          "0": "Brooklyn",
          "1": " Williamsburg",
          "index": 3935
         },
         {
          "0": "Manhattan",
          "1": " Hell's Kitchen",
          "index": 3936
         },
         {
          "0": "Bronx",
          "1": " Bronxdale",
          "index": 3937
         },
         {
          "0": "Bronx",
          "1": " Norwood",
          "index": 3938
         },
         {
          "0": "Brooklyn",
          "1": " Crown Heights",
          "index": 3939
         },
         {
          "0": "Queens",
          "1": " Ditmars Steinway",
          "index": 3940
         },
         {
          "0": "Brooklyn",
          "1": " Williamsburg",
          "index": 3941
         },
         {
          "0": "Brooklyn",
          "1": " Gowanus",
          "index": 3942
         },
         {
          "0": "Brooklyn",
          "1": " Bedford-Stuyvesant",
          "index": 3943
         },
         {
          "0": "Manhattan",
          "1": " Midtown",
          "index": 3944
         },
         {
          "0": "Manhattan",
          "1": " East Village",
          "index": 3945
         },
         {
          "0": "Manhattan",
          "1": " Upper East Side",
          "index": 3946
         },
         {
          "0": "Brooklyn",
          "1": " Bedford-Stuyvesant",
          "index": 3947
         },
         {
          "0": "Manhattan",
          "1": " Upper West Side",
          "index": 3948
         },
         {
          "0": "Manhattan",
          "1": " Greenwich Village",
          "index": 3949
         },
         {
          "0": "Manhattan",
          "1": " Murray Hill",
          "index": 3950
         },
         {
          "0": "Brooklyn",
          "1": " Bedford-Stuyvesant",
          "index": 3951
         },
         {
          "0": "Manhattan",
          "1": " East Harlem",
          "index": 3952
         },
         {
          "0": "Queens",
          "1": " Long Island City",
          "index": 3953
         },
         {
          "0": "Manhattan",
          "1": " SoHo",
          "index": 3954
         },
         {
          "0": "Queens",
          "1": " Maspeth",
          "index": 3955
         },
         {
          "0": "Manhattan",
          "1": " East Harlem",
          "index": 3956
         },
         {
          "0": "Brooklyn",
          "1": " Crown Heights",
          "index": 3957
         },
         {
          "0": "Manhattan",
          "1": " Midtown",
          "index": 3958
         },
         {
          "0": "Manhattan",
          "1": " Hell's Kitchen",
          "index": 3959
         },
         {
          "0": "Brooklyn",
          "1": " Borough Park",
          "index": 3960
         },
         {
          "0": "Manhattan",
          "1": " Lower East Side",
          "index": 3961
         },
         {
          "0": "Manhattan",
          "1": " Chelsea",
          "index": 3962
         },
         {
          "0": "Brooklyn",
          "1": " Prospect-Lefferts Gardens",
          "index": 3963
         },
         {
          "0": "Manhattan",
          "1": " Flatiron District",
          "index": 3964
         },
         {
          "0": "Manhattan",
          "1": " SoHo",
          "index": 3965
         },
         {
          "0": "Manhattan",
          "1": " Murray Hill",
          "index": 3966
         },
         {
          "0": "Manhattan",
          "1": " Hell's Kitchen",
          "index": 3967
         },
         {
          "0": "Brooklyn",
          "1": " Greenpoint",
          "index": 3968
         },
         {
          "0": "Manhattan",
          "1": " Murray Hill",
          "index": 3969
         },
         {
          "0": "Brooklyn",
          "1": " Clinton Hill",
          "index": 3970
         },
         {
          "0": "Manhattan",
          "1": " Upper West Side",
          "index": 3971
         },
         {
          "0": "Brooklyn",
          "1": " Carroll Gardens",
          "index": 3972
         },
         {
          "0": "Brooklyn",
          "1": " Williamsburg",
          "index": 3973
         },
         {
          "0": "Queens",
          "1": " Ridgewood",
          "index": 3974
         },
         {
          "0": "Manhattan",
          "1": " Midtown",
          "index": 3975
         },
         {
          "0": "Brooklyn",
          "1": " Bedford-Stuyvesant",
          "index": 3976
         },
         {
          "0": "Brooklyn",
          "1": " South Slope",
          "index": 3977
         },
         {
          "0": "Manhattan",
          "1": " East Harlem",
          "index": 3978
         },
         {
          "0": "Brooklyn",
          "1": " Bushwick",
          "index": 3979
         },
         {
          "0": "Brooklyn",
          "1": " Sunset Park",
          "index": 3980
         },
         {
          "0": "Manhattan",
          "1": " Harlem",
          "index": 3981
         },
         {
          "0": "Brooklyn",
          "1": " Bedford-Stuyvesant",
          "index": 3982
         },
         {
          "0": "Brooklyn",
          "1": " Kensington",
          "index": 3983
         },
         {
          "0": "Queens",
          "1": " Bayside",
          "index": 3984
         },
         {
          "0": "Brooklyn",
          "1": " East New York",
          "index": 3985
         },
         {
          "0": "Brooklyn",
          "1": " Windsor Terrace",
          "index": 3986
         },
         {
          "0": "Brooklyn",
          "1": " Crown Heights",
          "index": 3987
         },
         {
          "0": "Brooklyn",
          "1": " Williamsburg",
          "index": 3988
         },
         {
          "0": "Brooklyn",
          "1": " Williamsburg",
          "index": 3989
         },
         {
          "0": "Brooklyn",
          "1": " Park Slope",
          "index": 3990
         },
         {
          "0": "Manhattan",
          "1": " Upper East Side",
          "index": 3991
         },
         {
          "0": "Brooklyn",
          "1": " Bedford-Stuyvesant",
          "index": 3992
         },
         {
          "0": "Brooklyn",
          "1": " Bedford-Stuyvesant",
          "index": 3993
         },
         {
          "0": "Manhattan",
          "1": " Inwood",
          "index": 3994
         },
         {
          "0": "Manhattan",
          "1": " Lower East Side",
          "index": 3995
         },
         {
          "0": "Brooklyn",
          "1": " Williamsburg",
          "index": 3996
         },
         {
          "0": "Brooklyn",
          "1": " Crown Heights",
          "index": 3997
         },
         {
          "0": "Brooklyn",
          "1": " South Slope",
          "index": 3998
         },
         {
          "0": "Manhattan",
          "1": " Chelsea",
          "index": 3999
         },
         {
          "0": "Brooklyn",
          "1": " Bushwick",
          "index": 4000
         },
         {
          "0": "Brooklyn",
          "1": " Williamsburg",
          "index": 4001
         },
         {
          "0": "Manhattan",
          "1": " East Village",
          "index": 4002
         },
         {
          "0": "Manhattan",
          "1": " Upper West Side",
          "index": 4003
         },
         {
          "0": "Brooklyn",
          "1": " Bushwick",
          "index": 4004
         },
         {
          "0": "Manhattan",
          "1": " East Village",
          "index": 4005
         },
         {
          "0": "Manhattan",
          "1": " Harlem",
          "index": 4006
         },
         {
          "0": "Brooklyn",
          "1": " Williamsburg",
          "index": 4007
         },
         {
          "0": "Manhattan",
          "1": " Upper East Side",
          "index": 4008
         },
         {
          "0": "Brooklyn",
          "1": " Williamsburg",
          "index": 4009
         },
         {
          "0": "Manhattan",
          "1": " Hell's Kitchen",
          "index": 4010
         },
         {
          "0": "Manhattan",
          "1": " Hell's Kitchen",
          "index": 4011
         },
         {
          "0": "Manhattan",
          "1": " Upper East Side",
          "index": 4012
         },
         {
          "0": "Manhattan",
          "1": " Chinatown",
          "index": 4013
         },
         {
          "0": "Brooklyn",
          "1": " Clinton Hill",
          "index": 4014
         },
         {
          "0": "Manhattan",
          "1": " West Village",
          "index": 4015
         },
         {
          "0": "Manhattan",
          "1": " Washington Heights",
          "index": 4016
         },
         {
          "0": "Brooklyn",
          "1": " Bushwick",
          "index": 4017
         },
         {
          "0": "Queens",
          "1": " Ditmars Steinway",
          "index": 4018
         },
         {
          "0": "Manhattan",
          "1": " West Village",
          "index": 4019
         },
         {
          "0": "Manhattan",
          "1": " Washington Heights",
          "index": 4020
         },
         {
          "0": "Queens",
          "1": " Sunnyside",
          "index": 4021
         },
         {
          "0": "Queens",
          "1": " St. Albans",
          "index": 4022
         },
         {
          "0": "Brooklyn",
          "1": " Crown Heights",
          "index": 4023
         },
         {
          "0": "Brooklyn",
          "1": " Williamsburg",
          "index": 4024
         },
         {
          "0": "Manhattan",
          "1": " West Village",
          "index": 4025
         },
         {
          "0": "Brooklyn",
          "1": " Brownsville",
          "index": 4026
         },
         {
          "0": "Manhattan",
          "1": " Upper West Side",
          "index": 4027
         },
         {
          "0": "Brooklyn",
          "1": " Fort Greene",
          "index": 4028
         },
         {
          "0": "Manhattan",
          "1": " Hell's Kitchen",
          "index": 4029
         },
         {
          "0": "Manhattan",
          "1": " East Harlem",
          "index": 4030
         },
         {
          "0": "Brooklyn",
          "1": " Bushwick",
          "index": 4031
         },
         {
          "0": "Brooklyn",
          "1": " Prospect-Lefferts Gardens",
          "index": 4032
         },
         {
          "0": "Brooklyn",
          "1": " Williamsburg",
          "index": 4033
         },
         {
          "0": "Manhattan",
          "1": " SoHo",
          "index": 4034
         },
         {
          "0": "Queens",
          "1": " Sunnyside",
          "index": 4035
         },
         {
          "0": "Manhattan",
          "1": " Hell's Kitchen",
          "index": 4036
         },
         {
          "0": "Brooklyn",
          "1": " Cypress Hills",
          "index": 4037
         },
         {
          "0": "Manhattan",
          "1": " Inwood",
          "index": 4038
         },
         {
          "0": "Queens",
          "1": " Forest Hills",
          "index": 4039
         },
         {
          "0": "Manhattan",
          "1": " Kips Bay",
          "index": 4040
         },
         {
          "0": "Brooklyn",
          "1": " Flatbush",
          "index": 4041
         },
         {
          "0": "Brooklyn",
          "1": " Park Slope",
          "index": 4042
         },
         {
          "0": "Brooklyn",
          "1": " East Flatbush",
          "index": 4043
         },
         {
          "0": "Queens",
          "1": " Jamaica",
          "index": 4044
         },
         {
          "0": "Manhattan",
          "1": " Midtown",
          "index": 4045
         },
         {
          "0": "Queens",
          "1": " Jamaica",
          "index": 4046
         },
         {
          "0": "Brooklyn",
          "1": " Williamsburg",
          "index": 4047
         },
         {
          "0": "Manhattan",
          "1": " Gramercy",
          "index": 4048
         },
         {
          "0": "Manhattan",
          "1": " Harlem",
          "index": 4049
         },
         {
          "0": "Manhattan",
          "1": " Upper East Side",
          "index": 4050
         },
         {
          "0": "Brooklyn",
          "1": " Fort Greene",
          "index": 4051
         },
         {
          "0": "Manhattan",
          "1": " Hell's Kitchen",
          "index": 4052
         },
         {
          "0": "Manhattan",
          "1": " Roosevelt Island",
          "index": 4053
         },
         {
          "0": "Brooklyn",
          "1": " Carroll Gardens",
          "index": 4054
         },
         {
          "0": "Manhattan",
          "1": " Washington Heights",
          "index": 4055
         },
         {
          "0": "Manhattan",
          "1": " West Village",
          "index": 4056
         },
         {
          "0": "Brooklyn",
          "1": " Prospect-Lefferts Gardens",
          "index": 4057
         },
         {
          "0": "Manhattan",
          "1": " Harlem",
          "index": 4058
         },
         {
          "0": "Brooklyn",
          "1": " Williamsburg",
          "index": 4059
         },
         {
          "0": "Queens",
          "1": " Forest Hills",
          "index": 4060
         },
         {
          "0": "Brooklyn",
          "1": " Williamsburg",
          "index": 4061
         },
         {
          "0": "Manhattan",
          "1": " Upper East Side",
          "index": 4062
         },
         {
          "0": "Brooklyn",
          "1": " Clinton Hill",
          "index": 4063
         },
         {
          "0": "Manhattan",
          "1": " Upper West Side",
          "index": 4064
         },
         {
          "0": "Brooklyn",
          "1": " Brooklyn Heights",
          "index": 4065
         },
         {
          "0": "Brooklyn",
          "1": " Bedford-Stuyvesant",
          "index": 4066
         },
         {
          "0": "Manhattan",
          "1": " Theater District",
          "index": 4067
         },
         {
          "0": "Manhattan",
          "1": " Midtown",
          "index": 4068
         },
         {
          "0": "Brooklyn",
          "1": " Greenpoint",
          "index": 4069
         },
         {
          "0": "Brooklyn",
          "1": " Crown Heights",
          "index": 4070
         },
         {
          "0": "Brooklyn",
          "1": " Bedford-Stuyvesant",
          "index": 4071
         },
         {
          "0": "Manhattan",
          "1": " Chelsea",
          "index": 4072
         },
         {
          "0": "Brooklyn",
          "1": " Crown Heights",
          "index": 4073
         },
         {
          "0": "Brooklyn",
          "1": " Sunset Park",
          "index": 4074
         },
         {
          "0": "Manhattan",
          "1": " Murray Hill",
          "index": 4075
         },
         {
          "0": "Brooklyn",
          "1": " Greenpoint",
          "index": 4076
         },
         {
          "0": "Queens",
          "1": " South Ozone Park",
          "index": 4077
         },
         {
          "0": "Brooklyn",
          "1": " Williamsburg",
          "index": 4078
         },
         {
          "0": "Queens",
          "1": " Astoria",
          "index": 4079
         },
         {
          "0": "Brooklyn",
          "1": " DUMBO",
          "index": 4080
         },
         {
          "0": "Brooklyn",
          "1": " East Flatbush",
          "index": 4081
         },
         {
          "0": "Brooklyn",
          "1": " Bedford-Stuyvesant",
          "index": 4082
         },
         {
          "0": "Manhattan",
          "1": " Harlem",
          "index": 4083
         },
         {
          "0": "Manhattan",
          "1": " East Village",
          "index": 4084
         },
         {
          "0": "Brooklyn",
          "1": " Brownsville",
          "index": 4085
         },
         {
          "0": "Brooklyn",
          "1": " South Slope",
          "index": 4086
         },
         {
          "0": "Manhattan",
          "1": " Upper East Side",
          "index": 4087
         },
         {
          "0": "Manhattan",
          "1": " Financial District",
          "index": 4088
         },
         {
          "0": "Brooklyn",
          "1": " Bedford-Stuyvesant",
          "index": 4089
         },
         {
          "0": "Brooklyn",
          "1": " Williamsburg",
          "index": 4090
         },
         {
          "0": "Manhattan",
          "1": " Harlem",
          "index": 4091
         },
         {
          "0": "Brooklyn",
          "1": " Crown Heights",
          "index": 4092
         },
         {
          "0": "Manhattan",
          "1": " Harlem",
          "index": 4093
         },
         {
          "0": "Queens",
          "1": " Queens Village",
          "index": 4094
         },
         {
          "0": "Brooklyn",
          "1": " Williamsburg",
          "index": 4095
         },
         {
          "0": "Brooklyn",
          "1": " Bedford-Stuyvesant",
          "index": 4096
         },
         {
          "0": "Brooklyn",
          "1": " Bedford-Stuyvesant",
          "index": 4097
         },
         {
          "0": "Manhattan",
          "1": " Harlem",
          "index": 4098
         },
         {
          "0": "Manhattan",
          "1": " Hell's Kitchen",
          "index": 4099
         },
         {
          "0": "Manhattan",
          "1": " Hell's Kitchen",
          "index": 4100
         },
         {
          "0": "Queens",
          "1": " Sunnyside",
          "index": 4101
         },
         {
          "0": "Queens",
          "1": " Ridgewood",
          "index": 4102
         },
         {
          "0": "Brooklyn",
          "1": " Williamsburg",
          "index": 4103
         },
         {
          "0": "Queens",
          "1": " Long Island City",
          "index": 4104
         },
         {
          "0": "Brooklyn",
          "1": " Carroll Gardens",
          "index": 4105
         },
         {
          "0": "Manhattan",
          "1": " Upper West Side",
          "index": 4106
         },
         {
          "0": "Manhattan",
          "1": " Chelsea",
          "index": 4107
         },
         {
          "0": "Manhattan",
          "1": " Inwood",
          "index": 4108
         },
         {
          "0": "Brooklyn",
          "1": " Bedford-Stuyvesant",
          "index": 4109
         },
         {
          "0": "Brooklyn",
          "1": " Williamsburg",
          "index": 4110
         },
         {
          "0": "Queens",
          "1": " Long Island City",
          "index": 4111
         },
         {
          "0": "Brooklyn",
          "1": " Crown Heights",
          "index": 4112
         },
         {
          "0": "Brooklyn",
          "1": " Bedford-Stuyvesant",
          "index": 4113
         },
         {
          "0": "Manhattan",
          "1": " Midtown",
          "index": 4114
         },
         {
          "0": "Brooklyn",
          "1": " Fort Greene",
          "index": 4115
         },
         {
          "0": "Brooklyn",
          "1": " Williamsburg",
          "index": 4116
         },
         {
          "0": "Brooklyn",
          "1": " Bedford-Stuyvesant",
          "index": 4117
         },
         {
          "0": "Queens",
          "1": " Astoria",
          "index": 4118
         },
         {
          "0": "Brooklyn",
          "1": " Bushwick",
          "index": 4119
         },
         {
          "0": "Brooklyn",
          "1": " Clinton Hill",
          "index": 4120
         },
         {
          "0": "Bronx",
          "1": " Mott Haven",
          "index": 4121
         },
         {
          "0": "Manhattan",
          "1": " Harlem",
          "index": 4122
         },
         {
          "0": "Brooklyn",
          "1": " Brownsville",
          "index": 4123
         },
         {
          "0": "Brooklyn",
          "1": " Cypress Hills",
          "index": 4124
         },
         {
          "0": "Manhattan",
          "1": " Midtown",
          "index": 4125
         },
         {
          "0": "Brooklyn",
          "1": " Bedford-Stuyvesant",
          "index": 4126
         },
         {
          "0": "Manhattan",
          "1": " Harlem",
          "index": 4127
         },
         {
          "0": "Manhattan",
          "1": " Washington Heights",
          "index": 4128
         },
         {
          "0": "Manhattan",
          "1": " Hell's Kitchen",
          "index": 4129
         },
         {
          "0": "Manhattan",
          "1": " Murray Hill",
          "index": 4130
         },
         {
          "0": "Brooklyn",
          "1": " Bedford-Stuyvesant",
          "index": 4131
         },
         {
          "0": "Queens",
          "1": " Elmhurst",
          "index": 4132
         },
         {
          "0": "Brooklyn",
          "1": " Boerum Hill",
          "index": 4133
         },
         {
          "0": "Brooklyn",
          "1": " Bushwick",
          "index": 4134
         },
         {
          "0": "Brooklyn",
          "1": " Williamsburg",
          "index": 4135
         },
         {
          "0": "Manhattan",
          "1": " SoHo",
          "index": 4136
         },
         {
          "0": "Manhattan",
          "1": " Greenwich Village",
          "index": 4137
         },
         {
          "0": "Brooklyn",
          "1": " Carroll Gardens",
          "index": 4138
         },
         {
          "0": "Manhattan",
          "1": " Greenwich Village",
          "index": 4139
         },
         {
          "0": "Manhattan",
          "1": " Murray Hill",
          "index": 4140
         },
         {
          "0": "Brooklyn",
          "1": " Borough Park",
          "index": 4141
         },
         {
          "0": "Brooklyn",
          "1": " Bedford-Stuyvesant",
          "index": 4142
         },
         {
          "0": "Manhattan",
          "1": " Flatiron District",
          "index": 4143
         },
         {
          "0": "Brooklyn",
          "1": " Williamsburg",
          "index": 4144
         },
         {
          "0": "Brooklyn",
          "1": " Bedford-Stuyvesant",
          "index": 4145
         },
         {
          "0": "Manhattan",
          "1": " Harlem",
          "index": 4146
         },
         {
          "0": "Brooklyn",
          "1": " Bedford-Stuyvesant",
          "index": 4147
         },
         {
          "0": "Queens",
          "1": " Astoria",
          "index": 4148
         },
         {
          "0": "Brooklyn",
          "1": " Bedford-Stuyvesant",
          "index": 4149
         },
         {
          "0": "Queens",
          "1": " East Elmhurst",
          "index": 4150
         },
         {
          "0": "Brooklyn",
          "1": " Bedford-Stuyvesant",
          "index": 4151
         },
         {
          "0": "Queens",
          "1": " Ridgewood",
          "index": 4152
         },
         {
          "0": "Brooklyn",
          "1": " Williamsburg",
          "index": 4153
         },
         {
          "0": "Queens",
          "1": " Astoria",
          "index": 4154
         },
         {
          "0": "Brooklyn",
          "1": " Fort Greene",
          "index": 4155
         },
         {
          "0": "Manhattan",
          "1": " Financial District",
          "index": 4156
         },
         {
          "0": "Brooklyn",
          "1": " Williamsburg",
          "index": 4157
         },
         {
          "0": "Manhattan",
          "1": " Upper West Side",
          "index": 4158
         },
         {
          "0": "Manhattan",
          "1": " Chinatown",
          "index": 4159
         },
         {
          "0": "Manhattan",
          "1": " Hell's Kitchen",
          "index": 4160
         },
         {
          "0": "Brooklyn",
          "1": " Crown Heights",
          "index": 4161
         },
         {
          "0": "Manhattan",
          "1": " Murray Hill",
          "index": 4162
         },
         {
          "0": "Staten Island",
          "1": " Tompkinsville",
          "index": 4163
         },
         {
          "0": "Manhattan",
          "1": " Harlem",
          "index": 4164
         },
         {
          "0": "Manhattan",
          "1": " Washington Heights",
          "index": 4165
         },
         {
          "0": "Manhattan",
          "1": " Chelsea",
          "index": 4166
         },
         {
          "0": "Manhattan",
          "1": " Lower East Side",
          "index": 4167
         },
         {
          "0": "Manhattan",
          "1": " Upper West Side",
          "index": 4168
         },
         {
          "0": "Queens",
          "1": " Douglaston",
          "index": 4169
         },
         {
          "0": "Queens",
          "1": " Jamaica Hills",
          "index": 4170
         },
         {
          "0": "Manhattan",
          "1": " Civic Center",
          "index": 4171
         },
         {
          "0": "Manhattan",
          "1": " Chinatown",
          "index": 4172
         },
         {
          "0": "Manhattan",
          "1": " Roosevelt Island",
          "index": 4173
         },
         {
          "0": "Manhattan",
          "1": " East Village",
          "index": 4174
         },
         {
          "0": "Manhattan",
          "1": " Midtown",
          "index": 4175
         },
         {
          "0": "Manhattan",
          "1": " Harlem",
          "index": 4176
         },
         {
          "0": "Brooklyn",
          "1": " Bedford-Stuyvesant",
          "index": 4177
         },
         {
          "0": "Manhattan",
          "1": " SoHo",
          "index": 4178
         },
         {
          "0": "Manhattan",
          "1": " Harlem",
          "index": 4179
         },
         {
          "0": "Brooklyn",
          "1": " Greenpoint",
          "index": 4180
         },
         {
          "0": "Brooklyn",
          "1": " Gravesend",
          "index": 4181
         },
         {
          "0": "Brooklyn",
          "1": " Borough Park",
          "index": 4182
         },
         {
          "0": "Brooklyn",
          "1": " Bay Ridge",
          "index": 4183
         },
         {
          "0": "Manhattan",
          "1": " Washington Heights",
          "index": 4184
         },
         {
          "0": "Brooklyn",
          "1": " Bushwick",
          "index": 4185
         },
         {
          "0": "Brooklyn",
          "1": " Clinton Hill",
          "index": 4186
         },
         {
          "0": "Manhattan",
          "1": " Greenwich Village",
          "index": 4187
         },
         {
          "0": "Manhattan",
          "1": " Morningside Heights",
          "index": 4188
         },
         {
          "0": "Brooklyn",
          "1": " Kensington",
          "index": 4189
         },
         {
          "0": "Brooklyn",
          "1": " East New York",
          "index": 4190
         },
         {
          "0": "Manhattan",
          "1": " Upper East Side",
          "index": 4191
         },
         {
          "0": "Brooklyn",
          "1": " Bushwick",
          "index": 4192
         },
         {
          "0": "Queens",
          "1": " Springfield Gardens",
          "index": 4193
         },
         {
          "0": "Brooklyn",
          "1": " Bedford-Stuyvesant",
          "index": 4194
         },
         {
          "0": "Brooklyn",
          "1": " Crown Heights",
          "index": 4195
         },
         {
          "0": "Brooklyn",
          "1": " Williamsburg",
          "index": 4196
         },
         {
          "0": "Brooklyn",
          "1": " Williamsburg",
          "index": 4197
         },
         {
          "0": "Brooklyn",
          "1": " Prospect-Lefferts Gardens",
          "index": 4198
         },
         {
          "0": "Brooklyn",
          "1": " East Flatbush",
          "index": 4199
         },
         {
          "0": "Brooklyn",
          "1": " East New York",
          "index": 4200
         },
         {
          "0": "Brooklyn",
          "1": " Williamsburg",
          "index": 4201
         },
         {
          "0": "Queens",
          "1": " Ditmars Steinway",
          "index": 4202
         },
         {
          "0": "Queens",
          "1": " Rego Park",
          "index": 4203
         },
         {
          "0": "Manhattan",
          "1": " Midtown",
          "index": 4204
         },
         {
          "0": "Brooklyn",
          "1": " Crown Heights",
          "index": 4205
         },
         {
          "0": "Manhattan",
          "1": " Upper East Side",
          "index": 4206
         },
         {
          "0": "Bronx",
          "1": " Port Morris",
          "index": 4207
         },
         {
          "0": "Queens",
          "1": " Flushing",
          "index": 4208
         },
         {
          "0": "Queens",
          "1": " Long Island City",
          "index": 4209
         },
         {
          "0": "Brooklyn",
          "1": " Bedford-Stuyvesant",
          "index": 4210
         },
         {
          "0": "Manhattan",
          "1": " Hell's Kitchen",
          "index": 4211
         },
         {
          "0": "Brooklyn",
          "1": " Columbia St",
          "index": 4212
         },
         {
          "0": "Manhattan",
          "1": " Hell's Kitchen",
          "index": 4213
         },
         {
          "0": "Manhattan",
          "1": " East Village",
          "index": 4214
         },
         {
          "0": "Manhattan",
          "1": " Kips Bay",
          "index": 4215
         },
         {
          "0": "Brooklyn",
          "1": " Park Slope",
          "index": 4216
         },
         {
          "0": "Brooklyn",
          "1": " Williamsburg",
          "index": 4217
         },
         {
          "0": "Manhattan",
          "1": " Kips Bay",
          "index": 4218
         },
         {
          "0": "Manhattan",
          "1": " Midtown",
          "index": 4219
         },
         {
          "0": "Brooklyn",
          "1": " Bedford-Stuyvesant",
          "index": 4220
         },
         {
          "0": "Manhattan",
          "1": " West Village",
          "index": 4221
         },
         {
          "0": "Brooklyn",
          "1": " Bushwick",
          "index": 4222
         },
         {
          "0": "Brooklyn",
          "1": " Williamsburg",
          "index": 4223
         },
         {
          "0": "Manhattan",
          "1": " Upper West Side",
          "index": 4224
         },
         {
          "0": "Brooklyn",
          "1": " Prospect-Lefferts Gardens",
          "index": 4225
         },
         {
          "0": "Brooklyn",
          "1": " Prospect-Lefferts Gardens",
          "index": 4226
         },
         {
          "0": "Brooklyn",
          "1": " Clinton Hill",
          "index": 4227
         },
         {
          "0": "Brooklyn",
          "1": " Bedford-Stuyvesant",
          "index": 4228
         },
         {
          "0": "Manhattan",
          "1": " Washington Heights",
          "index": 4229
         },
         {
          "0": "Manhattan",
          "1": " Harlem",
          "index": 4230
         },
         {
          "0": "Manhattan",
          "1": " Inwood",
          "index": 4231
         },
         {
          "0": "Manhattan",
          "1": " Hell's Kitchen",
          "index": 4232
         },
         {
          "0": "Queens",
          "1": " Ditmars Steinway",
          "index": 4233
         },
         {
          "0": "Manhattan",
          "1": " West Village",
          "index": 4234
         },
         {
          "0": "Manhattan",
          "1": " Upper West Side",
          "index": 4235
         },
         {
          "0": "Manhattan",
          "1": " Upper West Side",
          "index": 4236
         },
         {
          "0": "Brooklyn",
          "1": " Bedford-Stuyvesant",
          "index": 4237
         },
         {
          "0": "Brooklyn",
          "1": " Park Slope",
          "index": 4238
         },
         {
          "0": "Brooklyn",
          "1": " Downtown Brooklyn",
          "index": 4239
         },
         {
          "0": "Brooklyn",
          "1": " Williamsburg",
          "index": 4240
         },
         {
          "0": "Manhattan",
          "1": " Morningside Heights",
          "index": 4241
         },
         {
          "0": "Manhattan",
          "1": " Upper East Side",
          "index": 4242
         },
         {
          "0": "Brooklyn",
          "1": " East New York",
          "index": 4243
         },
         {
          "0": "Manhattan",
          "1": " Hell's Kitchen",
          "index": 4244
         },
         {
          "0": "Manhattan",
          "1": " West Village",
          "index": 4245
         },
         {
          "0": "Manhattan",
          "1": " Lower East Side",
          "index": 4246
         },
         {
          "0": "Brooklyn",
          "1": " Crown Heights",
          "index": 4247
         },
         {
          "0": "Brooklyn",
          "1": " Williamsburg",
          "index": 4248
         },
         {
          "0": "Manhattan",
          "1": " Murray Hill",
          "index": 4249
         },
         {
          "0": "Manhattan",
          "1": " Chelsea",
          "index": 4250
         },
         {
          "0": "Manhattan",
          "1": " Upper East Side",
          "index": 4251
         },
         {
          "0": "Brooklyn",
          "1": " Columbia St",
          "index": 4252
         },
         {
          "0": "Manhattan",
          "1": " Little Italy",
          "index": 4253
         },
         {
          "0": "Brooklyn",
          "1": " Williamsburg",
          "index": 4254
         },
         {
          "0": "Manhattan",
          "1": " Lower East Side",
          "index": 4255
         },
         {
          "0": "Manhattan",
          "1": " Washington Heights",
          "index": 4256
         },
         {
          "0": "Brooklyn",
          "1": " Crown Heights",
          "index": 4257
         },
         {
          "0": "Manhattan",
          "1": " Financial District",
          "index": 4258
         },
         {
          "0": "Brooklyn",
          "1": " Carroll Gardens",
          "index": 4259
         },
         {
          "0": "Manhattan",
          "1": " Chelsea",
          "index": 4260
         },
         {
          "0": "Brooklyn",
          "1": " Canarsie",
          "index": 4261
         },
         {
          "0": "Manhattan",
          "1": " Washington Heights",
          "index": 4262
         },
         {
          "0": "Manhattan",
          "1": " SoHo",
          "index": 4263
         },
         {
          "0": "Brooklyn",
          "1": " Williamsburg",
          "index": 4264
         },
         {
          "0": "Brooklyn",
          "1": " Bushwick",
          "index": 4265
         },
         {
          "0": "Brooklyn",
          "1": " Bushwick",
          "index": 4266
         },
         {
          "0": "Brooklyn",
          "1": " Greenpoint",
          "index": 4267
         },
         {
          "0": "Brooklyn",
          "1": " Kensington",
          "index": 4268
         },
         {
          "0": "Queens",
          "1": " Long Island City",
          "index": 4269
         },
         {
          "0": "Brooklyn",
          "1": " South Slope",
          "index": 4270
         },
         {
          "0": "Manhattan",
          "1": " Gramercy",
          "index": 4271
         },
         {
          "0": "Queens",
          "1": " Long Island City",
          "index": 4272
         },
         {
          "0": "Brooklyn",
          "1": " Bedford-Stuyvesant",
          "index": 4273
         },
         {
          "0": "Manhattan",
          "1": " West Village",
          "index": 4274
         },
         {
          "0": "Brooklyn",
          "1": " Bushwick",
          "index": 4275
         },
         {
          "0": "Brooklyn",
          "1": " Bedford-Stuyvesant",
          "index": 4276
         },
         {
          "0": "Manhattan",
          "1": " Inwood",
          "index": 4277
         },
         {
          "0": "Manhattan",
          "1": " Greenwich Village",
          "index": 4278
         },
         {
          "0": "Manhattan",
          "1": " Chelsea",
          "index": 4279
         },
         {
          "0": "Manhattan",
          "1": " West Village",
          "index": 4280
         },
         {
          "0": "Queens",
          "1": " Sunnyside",
          "index": 4281
         },
         {
          "0": "Brooklyn",
          "1": " Bushwick",
          "index": 4282
         },
         {
          "0": "Brooklyn",
          "1": " Bedford-Stuyvesant",
          "index": 4283
         },
         {
          "0": "Manhattan",
          "1": " West Village",
          "index": 4284
         },
         {
          "0": "Manhattan",
          "1": " Midtown",
          "index": 4285
         },
         {
          "0": "Brooklyn",
          "1": " Williamsburg",
          "index": 4286
         },
         {
          "0": "Manhattan",
          "1": " West Village",
          "index": 4287
         },
         {
          "0": "Brooklyn",
          "1": " Midwood",
          "index": 4288
         },
         {
          "0": "Manhattan",
          "1": " Chinatown",
          "index": 4289
         },
         {
          "0": "Brooklyn",
          "1": " Greenpoint",
          "index": 4290
         },
         {
          "0": "Manhattan",
          "1": " Upper West Side",
          "index": 4291
         },
         {
          "0": "Queens",
          "1": " Astoria",
          "index": 4292
         },
         {
          "0": "Brooklyn",
          "1": " Bedford-Stuyvesant",
          "index": 4293
         },
         {
          "0": "Manhattan",
          "1": " East Village",
          "index": 4294
         },
         {
          "0": "Brooklyn",
          "1": " Bedford-Stuyvesant",
          "index": 4295
         },
         {
          "0": "Manhattan",
          "1": " East Village",
          "index": 4296
         },
         {
          "0": "Manhattan",
          "1": " Nolita",
          "index": 4297
         },
         {
          "0": "Brooklyn",
          "1": " Prospect Heights",
          "index": 4298
         },
         {
          "0": "Manhattan",
          "1": " Chelsea",
          "index": 4299
         },
         {
          "0": "Manhattan",
          "1": " Kips Bay",
          "index": 4300
         },
         {
          "0": "Brooklyn",
          "1": " Crown Heights",
          "index": 4301
         },
         {
          "0": "Manhattan",
          "1": " Upper East Side",
          "index": 4302
         },
         {
          "0": "Manhattan",
          "1": " Hell's Kitchen",
          "index": 4303
         },
         {
          "0": "Queens",
          "1": " Little Neck",
          "index": 4304
         },
         {
          "0": "Manhattan",
          "1": " Upper East Side",
          "index": 4305
         },
         {
          "0": "Manhattan",
          "1": " NoHo",
          "index": 4306
         },
         {
          "0": "Manhattan",
          "1": " Financial District",
          "index": 4307
         },
         {
          "0": "Queens",
          "1": " Edgemere",
          "index": 4308
         },
         {
          "0": "Brooklyn",
          "1": " Williamsburg",
          "index": 4309
         },
         {
          "0": "Manhattan",
          "1": " Harlem",
          "index": 4310
         },
         {
          "0": "Brooklyn",
          "1": " Greenpoint",
          "index": 4311
         },
         {
          "0": "Brooklyn",
          "1": " Bushwick",
          "index": 4312
         },
         {
          "0": "Queens",
          "1": " Woodside",
          "index": 4313
         },
         {
          "0": "Queens",
          "1": " Middle Village",
          "index": 4314
         },
         {
          "0": "Manhattan",
          "1": " Washington Heights",
          "index": 4315
         },
         {
          "0": "Brooklyn",
          "1": " Bedford-Stuyvesant",
          "index": 4316
         },
         {
          "0": "Staten Island",
          "1": " Grymes Hill",
          "index": 4317
         },
         {
          "0": "Manhattan",
          "1": " Chelsea",
          "index": 4318
         },
         {
          "0": "Brooklyn",
          "1": " Gowanus",
          "index": 4319
         },
         {
          "0": "Brooklyn",
          "1": " East Flatbush",
          "index": 4320
         },
         {
          "0": "Brooklyn",
          "1": " Carroll Gardens",
          "index": 4321
         },
         {
          "0": "Brooklyn",
          "1": " Cypress Hills",
          "index": 4322
         },
         {
          "0": "Manhattan",
          "1": " Tribeca",
          "index": 4323
         },
         {
          "0": "Brooklyn",
          "1": " Flatbush",
          "index": 4324
         },
         {
          "0": "Brooklyn",
          "1": " Crown Heights",
          "index": 4325
         },
         {
          "0": "Manhattan",
          "1": " Harlem",
          "index": 4326
         },
         {
          "0": "Manhattan",
          "1": " Battery Park City",
          "index": 4327
         },
         {
          "0": "Manhattan",
          "1": " Midtown",
          "index": 4328
         },
         {
          "0": "Manhattan",
          "1": " Murray Hill",
          "index": 4329
         },
         {
          "0": "Manhattan",
          "1": " Financial District",
          "index": 4330
         },
         {
          "0": "Brooklyn",
          "1": " Flatbush",
          "index": 4331
         },
         {
          "0": "Manhattan",
          "1": " Chelsea",
          "index": 4332
         },
         {
          "0": "Brooklyn",
          "1": " Williamsburg",
          "index": 4333
         },
         {
          "0": "Brooklyn",
          "1": " Flatlands",
          "index": 4334
         },
         {
          "0": "Brooklyn",
          "1": " Williamsburg",
          "index": 4335
         },
         {
          "0": "Queens",
          "1": " Flushing",
          "index": 4336
         },
         {
          "0": "Brooklyn",
          "1": " Williamsburg",
          "index": 4337
         },
         {
          "0": "Queens",
          "1": " Springfield Gardens",
          "index": 4338
         },
         {
          "0": "Brooklyn",
          "1": " Bensonhurst",
          "index": 4339
         },
         {
          "0": "Manhattan",
          "1": " Harlem",
          "index": 4340
         },
         {
          "0": "Manhattan",
          "1": " Upper West Side",
          "index": 4341
         },
         {
          "0": "Brooklyn",
          "1": " Crown Heights",
          "index": 4342
         },
         {
          "0": "Brooklyn",
          "1": " Williamsburg",
          "index": 4343
         },
         {
          "0": "Manhattan",
          "1": " Harlem",
          "index": 4344
         },
         {
          "0": "Brooklyn",
          "1": " Clinton Hill",
          "index": 4345
         },
         {
          "0": "Manhattan",
          "1": " Tribeca",
          "index": 4346
         },
         {
          "0": "Brooklyn",
          "1": " Prospect Heights",
          "index": 4347
         },
         {
          "0": "Manhattan",
          "1": " Upper East Side",
          "index": 4348
         },
         {
          "0": "Brooklyn",
          "1": " Vinegar Hill",
          "index": 4349
         },
         {
          "0": "Manhattan",
          "1": " Greenwich Village",
          "index": 4350
         },
         {
          "0": "Manhattan",
          "1": " Upper East Side",
          "index": 4351
         },
         {
          "0": "Queens",
          "1": " Briarwood",
          "index": 4352
         },
         {
          "0": "Brooklyn",
          "1": " Carroll Gardens",
          "index": 4353
         },
         {
          "0": "Brooklyn",
          "1": " Bushwick",
          "index": 4354
         },
         {
          "0": "Bronx",
          "1": " Throgs Neck",
          "index": 4355
         },
         {
          "0": "Manhattan",
          "1": " Hell's Kitchen",
          "index": 4356
         },
         {
          "0": "Manhattan",
          "1": " Financial District",
          "index": 4357
         },
         {
          "0": "Manhattan",
          "1": " Midtown",
          "index": 4358
         },
         {
          "0": "Manhattan",
          "1": " Harlem",
          "index": 4359
         },
         {
          "0": "Brooklyn",
          "1": " Bushwick",
          "index": 4360
         },
         {
          "0": "Brooklyn",
          "1": " Bushwick",
          "index": 4361
         },
         {
          "0": "Brooklyn",
          "1": " Williamsburg",
          "index": 4362
         },
         {
          "0": "Queens",
          "1": " Richmond Hill",
          "index": 4363
         },
         {
          "0": "Manhattan",
          "1": " West Village",
          "index": 4364
         },
         {
          "0": "Manhattan",
          "1": " Upper West Side",
          "index": 4365
         },
         {
          "0": "Brooklyn",
          "1": " Williamsburg",
          "index": 4366
         },
         {
          "0": "Manhattan",
          "1": " Chelsea",
          "index": 4367
         },
         {
          "0": "Manhattan",
          "1": " Upper East Side",
          "index": 4368
         },
         {
          "0": "Manhattan",
          "1": " Kips Bay",
          "index": 4369
         },
         {
          "0": "Brooklyn",
          "1": " Cobble Hill",
          "index": 4370
         },
         {
          "0": "Manhattan",
          "1": " Upper East Side",
          "index": 4371
         },
         {
          "0": "Manhattan",
          "1": " Midtown",
          "index": 4372
         },
         {
          "0": "Staten Island",
          "1": " St. George",
          "index": 4373
         },
         {
          "0": "Brooklyn",
          "1": " Borough Park",
          "index": 4374
         },
         {
          "0": "Brooklyn",
          "1": " East New York",
          "index": 4375
         },
         {
          "0": "Brooklyn",
          "1": " East New York",
          "index": 4376
         },
         {
          "0": "Brooklyn",
          "1": " Bedford-Stuyvesant",
          "index": 4377
         },
         {
          "0": "Manhattan",
          "1": " East Harlem",
          "index": 4378
         },
         {
          "0": "Brooklyn",
          "1": " Carroll Gardens",
          "index": 4379
         },
         {
          "0": "Brooklyn",
          "1": " Williamsburg",
          "index": 4380
         },
         {
          "0": "Brooklyn",
          "1": " Prospect Heights",
          "index": 4381
         },
         {
          "0": "Manhattan",
          "1": " Lower East Side",
          "index": 4382
         },
         {
          "0": "Manhattan",
          "1": " Lower East Side",
          "index": 4383
         },
         {
          "0": "Manhattan",
          "1": " Upper East Side",
          "index": 4384
         },
         {
          "0": "Queens",
          "1": " Woodhaven",
          "index": 4385
         },
         {
          "0": "Brooklyn",
          "1": " Fort Greene",
          "index": 4386
         },
         {
          "0": "Brooklyn",
          "1": " Bensonhurst",
          "index": 4387
         },
         {
          "0": "Brooklyn",
          "1": " Borough Park",
          "index": 4388
         },
         {
          "0": "Manhattan",
          "1": " Washington Heights",
          "index": 4389
         },
         {
          "0": "Brooklyn",
          "1": " Bushwick",
          "index": 4390
         },
         {
          "0": "Manhattan",
          "1": " Washington Heights",
          "index": 4391
         },
         {
          "0": "Manhattan",
          "1": " Upper East Side",
          "index": 4392
         },
         {
          "0": "Brooklyn",
          "1": " Fort Greene",
          "index": 4393
         },
         {
          "0": "Bronx",
          "1": " Concourse",
          "index": 4394
         },
         {
          "0": "Manhattan",
          "1": " East Harlem",
          "index": 4395
         },
         {
          "0": "Brooklyn",
          "1": " Bushwick",
          "index": 4396
         },
         {
          "0": "Brooklyn",
          "1": " Williamsburg",
          "index": 4397
         },
         {
          "0": "Manhattan",
          "1": " Harlem",
          "index": 4398
         },
         {
          "0": "Queens",
          "1": " Cambria Heights",
          "index": 4399
         },
         {
          "0": "Queens",
          "1": " East Elmhurst",
          "index": 4400
         },
         {
          "0": "Brooklyn",
          "1": " Cobble Hill",
          "index": 4401
         },
         {
          "0": "Manhattan",
          "1": " East Village",
          "index": 4402
         },
         {
          "0": "Brooklyn",
          "1": " Williamsburg",
          "index": 4403
         },
         {
          "0": "Manhattan",
          "1": " Greenwich Village",
          "index": 4404
         },
         {
          "0": "Manhattan",
          "1": " East Harlem",
          "index": 4405
         },
         {
          "0": "Manhattan",
          "1": " Midtown",
          "index": 4406
         },
         {
          "0": "Queens",
          "1": " East Elmhurst",
          "index": 4407
         },
         {
          "0": "Queens",
          "1": " Woodside",
          "index": 4408
         },
         {
          "0": "Brooklyn",
          "1": " Williamsburg",
          "index": 4409
         },
         {
          "0": "Manhattan",
          "1": " Harlem",
          "index": 4410
         },
         {
          "0": "Manhattan",
          "1": " East Village",
          "index": 4411
         },
         {
          "0": "Brooklyn",
          "1": " Bedford-Stuyvesant",
          "index": 4412
         },
         {
          "0": "Brooklyn",
          "1": " Clinton Hill",
          "index": 4413
         },
         {
          "0": "Manhattan",
          "1": " Midtown",
          "index": 4414
         },
         {
          "0": "Brooklyn",
          "1": " Gowanus",
          "index": 4415
         },
         {
          "0": "Brooklyn",
          "1": " Bedford-Stuyvesant",
          "index": 4416
         },
         {
          "0": "Queens",
          "1": " Long Island City",
          "index": 4417
         },
         {
          "0": "Brooklyn",
          "1": " Brownsville",
          "index": 4418
         },
         {
          "0": "Brooklyn",
          "1": " Prospect-Lefferts Gardens",
          "index": 4419
         },
         {
          "0": "Manhattan",
          "1": " Financial District",
          "index": 4420
         },
         {
          "0": "Brooklyn",
          "1": " Cobble Hill",
          "index": 4421
         },
         {
          "0": "Brooklyn",
          "1": " Coney Island",
          "index": 4422
         },
         {
          "0": "Manhattan",
          "1": " Upper East Side",
          "index": 4423
         },
         {
          "0": "Manhattan",
          "1": " Morningside Heights",
          "index": 4424
         },
         {
          "0": "Brooklyn",
          "1": " East Flatbush",
          "index": 4425
         },
         {
          "0": "Brooklyn",
          "1": " Williamsburg",
          "index": 4426
         },
         {
          "0": "Queens",
          "1": " Flushing",
          "index": 4427
         },
         {
          "0": "Manhattan",
          "1": " Midtown",
          "index": 4428
         },
         {
          "0": "Manhattan",
          "1": " Greenwich Village",
          "index": 4429
         },
         {
          "0": "Manhattan",
          "1": " East Village",
          "index": 4430
         },
         {
          "0": "Bronx",
          "1": " Fordham",
          "index": 4431
         },
         {
          "0": "Manhattan",
          "1": " SoHo",
          "index": 4432
         },
         {
          "0": "Brooklyn",
          "1": " Prospect-Lefferts Gardens",
          "index": 4433
         },
         {
          "0": "Manhattan",
          "1": " Harlem",
          "index": 4434
         },
         {
          "0": "Brooklyn",
          "1": " Gowanus",
          "index": 4435
         },
         {
          "0": "Brooklyn",
          "1": " Prospect-Lefferts Gardens",
          "index": 4436
         },
         {
          "0": "Manhattan",
          "1": " Harlem",
          "index": 4437
         },
         {
          "0": "Brooklyn",
          "1": " Prospect-Lefferts Gardens",
          "index": 4438
         },
         {
          "0": "Brooklyn",
          "1": " Bedford-Stuyvesant",
          "index": 4439
         },
         {
          "0": "Manhattan",
          "1": " Hell's Kitchen",
          "index": 4440
         },
         {
          "0": "Brooklyn",
          "1": " Canarsie",
          "index": 4441
         },
         {
          "0": "Brooklyn",
          "1": " Williamsburg",
          "index": 4442
         },
         {
          "0": "Manhattan",
          "1": " Harlem",
          "index": 4443
         },
         {
          "0": "Queens",
          "1": " Woodside",
          "index": 4444
         },
         {
          "0": "Queens",
          "1": " Astoria",
          "index": 4445
         },
         {
          "0": "Brooklyn",
          "1": " Williamsburg",
          "index": 4446
         },
         {
          "0": "Brooklyn",
          "1": " Williamsburg",
          "index": 4447
         },
         {
          "0": "Manhattan",
          "1": " Financial District",
          "index": 4448
         },
         {
          "0": "Manhattan",
          "1": " Financial District",
          "index": 4449
         },
         {
          "0": "Brooklyn",
          "1": " Sunset Park",
          "index": 4450
         },
         {
          "0": "Brooklyn",
          "1": " Williamsburg",
          "index": 4451
         },
         {
          "0": "Manhattan",
          "1": " Chelsea",
          "index": 4452
         },
         {
          "0": "Brooklyn",
          "1": " Crown Heights",
          "index": 4453
         },
         {
          "0": "Queens",
          "1": " Ditmars Steinway",
          "index": 4454
         },
         {
          "0": "Brooklyn",
          "1": " Bedford-Stuyvesant",
          "index": 4455
         },
         {
          "0": "Bronx",
          "1": " Allerton",
          "index": 4456
         },
         {
          "0": "Brooklyn",
          "1": " Bedford-Stuyvesant",
          "index": 4457
         },
         {
          "0": "Queens",
          "1": " Ditmars Steinway",
          "index": 4458
         },
         {
          "0": "Manhattan",
          "1": " Harlem",
          "index": 4459
         },
         {
          "0": "Manhattan",
          "1": " SoHo",
          "index": 4460
         },
         {
          "0": "Manhattan",
          "1": " Harlem",
          "index": 4461
         },
         {
          "0": "Manhattan",
          "1": " Upper East Side",
          "index": 4462
         },
         {
          "0": "Queens",
          "1": " Ditmars Steinway",
          "index": 4463
         },
         {
          "0": "Manhattan",
          "1": " Upper West Side",
          "index": 4464
         },
         {
          "0": "Brooklyn",
          "1": " Bedford-Stuyvesant",
          "index": 4465
         },
         {
          "0": "Brooklyn",
          "1": " Bedford-Stuyvesant",
          "index": 4466
         },
         {
          "0": "Brooklyn",
          "1": " Bedford-Stuyvesant",
          "index": 4467
         },
         {
          "0": "Manhattan",
          "1": " Kips Bay",
          "index": 4468
         },
         {
          "0": "Queens",
          "1": " Elmhurst",
          "index": 4469
         },
         {
          "0": "Queens",
          "1": " Bayswater",
          "index": 4470
         },
         {
          "0": "Brooklyn",
          "1": " Park Slope",
          "index": 4471
         },
         {
          "0": "Brooklyn",
          "1": " Bushwick",
          "index": 4472
         },
         {
          "0": "Brooklyn",
          "1": " Bedford-Stuyvesant",
          "index": 4473
         },
         {
          "0": "Brooklyn",
          "1": " Williamsburg",
          "index": 4474
         },
         {
          "0": "Brooklyn",
          "1": " Sunset Park",
          "index": 4475
         },
         {
          "0": "Manhattan",
          "1": " Hell's Kitchen",
          "index": 4476
         },
         {
          "0": "Brooklyn",
          "1": " Crown Heights",
          "index": 4477
         },
         {
          "0": "Manhattan",
          "1": " Harlem",
          "index": 4478
         },
         {
          "0": "Manhattan",
          "1": " Upper East Side",
          "index": 4479
         },
         {
          "0": "Brooklyn",
          "1": " Clinton Hill",
          "index": 4480
         },
         {
          "0": "Brooklyn",
          "1": " Crown Heights",
          "index": 4481
         },
         {
          "0": "Bronx",
          "1": " Belmont",
          "index": 4482
         },
         {
          "0": "Manhattan",
          "1": " Upper West Side",
          "index": 4483
         },
         {
          "0": "Manhattan",
          "1": " Upper West Side",
          "index": 4484
         },
         {
          "0": "Queens",
          "1": " Elmhurst",
          "index": 4485
         },
         {
          "0": "Brooklyn",
          "1": " Williamsburg",
          "index": 4486
         },
         {
          "0": "Queens",
          "1": " Astoria",
          "index": 4487
         },
         {
          "0": "Manhattan",
          "1": " Greenwich Village",
          "index": 4488
         },
         {
          "0": "Queens",
          "1": " Jackson Heights",
          "index": 4489
         },
         {
          "0": "Queens",
          "1": " Flushing",
          "index": 4490
         },
         {
          "0": "Bronx",
          "1": " Pelham Bay",
          "index": 4491
         },
         {
          "0": "Manhattan",
          "1": " Upper West Side",
          "index": 4492
         },
         {
          "0": "Manhattan",
          "1": " East Harlem",
          "index": 4493
         },
         {
          "0": "Brooklyn",
          "1": " Crown Heights",
          "index": 4494
         },
         {
          "0": "Manhattan",
          "1": " Chelsea",
          "index": 4495
         },
         {
          "0": "Brooklyn",
          "1": " Bedford-Stuyvesant",
          "index": 4496
         },
         {
          "0": "Manhattan",
          "1": " Upper West Side",
          "index": 4497
         },
         {
          "0": "Manhattan",
          "1": " Nolita",
          "index": 4498
         },
         {
          "0": "Manhattan",
          "1": " Kips Bay",
          "index": 4499
         },
         {
          "0": "Brooklyn",
          "1": " Crown Heights",
          "index": 4500
         },
         {
          "0": "Manhattan",
          "1": " Murray Hill",
          "index": 4501
         },
         {
          "0": "Manhattan",
          "1": " Hell's Kitchen",
          "index": 4502
         },
         {
          "0": "Manhattan",
          "1": " Upper East Side",
          "index": 4503
         },
         {
          "0": "Manhattan",
          "1": " Chinatown",
          "index": 4504
         },
         {
          "0": "Manhattan",
          "1": " Upper West Side",
          "index": 4505
         },
         {
          "0": "Brooklyn",
          "1": " Crown Heights",
          "index": 4506
         },
         {
          "0": "Brooklyn",
          "1": " Williamsburg",
          "index": 4507
         },
         {
          "0": "Manhattan",
          "1": " Greenwich Village",
          "index": 4508
         },
         {
          "0": "Bronx",
          "1": " Mott Haven",
          "index": 4509
         },
         {
          "0": "Brooklyn",
          "1": " Greenpoint",
          "index": 4510
         },
         {
          "0": "Brooklyn",
          "1": " Clinton Hill",
          "index": 4511
         },
         {
          "0": "Manhattan",
          "1": " Financial District",
          "index": 4512
         },
         {
          "0": "Brooklyn",
          "1": " Bedford-Stuyvesant",
          "index": 4513
         },
         {
          "0": "Queens",
          "1": " Astoria",
          "index": 4514
         },
         {
          "0": "Manhattan",
          "1": " East Village",
          "index": 4515
         },
         {
          "0": "Manhattan",
          "1": " Midtown",
          "index": 4516
         },
         {
          "0": "Manhattan",
          "1": " East Village",
          "index": 4517
         },
         {
          "0": "Brooklyn",
          "1": " Crown Heights",
          "index": 4518
         },
         {
          "0": "Brooklyn",
          "1": " Williamsburg",
          "index": 4519
         },
         {
          "0": "Manhattan",
          "1": " East Harlem",
          "index": 4520
         },
         {
          "0": "Brooklyn",
          "1": " Bedford-Stuyvesant",
          "index": 4521
         },
         {
          "0": "Queens",
          "1": " Arverne",
          "index": 4522
         },
         {
          "0": "Brooklyn",
          "1": " Bedford-Stuyvesant",
          "index": 4523
         },
         {
          "0": "Queens",
          "1": " Corona",
          "index": 4524
         },
         {
          "0": "Manhattan",
          "1": " West Village",
          "index": 4525
         },
         {
          "0": "Brooklyn",
          "1": " Clinton Hill",
          "index": 4526
         },
         {
          "0": "Manhattan",
          "1": " East Village",
          "index": 4527
         },
         {
          "0": "Brooklyn",
          "1": " Flatbush",
          "index": 4528
         },
         {
          "0": "Manhattan",
          "1": " Lower East Side",
          "index": 4529
         },
         {
          "0": "Staten Island",
          "1": " Stapleton",
          "index": 4530
         },
         {
          "0": "Queens",
          "1": " East Elmhurst",
          "index": 4531
         },
         {
          "0": "Brooklyn",
          "1": " East Flatbush",
          "index": 4532
         },
         {
          "0": "Manhattan",
          "1": " Lower East Side",
          "index": 4533
         },
         {
          "0": "Brooklyn",
          "1": " Sheepshead Bay",
          "index": 4534
         },
         {
          "0": "Manhattan",
          "1": " Midtown",
          "index": 4535
         },
         {
          "0": "Manhattan",
          "1": " Financial District",
          "index": 4536
         },
         {
          "0": "Brooklyn",
          "1": " Prospect-Lefferts Gardens",
          "index": 4537
         },
         {
          "0": "Brooklyn",
          "1": " Park Slope",
          "index": 4538
         },
         {
          "0": "Manhattan",
          "1": " Chinatown",
          "index": 4539
         },
         {
          "0": "Brooklyn",
          "1": " Williamsburg",
          "index": 4540
         },
         {
          "0": "Manhattan",
          "1": " East Village",
          "index": 4541
         },
         {
          "0": "Manhattan",
          "1": " East Village",
          "index": 4542
         },
         {
          "0": "Manhattan",
          "1": " Murray Hill",
          "index": 4543
         },
         {
          "0": "Manhattan",
          "1": " Nolita",
          "index": 4544
         },
         {
          "0": "Manhattan",
          "1": " Chelsea",
          "index": 4545
         },
         {
          "0": "Brooklyn",
          "1": " Crown Heights",
          "index": 4546
         },
         {
          "0": "Brooklyn",
          "1": " Williamsburg",
          "index": 4547
         },
         {
          "0": "Manhattan",
          "1": " East Village",
          "index": 4548
         },
         {
          "0": "Manhattan",
          "1": " Upper West Side",
          "index": 4549
         },
         {
          "0": "Queens",
          "1": " Ozone Park",
          "index": 4550
         },
         {
          "0": "Queens",
          "1": " East Elmhurst",
          "index": 4551
         },
         {
          "0": "Brooklyn",
          "1": " Bushwick",
          "index": 4552
         },
         {
          "0": "Brooklyn",
          "1": " East Flatbush",
          "index": 4553
         },
         {
          "0": "Brooklyn",
          "1": " Bergen Beach",
          "index": 4554
         },
         {
          "0": "Brooklyn",
          "1": " Bushwick",
          "index": 4555
         },
         {
          "0": "Manhattan",
          "1": " West Village",
          "index": 4556
         },
         {
          "0": "Manhattan",
          "1": " Washington Heights",
          "index": 4557
         },
         {
          "0": "Brooklyn",
          "1": " Bedford-Stuyvesant",
          "index": 4558
         },
         {
          "0": "Brooklyn",
          "1": " Williamsburg",
          "index": 4559
         },
         {
          "0": "Manhattan",
          "1": " Hell's Kitchen",
          "index": 4560
         },
         {
          "0": "Brooklyn",
          "1": " Bedford-Stuyvesant",
          "index": 4561
         },
         {
          "0": "Queens",
          "1": " Astoria",
          "index": 4562
         },
         {
          "0": "Manhattan",
          "1": " Financial District",
          "index": 4563
         },
         {
          "0": "Manhattan",
          "1": " Chelsea",
          "index": 4564
         },
         {
          "0": "Brooklyn",
          "1": " Bedford-Stuyvesant",
          "index": 4565
         },
         {
          "0": "Brooklyn",
          "1": " Crown Heights",
          "index": 4566
         },
         {
          "0": "Manhattan",
          "1": " NoHo",
          "index": 4567
         },
         {
          "0": "Brooklyn",
          "1": " Bushwick",
          "index": 4568
         },
         {
          "0": "Manhattan",
          "1": " Murray Hill",
          "index": 4569
         },
         {
          "0": "Queens",
          "1": " Hollis",
          "index": 4570
         },
         {
          "0": "Queens",
          "1": " Ditmars Steinway",
          "index": 4571
         },
         {
          "0": "Brooklyn",
          "1": " South Slope",
          "index": 4572
         },
         {
          "0": "Brooklyn",
          "1": " Crown Heights",
          "index": 4573
         },
         {
          "0": "Queens",
          "1": " Astoria",
          "index": 4574
         },
         {
          "0": "Queens",
          "1": " Astoria",
          "index": 4575
         },
         {
          "0": "Manhattan",
          "1": " Upper West Side",
          "index": 4576
         },
         {
          "0": "Manhattan",
          "1": " Hell's Kitchen",
          "index": 4577
         },
         {
          "0": "Manhattan",
          "1": " Harlem",
          "index": 4578
         },
         {
          "0": "Manhattan",
          "1": " East Harlem",
          "index": 4579
         },
         {
          "0": "Brooklyn",
          "1": " Park Slope",
          "index": 4580
         },
         {
          "0": "Brooklyn",
          "1": " Williamsburg",
          "index": 4581
         },
         {
          "0": "Brooklyn",
          "1": " Midwood",
          "index": 4582
         },
         {
          "0": "Manhattan",
          "1": " East Harlem",
          "index": 4583
         },
         {
          "0": "Brooklyn",
          "1": " East Flatbush",
          "index": 4584
         },
         {
          "0": "Queens",
          "1": " Ditmars Steinway",
          "index": 4585
         },
         {
          "0": "Manhattan",
          "1": " Chinatown",
          "index": 4586
         },
         {
          "0": "Manhattan",
          "1": " Greenwich Village",
          "index": 4587
         },
         {
          "0": "Brooklyn",
          "1": " Prospect Heights",
          "index": 4588
         },
         {
          "0": "Queens",
          "1": " Elmhurst",
          "index": 4589
         },
         {
          "0": "Brooklyn",
          "1": " Crown Heights",
          "index": 4590
         },
         {
          "0": "Queens",
          "1": " Corona",
          "index": 4591
         },
         {
          "0": "Manhattan",
          "1": " East Village",
          "index": 4592
         },
         {
          "0": "Manhattan",
          "1": " Upper East Side",
          "index": 4593
         },
         {
          "0": "Manhattan",
          "1": " Upper West Side",
          "index": 4594
         },
         {
          "0": "Queens",
          "1": " Woodside",
          "index": 4595
         },
         {
          "0": "Queens",
          "1": " Forest Hills",
          "index": 4596
         },
         {
          "0": "Manhattan",
          "1": " Murray Hill",
          "index": 4597
         },
         {
          "0": "Bronx",
          "1": " Morris Park",
          "index": 4598
         },
         {
          "0": "Brooklyn",
          "1": " Bedford-Stuyvesant",
          "index": 4599
         },
         {
          "0": "Brooklyn",
          "1": " Fort Greene",
          "index": 4600
         },
         {
          "0": "Manhattan",
          "1": " Hell's Kitchen",
          "index": 4601
         },
         {
          "0": "Manhattan",
          "1": " Tribeca",
          "index": 4602
         },
         {
          "0": "Brooklyn",
          "1": " Williamsburg",
          "index": 4603
         },
         {
          "0": "Manhattan",
          "1": " Lower East Side",
          "index": 4604
         },
         {
          "0": "Brooklyn",
          "1": " Clinton Hill",
          "index": 4605
         },
         {
          "0": "Brooklyn",
          "1": " Windsor Terrace",
          "index": 4606
         },
         {
          "0": "Brooklyn",
          "1": " Williamsburg",
          "index": 4607
         },
         {
          "0": "Brooklyn",
          "1": " Bushwick",
          "index": 4608
         },
         {
          "0": "Brooklyn",
          "1": " Bedford-Stuyvesant",
          "index": 4609
         },
         {
          "0": "Queens",
          "1": " Ditmars Steinway",
          "index": 4610
         },
         {
          "0": "Manhattan",
          "1": " Midtown",
          "index": 4611
         },
         {
          "0": "Bronx",
          "1": " Port Morris",
          "index": 4612
         },
         {
          "0": "Manhattan",
          "1": " Hell's Kitchen",
          "index": 4613
         },
         {
          "0": "Manhattan",
          "1": " East Village",
          "index": 4614
         },
         {
          "0": "Queens",
          "1": " Cambria Heights",
          "index": 4615
         },
         {
          "0": "Manhattan",
          "1": " Hell's Kitchen",
          "index": 4616
         },
         {
          "0": "Manhattan",
          "1": " Upper East Side",
          "index": 4617
         },
         {
          "0": "Manhattan",
          "1": " Chelsea",
          "index": 4618
         },
         {
          "0": "Brooklyn",
          "1": " Bedford-Stuyvesant",
          "index": 4619
         },
         {
          "0": "Brooklyn",
          "1": " Brooklyn Heights",
          "index": 4620
         },
         {
          "0": "Manhattan",
          "1": " Hell's Kitchen",
          "index": 4621
         },
         {
          "0": "Manhattan",
          "1": " Murray Hill",
          "index": 4622
         },
         {
          "0": "Brooklyn",
          "1": " Park Slope",
          "index": 4623
         },
         {
          "0": "Brooklyn",
          "1": " Prospect-Lefferts Gardens",
          "index": 4624
         },
         {
          "0": "Manhattan",
          "1": " Hell's Kitchen",
          "index": 4625
         },
         {
          "0": "Manhattan",
          "1": " Murray Hill",
          "index": 4626
         },
         {
          "0": "Manhattan",
          "1": " Upper East Side",
          "index": 4627
         },
         {
          "0": "Brooklyn",
          "1": " Williamsburg",
          "index": 4628
         },
         {
          "0": "Manhattan",
          "1": " East Village",
          "index": 4629
         },
         {
          "0": "Brooklyn",
          "1": " Bedford-Stuyvesant",
          "index": 4630
         },
         {
          "0": "Brooklyn",
          "1": " Brooklyn Heights",
          "index": 4631
         },
         {
          "0": "Manhattan",
          "1": " East Harlem",
          "index": 4632
         },
         {
          "0": "Brooklyn",
          "1": " Bushwick",
          "index": 4633
         },
         {
          "0": "Bronx",
          "1": " Throgs Neck",
          "index": 4634
         },
         {
          "0": "Queens",
          "1": " Bayside",
          "index": 4635
         },
         {
          "0": "Manhattan",
          "1": " East Harlem",
          "index": 4636
         },
         {
          "0": "Manhattan",
          "1": " East Harlem",
          "index": 4637
         },
         {
          "0": "Queens",
          "1": " Elmhurst",
          "index": 4638
         },
         {
          "0": "Brooklyn",
          "1": " Coney Island",
          "index": 4639
         },
         {
          "0": "Brooklyn",
          "1": " Borough Park",
          "index": 4640
         },
         {
          "0": "Brooklyn",
          "1": " Williamsburg",
          "index": 4641
         },
         {
          "0": "Manhattan",
          "1": " East Harlem",
          "index": 4642
         },
         {
          "0": "Manhattan",
          "1": " East Village",
          "index": 4643
         },
         {
          "0": "Manhattan",
          "1": " Upper West Side",
          "index": 4644
         },
         {
          "0": "Brooklyn",
          "1": " Williamsburg",
          "index": 4645
         },
         {
          "0": "Manhattan",
          "1": " Chelsea",
          "index": 4646
         },
         {
          "0": "Brooklyn",
          "1": " Canarsie",
          "index": 4647
         },
         {
          "0": "Brooklyn",
          "1": " Bay Ridge",
          "index": 4648
         },
         {
          "0": "Manhattan",
          "1": " Upper West Side",
          "index": 4649
         },
         {
          "0": "Queens",
          "1": " Ditmars Steinway",
          "index": 4650
         },
         {
          "0": "Brooklyn",
          "1": " Bushwick",
          "index": 4651
         },
         {
          "0": "Brooklyn",
          "1": " Greenpoint",
          "index": 4652
         },
         {
          "0": "Manhattan",
          "1": " West Village",
          "index": 4653
         },
         {
          "0": "Manhattan",
          "1": " Upper East Side",
          "index": 4654
         },
         {
          "0": "Queens",
          "1": " Flushing",
          "index": 4655
         },
         {
          "0": "Brooklyn",
          "1": " Flatbush",
          "index": 4656
         },
         {
          "0": "Queens",
          "1": " Ditmars Steinway",
          "index": 4657
         },
         {
          "0": "Brooklyn",
          "1": " Crown Heights",
          "index": 4658
         },
         {
          "0": "Manhattan",
          "1": " Kips Bay",
          "index": 4659
         },
         {
          "0": "Manhattan",
          "1": " NoHo",
          "index": 4660
         },
         {
          "0": "Brooklyn",
          "1": " Williamsburg",
          "index": 4661
         },
         {
          "0": "Queens",
          "1": " Hollis",
          "index": 4662
         },
         {
          "0": "Brooklyn",
          "1": " Bedford-Stuyvesant",
          "index": 4663
         },
         {
          "0": "Brooklyn",
          "1": " Kensington",
          "index": 4664
         },
         {
          "0": "Queens",
          "1": " Bay Terrace",
          "index": 4665
         },
         {
          "0": "Brooklyn",
          "1": " Bushwick",
          "index": 4666
         },
         {
          "0": "Brooklyn",
          "1": " Brighton Beach",
          "index": 4667
         },
         {
          "0": "Brooklyn",
          "1": " Fort Hamilton",
          "index": 4668
         },
         {
          "0": "Queens",
          "1": " Long Island City",
          "index": 4669
         },
         {
          "0": "Manhattan",
          "1": " East Village",
          "index": 4670
         },
         {
          "0": "Queens",
          "1": " Rego Park",
          "index": 4671
         },
         {
          "0": "Brooklyn",
          "1": " Williamsburg",
          "index": 4672
         },
         {
          "0": "Brooklyn",
          "1": " Crown Heights",
          "index": 4673
         },
         {
          "0": "Brooklyn",
          "1": " Williamsburg",
          "index": 4674
         },
         {
          "0": "Brooklyn",
          "1": " Bushwick",
          "index": 4675
         },
         {
          "0": "Brooklyn",
          "1": " Greenpoint",
          "index": 4676
         },
         {
          "0": "Brooklyn",
          "1": " Bedford-Stuyvesant",
          "index": 4677
         },
         {
          "0": "Brooklyn",
          "1": " Gowanus",
          "index": 4678
         },
         {
          "0": "Bronx",
          "1": " Concourse",
          "index": 4679
         },
         {
          "0": "Manhattan",
          "1": " Upper West Side",
          "index": 4680
         },
         {
          "0": "Brooklyn",
          "1": " Crown Heights",
          "index": 4681
         },
         {
          "0": "Brooklyn",
          "1": " Bedford-Stuyvesant",
          "index": 4682
         },
         {
          "0": "Manhattan",
          "1": " Financial District",
          "index": 4683
         },
         {
          "0": "Brooklyn",
          "1": " Bedford-Stuyvesant",
          "index": 4684
         },
         {
          "0": "Brooklyn",
          "1": " Bushwick",
          "index": 4685
         },
         {
          "0": "Brooklyn",
          "1": " Williamsburg",
          "index": 4686
         },
         {
          "0": "Manhattan",
          "1": " Harlem",
          "index": 4687
         },
         {
          "0": "Brooklyn",
          "1": " Williamsburg",
          "index": 4688
         },
         {
          "0": "Brooklyn",
          "1": " Williamsburg",
          "index": 4689
         },
         {
          "0": "Manhattan",
          "1": " SoHo",
          "index": 4690
         },
         {
          "0": "Brooklyn",
          "1": " Williamsburg",
          "index": 4691
         },
         {
          "0": "Manhattan",
          "1": " East Village",
          "index": 4692
         },
         {
          "0": "Brooklyn",
          "1": " Williamsburg",
          "index": 4693
         },
         {
          "0": "Manhattan",
          "1": " Greenwich Village",
          "index": 4694
         },
         {
          "0": "Manhattan",
          "1": " Chinatown",
          "index": 4695
         },
         {
          "0": "Bronx",
          "1": " Pelham Gardens",
          "index": 4696
         },
         {
          "0": "Manhattan",
          "1": " Harlem",
          "index": 4697
         },
         {
          "0": "Manhattan",
          "1": " Hell's Kitchen",
          "index": 4698
         },
         {
          "0": "Manhattan",
          "1": " East Harlem",
          "index": 4699
         },
         {
          "0": "Manhattan",
          "1": " Hell's Kitchen",
          "index": 4700
         },
         {
          "0": "Manhattan",
          "1": " Chelsea",
          "index": 4701
         },
         {
          "0": "Manhattan",
          "1": " Financial District",
          "index": 4702
         },
         {
          "0": "Brooklyn",
          "1": " Clinton Hill",
          "index": 4703
         },
         {
          "0": "Bronx",
          "1": " Castle Hill",
          "index": 4704
         },
         {
          "0": "Manhattan",
          "1": " Lower East Side",
          "index": 4705
         },
         {
          "0": "Manhattan",
          "1": " Harlem",
          "index": 4706
         },
         {
          "0": "Manhattan",
          "1": " Washington Heights",
          "index": 4707
         },
         {
          "0": "Manhattan",
          "1": " Inwood",
          "index": 4708
         },
         {
          "0": "Brooklyn",
          "1": " Bushwick",
          "index": 4709
         },
         {
          "0": "Brooklyn",
          "1": " Bedford-Stuyvesant",
          "index": 4710
         },
         {
          "0": "Brooklyn",
          "1": " Crown Heights",
          "index": 4711
         },
         {
          "0": "Brooklyn",
          "1": " Bedford-Stuyvesant",
          "index": 4712
         },
         {
          "0": "Brooklyn",
          "1": " Bedford-Stuyvesant",
          "index": 4713
         },
         {
          "0": "Bronx",
          "1": " Mott Haven",
          "index": 4714
         },
         {
          "0": "Manhattan",
          "1": " SoHo",
          "index": 4715
         },
         {
          "0": "Brooklyn",
          "1": " Downtown Brooklyn",
          "index": 4716
         },
         {
          "0": "Brooklyn",
          "1": " Prospect-Lefferts Gardens",
          "index": 4717
         },
         {
          "0": "Manhattan",
          "1": " Greenwich Village",
          "index": 4718
         },
         {
          "0": "Queens",
          "1": " Woodside",
          "index": 4719
         },
         {
          "0": "Brooklyn",
          "1": " Bedford-Stuyvesant",
          "index": 4720
         },
         {
          "0": "Queens",
          "1": " Sunnyside",
          "index": 4721
         },
         {
          "0": "Manhattan",
          "1": " Harlem",
          "index": 4722
         },
         {
          "0": "Manhattan",
          "1": " East Village",
          "index": 4723
         },
         {
          "0": "Brooklyn",
          "1": " Clinton Hill",
          "index": 4724
         },
         {
          "0": "Manhattan",
          "1": " East Harlem",
          "index": 4725
         },
         {
          "0": "Queens",
          "1": " Richmond Hill",
          "index": 4726
         },
         {
          "0": "Manhattan",
          "1": " Upper East Side",
          "index": 4727
         },
         {
          "0": "Manhattan",
          "1": " Washington Heights",
          "index": 4728
         },
         {
          "0": "Brooklyn",
          "1": " South Slope",
          "index": 4729
         },
         {
          "0": "Manhattan",
          "1": " Hell's Kitchen",
          "index": 4730
         },
         {
          "0": "Brooklyn",
          "1": " Clinton Hill",
          "index": 4731
         },
         {
          "0": "Brooklyn",
          "1": " Williamsburg",
          "index": 4732
         },
         {
          "0": "Queens",
          "1": " Elmhurst",
          "index": 4733
         },
         {
          "0": "Manhattan",
          "1": " Upper East Side",
          "index": 4734
         },
         {
          "0": "Manhattan",
          "1": " Flatiron District",
          "index": 4735
         },
         {
          "0": "Brooklyn",
          "1": " South Slope",
          "index": 4736
         },
         {
          "0": "Brooklyn",
          "1": " Williamsburg",
          "index": 4737
         },
         {
          "0": "Queens",
          "1": " Hollis",
          "index": 4738
         },
         {
          "0": "Bronx",
          "1": " Olinville",
          "index": 4739
         },
         {
          "0": "Brooklyn",
          "1": " Bushwick",
          "index": 4740
         },
         {
          "0": "Manhattan",
          "1": " Hell's Kitchen",
          "index": 4741
         },
         {
          "0": "Manhattan",
          "1": " Upper East Side",
          "index": 4742
         },
         {
          "0": "Brooklyn",
          "1": " Crown Heights",
          "index": 4743
         },
         {
          "0": "Brooklyn",
          "1": " Kensington",
          "index": 4744
         },
         {
          "0": "Brooklyn",
          "1": " Canarsie",
          "index": 4745
         },
         {
          "0": "Brooklyn",
          "1": " Borough Park",
          "index": 4746
         },
         {
          "0": "Brooklyn",
          "1": " Williamsburg",
          "index": 4747
         },
         {
          "0": "Manhattan",
          "1": " Hell's Kitchen",
          "index": 4748
         },
         {
          "0": "Manhattan",
          "1": " West Village",
          "index": 4749
         },
         {
          "0": "Brooklyn",
          "1": " Bushwick",
          "index": 4750
         },
         {
          "0": "Brooklyn",
          "1": " Crown Heights",
          "index": 4751
         },
         {
          "0": "Brooklyn",
          "1": " Coney Island",
          "index": 4752
         },
         {
          "0": "Queens",
          "1": " Ditmars Steinway",
          "index": 4753
         },
         {
          "0": "Manhattan",
          "1": " Midtown",
          "index": 4754
         },
         {
          "0": "Brooklyn",
          "1": " Crown Heights",
          "index": 4755
         },
         {
          "0": "Brooklyn",
          "1": " Borough Park",
          "index": 4756
         },
         {
          "0": "Brooklyn",
          "1": " Downtown Brooklyn",
          "index": 4757
         },
         {
          "0": "Manhattan",
          "1": " Harlem",
          "index": 4758
         },
         {
          "0": "Manhattan",
          "1": " Chelsea",
          "index": 4759
         },
         {
          "0": "Brooklyn",
          "1": " East Flatbush",
          "index": 4760
         },
         {
          "0": "Brooklyn",
          "1": " Clinton Hill",
          "index": 4761
         },
         {
          "0": "Queens",
          "1": " Astoria",
          "index": 4762
         },
         {
          "0": "Queens",
          "1": " Astoria",
          "index": 4763
         },
         {
          "0": "Brooklyn",
          "1": " Bedford-Stuyvesant",
          "index": 4764
         },
         {
          "0": "Manhattan",
          "1": " Upper East Side",
          "index": 4765
         },
         {
          "0": "Brooklyn",
          "1": " Crown Heights",
          "index": 4766
         },
         {
          "0": "Manhattan",
          "1": " Hell's Kitchen",
          "index": 4767
         },
         {
          "0": "Manhattan",
          "1": " Upper East Side",
          "index": 4768
         },
         {
          "0": "Manhattan",
          "1": " West Village",
          "index": 4769
         },
         {
          "0": "Manhattan",
          "1": " Hell's Kitchen",
          "index": 4770
         },
         {
          "0": "Brooklyn",
          "1": " Williamsburg",
          "index": 4771
         },
         {
          "0": "Brooklyn",
          "1": " Crown Heights",
          "index": 4772
         },
         {
          "0": "Manhattan",
          "1": " Upper East Side",
          "index": 4773
         },
         {
          "0": "Manhattan",
          "1": " East Harlem",
          "index": 4774
         },
         {
          "0": "Manhattan",
          "1": " Harlem",
          "index": 4775
         },
         {
          "0": "Brooklyn",
          "1": " Williamsburg",
          "index": 4776
         },
         {
          "0": "Brooklyn",
          "1": " Sheepshead Bay",
          "index": 4777
         },
         {
          "0": "Manhattan",
          "1": " Hell's Kitchen",
          "index": 4778
         },
         {
          "0": "Brooklyn",
          "1": " Windsor Terrace",
          "index": 4779
         },
         {
          "0": "Manhattan",
          "1": " East Harlem",
          "index": 4780
         },
         {
          "0": "Manhattan",
          "1": " Upper East Side",
          "index": 4781
         },
         {
          "0": "Brooklyn",
          "1": " Bedford-Stuyvesant",
          "index": 4782
         },
         {
          "0": "Queens",
          "1": " Flushing",
          "index": 4783
         },
         {
          "0": "Manhattan",
          "1": " Hell's Kitchen",
          "index": 4784
         },
         {
          "0": "Manhattan",
          "1": " West Village",
          "index": 4785
         },
         {
          "0": "Bronx",
          "1": " Norwood",
          "index": 4786
         },
         {
          "0": "Manhattan",
          "1": " Harlem",
          "index": 4787
         },
         {
          "0": "Brooklyn",
          "1": " Crown Heights",
          "index": 4788
         },
         {
          "0": "Manhattan",
          "1": " Nolita",
          "index": 4789
         },
         {
          "0": "Manhattan",
          "1": " Chelsea",
          "index": 4790
         },
         {
          "0": "Staten Island",
          "1": " Rosebank",
          "index": 4791
         },
         {
          "0": "Manhattan",
          "1": " West Village",
          "index": 4792
         },
         {
          "0": "Manhattan",
          "1": " Morningside Heights",
          "index": 4793
         },
         {
          "0": "Manhattan",
          "1": " Upper West Side",
          "index": 4794
         },
         {
          "0": "Manhattan",
          "1": " West Village",
          "index": 4795
         },
         {
          "0": "Brooklyn",
          "1": " Williamsburg",
          "index": 4796
         },
         {
          "0": "Bronx",
          "1": " Melrose",
          "index": 4797
         },
         {
          "0": "Brooklyn",
          "1": " Greenpoint",
          "index": 4798
         },
         {
          "0": "Manhattan",
          "1": " East Village",
          "index": 4799
         },
         {
          "0": "Manhattan",
          "1": " Chelsea",
          "index": 4800
         },
         {
          "0": "Manhattan",
          "1": " Civic Center",
          "index": 4801
         },
         {
          "0": "Brooklyn",
          "1": " Williamsburg",
          "index": 4802
         },
         {
          "0": "Manhattan",
          "1": " Washington Heights",
          "index": 4803
         },
         {
          "0": "Brooklyn",
          "1": " Prospect Heights",
          "index": 4804
         },
         {
          "0": "Manhattan",
          "1": " Chelsea",
          "index": 4805
         },
         {
          "0": "Manhattan",
          "1": " Upper West Side",
          "index": 4806
         },
         {
          "0": "Manhattan",
          "1": " Hell's Kitchen",
          "index": 4807
         },
         {
          "0": "Manhattan",
          "1": " East Village",
          "index": 4808
         },
         {
          "0": "Manhattan",
          "1": " Harlem",
          "index": 4809
         },
         {
          "0": "Manhattan",
          "1": " Harlem",
          "index": 4810
         },
         {
          "0": "Manhattan",
          "1": " Upper East Side",
          "index": 4811
         },
         {
          "0": "Brooklyn",
          "1": " Bushwick",
          "index": 4812
         },
         {
          "0": "Queens",
          "1": " Springfield Gardens",
          "index": 4813
         },
         {
          "0": "Manhattan",
          "1": " Upper West Side",
          "index": 4814
         },
         {
          "0": "Bronx",
          "1": " Wakefield",
          "index": 4815
         },
         {
          "0": "Brooklyn",
          "1": " East Flatbush",
          "index": 4816
         },
         {
          "0": "Brooklyn",
          "1": " Park Slope",
          "index": 4817
         },
         {
          "0": "Manhattan",
          "1": " East Harlem",
          "index": 4818
         },
         {
          "0": "Queens",
          "1": " Astoria",
          "index": 4819
         },
         {
          "0": "Manhattan",
          "1": " Hell's Kitchen",
          "index": 4820
         },
         {
          "0": "Queens",
          "1": " East Elmhurst",
          "index": 4821
         },
         {
          "0": "Brooklyn",
          "1": " Bedford-Stuyvesant",
          "index": 4822
         },
         {
          "0": "Brooklyn",
          "1": " Bushwick",
          "index": 4823
         },
         {
          "0": "Manhattan",
          "1": " West Village",
          "index": 4824
         },
         {
          "0": "Manhattan",
          "1": " Chelsea",
          "index": 4825
         },
         {
          "0": "Bronx",
          "1": " Concourse Village",
          "index": 4826
         },
         {
          "0": "Queens",
          "1": " East Elmhurst",
          "index": 4827
         },
         {
          "0": "Manhattan",
          "1": " Upper West Side",
          "index": 4828
         },
         {
          "0": "Queens",
          "1": " Bayside",
          "index": 4829
         },
         {
          "0": "Manhattan",
          "1": " Upper West Side",
          "index": 4830
         },
         {
          "0": "Manhattan",
          "1": " Midtown",
          "index": 4831
         },
         {
          "0": "Manhattan",
          "1": " Harlem",
          "index": 4832
         },
         {
          "0": "Manhattan",
          "1": " Upper East Side",
          "index": 4833
         },
         {
          "0": "Queens",
          "1": " Jackson Heights",
          "index": 4834
         },
         {
          "0": "Brooklyn",
          "1": " Crown Heights",
          "index": 4835
         },
         {
          "0": "Brooklyn",
          "1": " Bedford-Stuyvesant",
          "index": 4836
         },
         {
          "0": "Manhattan",
          "1": " Upper West Side",
          "index": 4837
         },
         {
          "0": "Brooklyn",
          "1": " Bedford-Stuyvesant",
          "index": 4838
         },
         {
          "0": "Manhattan",
          "1": " East Village",
          "index": 4839
         },
         {
          "0": "Manhattan",
          "1": " East Village",
          "index": 4840
         },
         {
          "0": "Brooklyn",
          "1": " Bushwick",
          "index": 4841
         },
         {
          "0": "Manhattan",
          "1": " Upper West Side",
          "index": 4842
         },
         {
          "0": "Brooklyn",
          "1": " Prospect-Lefferts Gardens",
          "index": 4843
         },
         {
          "0": "Queens",
          "1": " South Ozone Park",
          "index": 4844
         },
         {
          "0": "Manhattan",
          "1": " Upper West Side",
          "index": 4845
         },
         {
          "0": "Manhattan",
          "1": " Harlem",
          "index": 4846
         },
         {
          "0": "Manhattan",
          "1": " East Village",
          "index": 4847
         },
         {
          "0": "Manhattan",
          "1": " Upper West Side",
          "index": 4848
         },
         {
          "0": "Brooklyn",
          "1": " Bedford-Stuyvesant",
          "index": 4849
         },
         {
          "0": "Manhattan",
          "1": " East Village",
          "index": 4850
         },
         {
          "0": "Brooklyn",
          "1": " Bushwick",
          "index": 4851
         },
         {
          "0": "Brooklyn",
          "1": " Crown Heights",
          "index": 4852
         },
         {
          "0": "Manhattan",
          "1": " Gramercy",
          "index": 4853
         },
         {
          "0": "Manhattan",
          "1": " Midtown",
          "index": 4854
         },
         {
          "0": "Manhattan",
          "1": " Lower East Side",
          "index": 4855
         },
         {
          "0": "Brooklyn",
          "1": " Fort Greene",
          "index": 4856
         },
         {
          "0": "Manhattan",
          "1": " Upper East Side",
          "index": 4857
         },
         {
          "0": "Brooklyn",
          "1": " Bedford-Stuyvesant",
          "index": 4858
         },
         {
          "0": "Manhattan",
          "1": " Upper West Side",
          "index": 4859
         },
         {
          "0": "Brooklyn",
          "1": " Greenpoint",
          "index": 4860
         },
         {
          "0": "Brooklyn",
          "1": " Fort Greene",
          "index": 4861
         },
         {
          "0": "Brooklyn",
          "1": " Clinton Hill",
          "index": 4862
         },
         {
          "0": "Brooklyn",
          "1": " Crown Heights",
          "index": 4863
         },
         {
          "0": "Manhattan",
          "1": " Gramercy",
          "index": 4864
         },
         {
          "0": "Brooklyn",
          "1": " Gowanus",
          "index": 4865
         },
         {
          "0": "Manhattan",
          "1": " Chelsea",
          "index": 4866
         },
         {
          "0": "Manhattan",
          "1": " Washington Heights",
          "index": 4867
         },
         {
          "0": "Manhattan",
          "1": " East Harlem",
          "index": 4868
         },
         {
          "0": "Brooklyn",
          "1": " Bedford-Stuyvesant",
          "index": 4869
         },
         {
          "0": "Brooklyn",
          "1": " Prospect Heights",
          "index": 4870
         },
         {
          "0": "Queens",
          "1": " Elmhurst",
          "index": 4871
         },
         {
          "0": "Manhattan",
          "1": " Battery Park City",
          "index": 4872
         },
         {
          "0": "Brooklyn",
          "1": " Williamsburg",
          "index": 4873
         },
         {
          "0": "Brooklyn",
          "1": " Park Slope",
          "index": 4874
         },
         {
          "0": "Manhattan",
          "1": " Chelsea",
          "index": 4875
         },
         {
          "0": "Manhattan",
          "1": " Chelsea",
          "index": 4876
         },
         {
          "0": "Manhattan",
          "1": " Harlem",
          "index": 4877
         },
         {
          "0": "Manhattan",
          "1": " Washington Heights",
          "index": 4878
         },
         {
          "0": "Brooklyn",
          "1": " Sheepshead Bay",
          "index": 4879
         },
         {
          "0": "Brooklyn",
          "1": " Williamsburg",
          "index": 4880
         },
         {
          "0": "Manhattan",
          "1": " Lower East Side",
          "index": 4881
         },
         {
          "0": "Brooklyn",
          "1": " Bedford-Stuyvesant",
          "index": 4882
         },
         {
          "0": "Manhattan",
          "1": " Upper East Side",
          "index": 4883
         },
         {
          "0": "Queens",
          "1": " Woodside",
          "index": 4884
         },
         {
          "0": "Manhattan",
          "1": " Harlem",
          "index": 4885
         },
         {
          "0": "Brooklyn",
          "1": " Williamsburg",
          "index": 4886
         },
         {
          "0": "Manhattan",
          "1": " Upper West Side",
          "index": 4887
         },
         {
          "0": "Brooklyn",
          "1": " Bushwick",
          "index": 4888
         },
         {
          "0": "Brooklyn",
          "1": " Crown Heights",
          "index": 4889
         },
         {
          "0": "Manhattan",
          "1": " East Village",
          "index": 4890
         },
         {
          "0": "Queens",
          "1": " Flushing",
          "index": 4891
         },
         {
          "0": "Manhattan",
          "1": " Murray Hill",
          "index": 4892
         },
         {
          "0": "Brooklyn",
          "1": " Bushwick",
          "index": 4893
         },
         {
          "0": "Brooklyn",
          "1": " Williamsburg",
          "index": 4894
         },
         {
          "0": "Manhattan",
          "1": " Midtown",
          "index": 4895
         },
         {
          "0": "Brooklyn",
          "1": " Williamsburg",
          "index": 4896
         },
         {
          "0": "Brooklyn",
          "1": " Williamsburg",
          "index": 4897
         },
         {
          "0": "Brooklyn",
          "1": " Flatbush",
          "index": 4898
         },
         {
          "0": "Manhattan",
          "1": " East Village",
          "index": 4899
         },
         {
          "0": "Brooklyn",
          "1": " Prospect-Lefferts Gardens",
          "index": 4900
         },
         {
          "0": "Manhattan",
          "1": " Hell's Kitchen",
          "index": 4901
         },
         {
          "0": "Manhattan",
          "1": " Hell's Kitchen",
          "index": 4902
         },
         {
          "0": "Manhattan",
          "1": " Harlem",
          "index": 4903
         },
         {
          "0": "Brooklyn",
          "1": " Bedford-Stuyvesant",
          "index": 4904
         },
         {
          "0": "Brooklyn",
          "1": " Williamsburg",
          "index": 4905
         },
         {
          "0": "Brooklyn",
          "1": " Bushwick",
          "index": 4906
         },
         {
          "0": "Brooklyn",
          "1": " East Flatbush",
          "index": 4907
         },
         {
          "0": "Queens",
          "1": " Jamaica",
          "index": 4908
         },
         {
          "0": "Manhattan",
          "1": " Chinatown",
          "index": 4909
         },
         {
          "0": "Manhattan",
          "1": " East Harlem",
          "index": 4910
         },
         {
          "0": "Brooklyn",
          "1": " Gowanus",
          "index": 4911
         },
         {
          "0": "Brooklyn",
          "1": " Bedford-Stuyvesant",
          "index": 4912
         },
         {
          "0": "Manhattan",
          "1": " Harlem",
          "index": 4913
         },
         {
          "0": "Manhattan",
          "1": " Washington Heights",
          "index": 4914
         },
         {
          "0": "Queens",
          "1": " Elmhurst",
          "index": 4915
         },
         {
          "0": "Manhattan",
          "1": " Harlem",
          "index": 4916
         },
         {
          "0": "Brooklyn",
          "1": " Williamsburg",
          "index": 4917
         },
         {
          "0": "Manhattan",
          "1": " Greenwich Village",
          "index": 4918
         },
         {
          "0": "Manhattan",
          "1": " Harlem",
          "index": 4919
         },
         {
          "0": "Brooklyn",
          "1": " East Flatbush",
          "index": 4920
         },
         {
          "0": "Brooklyn",
          "1": " Williamsburg",
          "index": 4921
         },
         {
          "0": "Manhattan",
          "1": " Harlem",
          "index": 4922
         },
         {
          "0": "Queens",
          "1": " Flushing",
          "index": 4923
         },
         {
          "0": "Brooklyn",
          "1": " Bedford-Stuyvesant",
          "index": 4924
         },
         {
          "0": "Brooklyn",
          "1": " Brooklyn Heights",
          "index": 4925
         },
         {
          "0": "Brooklyn",
          "1": " Crown Heights",
          "index": 4926
         },
         {
          "0": "Manhattan",
          "1": " Hell's Kitchen",
          "index": 4927
         },
         {
          "0": "Brooklyn",
          "1": " Sheepshead Bay",
          "index": 4928
         },
         {
          "0": "Staten Island",
          "1": " St. George",
          "index": 4929
         },
         {
          "0": "Staten Island",
          "1": " Rosebank",
          "index": 4930
         },
         {
          "0": "Brooklyn",
          "1": " Borough Park",
          "index": 4931
         },
         {
          "0": "Queens",
          "1": " Rosedale",
          "index": 4932
         },
         {
          "0": "Queens",
          "1": " East Elmhurst",
          "index": 4933
         },
         {
          "0": "Queens",
          "1": " Flushing",
          "index": 4934
         },
         {
          "0": "Brooklyn",
          "1": " Cypress Hills",
          "index": 4935
         },
         {
          "0": "Brooklyn",
          "1": " Borough Park",
          "index": 4936
         },
         {
          "0": "Manhattan",
          "1": " Gramercy",
          "index": 4937
         },
         {
          "0": "Manhattan",
          "1": " Chelsea",
          "index": 4938
         },
         {
          "0": "Queens",
          "1": " St. Albans",
          "index": 4939
         },
         {
          "0": "Manhattan",
          "1": " Washington Heights",
          "index": 4940
         },
         {
          "0": "Manhattan",
          "1": " Midtown",
          "index": 4941
         },
         {
          "0": "Queens",
          "1": " Ditmars Steinway",
          "index": 4942
         },
         {
          "0": "Brooklyn",
          "1": " Crown Heights",
          "index": 4943
         },
         {
          "0": "Manhattan",
          "1": " Tribeca",
          "index": 4944
         },
         {
          "0": "Manhattan",
          "1": " Upper West Side",
          "index": 4945
         },
         {
          "0": "Manhattan",
          "1": " Midtown",
          "index": 4946
         },
         {
          "0": "Queens",
          "1": " Ditmars Steinway",
          "index": 4947
         },
         {
          "0": "Brooklyn",
          "1": " Bedford-Stuyvesant",
          "index": 4948
         },
         {
          "0": "Brooklyn",
          "1": " Bushwick",
          "index": 4949
         },
         {
          "0": "Brooklyn",
          "1": " Williamsburg",
          "index": 4950
         },
         {
          "0": "Brooklyn",
          "1": " Bedford-Stuyvesant",
          "index": 4951
         },
         {
          "0": "Brooklyn",
          "1": " Bedford-Stuyvesant",
          "index": 4952
         },
         {
          "0": "Manhattan",
          "1": " Midtown",
          "index": 4953
         },
         {
          "0": "Manhattan",
          "1": " Washington Heights",
          "index": 4954
         },
         {
          "0": "Brooklyn",
          "1": " Borough Park",
          "index": 4955
         },
         {
          "0": "Brooklyn",
          "1": " East New York",
          "index": 4956
         },
         {
          "0": "Queens",
          "1": " Astoria",
          "index": 4957
         },
         {
          "0": "Manhattan",
          "1": " Upper West Side",
          "index": 4958
         },
         {
          "0": "Queens",
          "1": " Glendale",
          "index": 4959
         },
         {
          "0": "Staten Island",
          "1": " Arrochar",
          "index": 4960
         },
         {
          "0": "Brooklyn",
          "1": " Sunset Park",
          "index": 4961
         },
         {
          "0": "Manhattan",
          "1": " Morningside Heights",
          "index": 4962
         },
         {
          "0": "Brooklyn",
          "1": " Park Slope",
          "index": 4963
         },
         {
          "0": "Brooklyn",
          "1": " Bedford-Stuyvesant",
          "index": 4964
         },
         {
          "0": "Bronx",
          "1": " Throgs Neck",
          "index": 4965
         },
         {
          "0": "Brooklyn",
          "1": " Midwood",
          "index": 4966
         },
         {
          "0": "Manhattan",
          "1": " Chinatown",
          "index": 4967
         },
         {
          "0": "Manhattan",
          "1": " Upper West Side",
          "index": 4968
         },
         {
          "0": "Queens",
          "1": " Flushing",
          "index": 4969
         },
         {
          "0": "Queens",
          "1": " Rego Park",
          "index": 4970
         },
         {
          "0": "Manhattan",
          "1": " Midtown",
          "index": 4971
         },
         {
          "0": "Brooklyn",
          "1": " Prospect Heights",
          "index": 4972
         },
         {
          "0": "Brooklyn",
          "1": " Greenpoint",
          "index": 4973
         },
         {
          "0": "Brooklyn",
          "1": " Williamsburg",
          "index": 4974
         },
         {
          "0": "Queens",
          "1": " Whitestone",
          "index": 4975
         },
         {
          "0": "Brooklyn",
          "1": " Crown Heights",
          "index": 4976
         },
         {
          "0": "Brooklyn",
          "1": " Bushwick",
          "index": 4977
         },
         {
          "0": "Manhattan",
          "1": " Midtown",
          "index": 4978
         },
         {
          "0": "Brooklyn",
          "1": " Bedford-Stuyvesant",
          "index": 4979
         },
         {
          "0": "Manhattan",
          "1": " Hell's Kitchen",
          "index": 4980
         },
         {
          "0": "Manhattan",
          "1": " Upper East Side",
          "index": 4981
         },
         {
          "0": "Manhattan",
          "1": " SoHo",
          "index": 4982
         },
         {
          "0": "Manhattan",
          "1": " Morningside Heights",
          "index": 4983
         },
         {
          "0": "Brooklyn",
          "1": " Bensonhurst",
          "index": 4984
         },
         {
          "0": "Bronx",
          "1": " Schuylerville",
          "index": 4985
         },
         {
          "0": "Manhattan",
          "1": " Kips Bay",
          "index": 4986
         },
         {
          "0": "Brooklyn",
          "1": " Bushwick",
          "index": 4987
         },
         {
          "0": "Staten Island",
          "1": " Shore Acres",
          "index": 4988
         },
         {
          "0": "Brooklyn",
          "1": " Williamsburg",
          "index": 4989
         },
         {
          "0": "Manhattan",
          "1": " Midtown",
          "index": 4990
         },
         {
          "0": "Manhattan",
          "1": " Harlem",
          "index": 4991
         },
         {
          "0": "Brooklyn",
          "1": " Williamsburg",
          "index": 4992
         },
         {
          "0": "Queens",
          "1": " Richmond Hill",
          "index": 4993
         },
         {
          "0": "Bronx",
          "1": " Highbridge",
          "index": 4994
         },
         {
          "0": "Manhattan",
          "1": " East Harlem",
          "index": 4995
         },
         {
          "0": "Brooklyn",
          "1": " Bedford-Stuyvesant",
          "index": 4996
         },
         {
          "0": "Manhattan",
          "1": " Upper West Side",
          "index": 4997
         },
         {
          "0": "Manhattan",
          "1": " Nolita",
          "index": 4998
         },
         {
          "0": "Manhattan",
          "1": " Gramercy",
          "index": 4999
         },
         {
          "0": "Queens",
          "1": " Flushing",
          "index": 5000
         },
         {
          "0": "Manhattan",
          "1": " East Village",
          "index": 5001
         },
         {
          "0": "Brooklyn",
          "1": " Williamsburg",
          "index": 5002
         },
         {
          "0": "Manhattan",
          "1": " Upper West Side",
          "index": 5003
         },
         {
          "0": "Manhattan",
          "1": " Chelsea",
          "index": 5004
         },
         {
          "0": "Brooklyn",
          "1": " Bedford-Stuyvesant",
          "index": 5005
         },
         {
          "0": "Manhattan",
          "1": " West Village",
          "index": 5006
         },
         {
          "0": "Brooklyn",
          "1": " Cobble Hill",
          "index": 5007
         },
         {
          "0": "Brooklyn",
          "1": " Williamsburg",
          "index": 5008
         },
         {
          "0": "Manhattan",
          "1": " Harlem",
          "index": 5009
         },
         {
          "0": "Brooklyn",
          "1": " Williamsburg",
          "index": 5010
         },
         {
          "0": "Queens",
          "1": " Astoria",
          "index": 5011
         },
         {
          "0": "Brooklyn",
          "1": " Bushwick",
          "index": 5012
         },
         {
          "0": "Brooklyn",
          "1": " Williamsburg",
          "index": 5013
         },
         {
          "0": "Manhattan",
          "1": " Midtown",
          "index": 5014
         },
         {
          "0": "Brooklyn",
          "1": " Crown Heights",
          "index": 5015
         },
         {
          "0": "Brooklyn",
          "1": " Greenpoint",
          "index": 5016
         },
         {
          "0": "Queens",
          "1": " Ridgewood",
          "index": 5017
         },
         {
          "0": "Brooklyn",
          "1": " Flatbush",
          "index": 5018
         },
         {
          "0": "Brooklyn",
          "1": " Flatbush",
          "index": 5019
         },
         {
          "0": "Brooklyn",
          "1": " Gowanus",
          "index": 5020
         },
         {
          "0": "Brooklyn",
          "1": " Carroll Gardens",
          "index": 5021
         },
         {
          "0": "Manhattan",
          "1": " Morningside Heights",
          "index": 5022
         },
         {
          "0": "Queens",
          "1": " St. Albans",
          "index": 5023
         },
         {
          "0": "Brooklyn",
          "1": " Bushwick",
          "index": 5024
         },
         {
          "0": "Manhattan",
          "1": " Hell's Kitchen",
          "index": 5025
         },
         {
          "0": "Manhattan",
          "1": " Chinatown",
          "index": 5026
         },
         {
          "0": "Brooklyn",
          "1": " Bushwick",
          "index": 5027
         },
         {
          "0": "Manhattan",
          "1": " Hell's Kitchen",
          "index": 5028
         },
         {
          "0": "Brooklyn",
          "1": " Brighton Beach",
          "index": 5029
         },
         {
          "0": "Bronx",
          "1": " Concourse",
          "index": 5030
         },
         {
          "0": "Manhattan",
          "1": " Harlem",
          "index": 5031
         },
         {
          "0": "Queens",
          "1": " Flushing",
          "index": 5032
         },
         {
          "0": "Queens",
          "1": " Long Island City",
          "index": 5033
         },
         {
          "0": "Manhattan",
          "1": " Hell's Kitchen",
          "index": 5034
         },
         {
          "0": "Manhattan",
          "1": " Financial District",
          "index": 5035
         },
         {
          "0": "Brooklyn",
          "1": " Bedford-Stuyvesant",
          "index": 5036
         },
         {
          "0": "Manhattan",
          "1": " Morningside Heights",
          "index": 5037
         },
         {
          "0": "Manhattan",
          "1": " Greenwich Village",
          "index": 5038
         },
         {
          "0": "Queens",
          "1": " Long Island City",
          "index": 5039
         },
         {
          "0": "Queens",
          "1": " Rosedale",
          "index": 5040
         },
         {
          "0": "Brooklyn",
          "1": " Sunset Park",
          "index": 5041
         },
         {
          "0": "Staten Island",
          "1": " West Brighton",
          "index": 5042
         },
         {
          "0": "Brooklyn",
          "1": " Crown Heights",
          "index": 5043
         },
         {
          "0": "Brooklyn",
          "1": " Crown Heights",
          "index": 5044
         },
         {
          "0": "Queens",
          "1": " Jamaica",
          "index": 5045
         },
         {
          "0": "Brooklyn",
          "1": " Williamsburg",
          "index": 5046
         },
         {
          "0": "Brooklyn",
          "1": " Bedford-Stuyvesant",
          "index": 5047
         },
         {
          "0": "Brooklyn",
          "1": " Bedford-Stuyvesant",
          "index": 5048
         },
         {
          "0": "Manhattan",
          "1": " East Village",
          "index": 5049
         },
         {
          "0": "Brooklyn",
          "1": " Gowanus",
          "index": 5050
         },
         {
          "0": "Manhattan",
          "1": " Financial District",
          "index": 5051
         },
         {
          "0": "Manhattan",
          "1": " Harlem",
          "index": 5052
         },
         {
          "0": "Manhattan",
          "1": " Harlem",
          "index": 5053
         },
         {
          "0": "Brooklyn",
          "1": " Greenpoint",
          "index": 5054
         },
         {
          "0": "Queens",
          "1": " Long Island City",
          "index": 5055
         },
         {
          "0": "Queens",
          "1": " Woodside",
          "index": 5056
         },
         {
          "0": "Manhattan",
          "1": " Murray Hill",
          "index": 5057
         },
         {
          "0": "Brooklyn",
          "1": " Park Slope",
          "index": 5058
         },
         {
          "0": "Manhattan",
          "1": " Kips Bay",
          "index": 5059
         },
         {
          "0": "Manhattan",
          "1": " East Village",
          "index": 5060
         },
         {
          "0": "Brooklyn",
          "1": " Crown Heights",
          "index": 5061
         },
         {
          "0": "Manhattan",
          "1": " Upper East Side",
          "index": 5062
         },
         {
          "0": "Queens",
          "1": " Astoria",
          "index": 5063
         },
         {
          "0": "Manhattan",
          "1": " East Village",
          "index": 5064
         },
         {
          "0": "Manhattan",
          "1": " Hell's Kitchen",
          "index": 5065
         },
         {
          "0": "Manhattan",
          "1": " Hell's Kitchen",
          "index": 5066
         },
         {
          "0": "Manhattan",
          "1": " Inwood",
          "index": 5067
         },
         {
          "0": "Manhattan",
          "1": " Upper East Side",
          "index": 5068
         },
         {
          "0": "Manhattan",
          "1": " Gramercy",
          "index": 5069
         },
         {
          "0": "Brooklyn",
          "1": " Bedford-Stuyvesant",
          "index": 5070
         },
         {
          "0": "Brooklyn",
          "1": " Bushwick",
          "index": 5071
         },
         {
          "0": "Brooklyn",
          "1": " Bushwick",
          "index": 5072
         },
         {
          "0": "Manhattan",
          "1": " Hell's Kitchen",
          "index": 5073
         },
         {
          "0": "Manhattan",
          "1": " Harlem",
          "index": 5074
         },
         {
          "0": "Manhattan",
          "1": " Harlem",
          "index": 5075
         },
         {
          "0": "Brooklyn",
          "1": " Bushwick",
          "index": 5076
         },
         {
          "0": "Manhattan",
          "1": " Upper East Side",
          "index": 5077
         },
         {
          "0": "Manhattan",
          "1": " Chinatown",
          "index": 5078
         },
         {
          "0": "Manhattan",
          "1": " Upper East Side",
          "index": 5079
         },
         {
          "0": "Brooklyn",
          "1": " Bensonhurst",
          "index": 5080
         },
         {
          "0": "Brooklyn",
          "1": " Flatbush",
          "index": 5081
         },
         {
          "0": "Brooklyn",
          "1": " East New York",
          "index": 5082
         },
         {
          "0": "Manhattan",
          "1": " Nolita",
          "index": 5083
         },
         {
          "0": "Brooklyn",
          "1": " Bedford-Stuyvesant",
          "index": 5084
         },
         {
          "0": "Manhattan",
          "1": " Morningside Heights",
          "index": 5085
         },
         {
          "0": "Brooklyn",
          "1": " Williamsburg",
          "index": 5086
         },
         {
          "0": "Brooklyn",
          "1": " Brownsville",
          "index": 5087
         },
         {
          "0": "Manhattan",
          "1": " West Village",
          "index": 5088
         },
         {
          "0": "Queens",
          "1": " Sunnyside",
          "index": 5089
         },
         {
          "0": "Brooklyn",
          "1": " Greenpoint",
          "index": 5090
         },
         {
          "0": "Manhattan",
          "1": " Lower East Side",
          "index": 5091
         },
         {
          "0": "Brooklyn",
          "1": " Sunset Park",
          "index": 5092
         },
         {
          "0": "Bronx",
          "1": " Bronxdale",
          "index": 5093
         },
         {
          "0": "Manhattan",
          "1": " Chinatown",
          "index": 5094
         },
         {
          "0": "Manhattan",
          "1": " Hell's Kitchen",
          "index": 5095
         },
         {
          "0": "Manhattan",
          "1": " Lower East Side",
          "index": 5096
         },
         {
          "0": "Brooklyn",
          "1": " Bedford-Stuyvesant",
          "index": 5097
         },
         {
          "0": "Manhattan",
          "1": " Harlem",
          "index": 5098
         },
         {
          "0": "Queens",
          "1": " Ridgewood",
          "index": 5099
         },
         {
          "0": "Queens",
          "1": " Maspeth",
          "index": 5100
         },
         {
          "0": "Bronx",
          "1": " Kingsbridge",
          "index": 5101
         },
         {
          "0": "Brooklyn",
          "1": " Williamsburg",
          "index": 5102
         },
         {
          "0": "Manhattan",
          "1": " Kips Bay",
          "index": 5103
         },
         {
          "0": "Manhattan",
          "1": " Upper West Side",
          "index": 5104
         },
         {
          "0": "Brooklyn",
          "1": " Flatbush",
          "index": 5105
         },
         {
          "0": "Manhattan",
          "1": " Lower East Side",
          "index": 5106
         },
         {
          "0": "Manhattan",
          "1": " East Village",
          "index": 5107
         },
         {
          "0": "Brooklyn",
          "1": " Bedford-Stuyvesant",
          "index": 5108
         },
         {
          "0": "Brooklyn",
          "1": " Canarsie",
          "index": 5109
         },
         {
          "0": "Brooklyn",
          "1": " Bedford-Stuyvesant",
          "index": 5110
         },
         {
          "0": "Brooklyn",
          "1": " Crown Heights",
          "index": 5111
         },
         {
          "0": "Brooklyn",
          "1": " Bushwick",
          "index": 5112
         },
         {
          "0": "Brooklyn",
          "1": " Canarsie",
          "index": 5113
         },
         {
          "0": "Manhattan",
          "1": " East Harlem",
          "index": 5114
         },
         {
          "0": "Manhattan",
          "1": " Harlem",
          "index": 5115
         },
         {
          "0": "Manhattan",
          "1": " Hell's Kitchen",
          "index": 5116
         },
         {
          "0": "Brooklyn",
          "1": " Fort Greene",
          "index": 5117
         },
         {
          "0": "Manhattan",
          "1": " Chelsea",
          "index": 5118
         },
         {
          "0": "Manhattan",
          "1": " Hell's Kitchen",
          "index": 5119
         },
         {
          "0": "Staten Island",
          "1": " Grant City",
          "index": 5120
         },
         {
          "0": "Brooklyn",
          "1": " Bedford-Stuyvesant",
          "index": 5121
         },
         {
          "0": "Brooklyn",
          "1": " Canarsie",
          "index": 5122
         },
         {
          "0": "Brooklyn",
          "1": " Park Slope",
          "index": 5123
         },
         {
          "0": "Brooklyn",
          "1": " Williamsburg",
          "index": 5124
         },
         {
          "0": "Brooklyn",
          "1": " Williamsburg",
          "index": 5125
         },
         {
          "0": "Brooklyn",
          "1": " Clinton Hill",
          "index": 5126
         },
         {
          "0": "Staten Island",
          "1": " Tompkinsville",
          "index": 5127
         },
         {
          "0": "Manhattan",
          "1": " Harlem",
          "index": 5128
         },
         {
          "0": "Manhattan",
          "1": " East Village",
          "index": 5129
         },
         {
          "0": "Manhattan",
          "1": " East Harlem",
          "index": 5130
         },
         {
          "0": "Queens",
          "1": " Forest Hills",
          "index": 5131
         },
         {
          "0": "Manhattan",
          "1": " Washington Heights",
          "index": 5132
         },
         {
          "0": "Manhattan",
          "1": " Upper East Side",
          "index": 5133
         },
         {
          "0": "Manhattan",
          "1": " Washington Heights",
          "index": 5134
         },
         {
          "0": "Manhattan",
          "1": " Murray Hill",
          "index": 5135
         },
         {
          "0": "Bronx",
          "1": " Morris Heights",
          "index": 5136
         },
         {
          "0": "Manhattan",
          "1": " East Harlem",
          "index": 5137
         },
         {
          "0": "Brooklyn",
          "1": " Crown Heights",
          "index": 5138
         },
         {
          "0": "Manhattan",
          "1": " East Village",
          "index": 5139
         },
         {
          "0": "Manhattan",
          "1": " East Village",
          "index": 5140
         },
         {
          "0": "Brooklyn",
          "1": " Flatbush",
          "index": 5141
         },
         {
          "0": "Manhattan",
          "1": " East Village",
          "index": 5142
         },
         {
          "0": "Manhattan",
          "1": " West Village",
          "index": 5143
         },
         {
          "0": "Brooklyn",
          "1": " Crown Heights",
          "index": 5144
         },
         {
          "0": "Manhattan",
          "1": " Hell's Kitchen",
          "index": 5145
         },
         {
          "0": "Manhattan",
          "1": " Murray Hill",
          "index": 5146
         },
         {
          "0": "Brooklyn",
          "1": " Crown Heights",
          "index": 5147
         },
         {
          "0": "Brooklyn",
          "1": " Bedford-Stuyvesant",
          "index": 5148
         },
         {
          "0": "Brooklyn",
          "1": " Flatbush",
          "index": 5149
         },
         {
          "0": "Queens",
          "1": " Edgemere",
          "index": 5150
         },
         {
          "0": "Brooklyn",
          "1": " Bedford-Stuyvesant",
          "index": 5151
         },
         {
          "0": "Manhattan",
          "1": " Kips Bay",
          "index": 5152
         },
         {
          "0": "Manhattan",
          "1": " Hell's Kitchen",
          "index": 5153
         },
         {
          "0": "Queens",
          "1": " Bayside",
          "index": 5154
         },
         {
          "0": "Brooklyn",
          "1": " Bedford-Stuyvesant",
          "index": 5155
         },
         {
          "0": "Brooklyn",
          "1": " Windsor Terrace",
          "index": 5156
         },
         {
          "0": "Brooklyn",
          "1": " Greenpoint",
          "index": 5157
         },
         {
          "0": "Brooklyn",
          "1": " Bedford-Stuyvesant",
          "index": 5158
         },
         {
          "0": "Brooklyn",
          "1": " Bushwick",
          "index": 5159
         },
         {
          "0": "Queens",
          "1": " Ridgewood",
          "index": 5160
         },
         {
          "0": "Brooklyn",
          "1": " Bushwick",
          "index": 5161
         },
         {
          "0": "Brooklyn",
          "1": " Dyker Heights",
          "index": 5162
         },
         {
          "0": "Queens",
          "1": " Long Island City",
          "index": 5163
         },
         {
          "0": "Manhattan",
          "1": " Hell's Kitchen",
          "index": 5164
         },
         {
          "0": "Brooklyn",
          "1": " Crown Heights",
          "index": 5165
         },
         {
          "0": "Brooklyn",
          "1": " Gowanus",
          "index": 5166
         },
         {
          "0": "Manhattan",
          "1": " East Village",
          "index": 5167
         },
         {
          "0": "Brooklyn",
          "1": " Bushwick",
          "index": 5168
         },
         {
          "0": "Brooklyn",
          "1": " South Slope",
          "index": 5169
         },
         {
          "0": "Manhattan",
          "1": " East Harlem",
          "index": 5170
         },
         {
          "0": "Manhattan",
          "1": " East Village",
          "index": 5171
         },
         {
          "0": "Manhattan",
          "1": " East Harlem",
          "index": 5172
         },
         {
          "0": "Brooklyn",
          "1": " Greenpoint",
          "index": 5173
         },
         {
          "0": "Manhattan",
          "1": " Hell's Kitchen",
          "index": 5174
         },
         {
          "0": "Queens",
          "1": " Astoria",
          "index": 5175
         },
         {
          "0": "Brooklyn",
          "1": " Bushwick",
          "index": 5176
         },
         {
          "0": "Brooklyn",
          "1": " Bedford-Stuyvesant",
          "index": 5177
         },
         {
          "0": "Manhattan",
          "1": " Washington Heights",
          "index": 5178
         },
         {
          "0": "Manhattan",
          "1": " East Village",
          "index": 5179
         },
         {
          "0": "Manhattan",
          "1": " Upper East Side",
          "index": 5180
         },
         {
          "0": "Manhattan",
          "1": " Upper West Side",
          "index": 5181
         },
         {
          "0": "Manhattan",
          "1": " West Village",
          "index": 5182
         },
         {
          "0": "Brooklyn",
          "1": " Crown Heights",
          "index": 5183
         },
         {
          "0": "Manhattan",
          "1": " Morningside Heights",
          "index": 5184
         },
         {
          "0": "Queens",
          "1": " Arverne",
          "index": 5185
         },
         {
          "0": "Manhattan",
          "1": " Midtown",
          "index": 5186
         },
         {
          "0": "Brooklyn",
          "1": " Bushwick",
          "index": 5187
         },
         {
          "0": "Manhattan",
          "1": " Washington Heights",
          "index": 5188
         },
         {
          "0": "Manhattan",
          "1": " Upper West Side",
          "index": 5189
         },
         {
          "0": "Brooklyn",
          "1": " Gowanus",
          "index": 5190
         },
         {
          "0": "Brooklyn",
          "1": " Williamsburg",
          "index": 5191
         },
         {
          "0": "Manhattan",
          "1": " Harlem",
          "index": 5192
         },
         {
          "0": "Brooklyn",
          "1": " Prospect Heights",
          "index": 5193
         },
         {
          "0": "Brooklyn",
          "1": " Bushwick",
          "index": 5194
         },
         {
          "0": "Brooklyn",
          "1": " Red Hook",
          "index": 5195
         },
         {
          "0": "Queens",
          "1": " Sunnyside",
          "index": 5196
         },
         {
          "0": "Manhattan",
          "1": " Harlem",
          "index": 5197
         },
         {
          "0": "Manhattan",
          "1": " West Village",
          "index": 5198
         },
         {
          "0": "Brooklyn",
          "1": " Williamsburg",
          "index": 5199
         },
         {
          "0": "Manhattan",
          "1": " Hell's Kitchen",
          "index": 5200
         },
         {
          "0": "Manhattan",
          "1": " Chinatown",
          "index": 5201
         },
         {
          "0": "Brooklyn",
          "1": " Carroll Gardens",
          "index": 5202
         },
         {
          "0": "Brooklyn",
          "1": " Bedford-Stuyvesant",
          "index": 5203
         },
         {
          "0": "Manhattan",
          "1": " Inwood",
          "index": 5204
         },
         {
          "0": "Brooklyn",
          "1": " Williamsburg",
          "index": 5205
         },
         {
          "0": "Brooklyn",
          "1": " Bedford-Stuyvesant",
          "index": 5206
         },
         {
          "0": "Brooklyn",
          "1": " Canarsie",
          "index": 5207
         },
         {
          "0": "Brooklyn",
          "1": " Williamsburg",
          "index": 5208
         },
         {
          "0": "Brooklyn",
          "1": " Bedford-Stuyvesant",
          "index": 5209
         },
         {
          "0": "Brooklyn",
          "1": " Carroll Gardens",
          "index": 5210
         },
         {
          "0": "Brooklyn",
          "1": " Greenpoint",
          "index": 5211
         },
         {
          "0": "Manhattan",
          "1": " Murray Hill",
          "index": 5212
         },
         {
          "0": "Manhattan",
          "1": " Upper East Side",
          "index": 5213
         },
         {
          "0": "Manhattan",
          "1": " Hell's Kitchen",
          "index": 5214
         },
         {
          "0": "Queens",
          "1": " Ditmars Steinway",
          "index": 5215
         },
         {
          "0": "Manhattan",
          "1": " Upper West Side",
          "index": 5216
         },
         {
          "0": "Brooklyn",
          "1": " Prospect-Lefferts Gardens",
          "index": 5217
         },
         {
          "0": "Manhattan",
          "1": " Nolita",
          "index": 5218
         },
         {
          "0": "Brooklyn",
          "1": " Prospect-Lefferts Gardens",
          "index": 5219
         },
         {
          "0": "Manhattan",
          "1": " Upper West Side",
          "index": 5220
         },
         {
          "0": "Manhattan",
          "1": " East Harlem",
          "index": 5221
         },
         {
          "0": "Brooklyn",
          "1": " Boerum Hill",
          "index": 5222
         },
         {
          "0": "Brooklyn",
          "1": " Prospect Heights",
          "index": 5223
         },
         {
          "0": "Manhattan",
          "1": " Harlem",
          "index": 5224
         },
         {
          "0": "Queens",
          "1": " Astoria",
          "index": 5225
         },
         {
          "0": "Brooklyn",
          "1": " East New York",
          "index": 5226
         },
         {
          "0": "Manhattan",
          "1": " Lower East Side",
          "index": 5227
         },
         {
          "0": "Manhattan",
          "1": " Chelsea",
          "index": 5228
         },
         {
          "0": "Brooklyn",
          "1": " Crown Heights",
          "index": 5229
         },
         {
          "0": "Queens",
          "1": " Ridgewood",
          "index": 5230
         },
         {
          "0": "Manhattan",
          "1": " Chelsea",
          "index": 5231
         },
         {
          "0": "Queens",
          "1": " Arverne",
          "index": 5232
         },
         {
          "0": "Manhattan",
          "1": " Midtown",
          "index": 5233
         },
         {
          "0": "Queens",
          "1": " Woodside",
          "index": 5234
         },
         {
          "0": "Manhattan",
          "1": " East Village",
          "index": 5235
         },
         {
          "0": "Manhattan",
          "1": " Lower East Side",
          "index": 5236
         },
         {
          "0": "Manhattan",
          "1": " Midtown",
          "index": 5237
         },
         {
          "0": "Brooklyn",
          "1": " Carroll Gardens",
          "index": 5238
         },
         {
          "0": "Manhattan",
          "1": " East Harlem",
          "index": 5239
         },
         {
          "0": "Queens",
          "1": " Maspeth",
          "index": 5240
         },
         {
          "0": "Manhattan",
          "1": " Upper West Side",
          "index": 5241
         },
         {
          "0": "Manhattan",
          "1": " Battery Park City",
          "index": 5242
         },
         {
          "0": "Brooklyn",
          "1": " Bay Ridge",
          "index": 5243
         },
         {
          "0": "Queens",
          "1": " Flushing",
          "index": 5244
         },
         {
          "0": "Manhattan",
          "1": " East Village",
          "index": 5245
         },
         {
          "0": "Manhattan",
          "1": " Harlem",
          "index": 5246
         },
         {
          "0": "Brooklyn",
          "1": " Fort Greene",
          "index": 5247
         },
         {
          "0": "Manhattan",
          "1": " East Village",
          "index": 5248
         },
         {
          "0": "Brooklyn",
          "1": " Cypress Hills",
          "index": 5249
         },
         {
          "0": "Queens",
          "1": " Ozone Park",
          "index": 5250
         },
         {
          "0": "Brooklyn",
          "1": " Bedford-Stuyvesant",
          "index": 5251
         },
         {
          "0": "Brooklyn",
          "1": " Williamsburg",
          "index": 5252
         },
         {
          "0": "Brooklyn",
          "1": " Bushwick",
          "index": 5253
         },
         {
          "0": "Brooklyn",
          "1": " Bedford-Stuyvesant",
          "index": 5254
         },
         {
          "0": "Queens",
          "1": " Ridgewood",
          "index": 5255
         },
         {
          "0": "Manhattan",
          "1": " East Village",
          "index": 5256
         },
         {
          "0": "Brooklyn",
          "1": " Brooklyn Heights",
          "index": 5257
         },
         {
          "0": "Manhattan",
          "1": " Upper West Side",
          "index": 5258
         },
         {
          "0": "Brooklyn",
          "1": " Bushwick",
          "index": 5259
         },
         {
          "0": "Manhattan",
          "1": " Washington Heights",
          "index": 5260
         },
         {
          "0": "Brooklyn",
          "1": " Carroll Gardens",
          "index": 5261
         },
         {
          "0": "Brooklyn",
          "1": " Bushwick",
          "index": 5262
         },
         {
          "0": "Queens",
          "1": " Long Island City",
          "index": 5263
         },
         {
          "0": "Manhattan",
          "1": " Chinatown",
          "index": 5264
         },
         {
          "0": "Brooklyn",
          "1": " Bushwick",
          "index": 5265
         },
         {
          "0": "Queens",
          "1": " Ridgewood",
          "index": 5266
         },
         {
          "0": "Manhattan",
          "1": " East Village",
          "index": 5267
         },
         {
          "0": "Brooklyn",
          "1": " Windsor Terrace",
          "index": 5268
         },
         {
          "0": "Brooklyn",
          "1": " Downtown Brooklyn",
          "index": 5269
         },
         {
          "0": "Manhattan",
          "1": " Chelsea",
          "index": 5270
         },
         {
          "0": "Manhattan",
          "1": " Midtown",
          "index": 5271
         },
         {
          "0": "Brooklyn",
          "1": " Crown Heights",
          "index": 5272
         },
         {
          "0": "Manhattan",
          "1": " Midtown",
          "index": 5273
         },
         {
          "0": "Queens",
          "1": " Astoria",
          "index": 5274
         },
         {
          "0": "Brooklyn",
          "1": " Bedford-Stuyvesant",
          "index": 5275
         },
         {
          "0": "Brooklyn",
          "1": " Williamsburg",
          "index": 5276
         },
         {
          "0": "Manhattan",
          "1": " Upper West Side",
          "index": 5277
         },
         {
          "0": "Brooklyn",
          "1": " Williamsburg",
          "index": 5278
         },
         {
          "0": "Brooklyn",
          "1": " Greenpoint",
          "index": 5279
         },
         {
          "0": "Bronx",
          "1": " Fieldston",
          "index": 5280
         },
         {
          "0": "Manhattan",
          "1": " Chelsea",
          "index": 5281
         },
         {
          "0": "Brooklyn",
          "1": " Bedford-Stuyvesant",
          "index": 5282
         },
         {
          "0": "Brooklyn",
          "1": " Crown Heights",
          "index": 5283
         },
         {
          "0": "Manhattan",
          "1": " East Village",
          "index": 5284
         },
         {
          "0": "Queens",
          "1": " Woodside",
          "index": 5285
         },
         {
          "0": "Manhattan",
          "1": " Kips Bay",
          "index": 5286
         },
         {
          "0": "Brooklyn",
          "1": " Williamsburg",
          "index": 5287
         },
         {
          "0": "Manhattan",
          "1": " Upper West Side",
          "index": 5288
         },
         {
          "0": "Brooklyn",
          "1": " Flatbush",
          "index": 5289
         },
         {
          "0": "Manhattan",
          "1": " Midtown",
          "index": 5290
         },
         {
          "0": "Queens",
          "1": " Flushing",
          "index": 5291
         },
         {
          "0": "Brooklyn",
          "1": " Bushwick",
          "index": 5292
         },
         {
          "0": "Brooklyn",
          "1": " Crown Heights",
          "index": 5293
         },
         {
          "0": "Queens",
          "1": " Flushing",
          "index": 5294
         },
         {
          "0": "Staten Island",
          "1": " St. George",
          "index": 5295
         },
         {
          "0": "Manhattan",
          "1": " East Village",
          "index": 5296
         },
         {
          "0": "Manhattan",
          "1": " East Harlem",
          "index": 5297
         },
         {
          "0": "Manhattan",
          "1": " West Village",
          "index": 5298
         },
         {
          "0": "Queens",
          "1": " Astoria",
          "index": 5299
         },
         {
          "0": "Manhattan",
          "1": " East Village",
          "index": 5300
         },
         {
          "0": "Queens",
          "1": " Woodhaven",
          "index": 5301
         },
         {
          "0": "Manhattan",
          "1": " Murray Hill",
          "index": 5302
         },
         {
          "0": "Manhattan",
          "1": " Harlem",
          "index": 5303
         },
         {
          "0": "Brooklyn",
          "1": " Park Slope",
          "index": 5304
         },
         {
          "0": "Brooklyn",
          "1": " Williamsburg",
          "index": 5305
         },
         {
          "0": "Brooklyn",
          "1": " Bedford-Stuyvesant",
          "index": 5306
         },
         {
          "0": "Manhattan",
          "1": " Financial District",
          "index": 5307
         },
         {
          "0": "Brooklyn",
          "1": " Bushwick",
          "index": 5308
         },
         {
          "0": "Manhattan",
          "1": " Lower East Side",
          "index": 5309
         },
         {
          "0": "Brooklyn",
          "1": " Williamsburg",
          "index": 5310
         },
         {
          "0": "Manhattan",
          "1": " Harlem",
          "index": 5311
         },
         {
          "0": "Brooklyn",
          "1": " Greenpoint",
          "index": 5312
         },
         {
          "0": "Brooklyn",
          "1": " Downtown Brooklyn",
          "index": 5313
         },
         {
          "0": "Brooklyn",
          "1": " Flatbush",
          "index": 5314
         },
         {
          "0": "Manhattan",
          "1": " Harlem",
          "index": 5315
         },
         {
          "0": "Manhattan",
          "1": " Upper East Side",
          "index": 5316
         },
         {
          "0": "Brooklyn",
          "1": " Sheepshead Bay",
          "index": 5317
         },
         {
          "0": "Brooklyn",
          "1": " Williamsburg",
          "index": 5318
         },
         {
          "0": "Manhattan",
          "1": " East Harlem",
          "index": 5319
         },
         {
          "0": "Brooklyn",
          "1": " East Flatbush",
          "index": 5320
         },
         {
          "0": "Manhattan",
          "1": " West Village",
          "index": 5321
         },
         {
          "0": "Brooklyn",
          "1": " Prospect Heights",
          "index": 5322
         },
         {
          "0": "Manhattan",
          "1": " Midtown",
          "index": 5323
         },
         {
          "0": "Manhattan",
          "1": " Civic Center",
          "index": 5324
         },
         {
          "0": "Brooklyn",
          "1": " Greenpoint",
          "index": 5325
         },
         {
          "0": "Manhattan",
          "1": " East Village",
          "index": 5326
         },
         {
          "0": "Brooklyn",
          "1": " Bushwick",
          "index": 5327
         },
         {
          "0": "Manhattan",
          "1": " East Village",
          "index": 5328
         },
         {
          "0": "Brooklyn",
          "1": " Bedford-Stuyvesant",
          "index": 5329
         },
         {
          "0": "Manhattan",
          "1": " Harlem",
          "index": 5330
         },
         {
          "0": "Manhattan",
          "1": " Harlem",
          "index": 5331
         },
         {
          "0": "Brooklyn",
          "1": " Williamsburg",
          "index": 5332
         },
         {
          "0": "Brooklyn",
          "1": " Crown Heights",
          "index": 5333
         },
         {
          "0": "Queens",
          "1": " Jackson Heights",
          "index": 5334
         },
         {
          "0": "Manhattan",
          "1": " Upper East Side",
          "index": 5335
         },
         {
          "0": "Brooklyn",
          "1": " Prospect-Lefferts Gardens",
          "index": 5336
         },
         {
          "0": "Manhattan",
          "1": " Upper East Side",
          "index": 5337
         },
         {
          "0": "Manhattan",
          "1": " Hell's Kitchen",
          "index": 5338
         },
         {
          "0": "Brooklyn",
          "1": " Bedford-Stuyvesant",
          "index": 5339
         },
         {
          "0": "Manhattan",
          "1": " East Village",
          "index": 5340
         },
         {
          "0": "Brooklyn",
          "1": " East Flatbush",
          "index": 5341
         },
         {
          "0": "Manhattan",
          "1": " West Village",
          "index": 5342
         },
         {
          "0": "Manhattan",
          "1": " Harlem",
          "index": 5343
         },
         {
          "0": "Manhattan",
          "1": " Washington Heights",
          "index": 5344
         },
         {
          "0": "Manhattan",
          "1": " Financial District",
          "index": 5345
         },
         {
          "0": "Manhattan",
          "1": " West Village",
          "index": 5346
         },
         {
          "0": "Brooklyn",
          "1": " Bedford-Stuyvesant",
          "index": 5347
         },
         {
          "0": "Brooklyn",
          "1": " Williamsburg",
          "index": 5348
         },
         {
          "0": "Queens",
          "1": " Corona",
          "index": 5349
         },
         {
          "0": "Brooklyn",
          "1": " Bushwick",
          "index": 5350
         },
         {
          "0": "Bronx",
          "1": " Van Nest",
          "index": 5351
         },
         {
          "0": "Brooklyn",
          "1": " Williamsburg",
          "index": 5352
         },
         {
          "0": "Manhattan",
          "1": " Upper East Side",
          "index": 5353
         },
         {
          "0": "Brooklyn",
          "1": " Clinton Hill",
          "index": 5354
         },
         {
          "0": "Brooklyn",
          "1": " Bushwick",
          "index": 5355
         },
         {
          "0": "Manhattan",
          "1": " Upper East Side",
          "index": 5356
         },
         {
          "0": "Brooklyn",
          "1": " Fort Greene",
          "index": 5357
         },
         {
          "0": "Queens",
          "1": " Cambria Heights",
          "index": 5358
         },
         {
          "0": "Bronx",
          "1": " Kingsbridge",
          "index": 5359
         },
         {
          "0": "Brooklyn",
          "1": " Park Slope",
          "index": 5360
         },
         {
          "0": "Brooklyn",
          "1": " Bedford-Stuyvesant",
          "index": 5361
         },
         {
          "0": "Manhattan",
          "1": " Harlem",
          "index": 5362
         },
         {
          "0": "Queens",
          "1": " Flushing",
          "index": 5363
         },
         {
          "0": "Manhattan",
          "1": " East Village",
          "index": 5364
         },
         {
          "0": "Manhattan",
          "1": " Harlem",
          "index": 5365
         },
         {
          "0": "Brooklyn",
          "1": " Williamsburg",
          "index": 5366
         },
         {
          "0": "Brooklyn",
          "1": " Bedford-Stuyvesant",
          "index": 5367
         },
         {
          "0": "Queens",
          "1": " Ditmars Steinway",
          "index": 5368
         },
         {
          "0": "Brooklyn",
          "1": " Downtown Brooklyn",
          "index": 5369
         },
         {
          "0": "Manhattan",
          "1": " Hell's Kitchen",
          "index": 5370
         },
         {
          "0": "Queens",
          "1": " Jamaica",
          "index": 5371
         },
         {
          "0": "Brooklyn",
          "1": " Gowanus",
          "index": 5372
         },
         {
          "0": "Manhattan",
          "1": " East Harlem",
          "index": 5373
         },
         {
          "0": "Brooklyn",
          "1": " Boerum Hill",
          "index": 5374
         },
         {
          "0": "Manhattan",
          "1": " Upper West Side",
          "index": 5375
         },
         {
          "0": "Manhattan",
          "1": " Stuyvesant Town",
          "index": 5376
         },
         {
          "0": "Bronx",
          "1": " Riverdale",
          "index": 5377
         },
         {
          "0": "Manhattan",
          "1": " East Village",
          "index": 5378
         },
         {
          "0": "Manhattan",
          "1": " Inwood",
          "index": 5379
         },
         {
          "0": "Bronx",
          "1": " Fordham",
          "index": 5380
         },
         {
          "0": "Manhattan",
          "1": " Nolita",
          "index": 5381
         },
         {
          "0": "Brooklyn",
          "1": " Midwood",
          "index": 5382
         },
         {
          "0": "Queens",
          "1": " Briarwood",
          "index": 5383
         },
         {
          "0": "Brooklyn",
          "1": " South Slope",
          "index": 5384
         },
         {
          "0": "Manhattan",
          "1": " Harlem",
          "index": 5385
         },
         {
          "0": "Queens",
          "1": " Sunnyside",
          "index": 5386
         },
         {
          "0": "Brooklyn",
          "1": " Red Hook",
          "index": 5387
         },
         {
          "0": "Manhattan",
          "1": " Upper West Side",
          "index": 5388
         },
         {
          "0": "Manhattan",
          "1": " Harlem",
          "index": 5389
         },
         {
          "0": "Manhattan",
          "1": " Upper East Side",
          "index": 5390
         },
         {
          "0": "Brooklyn",
          "1": " Bushwick",
          "index": 5391
         },
         {
          "0": "Manhattan",
          "1": " Upper East Side",
          "index": 5392
         },
         {
          "0": "Brooklyn",
          "1": " Bedford-Stuyvesant",
          "index": 5393
         },
         {
          "0": "Brooklyn",
          "1": " Canarsie",
          "index": 5394
         },
         {
          "0": "Brooklyn",
          "1": " Bedford-Stuyvesant",
          "index": 5395
         },
         {
          "0": "Brooklyn",
          "1": " Williamsburg",
          "index": 5396
         },
         {
          "0": "Brooklyn",
          "1": " Williamsburg",
          "index": 5397
         },
         {
          "0": "Brooklyn",
          "1": " Bushwick",
          "index": 5398
         },
         {
          "0": "Manhattan",
          "1": " Theater District",
          "index": 5399
         },
         {
          "0": "Brooklyn",
          "1": " Fort Greene",
          "index": 5400
         },
         {
          "0": "Manhattan",
          "1": " Upper West Side",
          "index": 5401
         },
         {
          "0": "Manhattan",
          "1": " East Village",
          "index": 5402
         },
         {
          "0": "Brooklyn",
          "1": " Bedford-Stuyvesant",
          "index": 5403
         },
         {
          "0": "Brooklyn",
          "1": " Bushwick",
          "index": 5404
         },
         {
          "0": "Queens",
          "1": " Richmond Hill",
          "index": 5405
         },
         {
          "0": "Brooklyn",
          "1": " Bushwick",
          "index": 5406
         },
         {
          "0": "Manhattan",
          "1": " Chelsea",
          "index": 5407
         },
         {
          "0": "Manhattan",
          "1": " Two Bridges",
          "index": 5408
         },
         {
          "0": "Manhattan",
          "1": " Midtown",
          "index": 5409
         },
         {
          "0": "Brooklyn",
          "1": " Crown Heights",
          "index": 5410
         },
         {
          "0": "Brooklyn",
          "1": " Clinton Hill",
          "index": 5411
         },
         {
          "0": "Brooklyn",
          "1": " Windsor Terrace",
          "index": 5412
         },
         {
          "0": "Brooklyn",
          "1": " Greenpoint",
          "index": 5413
         },
         {
          "0": "Bronx",
          "1": " Longwood",
          "index": 5414
         },
         {
          "0": "Brooklyn",
          "1": " Columbia St",
          "index": 5415
         },
         {
          "0": "Queens",
          "1": " Jackson Heights",
          "index": 5416
         },
         {
          "0": "Brooklyn",
          "1": " East Flatbush",
          "index": 5417
         },
         {
          "0": "Brooklyn",
          "1": " Bedford-Stuyvesant",
          "index": 5418
         },
         {
          "0": "Brooklyn",
          "1": " Canarsie",
          "index": 5419
         },
         {
          "0": "Brooklyn",
          "1": " Bedford-Stuyvesant",
          "index": 5420
         },
         {
          "0": "Manhattan",
          "1": " Hell's Kitchen",
          "index": 5421
         },
         {
          "0": "Manhattan",
          "1": " Chelsea",
          "index": 5422
         },
         {
          "0": "Brooklyn",
          "1": " Bushwick",
          "index": 5423
         },
         {
          "0": "Manhattan",
          "1": " Gramercy",
          "index": 5424
         },
         {
          "0": "Queens",
          "1": " Ditmars Steinway",
          "index": 5425
         },
         {
          "0": "Manhattan",
          "1": " Hell's Kitchen",
          "index": 5426
         },
         {
          "0": "Brooklyn",
          "1": " Bushwick",
          "index": 5427
         },
         {
          "0": "Manhattan",
          "1": " Kips Bay",
          "index": 5428
         },
         {
          "0": "Brooklyn",
          "1": " Windsor Terrace",
          "index": 5429
         },
         {
          "0": "Brooklyn",
          "1": " Greenpoint",
          "index": 5430
         },
         {
          "0": "Manhattan",
          "1": " Chelsea",
          "index": 5431
         },
         {
          "0": "Brooklyn",
          "1": " Williamsburg",
          "index": 5432
         },
         {
          "0": "Brooklyn",
          "1": " East Flatbush",
          "index": 5433
         },
         {
          "0": "Brooklyn",
          "1": " Bedford-Stuyvesant",
          "index": 5434
         },
         {
          "0": "Brooklyn",
          "1": " Bedford-Stuyvesant",
          "index": 5435
         },
         {
          "0": "Manhattan",
          "1": " Harlem",
          "index": 5436
         },
         {
          "0": "Queens",
          "1": " East Elmhurst",
          "index": 5437
         },
         {
          "0": "Brooklyn",
          "1": " Greenpoint",
          "index": 5438
         },
         {
          "0": "Manhattan",
          "1": " Chelsea",
          "index": 5439
         },
         {
          "0": "Manhattan",
          "1": " Washington Heights",
          "index": 5440
         },
         {
          "0": "Manhattan",
          "1": " Inwood",
          "index": 5441
         },
         {
          "0": "Brooklyn",
          "1": " Canarsie",
          "index": 5442
         },
         {
          "0": "Manhattan",
          "1": " Chelsea",
          "index": 5443
         },
         {
          "0": "Queens",
          "1": " Corona",
          "index": 5444
         },
         {
          "0": "Brooklyn",
          "1": " Williamsburg",
          "index": 5445
         },
         {
          "0": "Manhattan",
          "1": " Inwood",
          "index": 5446
         },
         {
          "0": "Manhattan",
          "1": " Harlem",
          "index": 5447
         },
         {
          "0": "Manhattan",
          "1": " Washington Heights",
          "index": 5448
         },
         {
          "0": "Manhattan",
          "1": " East Village",
          "index": 5449
         },
         {
          "0": "Manhattan",
          "1": " Hell's Kitchen",
          "index": 5450
         },
         {
          "0": "Manhattan",
          "1": " Lower East Side",
          "index": 5451
         },
         {
          "0": "Manhattan",
          "1": " Upper East Side",
          "index": 5452
         },
         {
          "0": "Brooklyn",
          "1": " Canarsie",
          "index": 5453
         },
         {
          "0": "Manhattan",
          "1": " Upper East Side",
          "index": 5454
         },
         {
          "0": "Brooklyn",
          "1": " Williamsburg",
          "index": 5455
         },
         {
          "0": "Manhattan",
          "1": " Hell's Kitchen",
          "index": 5456
         },
         {
          "0": "Manhattan",
          "1": " Harlem",
          "index": 5457
         },
         {
          "0": "Manhattan",
          "1": " Midtown",
          "index": 5458
         },
         {
          "0": "Manhattan",
          "1": " East Village",
          "index": 5459
         },
         {
          "0": "Queens",
          "1": " Ridgewood",
          "index": 5460
         },
         {
          "0": "Brooklyn",
          "1": " Clinton Hill",
          "index": 5461
         },
         {
          "0": "Manhattan",
          "1": " Harlem",
          "index": 5462
         },
         {
          "0": "Manhattan",
          "1": " Hell's Kitchen",
          "index": 5463
         },
         {
          "0": "Manhattan",
          "1": " Lower East Side",
          "index": 5464
         },
         {
          "0": "Brooklyn",
          "1": " South Slope",
          "index": 5465
         },
         {
          "0": "Manhattan",
          "1": " Chinatown",
          "index": 5466
         },
         {
          "0": "Queens",
          "1": " Astoria",
          "index": 5467
         },
         {
          "0": "Manhattan",
          "1": " Harlem",
          "index": 5468
         },
         {
          "0": "Queens",
          "1": " Jackson Heights",
          "index": 5469
         },
         {
          "0": "Manhattan",
          "1": " West Village",
          "index": 5470
         },
         {
          "0": "Brooklyn",
          "1": " Bedford-Stuyvesant",
          "index": 5471
         },
         {
          "0": "Brooklyn",
          "1": " South Slope",
          "index": 5472
         },
         {
          "0": "Brooklyn",
          "1": " Williamsburg",
          "index": 5473
         },
         {
          "0": "Manhattan",
          "1": " Midtown",
          "index": 5474
         },
         {
          "0": "Manhattan",
          "1": " East Village",
          "index": 5475
         },
         {
          "0": "Manhattan",
          "1": " Hell's Kitchen",
          "index": 5476
         },
         {
          "0": "Brooklyn",
          "1": " Carroll Gardens",
          "index": 5477
         },
         {
          "0": "Brooklyn",
          "1": " East Flatbush",
          "index": 5478
         },
         {
          "0": "Manhattan",
          "1": " Lower East Side",
          "index": 5479
         },
         {
          "0": "Manhattan",
          "1": " Midtown",
          "index": 5480
         },
         {
          "0": "Brooklyn",
          "1": " Bushwick",
          "index": 5481
         },
         {
          "0": "Manhattan",
          "1": " Midtown",
          "index": 5482
         },
         {
          "0": "Brooklyn",
          "1": " Bedford-Stuyvesant",
          "index": 5483
         },
         {
          "0": "Brooklyn",
          "1": " Prospect Heights",
          "index": 5484
         },
         {
          "0": "Brooklyn",
          "1": " Park Slope",
          "index": 5485
         },
         {
          "0": "Manhattan",
          "1": " Harlem",
          "index": 5486
         },
         {
          "0": "Brooklyn",
          "1": " Bushwick",
          "index": 5487
         },
         {
          "0": "Brooklyn",
          "1": " Williamsburg",
          "index": 5488
         },
         {
          "0": "Brooklyn",
          "1": " Crown Heights",
          "index": 5489
         },
         {
          "0": "Brooklyn",
          "1": " Downtown Brooklyn",
          "index": 5490
         },
         {
          "0": "Queens",
          "1": " Jackson Heights",
          "index": 5491
         },
         {
          "0": "Queens",
          "1": " Forest Hills",
          "index": 5492
         },
         {
          "0": "Brooklyn",
          "1": " Williamsburg",
          "index": 5493
         },
         {
          "0": "Brooklyn",
          "1": " Bedford-Stuyvesant",
          "index": 5494
         },
         {
          "0": "Manhattan",
          "1": " Upper East Side",
          "index": 5495
         },
         {
          "0": "Manhattan",
          "1": " Gramercy",
          "index": 5496
         },
         {
          "0": "Manhattan",
          "1": " Midtown",
          "index": 5497
         },
         {
          "0": "Manhattan",
          "1": " Lower East Side",
          "index": 5498
         },
         {
          "0": "Brooklyn",
          "1": " Prospect-Lefferts Gardens",
          "index": 5499
         },
         {
          "0": "Brooklyn",
          "1": " East Flatbush",
          "index": 5500
         },
         {
          "0": "Manhattan",
          "1": " Lower East Side",
          "index": 5501
         },
         {
          "0": "Brooklyn",
          "1": " Bedford-Stuyvesant",
          "index": 5502
         },
         {
          "0": "Brooklyn",
          "1": " Bushwick",
          "index": 5503
         },
         {
          "0": "Brooklyn",
          "1": " Greenpoint",
          "index": 5504
         },
         {
          "0": "Brooklyn",
          "1": " Crown Heights",
          "index": 5505
         },
         {
          "0": "Brooklyn",
          "1": " Prospect Heights",
          "index": 5506
         },
         {
          "0": "Bronx",
          "1": " Soundview",
          "index": 5507
         },
         {
          "0": "Manhattan",
          "1": " Greenwich Village",
          "index": 5508
         },
         {
          "0": "Brooklyn",
          "1": " Crown Heights",
          "index": 5509
         },
         {
          "0": "Brooklyn",
          "1": " Crown Heights",
          "index": 5510
         },
         {
          "0": "Manhattan",
          "1": " Harlem",
          "index": 5511
         },
         {
          "0": "Brooklyn",
          "1": " Clinton Hill",
          "index": 5512
         },
         {
          "0": "Manhattan",
          "1": " Inwood",
          "index": 5513
         },
         {
          "0": "Manhattan",
          "1": " East Village",
          "index": 5514
         },
         {
          "0": "Manhattan",
          "1": " Financial District",
          "index": 5515
         },
         {
          "0": "Manhattan",
          "1": " Chelsea",
          "index": 5516
         },
         {
          "0": "Brooklyn",
          "1": " Bedford-Stuyvesant",
          "index": 5517
         },
         {
          "0": "Brooklyn",
          "1": " Bedford-Stuyvesant",
          "index": 5518
         },
         {
          "0": "Brooklyn",
          "1": " Crown Heights",
          "index": 5519
         },
         {
          "0": "Manhattan",
          "1": " Harlem",
          "index": 5520
         },
         {
          "0": "Manhattan",
          "1": " East Village",
          "index": 5521
         },
         {
          "0": "Brooklyn",
          "1": " Greenpoint",
          "index": 5522
         },
         {
          "0": "Brooklyn",
          "1": " Greenpoint",
          "index": 5523
         },
         {
          "0": "Manhattan",
          "1": " East Harlem",
          "index": 5524
         },
         {
          "0": "Manhattan",
          "1": " East Village",
          "index": 5525
         },
         {
          "0": "Queens",
          "1": " Sunnyside",
          "index": 5526
         },
         {
          "0": "Manhattan",
          "1": " East Harlem",
          "index": 5527
         },
         {
          "0": "Brooklyn",
          "1": " Flatbush",
          "index": 5528
         },
         {
          "0": "Manhattan",
          "1": " SoHo",
          "index": 5529
         },
         {
          "0": "Queens",
          "1": " Far Rockaway",
          "index": 5530
         },
         {
          "0": "Manhattan",
          "1": " Hell's Kitchen",
          "index": 5531
         },
         {
          "0": "Manhattan",
          "1": " East Harlem",
          "index": 5532
         },
         {
          "0": "Queens",
          "1": " Long Island City",
          "index": 5533
         },
         {
          "0": "Brooklyn",
          "1": " Williamsburg",
          "index": 5534
         },
         {
          "0": "Brooklyn",
          "1": " Fort Greene",
          "index": 5535
         },
         {
          "0": "Manhattan",
          "1": " Hell's Kitchen",
          "index": 5536
         },
         {
          "0": "Brooklyn",
          "1": " East Flatbush",
          "index": 5537
         },
         {
          "0": "Manhattan",
          "1": " Upper East Side",
          "index": 5538
         },
         {
          "0": "Manhattan",
          "1": " Midtown",
          "index": 5539
         },
         {
          "0": "Queens",
          "1": " Ditmars Steinway",
          "index": 5540
         },
         {
          "0": "Queens",
          "1": " Ditmars Steinway",
          "index": 5541
         },
         {
          "0": "Brooklyn",
          "1": " Clinton Hill",
          "index": 5542
         },
         {
          "0": "Manhattan",
          "1": " Little Italy",
          "index": 5543
         },
         {
          "0": "Manhattan",
          "1": " Kips Bay",
          "index": 5544
         },
         {
          "0": "Manhattan",
          "1": " NoHo",
          "index": 5545
         },
         {
          "0": "Manhattan",
          "1": " Morningside Heights",
          "index": 5546
         },
         {
          "0": "Brooklyn",
          "1": " Bedford-Stuyvesant",
          "index": 5547
         },
         {
          "0": "Manhattan",
          "1": " Chinatown",
          "index": 5548
         },
         {
          "0": "Manhattan",
          "1": " East Harlem",
          "index": 5549
         },
         {
          "0": "Staten Island",
          "1": " Tottenville",
          "index": 5550
         },
         {
          "0": "Manhattan",
          "1": " Gramercy",
          "index": 5551
         },
         {
          "0": "Brooklyn",
          "1": " Park Slope",
          "index": 5552
         },
         {
          "0": "Queens",
          "1": " Woodside",
          "index": 5553
         },
         {
          "0": "Manhattan",
          "1": " East Village",
          "index": 5554
         },
         {
          "0": "Brooklyn",
          "1": " Greenpoint",
          "index": 5555
         },
         {
          "0": "Brooklyn",
          "1": " Bedford-Stuyvesant",
          "index": 5556
         },
         {
          "0": "Manhattan",
          "1": " Midtown",
          "index": 5557
         },
         {
          "0": "Brooklyn",
          "1": " Bushwick",
          "index": 5558
         },
         {
          "0": "Manhattan",
          "1": " Murray Hill",
          "index": 5559
         },
         {
          "0": "Queens",
          "1": " Woodside",
          "index": 5560
         },
         {
          "0": "Manhattan",
          "1": " Gramercy",
          "index": 5561
         },
         {
          "0": "Manhattan",
          "1": " Upper West Side",
          "index": 5562
         },
         {
          "0": "Queens",
          "1": " Sunnyside",
          "index": 5563
         },
         {
          "0": "Manhattan",
          "1": " Upper East Side",
          "index": 5564
         },
         {
          "0": "Brooklyn",
          "1": " East Flatbush",
          "index": 5565
         },
         {
          "0": "Brooklyn",
          "1": " Bedford-Stuyvesant",
          "index": 5566
         },
         {
          "0": "Brooklyn",
          "1": " Bushwick",
          "index": 5567
         },
         {
          "0": "Manhattan",
          "1": " Financial District",
          "index": 5568
         },
         {
          "0": "Manhattan",
          "1": " Harlem",
          "index": 5569
         },
         {
          "0": "Brooklyn",
          "1": " Williamsburg",
          "index": 5570
         },
         {
          "0": "Manhattan",
          "1": " Hell's Kitchen",
          "index": 5571
         },
         {
          "0": "Brooklyn",
          "1": " Bushwick",
          "index": 5572
         },
         {
          "0": "Manhattan",
          "1": " East Harlem",
          "index": 5573
         },
         {
          "0": "Brooklyn",
          "1": " Gowanus",
          "index": 5574
         },
         {
          "0": "Brooklyn",
          "1": " Prospect-Lefferts Gardens",
          "index": 5575
         },
         {
          "0": "Manhattan",
          "1": " Theater District",
          "index": 5576
         },
         {
          "0": "Brooklyn",
          "1": " Bedford-Stuyvesant",
          "index": 5577
         },
         {
          "0": "Brooklyn",
          "1": " Williamsburg",
          "index": 5578
         },
         {
          "0": "Manhattan",
          "1": " Roosevelt Island",
          "index": 5579
         },
         {
          "0": "Brooklyn",
          "1": " Park Slope",
          "index": 5580
         },
         {
          "0": "Manhattan",
          "1": " Upper West Side",
          "index": 5581
         },
         {
          "0": "Brooklyn",
          "1": " Brownsville",
          "index": 5582
         },
         {
          "0": "Manhattan",
          "1": " Chelsea",
          "index": 5583
         },
         {
          "0": "Brooklyn",
          "1": " Bedford-Stuyvesant",
          "index": 5584
         },
         {
          "0": "Brooklyn",
          "1": " Crown Heights",
          "index": 5585
         },
         {
          "0": "Queens",
          "1": " St. Albans",
          "index": 5586
         },
         {
          "0": "Manhattan",
          "1": " Harlem",
          "index": 5587
         },
         {
          "0": "Manhattan",
          "1": " Harlem",
          "index": 5588
         },
         {
          "0": "Manhattan",
          "1": " Midtown",
          "index": 5589
         },
         {
          "0": "Queens",
          "1": " Elmhurst",
          "index": 5590
         },
         {
          "0": "Brooklyn",
          "1": " Williamsburg",
          "index": 5591
         },
         {
          "0": "Manhattan",
          "1": " Greenwich Village",
          "index": 5592
         },
         {
          "0": "Queens",
          "1": " Sunnyside",
          "index": 5593
         },
         {
          "0": "Queens",
          "1": " Neponsit",
          "index": 5594
         },
         {
          "0": "Brooklyn",
          "1": " South Slope",
          "index": 5595
         },
         {
          "0": "Manhattan",
          "1": " Harlem",
          "index": 5596
         },
         {
          "0": "Brooklyn",
          "1": " Bedford-Stuyvesant",
          "index": 5597
         },
         {
          "0": "Queens",
          "1": " Flushing",
          "index": 5598
         },
         {
          "0": "Brooklyn",
          "1": " Crown Heights",
          "index": 5599
         },
         {
          "0": "Queens",
          "1": " Long Island City",
          "index": 5600
         },
         {
          "0": "Manhattan",
          "1": " Upper East Side",
          "index": 5601
         },
         {
          "0": "Brooklyn",
          "1": " Crown Heights",
          "index": 5602
         },
         {
          "0": "Manhattan",
          "1": " Theater District",
          "index": 5603
         },
         {
          "0": "Manhattan",
          "1": " Harlem",
          "index": 5604
         },
         {
          "0": "Brooklyn",
          "1": " Bedford-Stuyvesant",
          "index": 5605
         },
         {
          "0": "Brooklyn",
          "1": " Williamsburg",
          "index": 5606
         },
         {
          "0": "Manhattan",
          "1": " Nolita",
          "index": 5607
         },
         {
          "0": "Queens",
          "1": " Sunnyside",
          "index": 5608
         },
         {
          "0": "Brooklyn",
          "1": " Bushwick",
          "index": 5609
         },
         {
          "0": "Manhattan",
          "1": " Midtown",
          "index": 5610
         },
         {
          "0": "Manhattan",
          "1": " Chelsea",
          "index": 5611
         },
         {
          "0": "Manhattan",
          "1": " Harlem",
          "index": 5612
         },
         {
          "0": "Brooklyn",
          "1": " Bedford-Stuyvesant",
          "index": 5613
         },
         {
          "0": "Queens",
          "1": " St. Albans",
          "index": 5614
         },
         {
          "0": "Brooklyn",
          "1": " Williamsburg",
          "index": 5615
         },
         {
          "0": "Manhattan",
          "1": " Washington Heights",
          "index": 5616
         },
         {
          "0": "Manhattan",
          "1": " Murray Hill",
          "index": 5617
         },
         {
          "0": "Queens",
          "1": " South Ozone Park",
          "index": 5618
         },
         {
          "0": "Brooklyn",
          "1": " Boerum Hill",
          "index": 5619
         },
         {
          "0": "Manhattan",
          "1": " Washington Heights",
          "index": 5620
         },
         {
          "0": "Brooklyn",
          "1": " Bedford-Stuyvesant",
          "index": 5621
         },
         {
          "0": "Manhattan",
          "1": " East Harlem",
          "index": 5622
         },
         {
          "0": "Manhattan",
          "1": " Morningside Heights",
          "index": 5623
         },
         {
          "0": "Queens",
          "1": " Arverne",
          "index": 5624
         },
         {
          "0": "Bronx",
          "1": " Mott Haven",
          "index": 5625
         },
         {
          "0": "Manhattan",
          "1": " East Village",
          "index": 5626
         },
         {
          "0": "Queens",
          "1": " Woodhaven",
          "index": 5627
         },
         {
          "0": "Manhattan",
          "1": " Washington Heights",
          "index": 5628
         },
         {
          "0": "Brooklyn",
          "1": " Williamsburg",
          "index": 5629
         },
         {
          "0": "Brooklyn",
          "1": " Sunset Park",
          "index": 5630
         },
         {
          "0": "Brooklyn",
          "1": " Williamsburg",
          "index": 5631
         },
         {
          "0": "Manhattan",
          "1": " Lower East Side",
          "index": 5632
         },
         {
          "0": "Manhattan",
          "1": " Chinatown",
          "index": 5633
         },
         {
          "0": "Manhattan",
          "1": " Washington Heights",
          "index": 5634
         },
         {
          "0": "Manhattan",
          "1": " Hell's Kitchen",
          "index": 5635
         },
         {
          "0": "Manhattan",
          "1": " Gramercy",
          "index": 5636
         },
         {
          "0": "Bronx",
          "1": " City Island",
          "index": 5637
         },
         {
          "0": "Manhattan",
          "1": " NoHo",
          "index": 5638
         },
         {
          "0": "Brooklyn",
          "1": " Williamsburg",
          "index": 5639
         },
         {
          "0": "Manhattan",
          "1": " Upper West Side",
          "index": 5640
         },
         {
          "0": "Manhattan",
          "1": " West Village",
          "index": 5641
         },
         {
          "0": "Manhattan",
          "1": " East Village",
          "index": 5642
         },
         {
          "0": "Manhattan",
          "1": " East Village",
          "index": 5643
         },
         {
          "0": "Manhattan",
          "1": " East Harlem",
          "index": 5644
         },
         {
          "0": "Queens",
          "1": " Glendale",
          "index": 5645
         },
         {
          "0": "Manhattan",
          "1": " Gramercy",
          "index": 5646
         },
         {
          "0": "Brooklyn",
          "1": " Gowanus",
          "index": 5647
         },
         {
          "0": "Brooklyn",
          "1": " Bedford-Stuyvesant",
          "index": 5648
         },
         {
          "0": "Queens",
          "1": " Sunnyside",
          "index": 5649
         },
         {
          "0": "Queens",
          "1": " Woodhaven",
          "index": 5650
         },
         {
          "0": "Manhattan",
          "1": " Harlem",
          "index": 5651
         },
         {
          "0": "Brooklyn",
          "1": " Williamsburg",
          "index": 5652
         },
         {
          "0": "Brooklyn",
          "1": " Bedford-Stuyvesant",
          "index": 5653
         },
         {
          "0": "Manhattan",
          "1": " Morningside Heights",
          "index": 5654
         },
         {
          "0": "Manhattan",
          "1": " Murray Hill",
          "index": 5655
         },
         {
          "0": "Brooklyn",
          "1": " Williamsburg",
          "index": 5656
         },
         {
          "0": "Brooklyn",
          "1": " Borough Park",
          "index": 5657
         },
         {
          "0": "Brooklyn",
          "1": " Bedford-Stuyvesant",
          "index": 5658
         },
         {
          "0": "Brooklyn",
          "1": " Bushwick",
          "index": 5659
         },
         {
          "0": "Manhattan",
          "1": " Upper East Side",
          "index": 5660
         },
         {
          "0": "Brooklyn",
          "1": " Crown Heights",
          "index": 5661
         },
         {
          "0": "Queens",
          "1": " East Elmhurst",
          "index": 5662
         },
         {
          "0": "Manhattan",
          "1": " Upper West Side",
          "index": 5663
         },
         {
          "0": "Brooklyn",
          "1": " Bushwick",
          "index": 5664
         },
         {
          "0": "Manhattan",
          "1": " Upper East Side",
          "index": 5665
         },
         {
          "0": "Brooklyn",
          "1": " Greenpoint",
          "index": 5666
         },
         {
          "0": "Manhattan",
          "1": " Midtown",
          "index": 5667
         },
         {
          "0": "Manhattan",
          "1": " Theater District",
          "index": 5668
         },
         {
          "0": "Manhattan",
          "1": " Harlem",
          "index": 5669
         },
         {
          "0": "Queens",
          "1": " Long Island City",
          "index": 5670
         },
         {
          "0": "Brooklyn",
          "1": " East Flatbush",
          "index": 5671
         },
         {
          "0": "Manhattan",
          "1": " Harlem",
          "index": 5672
         },
         {
          "0": "Manhattan",
          "1": " Upper East Side",
          "index": 5673
         },
         {
          "0": "Brooklyn",
          "1": " Bushwick",
          "index": 5674
         },
         {
          "0": "Queens",
          "1": " Astoria",
          "index": 5675
         },
         {
          "0": "Brooklyn",
          "1": " Bedford-Stuyvesant",
          "index": 5676
         },
         {
          "0": "Brooklyn",
          "1": " Bushwick",
          "index": 5677
         },
         {
          "0": "Manhattan",
          "1": " Midtown",
          "index": 5678
         },
         {
          "0": "Manhattan",
          "1": " East Harlem",
          "index": 5679
         },
         {
          "0": "Brooklyn",
          "1": " Williamsburg",
          "index": 5680
         },
         {
          "0": "Manhattan",
          "1": " Lower East Side",
          "index": 5681
         },
         {
          "0": "Manhattan",
          "1": " Hell's Kitchen",
          "index": 5682
         },
         {
          "0": "Brooklyn",
          "1": " Kensington",
          "index": 5683
         },
         {
          "0": "Manhattan",
          "1": " East Village",
          "index": 5684
         },
         {
          "0": "Brooklyn",
          "1": " Flatbush",
          "index": 5685
         },
         {
          "0": "Brooklyn",
          "1": " Bay Ridge",
          "index": 5686
         },
         {
          "0": "Manhattan",
          "1": " East Village",
          "index": 5687
         },
         {
          "0": "Manhattan",
          "1": " East Harlem",
          "index": 5688
         },
         {
          "0": "Manhattan",
          "1": " Washington Heights",
          "index": 5689
         },
         {
          "0": "Brooklyn",
          "1": " Crown Heights",
          "index": 5690
         },
         {
          "0": "Manhattan",
          "1": " Harlem",
          "index": 5691
         },
         {
          "0": "Manhattan",
          "1": " Harlem",
          "index": 5692
         },
         {
          "0": "Brooklyn",
          "1": " Williamsburg",
          "index": 5693
         },
         {
          "0": "Brooklyn",
          "1": " Borough Park",
          "index": 5694
         },
         {
          "0": "Manhattan",
          "1": " East Village",
          "index": 5695
         },
         {
          "0": "Brooklyn",
          "1": " Bedford-Stuyvesant",
          "index": 5696
         },
         {
          "0": "Manhattan",
          "1": " Harlem",
          "index": 5697
         },
         {
          "0": "Manhattan",
          "1": " West Village",
          "index": 5698
         },
         {
          "0": "Manhattan",
          "1": " West Village",
          "index": 5699
         },
         {
          "0": "Brooklyn",
          "1": " Dyker Heights",
          "index": 5700
         },
         {
          "0": "Brooklyn",
          "1": " Gowanus",
          "index": 5701
         },
         {
          "0": "Brooklyn",
          "1": " Bushwick",
          "index": 5702
         },
         {
          "0": "Brooklyn",
          "1": " Williamsburg",
          "index": 5703
         },
         {
          "0": "Queens",
          "1": " Long Island City",
          "index": 5704
         },
         {
          "0": "Brooklyn",
          "1": " Crown Heights",
          "index": 5705
         },
         {
          "0": "Manhattan",
          "1": " Morningside Heights",
          "index": 5706
         },
         {
          "0": "Brooklyn",
          "1": " Windsor Terrace",
          "index": 5707
         },
         {
          "0": "Queens",
          "1": " Jamaica",
          "index": 5708
         },
         {
          "0": "Manhattan",
          "1": " Chelsea",
          "index": 5709
         },
         {
          "0": "Manhattan",
          "1": " Upper West Side",
          "index": 5710
         },
         {
          "0": "Brooklyn",
          "1": " Williamsburg",
          "index": 5711
         },
         {
          "0": "Manhattan",
          "1": " Gramercy",
          "index": 5712
         },
         {
          "0": "Manhattan",
          "1": " Harlem",
          "index": 5713
         },
         {
          "0": "Manhattan",
          "1": " Lower East Side",
          "index": 5714
         },
         {
          "0": "Manhattan",
          "1": " Kips Bay",
          "index": 5715
         },
         {
          "0": "Manhattan",
          "1": " Harlem",
          "index": 5716
         },
         {
          "0": "Brooklyn",
          "1": " Williamsburg",
          "index": 5717
         },
         {
          "0": "Manhattan",
          "1": " Upper East Side",
          "index": 5718
         },
         {
          "0": "Manhattan",
          "1": " Battery Park City",
          "index": 5719
         },
         {
          "0": "Brooklyn",
          "1": " Crown Heights",
          "index": 5720
         },
         {
          "0": "Manhattan",
          "1": " Hell's Kitchen",
          "index": 5721
         },
         {
          "0": "Brooklyn",
          "1": " Fort Hamilton",
          "index": 5722
         },
         {
          "0": "Brooklyn",
          "1": " Williamsburg",
          "index": 5723
         },
         {
          "0": "Manhattan",
          "1": " East Village",
          "index": 5724
         },
         {
          "0": "Manhattan",
          "1": " Financial District",
          "index": 5725
         },
         {
          "0": "Brooklyn",
          "1": " Flatbush",
          "index": 5726
         },
         {
          "0": "Queens",
          "1": " Astoria",
          "index": 5727
         },
         {
          "0": "Brooklyn",
          "1": " Greenpoint",
          "index": 5728
         },
         {
          "0": "Brooklyn",
          "1": " Clinton Hill",
          "index": 5729
         },
         {
          "0": "Brooklyn",
          "1": " Sunset Park",
          "index": 5730
         },
         {
          "0": "Bronx",
          "1": " Pelham Gardens",
          "index": 5731
         },
         {
          "0": "Queens",
          "1": " Ozone Park",
          "index": 5732
         },
         {
          "0": "Brooklyn",
          "1": " Bushwick",
          "index": 5733
         },
         {
          "0": "Manhattan",
          "1": " Kips Bay",
          "index": 5734
         },
         {
          "0": "Manhattan",
          "1": " East Village",
          "index": 5735
         },
         {
          "0": "Queens",
          "1": " Briarwood",
          "index": 5736
         },
         {
          "0": "Manhattan",
          "1": " Financial District",
          "index": 5737
         },
         {
          "0": "Manhattan",
          "1": " Nolita",
          "index": 5738
         },
         {
          "0": "Bronx",
          "1": " Kingsbridge",
          "index": 5739
         },
         {
          "0": "Brooklyn",
          "1": " Williamsburg",
          "index": 5740
         },
         {
          "0": "Manhattan",
          "1": " East Harlem",
          "index": 5741
         },
         {
          "0": "Brooklyn",
          "1": " Bedford-Stuyvesant",
          "index": 5742
         },
         {
          "0": "Manhattan",
          "1": " Upper East Side",
          "index": 5743
         },
         {
          "0": "Manhattan",
          "1": " Murray Hill",
          "index": 5744
         },
         {
          "0": "Manhattan",
          "1": " Harlem",
          "index": 5745
         },
         {
          "0": "Brooklyn",
          "1": " Brooklyn Heights",
          "index": 5746
         },
         {
          "0": "Queens",
          "1": " Elmhurst",
          "index": 5747
         },
         {
          "0": "Brooklyn",
          "1": " Greenpoint",
          "index": 5748
         },
         {
          "0": "Brooklyn",
          "1": " Bushwick",
          "index": 5749
         },
         {
          "0": "Queens",
          "1": " Ditmars Steinway",
          "index": 5750
         },
         {
          "0": "Brooklyn",
          "1": " Greenpoint",
          "index": 5751
         },
         {
          "0": "Brooklyn",
          "1": " Bedford-Stuyvesant",
          "index": 5752
         },
         {
          "0": "Manhattan",
          "1": " Upper West Side",
          "index": 5753
         },
         {
          "0": "Brooklyn",
          "1": " Clinton Hill",
          "index": 5754
         },
         {
          "0": "Manhattan",
          "1": " Kips Bay",
          "index": 5755
         },
         {
          "0": "Manhattan",
          "1": " Washington Heights",
          "index": 5756
         },
         {
          "0": "Manhattan",
          "1": " Greenwich Village",
          "index": 5757
         },
         {
          "0": "Manhattan",
          "1": " Kips Bay",
          "index": 5758
         },
         {
          "0": "Manhattan",
          "1": " Upper West Side",
          "index": 5759
         },
         {
          "0": "Queens",
          "1": " Forest Hills",
          "index": 5760
         },
         {
          "0": "Brooklyn",
          "1": " Williamsburg",
          "index": 5761
         },
         {
          "0": "Brooklyn",
          "1": " Bedford-Stuyvesant",
          "index": 5762
         },
         {
          "0": "Manhattan",
          "1": " East Village",
          "index": 5763
         },
         {
          "0": "Brooklyn",
          "1": " Prospect Heights",
          "index": 5764
         },
         {
          "0": "Brooklyn",
          "1": " Williamsburg",
          "index": 5765
         },
         {
          "0": "Brooklyn",
          "1": " Bedford-Stuyvesant",
          "index": 5766
         },
         {
          "0": "Manhattan",
          "1": " Hell's Kitchen",
          "index": 5767
         },
         {
          "0": "Manhattan",
          "1": " Midtown",
          "index": 5768
         },
         {
          "0": "Manhattan",
          "1": " Harlem",
          "index": 5769
         },
         {
          "0": "Brooklyn",
          "1": " Sunset Park",
          "index": 5770
         },
         {
          "0": "Brooklyn",
          "1": " Bedford-Stuyvesant",
          "index": 5771
         },
         {
          "0": "Manhattan",
          "1": " East Village",
          "index": 5772
         },
         {
          "0": "Manhattan",
          "1": " Midtown",
          "index": 5773
         },
         {
          "0": "Manhattan",
          "1": " Chelsea",
          "index": 5774
         },
         {
          "0": "Manhattan",
          "1": " Upper East Side",
          "index": 5775
         },
         {
          "0": "Manhattan",
          "1": " Harlem",
          "index": 5776
         },
         {
          "0": "Manhattan",
          "1": " Upper West Side",
          "index": 5777
         },
         {
          "0": "Manhattan",
          "1": " SoHo",
          "index": 5778
         },
         {
          "0": "Manhattan",
          "1": " Harlem",
          "index": 5779
         },
         {
          "0": "Bronx",
          "1": " Wakefield",
          "index": 5780
         },
         {
          "0": "Brooklyn",
          "1": " Williamsburg",
          "index": 5781
         },
         {
          "0": "Brooklyn",
          "1": " Bedford-Stuyvesant",
          "index": 5782
         },
         {
          "0": "Manhattan",
          "1": " SoHo",
          "index": 5783
         },
         {
          "0": "Manhattan",
          "1": " Lower East Side",
          "index": 5784
         },
         {
          "0": "Manhattan",
          "1": " Kips Bay",
          "index": 5785
         },
         {
          "0": "Queens",
          "1": " Astoria",
          "index": 5786
         },
         {
          "0": "Queens",
          "1": " Astoria",
          "index": 5787
         },
         {
          "0": "Manhattan",
          "1": " Theater District",
          "index": 5788
         },
         {
          "0": "Brooklyn",
          "1": " Williamsburg",
          "index": 5789
         },
         {
          "0": "Brooklyn",
          "1": " Prospect Heights",
          "index": 5790
         },
         {
          "0": "Manhattan",
          "1": " Chelsea",
          "index": 5791
         },
         {
          "0": "Manhattan",
          "1": " Harlem",
          "index": 5792
         },
         {
          "0": "Brooklyn",
          "1": " Bushwick",
          "index": 5793
         },
         {
          "0": "Brooklyn",
          "1": " Bushwick",
          "index": 5794
         },
         {
          "0": "Brooklyn",
          "1": " Bedford-Stuyvesant",
          "index": 5795
         },
         {
          "0": "Queens",
          "1": " Maspeth",
          "index": 5796
         },
         {
          "0": "Brooklyn",
          "1": " Bedford-Stuyvesant",
          "index": 5797
         },
         {
          "0": "Manhattan",
          "1": " Lower East Side",
          "index": 5798
         },
         {
          "0": "Brooklyn",
          "1": " Clinton Hill",
          "index": 5799
         },
         {
          "0": "Manhattan",
          "1": " East Village",
          "index": 5800
         },
         {
          "0": "Brooklyn",
          "1": " Gowanus",
          "index": 5801
         },
         {
          "0": "Manhattan",
          "1": " West Village",
          "index": 5802
         },
         {
          "0": "Brooklyn",
          "1": " Williamsburg",
          "index": 5803
         },
         {
          "0": "Manhattan",
          "1": " Midtown",
          "index": 5804
         },
         {
          "0": "Brooklyn",
          "1": " Windsor Terrace",
          "index": 5805
         },
         {
          "0": "Queens",
          "1": " East Elmhurst",
          "index": 5806
         },
         {
          "0": "Brooklyn",
          "1": " Bedford-Stuyvesant",
          "index": 5807
         },
         {
          "0": "Brooklyn",
          "1": " Williamsburg",
          "index": 5808
         },
         {
          "0": "Manhattan",
          "1": " Little Italy",
          "index": 5809
         },
         {
          "0": "Manhattan",
          "1": " Washington Heights",
          "index": 5810
         },
         {
          "0": "Manhattan",
          "1": " East Harlem",
          "index": 5811
         },
         {
          "0": "Manhattan",
          "1": " Washington Heights",
          "index": 5812
         },
         {
          "0": "Brooklyn",
          "1": " Fort Greene",
          "index": 5813
         },
         {
          "0": "Manhattan",
          "1": " Harlem",
          "index": 5814
         },
         {
          "0": "Brooklyn",
          "1": " Bedford-Stuyvesant",
          "index": 5815
         },
         {
          "0": "Manhattan",
          "1": " Midtown",
          "index": 5816
         },
         {
          "0": "Bronx",
          "1": " Mott Haven",
          "index": 5817
         },
         {
          "0": "Brooklyn",
          "1": " Bushwick",
          "index": 5818
         },
         {
          "0": "Queens",
          "1": " Astoria",
          "index": 5819
         },
         {
          "0": "Brooklyn",
          "1": " Bedford-Stuyvesant",
          "index": 5820
         },
         {
          "0": "Manhattan",
          "1": " Upper West Side",
          "index": 5821
         },
         {
          "0": "Manhattan",
          "1": " Upper East Side",
          "index": 5822
         },
         {
          "0": "Brooklyn",
          "1": " South Slope",
          "index": 5823
         },
         {
          "0": "Brooklyn",
          "1": " Bedford-Stuyvesant",
          "index": 5824
         },
         {
          "0": "Queens",
          "1": " Elmhurst",
          "index": 5825
         },
         {
          "0": "Brooklyn",
          "1": " Bushwick",
          "index": 5826
         },
         {
          "0": "Brooklyn",
          "1": " Williamsburg",
          "index": 5827
         },
         {
          "0": "Brooklyn",
          "1": " Clinton Hill",
          "index": 5828
         },
         {
          "0": "Manhattan",
          "1": " Roosevelt Island",
          "index": 5829
         },
         {
          "0": "Brooklyn",
          "1": " Bushwick",
          "index": 5830
         },
         {
          "0": "Manhattan",
          "1": " Murray Hill",
          "index": 5831
         },
         {
          "0": "Brooklyn",
          "1": " Bedford-Stuyvesant",
          "index": 5832
         },
         {
          "0": "Brooklyn",
          "1": " South Slope",
          "index": 5833
         },
         {
          "0": "Brooklyn",
          "1": " Borough Park",
          "index": 5834
         },
         {
          "0": "Brooklyn",
          "1": " Greenpoint",
          "index": 5835
         },
         {
          "0": "Manhattan",
          "1": " East Harlem",
          "index": 5836
         },
         {
          "0": "Brooklyn",
          "1": " Crown Heights",
          "index": 5837
         },
         {
          "0": "Brooklyn",
          "1": " Bushwick",
          "index": 5838
         },
         {
          "0": "Brooklyn",
          "1": " South Slope",
          "index": 5839
         },
         {
          "0": "Manhattan",
          "1": " Lower East Side",
          "index": 5840
         },
         {
          "0": "Brooklyn",
          "1": " Prospect-Lefferts Gardens",
          "index": 5841
         },
         {
          "0": "Bronx",
          "1": " Kingsbridge",
          "index": 5842
         },
         {
          "0": "Brooklyn",
          "1": " Bedford-Stuyvesant",
          "index": 5843
         },
         {
          "0": "Manhattan",
          "1": " Harlem",
          "index": 5844
         },
         {
          "0": "Queens",
          "1": " Ditmars Steinway",
          "index": 5845
         },
         {
          "0": "Brooklyn",
          "1": " Bedford-Stuyvesant",
          "index": 5846
         },
         {
          "0": "Manhattan",
          "1": " Financial District",
          "index": 5847
         },
         {
          "0": "Manhattan",
          "1": " Midtown",
          "index": 5848
         },
         {
          "0": "Manhattan",
          "1": " Inwood",
          "index": 5849
         },
         {
          "0": "Manhattan",
          "1": " Chelsea",
          "index": 5850
         },
         {
          "0": "Queens",
          "1": " Howard Beach",
          "index": 5851
         },
         {
          "0": "Staten Island",
          "1": " St. George",
          "index": 5852
         },
         {
          "0": "Brooklyn",
          "1": " Sunset Park",
          "index": 5853
         },
         {
          "0": "Brooklyn",
          "1": " Bedford-Stuyvesant",
          "index": 5854
         },
         {
          "0": "Brooklyn",
          "1": " Williamsburg",
          "index": 5855
         },
         {
          "0": "Manhattan",
          "1": " East Village",
          "index": 5856
         },
         {
          "0": "Manhattan",
          "1": " Lower East Side",
          "index": 5857
         },
         {
          "0": "Brooklyn",
          "1": " Clinton Hill",
          "index": 5858
         },
         {
          "0": "Manhattan",
          "1": " Inwood",
          "index": 5859
         },
         {
          "0": "Manhattan",
          "1": " Murray Hill",
          "index": 5860
         },
         {
          "0": "Manhattan",
          "1": " Harlem",
          "index": 5861
         },
         {
          "0": "Queens",
          "1": " Astoria",
          "index": 5862
         },
         {
          "0": "Brooklyn",
          "1": " Williamsburg",
          "index": 5863
         },
         {
          "0": "Manhattan",
          "1": " East Village",
          "index": 5864
         },
         {
          "0": "Brooklyn",
          "1": " Greenpoint",
          "index": 5865
         },
         {
          "0": "Manhattan",
          "1": " Lower East Side",
          "index": 5866
         },
         {
          "0": "Manhattan",
          "1": " Upper East Side",
          "index": 5867
         },
         {
          "0": "Brooklyn",
          "1": " Williamsburg",
          "index": 5868
         },
         {
          "0": "Brooklyn",
          "1": " Williamsburg",
          "index": 5869
         },
         {
          "0": "Brooklyn",
          "1": " Bushwick",
          "index": 5870
         },
         {
          "0": "Manhattan",
          "1": " Hell's Kitchen",
          "index": 5871
         },
         {
          "0": "Queens",
          "1": " Long Island City",
          "index": 5872
         },
         {
          "0": "Brooklyn",
          "1": " Bedford-Stuyvesant",
          "index": 5873
         },
         {
          "0": "Brooklyn",
          "1": " Bushwick",
          "index": 5874
         },
         {
          "0": "Brooklyn",
          "1": " Crown Heights",
          "index": 5875
         },
         {
          "0": "Manhattan",
          "1": " Midtown",
          "index": 5876
         },
         {
          "0": "Manhattan",
          "1": " Lower East Side",
          "index": 5877
         },
         {
          "0": "Manhattan",
          "1": " Kips Bay",
          "index": 5878
         },
         {
          "0": "Manhattan",
          "1": " Hell's Kitchen",
          "index": 5879
         },
         {
          "0": "Manhattan",
          "1": " East Village",
          "index": 5880
         },
         {
          "0": "Manhattan",
          "1": " Harlem",
          "index": 5881
         },
         {
          "0": "Queens",
          "1": " Douglaston",
          "index": 5882
         },
         {
          "0": "Brooklyn",
          "1": " East New York",
          "index": 5883
         },
         {
          "0": "Queens",
          "1": " Jamaica",
          "index": 5884
         },
         {
          "0": "Bronx",
          "1": " Wakefield",
          "index": 5885
         },
         {
          "0": "Manhattan",
          "1": " West Village",
          "index": 5886
         },
         {
          "0": "Manhattan",
          "1": " Harlem",
          "index": 5887
         },
         {
          "0": "Queens",
          "1": " Astoria",
          "index": 5888
         },
         {
          "0": "Manhattan",
          "1": " Chelsea",
          "index": 5889
         },
         {
          "0": "Queens",
          "1": " Long Island City",
          "index": 5890
         },
         {
          "0": "Brooklyn",
          "1": " Flatbush",
          "index": 5891
         },
         {
          "0": "Manhattan",
          "1": " East Village",
          "index": 5892
         },
         {
          "0": "Brooklyn",
          "1": " East Flatbush",
          "index": 5893
         },
         {
          "0": "Manhattan",
          "1": " Hell's Kitchen",
          "index": 5894
         },
         {
          "0": "Manhattan",
          "1": " Lower East Side",
          "index": 5895
         },
         {
          "0": "Brooklyn",
          "1": " South Slope",
          "index": 5896
         },
         {
          "0": "Brooklyn",
          "1": " Downtown Brooklyn",
          "index": 5897
         },
         {
          "0": "Queens",
          "1": " Long Island City",
          "index": 5898
         },
         {
          "0": "Manhattan",
          "1": " Chelsea",
          "index": 5899
         },
         {
          "0": "Brooklyn",
          "1": " Bedford-Stuyvesant",
          "index": 5900
         },
         {
          "0": "Brooklyn",
          "1": " Williamsburg",
          "index": 5901
         },
         {
          "0": "Manhattan",
          "1": " Inwood",
          "index": 5902
         },
         {
          "0": "Manhattan",
          "1": " Gramercy",
          "index": 5903
         },
         {
          "0": "Queens",
          "1": " Ridgewood",
          "index": 5904
         },
         {
          "0": "Queens",
          "1": " Long Island City",
          "index": 5905
         },
         {
          "0": "Brooklyn",
          "1": " Greenpoint",
          "index": 5906
         },
         {
          "0": "Manhattan",
          "1": " Chelsea",
          "index": 5907
         },
         {
          "0": "Manhattan",
          "1": " Chinatown",
          "index": 5908
         },
         {
          "0": "Brooklyn",
          "1": " Bushwick",
          "index": 5909
         },
         {
          "0": "Brooklyn",
          "1": " Sunset Park",
          "index": 5910
         },
         {
          "0": "Brooklyn",
          "1": " Bedford-Stuyvesant",
          "index": 5911
         },
         {
          "0": "Brooklyn",
          "1": " Prospect Heights",
          "index": 5912
         },
         {
          "0": "Brooklyn",
          "1": " Park Slope",
          "index": 5913
         },
         {
          "0": "Manhattan",
          "1": " SoHo",
          "index": 5914
         },
         {
          "0": "Manhattan",
          "1": " Upper East Side",
          "index": 5915
         },
         {
          "0": "Brooklyn",
          "1": " Flatbush",
          "index": 5916
         },
         {
          "0": "Brooklyn",
          "1": " Williamsburg",
          "index": 5917
         },
         {
          "0": "Brooklyn",
          "1": " Bedford-Stuyvesant",
          "index": 5918
         },
         {
          "0": "Manhattan",
          "1": " Upper East Side",
          "index": 5919
         },
         {
          "0": "Manhattan",
          "1": " Chelsea",
          "index": 5920
         },
         {
          "0": "Manhattan",
          "1": " Kips Bay",
          "index": 5921
         },
         {
          "0": "Brooklyn",
          "1": " Crown Heights",
          "index": 5922
         },
         {
          "0": "Manhattan",
          "1": " Washington Heights",
          "index": 5923
         },
         {
          "0": "Brooklyn",
          "1": " Prospect-Lefferts Gardens",
          "index": 5924
         },
         {
          "0": "Staten Island",
          "1": " Arrochar",
          "index": 5925
         },
         {
          "0": "Queens",
          "1": " Far Rockaway",
          "index": 5926
         },
         {
          "0": "Brooklyn",
          "1": " East Flatbush",
          "index": 5927
         },
         {
          "0": "Queens",
          "1": " Long Island City",
          "index": 5928
         },
         {
          "0": "Brooklyn",
          "1": " Boerum Hill",
          "index": 5929
         },
         {
          "0": "Queens",
          "1": " Ridgewood",
          "index": 5930
         },
         {
          "0": "Bronx",
          "1": " Fieldston",
          "index": 5931
         },
         {
          "0": "Brooklyn",
          "1": " Fort Greene",
          "index": 5932
         },
         {
          "0": "Manhattan",
          "1": " Inwood",
          "index": 5933
         },
         {
          "0": "Brooklyn",
          "1": " Sheepshead Bay",
          "index": 5934
         },
         {
          "0": "Manhattan",
          "1": " Upper West Side",
          "index": 5935
         },
         {
          "0": "Manhattan",
          "1": " Washington Heights",
          "index": 5936
         },
         {
          "0": "Brooklyn",
          "1": " Bedford-Stuyvesant",
          "index": 5937
         },
         {
          "0": "Brooklyn",
          "1": " Williamsburg",
          "index": 5938
         },
         {
          "0": "Manhattan",
          "1": " Harlem",
          "index": 5939
         },
         {
          "0": "Manhattan",
          "1": " Greenwich Village",
          "index": 5940
         },
         {
          "0": "Manhattan",
          "1": " Lower East Side",
          "index": 5941
         },
         {
          "0": "Manhattan",
          "1": " Theater District",
          "index": 5942
         },
         {
          "0": "Brooklyn",
          "1": " Williamsburg",
          "index": 5943
         },
         {
          "0": "Brooklyn",
          "1": " Williamsburg",
          "index": 5944
         },
         {
          "0": "Brooklyn",
          "1": " Bushwick",
          "index": 5945
         },
         {
          "0": "Brooklyn",
          "1": " East New York",
          "index": 5946
         },
         {
          "0": "Manhattan",
          "1": " Upper West Side",
          "index": 5947
         },
         {
          "0": "Brooklyn",
          "1": " Williamsburg",
          "index": 5948
         },
         {
          "0": "Manhattan",
          "1": " Harlem",
          "index": 5949
         },
         {
          "0": "Manhattan",
          "1": " East Harlem",
          "index": 5950
         },
         {
          "0": "Brooklyn",
          "1": " Williamsburg",
          "index": 5951
         },
         {
          "0": "Brooklyn",
          "1": " Greenpoint",
          "index": 5952
         },
         {
          "0": "Brooklyn",
          "1": " Williamsburg",
          "index": 5953
         },
         {
          "0": "Manhattan",
          "1": " Morningside Heights",
          "index": 5954
         },
         {
          "0": "Brooklyn",
          "1": " Crown Heights",
          "index": 5955
         },
         {
          "0": "Manhattan",
          "1": " Lower East Side",
          "index": 5956
         },
         {
          "0": "Brooklyn",
          "1": " Crown Heights",
          "index": 5957
         },
         {
          "0": "Brooklyn",
          "1": " Bedford-Stuyvesant",
          "index": 5958
         },
         {
          "0": "Manhattan",
          "1": " Upper East Side",
          "index": 5959
         },
         {
          "0": "Brooklyn",
          "1": " Williamsburg",
          "index": 5960
         },
         {
          "0": "Brooklyn",
          "1": " Greenpoint",
          "index": 5961
         },
         {
          "0": "Brooklyn",
          "1": " Williamsburg",
          "index": 5962
         },
         {
          "0": "Manhattan",
          "1": " Kips Bay",
          "index": 5963
         },
         {
          "0": "Bronx",
          "1": " Concourse",
          "index": 5964
         },
         {
          "0": "Manhattan",
          "1": " Upper West Side",
          "index": 5965
         },
         {
          "0": "Brooklyn",
          "1": " Sunset Park",
          "index": 5966
         },
         {
          "0": "Brooklyn",
          "1": " Bedford-Stuyvesant",
          "index": 5967
         },
         {
          "0": "Brooklyn",
          "1": " Sunset Park",
          "index": 5968
         },
         {
          "0": "Manhattan",
          "1": " Upper East Side",
          "index": 5969
         },
         {
          "0": "Brooklyn",
          "1": " East Flatbush",
          "index": 5970
         },
         {
          "0": "Queens",
          "1": " Astoria",
          "index": 5971
         },
         {
          "0": "Manhattan",
          "1": " Hell's Kitchen",
          "index": 5972
         },
         {
          "0": "Manhattan",
          "1": " Harlem",
          "index": 5973
         },
         {
          "0": "Queens",
          "1": " Ridgewood",
          "index": 5974
         },
         {
          "0": "Brooklyn",
          "1": " Williamsburg",
          "index": 5975
         },
         {
          "0": "Queens",
          "1": " Astoria",
          "index": 5976
         },
         {
          "0": "Bronx",
          "1": " Schuylerville",
          "index": 5977
         },
         {
          "0": "Manhattan",
          "1": " East Village",
          "index": 5978
         },
         {
          "0": "Manhattan",
          "1": " Hell's Kitchen",
          "index": 5979
         },
         {
          "0": "Brooklyn",
          "1": " Bedford-Stuyvesant",
          "index": 5980
         },
         {
          "0": "Brooklyn",
          "1": " Bedford-Stuyvesant",
          "index": 5981
         },
         {
          "0": "Queens",
          "1": " Ridgewood",
          "index": 5982
         },
         {
          "0": "Manhattan",
          "1": " Upper East Side",
          "index": 5983
         },
         {
          "0": "Queens",
          "1": " Flushing",
          "index": 5984
         },
         {
          "0": "Manhattan",
          "1": " East Harlem",
          "index": 5985
         },
         {
          "0": "Manhattan",
          "1": " Hell's Kitchen",
          "index": 5986
         },
         {
          "0": "Queens",
          "1": " Corona",
          "index": 5987
         },
         {
          "0": "Manhattan",
          "1": " Theater District",
          "index": 5988
         },
         {
          "0": "Manhattan",
          "1": " Harlem",
          "index": 5989
         },
         {
          "0": "Manhattan",
          "1": " Upper East Side",
          "index": 5990
         },
         {
          "0": "Manhattan",
          "1": " Chinatown",
          "index": 5991
         },
         {
          "0": "Brooklyn",
          "1": " Williamsburg",
          "index": 5992
         },
         {
          "0": "Manhattan",
          "1": " Hell's Kitchen",
          "index": 5993
         },
         {
          "0": "Queens",
          "1": " Jamaica",
          "index": 5994
         },
         {
          "0": "Brooklyn",
          "1": " Bedford-Stuyvesant",
          "index": 5995
         },
         {
          "0": "Queens",
          "1": " Rockaway Beach",
          "index": 5996
         },
         {
          "0": "Manhattan",
          "1": " East Harlem",
          "index": 5997
         },
         {
          "0": "Manhattan",
          "1": " Lower East Side",
          "index": 5998
         },
         {
          "0": "Brooklyn",
          "1": " Bedford-Stuyvesant",
          "index": 5999
         },
         {
          "0": "Brooklyn",
          "1": " Williamsburg",
          "index": 6000
         },
         {
          "0": "Queens",
          "1": " Elmhurst",
          "index": 6001
         },
         {
          "0": "Queens",
          "1": " Jackson Heights",
          "index": 6002
         },
         {
          "0": "Queens",
          "1": " Astoria",
          "index": 6003
         },
         {
          "0": "Queens",
          "1": " Springfield Gardens",
          "index": 6004
         },
         {
          "0": "Manhattan",
          "1": " Hell's Kitchen",
          "index": 6005
         },
         {
          "0": "Queens",
          "1": " Ditmars Steinway",
          "index": 6006
         },
         {
          "0": "Manhattan",
          "1": " West Village",
          "index": 6007
         },
         {
          "0": "Manhattan",
          "1": " Midtown",
          "index": 6008
         },
         {
          "0": "Brooklyn",
          "1": " Carroll Gardens",
          "index": 6009
         },
         {
          "0": "Brooklyn",
          "1": " Bushwick",
          "index": 6010
         },
         {
          "0": "Manhattan",
          "1": " East Harlem",
          "index": 6011
         },
         {
          "0": "Manhattan",
          "1": " East Village",
          "index": 6012
         },
         {
          "0": "Brooklyn",
          "1": " Bushwick",
          "index": 6013
         },
         {
          "0": "Manhattan",
          "1": " Harlem",
          "index": 6014
         },
         {
          "0": "Manhattan",
          "1": " East Village",
          "index": 6015
         },
         {
          "0": "Manhattan",
          "1": " Murray Hill",
          "index": 6016
         },
         {
          "0": "Manhattan",
          "1": " Theater District",
          "index": 6017
         },
         {
          "0": "Manhattan",
          "1": " Upper West Side",
          "index": 6018
         },
         {
          "0": "Brooklyn",
          "1": " Sheepshead Bay",
          "index": 6019
         },
         {
          "0": "Manhattan",
          "1": " Upper East Side",
          "index": 6020
         },
         {
          "0": "Manhattan",
          "1": " Theater District",
          "index": 6021
         },
         {
          "0": "Bronx",
          "1": " Van Nest",
          "index": 6022
         },
         {
          "0": "Queens",
          "1": " Forest Hills",
          "index": 6023
         },
         {
          "0": "Brooklyn",
          "1": " Carroll Gardens",
          "index": 6024
         },
         {
          "0": "Manhattan",
          "1": " Upper West Side",
          "index": 6025
         },
         {
          "0": "Brooklyn",
          "1": " Bedford-Stuyvesant",
          "index": 6026
         },
         {
          "0": "Manhattan",
          "1": " Hell's Kitchen",
          "index": 6027
         },
         {
          "0": "Queens",
          "1": " Astoria",
          "index": 6028
         },
         {
          "0": "Queens",
          "1": " Long Island City",
          "index": 6029
         },
         {
          "0": "Brooklyn",
          "1": " Bushwick",
          "index": 6030
         },
         {
          "0": "Manhattan",
          "1": " Midtown",
          "index": 6031
         },
         {
          "0": "Brooklyn",
          "1": " Park Slope",
          "index": 6032
         },
         {
          "0": "Staten Island",
          "1": " St. George",
          "index": 6033
         },
         {
          "0": "Brooklyn",
          "1": " Brooklyn Heights",
          "index": 6034
         },
         {
          "0": "Manhattan",
          "1": " East Harlem",
          "index": 6035
         },
         {
          "0": "Manhattan",
          "1": " East Harlem",
          "index": 6036
         },
         {
          "0": "Manhattan",
          "1": " Lower East Side",
          "index": 6037
         },
         {
          "0": "Brooklyn",
          "1": " Bedford-Stuyvesant",
          "index": 6038
         },
         {
          "0": "Manhattan",
          "1": " Financial District",
          "index": 6039
         },
         {
          "0": "Manhattan",
          "1": " Hell's Kitchen",
          "index": 6040
         },
         {
          "0": "Manhattan",
          "1": " Gramercy",
          "index": 6041
         },
         {
          "0": "Brooklyn",
          "1": " Greenpoint",
          "index": 6042
         },
         {
          "0": "Queens",
          "1": " Astoria",
          "index": 6043
         },
         {
          "0": "Manhattan",
          "1": " Harlem",
          "index": 6044
         },
         {
          "0": "Brooklyn",
          "1": " Crown Heights",
          "index": 6045
         },
         {
          "0": "Brooklyn",
          "1": " Crown Heights",
          "index": 6046
         },
         {
          "0": "Queens",
          "1": " Springfield Gardens",
          "index": 6047
         },
         {
          "0": "Brooklyn",
          "1": " Bedford-Stuyvesant",
          "index": 6048
         },
         {
          "0": "Manhattan",
          "1": " East Village",
          "index": 6049
         },
         {
          "0": "Manhattan",
          "1": " Harlem",
          "index": 6050
         },
         {
          "0": "Manhattan",
          "1": " Hell's Kitchen",
          "index": 6051
         },
         {
          "0": "Brooklyn",
          "1": " Brownsville",
          "index": 6052
         },
         {
          "0": "Brooklyn",
          "1": " East Flatbush",
          "index": 6053
         },
         {
          "0": "Manhattan",
          "1": " Kips Bay",
          "index": 6054
         },
         {
          "0": "Manhattan",
          "1": " Upper West Side",
          "index": 6055
         },
         {
          "0": "Manhattan",
          "1": " East Village",
          "index": 6056
         },
         {
          "0": "Brooklyn",
          "1": " Gowanus",
          "index": 6057
         },
         {
          "0": "Manhattan",
          "1": " Harlem",
          "index": 6058
         },
         {
          "0": "Brooklyn",
          "1": " Bedford-Stuyvesant",
          "index": 6059
         },
         {
          "0": "Brooklyn",
          "1": " Bushwick",
          "index": 6060
         },
         {
          "0": "Manhattan",
          "1": " Hell's Kitchen",
          "index": 6061
         },
         {
          "0": "Manhattan",
          "1": " Washington Heights",
          "index": 6062
         },
         {
          "0": "Manhattan",
          "1": " Harlem",
          "index": 6063
         },
         {
          "0": "Manhattan",
          "1": " Financial District",
          "index": 6064
         },
         {
          "0": "Brooklyn",
          "1": " Bedford-Stuyvesant",
          "index": 6065
         },
         {
          "0": "Manhattan",
          "1": " Lower East Side",
          "index": 6066
         },
         {
          "0": "Brooklyn",
          "1": " Greenpoint",
          "index": 6067
         },
         {
          "0": "Queens",
          "1": " Flushing",
          "index": 6068
         },
         {
          "0": "Brooklyn",
          "1": " Crown Heights",
          "index": 6069
         },
         {
          "0": "Brooklyn",
          "1": " Flatbush",
          "index": 6070
         },
         {
          "0": "Manhattan",
          "1": " Upper East Side",
          "index": 6071
         },
         {
          "0": "Brooklyn",
          "1": " South Slope",
          "index": 6072
         },
         {
          "0": "Brooklyn",
          "1": " Downtown Brooklyn",
          "index": 6073
         },
         {
          "0": "Brooklyn",
          "1": " Fort Greene",
          "index": 6074
         },
         {
          "0": "Brooklyn",
          "1": " Greenpoint",
          "index": 6075
         },
         {
          "0": "Queens",
          "1": " Astoria",
          "index": 6076
         },
         {
          "0": "Brooklyn",
          "1": " Clinton Hill",
          "index": 6077
         },
         {
          "0": "Manhattan",
          "1": " Upper East Side",
          "index": 6078
         },
         {
          "0": "Manhattan",
          "1": " Midtown",
          "index": 6079
         },
         {
          "0": "Brooklyn",
          "1": " Crown Heights",
          "index": 6080
         },
         {
          "0": "Brooklyn",
          "1": " Greenpoint",
          "index": 6081
         },
         {
          "0": "Brooklyn",
          "1": " Flatbush",
          "index": 6082
         },
         {
          "0": "Manhattan",
          "1": " Washington Heights",
          "index": 6083
         },
         {
          "0": "Manhattan",
          "1": " West Village",
          "index": 6084
         },
         {
          "0": "Manhattan",
          "1": " Upper East Side",
          "index": 6085
         },
         {
          "0": "Manhattan",
          "1": " Hell's Kitchen",
          "index": 6086
         },
         {
          "0": "Brooklyn",
          "1": " Borough Park",
          "index": 6087
         },
         {
          "0": "Manhattan",
          "1": " Midtown",
          "index": 6088
         },
         {
          "0": "Brooklyn",
          "1": " Bedford-Stuyvesant",
          "index": 6089
         },
         {
          "0": "Brooklyn",
          "1": " Boerum Hill",
          "index": 6090
         },
         {
          "0": "Manhattan",
          "1": " Greenwich Village",
          "index": 6091
         },
         {
          "0": "Manhattan",
          "1": " Harlem",
          "index": 6092
         },
         {
          "0": "Brooklyn",
          "1": " Cypress Hills",
          "index": 6093
         },
         {
          "0": "Manhattan",
          "1": " East Village",
          "index": 6094
         },
         {
          "0": "Manhattan",
          "1": " Hell's Kitchen",
          "index": 6095
         },
         {
          "0": "Manhattan",
          "1": " Chelsea",
          "index": 6096
         },
         {
          "0": "Brooklyn",
          "1": " Williamsburg",
          "index": 6097
         },
         {
          "0": "Brooklyn",
          "1": " Windsor Terrace",
          "index": 6098
         },
         {
          "0": "Brooklyn",
          "1": " Williamsburg",
          "index": 6099
         },
         {
          "0": "Manhattan",
          "1": " West Village",
          "index": 6100
         },
         {
          "0": "Brooklyn",
          "1": " Fort Greene",
          "index": 6101
         },
         {
          "0": "Brooklyn",
          "1": " Bedford-Stuyvesant",
          "index": 6102
         },
         {
          "0": "Manhattan",
          "1": " Harlem",
          "index": 6103
         },
         {
          "0": "Manhattan",
          "1": " Washington Heights",
          "index": 6104
         },
         {
          "0": "Queens",
          "1": " Ridgewood",
          "index": 6105
         },
         {
          "0": "Brooklyn",
          "1": " Williamsburg",
          "index": 6106
         },
         {
          "0": "Brooklyn",
          "1": " Williamsburg",
          "index": 6107
         },
         {
          "0": "Brooklyn",
          "1": " Bedford-Stuyvesant",
          "index": 6108
         },
         {
          "0": "Manhattan",
          "1": " Financial District",
          "index": 6109
         },
         {
          "0": "Brooklyn",
          "1": " Bedford-Stuyvesant",
          "index": 6110
         },
         {
          "0": "Brooklyn",
          "1": " Bedford-Stuyvesant",
          "index": 6111
         },
         {
          "0": "Manhattan",
          "1": " Harlem",
          "index": 6112
         },
         {
          "0": "Brooklyn",
          "1": " Gowanus",
          "index": 6113
         },
         {
          "0": "Manhattan",
          "1": " Upper East Side",
          "index": 6114
         },
         {
          "0": "Manhattan",
          "1": " Chinatown",
          "index": 6115
         },
         {
          "0": "Queens",
          "1": " Jackson Heights",
          "index": 6116
         },
         {
          "0": "Manhattan",
          "1": " Upper West Side",
          "index": 6117
         },
         {
          "0": "Brooklyn",
          "1": " Bushwick",
          "index": 6118
         },
         {
          "0": "Brooklyn",
          "1": " Crown Heights",
          "index": 6119
         },
         {
          "0": "Brooklyn",
          "1": " Crown Heights",
          "index": 6120
         },
         {
          "0": "Brooklyn",
          "1": " Sunset Park",
          "index": 6121
         },
         {
          "0": "Manhattan",
          "1": " Lower East Side",
          "index": 6122
         },
         {
          "0": "Queens",
          "1": " Astoria",
          "index": 6123
         },
         {
          "0": "Brooklyn",
          "1": " South Slope",
          "index": 6124
         },
         {
          "0": "Brooklyn",
          "1": " Bedford-Stuyvesant",
          "index": 6125
         },
         {
          "0": "Manhattan",
          "1": " Midtown",
          "index": 6126
         },
         {
          "0": "Brooklyn",
          "1": " Flatbush",
          "index": 6127
         },
         {
          "0": "Manhattan",
          "1": " Washington Heights",
          "index": 6128
         },
         {
          "0": "Manhattan",
          "1": " West Village",
          "index": 6129
         },
         {
          "0": "Brooklyn",
          "1": " Prospect Heights",
          "index": 6130
         },
         {
          "0": "Brooklyn",
          "1": " Bedford-Stuyvesant",
          "index": 6131
         },
         {
          "0": "Manhattan",
          "1": " Chelsea",
          "index": 6132
         },
         {
          "0": "Brooklyn",
          "1": " Fort Greene",
          "index": 6133
         },
         {
          "0": "Manhattan",
          "1": " Midtown",
          "index": 6134
         },
         {
          "0": "Manhattan",
          "1": " Harlem",
          "index": 6135
         },
         {
          "0": "Brooklyn",
          "1": " Bedford-Stuyvesant",
          "index": 6136
         },
         {
          "0": "Brooklyn",
          "1": " Williamsburg",
          "index": 6137
         },
         {
          "0": "Brooklyn",
          "1": " Bushwick",
          "index": 6138
         },
         {
          "0": "Manhattan",
          "1": " Inwood",
          "index": 6139
         },
         {
          "0": "Queens",
          "1": " Jamaica",
          "index": 6140
         },
         {
          "0": "Brooklyn",
          "1": " Bushwick",
          "index": 6141
         },
         {
          "0": "Manhattan",
          "1": " Chelsea",
          "index": 6142
         },
         {
          "0": "Queens",
          "1": " Springfield Gardens",
          "index": 6143
         },
         {
          "0": "Brooklyn",
          "1": " Cypress Hills",
          "index": 6144
         },
         {
          "0": "Manhattan",
          "1": " East Harlem",
          "index": 6145
         },
         {
          "0": "Brooklyn",
          "1": " Greenpoint",
          "index": 6146
         },
         {
          "0": "Manhattan",
          "1": " East Village",
          "index": 6147
         },
         {
          "0": "Brooklyn",
          "1": " Flatbush",
          "index": 6148
         },
         {
          "0": "Brooklyn",
          "1": " Crown Heights",
          "index": 6149
         },
         {
          "0": "Manhattan",
          "1": " East Village",
          "index": 6150
         },
         {
          "0": "Manhattan",
          "1": " Midtown",
          "index": 6151
         },
         {
          "0": "Brooklyn",
          "1": " Bushwick",
          "index": 6152
         },
         {
          "0": "Manhattan",
          "1": " Harlem",
          "index": 6153
         },
         {
          "0": "Manhattan",
          "1": " Harlem",
          "index": 6154
         },
         {
          "0": "Brooklyn",
          "1": " Williamsburg",
          "index": 6155
         },
         {
          "0": "Manhattan",
          "1": " Upper West Side",
          "index": 6156
         },
         {
          "0": "Queens",
          "1": " Fresh Meadows",
          "index": 6157
         },
         {
          "0": "Manhattan",
          "1": " Lower East Side",
          "index": 6158
         },
         {
          "0": "Manhattan",
          "1": " East Harlem",
          "index": 6159
         },
         {
          "0": "Bronx",
          "1": " Williamsbridge",
          "index": 6160
         },
         {
          "0": "Manhattan",
          "1": " Midtown",
          "index": 6161
         },
         {
          "0": "Brooklyn",
          "1": " Bedford-Stuyvesant",
          "index": 6162
         },
         {
          "0": "Manhattan",
          "1": " Harlem",
          "index": 6163
         },
         {
          "0": "Queens",
          "1": " Corona",
          "index": 6164
         },
         {
          "0": "Manhattan",
          "1": " East Harlem",
          "index": 6165
         },
         {
          "0": "Brooklyn",
          "1": " Bedford-Stuyvesant",
          "index": 6166
         },
         {
          "0": "Bronx",
          "1": " Parkchester",
          "index": 6167
         },
         {
          "0": "Brooklyn",
          "1": " Bushwick",
          "index": 6168
         },
         {
          "0": "Brooklyn",
          "1": " Flatbush",
          "index": 6169
         },
         {
          "0": "Brooklyn",
          "1": " Crown Heights",
          "index": 6170
         },
         {
          "0": "Brooklyn",
          "1": " Bedford-Stuyvesant",
          "index": 6171
         },
         {
          "0": "Manhattan",
          "1": " East Village",
          "index": 6172
         },
         {
          "0": "Brooklyn",
          "1": " Williamsburg",
          "index": 6173
         },
         {
          "0": "Manhattan",
          "1": " Greenwich Village",
          "index": 6174
         },
         {
          "0": "Manhattan",
          "1": " SoHo",
          "index": 6175
         },
         {
          "0": "Brooklyn",
          "1": " Williamsburg",
          "index": 6176
         },
         {
          "0": "Staten Island",
          "1": " Dongan Hills",
          "index": 6177
         },
         {
          "0": "Manhattan",
          "1": " Gramercy",
          "index": 6178
         },
         {
          "0": "Manhattan",
          "1": " Midtown",
          "index": 6179
         },
         {
          "0": "Manhattan",
          "1": " West Village",
          "index": 6180
         },
         {
          "0": "Brooklyn",
          "1": " Boerum Hill",
          "index": 6181
         },
         {
          "0": "Manhattan",
          "1": " Washington Heights",
          "index": 6182
         },
         {
          "0": "Brooklyn",
          "1": " Kensington",
          "index": 6183
         },
         {
          "0": "Brooklyn",
          "1": " East New York",
          "index": 6184
         },
         {
          "0": "Brooklyn",
          "1": " Flatbush",
          "index": 6185
         },
         {
          "0": "Brooklyn",
          "1": " Downtown Brooklyn",
          "index": 6186
         },
         {
          "0": "Manhattan",
          "1": " Chelsea",
          "index": 6187
         },
         {
          "0": "Brooklyn",
          "1": " Crown Heights",
          "index": 6188
         },
         {
          "0": "Brooklyn",
          "1": " Bedford-Stuyvesant",
          "index": 6189
         },
         {
          "0": "Manhattan",
          "1": " East Village",
          "index": 6190
         },
         {
          "0": "Queens",
          "1": " East Elmhurst",
          "index": 6191
         },
         {
          "0": "Manhattan",
          "1": " SoHo",
          "index": 6192
         },
         {
          "0": "Brooklyn",
          "1": " Bushwick",
          "index": 6193
         },
         {
          "0": "Manhattan",
          "1": " West Village",
          "index": 6194
         },
         {
          "0": "Manhattan",
          "1": " Gramercy",
          "index": 6195
         },
         {
          "0": "Manhattan",
          "1": " Washington Heights",
          "index": 6196
         },
         {
          "0": "Manhattan",
          "1": " Harlem",
          "index": 6197
         },
         {
          "0": "Brooklyn",
          "1": " Bedford-Stuyvesant",
          "index": 6198
         },
         {
          "0": "Brooklyn",
          "1": " Clinton Hill",
          "index": 6199
         },
         {
          "0": "Queens",
          "1": " Woodside",
          "index": 6200
         },
         {
          "0": "Brooklyn",
          "1": " Williamsburg",
          "index": 6201
         },
         {
          "0": "Brooklyn",
          "1": " Bay Ridge",
          "index": 6202
         },
         {
          "0": "Brooklyn",
          "1": " Crown Heights",
          "index": 6203
         },
         {
          "0": "Manhattan",
          "1": " Hell's Kitchen",
          "index": 6204
         },
         {
          "0": "Manhattan",
          "1": " Hell's Kitchen",
          "index": 6205
         },
         {
          "0": "Brooklyn",
          "1": " Williamsburg",
          "index": 6206
         },
         {
          "0": "Brooklyn",
          "1": " Prospect-Lefferts Gardens",
          "index": 6207
         },
         {
          "0": "Brooklyn",
          "1": " Fort Greene",
          "index": 6208
         },
         {
          "0": "Bronx",
          "1": " Wakefield",
          "index": 6209
         },
         {
          "0": "Manhattan",
          "1": " Murray Hill",
          "index": 6210
         },
         {
          "0": "Manhattan",
          "1": " Hell's Kitchen",
          "index": 6211
         },
         {
          "0": "Brooklyn",
          "1": " Bedford-Stuyvesant",
          "index": 6212
         },
         {
          "0": "Manhattan",
          "1": " Midtown",
          "index": 6213
         },
         {
          "0": "Manhattan",
          "1": " Upper West Side",
          "index": 6214
         },
         {
          "0": "Manhattan",
          "1": " Hell's Kitchen",
          "index": 6215
         },
         {
          "0": "Queens",
          "1": " Ridgewood",
          "index": 6216
         },
         {
          "0": "Manhattan",
          "1": " Upper East Side",
          "index": 6217
         },
         {
          "0": "Manhattan",
          "1": " East Village",
          "index": 6218
         },
         {
          "0": "Brooklyn",
          "1": " Williamsburg",
          "index": 6219
         },
         {
          "0": "Manhattan",
          "1": " Chinatown",
          "index": 6220
         },
         {
          "0": "Brooklyn",
          "1": " Bushwick",
          "index": 6221
         },
         {
          "0": "Manhattan",
          "1": " Greenwich Village",
          "index": 6222
         },
         {
          "0": "Manhattan",
          "1": " Murray Hill",
          "index": 6223
         },
         {
          "0": "Manhattan",
          "1": " Kips Bay",
          "index": 6224
         },
         {
          "0": "Queens",
          "1": " Ditmars Steinway",
          "index": 6225
         },
         {
          "0": "Brooklyn",
          "1": " Bedford-Stuyvesant",
          "index": 6226
         },
         {
          "0": "Staten Island",
          "1": " Grymes Hill",
          "index": 6227
         },
         {
          "0": "Manhattan",
          "1": " Upper West Side",
          "index": 6228
         },
         {
          "0": "Manhattan",
          "1": " Roosevelt Island",
          "index": 6229
         },
         {
          "0": "Manhattan",
          "1": " Washington Heights",
          "index": 6230
         },
         {
          "0": "Brooklyn",
          "1": " Bedford-Stuyvesant",
          "index": 6231
         },
         {
          "0": "Manhattan",
          "1": " Chelsea",
          "index": 6232
         },
         {
          "0": "Brooklyn",
          "1": " Boerum Hill",
          "index": 6233
         },
         {
          "0": "Manhattan",
          "1": " Washington Heights",
          "index": 6234
         },
         {
          "0": "Manhattan",
          "1": " Washington Heights",
          "index": 6235
         },
         {
          "0": "Manhattan",
          "1": " Hell's Kitchen",
          "index": 6236
         },
         {
          "0": "Manhattan",
          "1": " West Village",
          "index": 6237
         },
         {
          "0": "Brooklyn",
          "1": " East Flatbush",
          "index": 6238
         },
         {
          "0": "Manhattan",
          "1": " Chinatown",
          "index": 6239
         },
         {
          "0": "Brooklyn",
          "1": " Prospect Heights",
          "index": 6240
         },
         {
          "0": "Manhattan",
          "1": " Theater District",
          "index": 6241
         },
         {
          "0": "Manhattan",
          "1": " Kips Bay",
          "index": 6242
         },
         {
          "0": "Manhattan",
          "1": " Upper West Side",
          "index": 6243
         },
         {
          "0": "Manhattan",
          "1": " West Village",
          "index": 6244
         },
         {
          "0": "Brooklyn",
          "1": " Crown Heights",
          "index": 6245
         },
         {
          "0": "Manhattan",
          "1": " Inwood",
          "index": 6246
         },
         {
          "0": "Queens",
          "1": " Woodside",
          "index": 6247
         },
         {
          "0": "Manhattan",
          "1": " East Village",
          "index": 6248
         },
         {
          "0": "Manhattan",
          "1": " Financial District",
          "index": 6249
         },
         {
          "0": "Manhattan",
          "1": " Harlem",
          "index": 6250
         },
         {
          "0": "Manhattan",
          "1": " East Harlem",
          "index": 6251
         },
         {
          "0": "Brooklyn",
          "1": " Williamsburg",
          "index": 6252
         },
         {
          "0": "Brooklyn",
          "1": " Sheepshead Bay",
          "index": 6253
         },
         {
          "0": "Manhattan",
          "1": " Harlem",
          "index": 6254
         },
         {
          "0": "Brooklyn",
          "1": " Brooklyn Heights",
          "index": 6255
         },
         {
          "0": "Queens",
          "1": " Flushing",
          "index": 6256
         },
         {
          "0": "Queens",
          "1": " Astoria",
          "index": 6257
         },
         {
          "0": "Manhattan",
          "1": " Harlem",
          "index": 6258
         },
         {
          "0": "Brooklyn",
          "1": " Fort Greene",
          "index": 6259
         },
         {
          "0": "Bronx",
          "1": " Westchester Square",
          "index": 6260
         },
         {
          "0": "Brooklyn",
          "1": " Bedford-Stuyvesant",
          "index": 6261
         },
         {
          "0": "Manhattan",
          "1": " Harlem",
          "index": 6262
         },
         {
          "0": "Brooklyn",
          "1": " Sunset Park",
          "index": 6263
         },
         {
          "0": "Manhattan",
          "1": " Flatiron District",
          "index": 6264
         },
         {
          "0": "Queens",
          "1": " Elmhurst",
          "index": 6265
         },
         {
          "0": "Brooklyn",
          "1": " Bedford-Stuyvesant",
          "index": 6266
         },
         {
          "0": "Manhattan",
          "1": " Murray Hill",
          "index": 6267
         },
         {
          "0": "Manhattan",
          "1": " East Village",
          "index": 6268
         },
         {
          "0": "Manhattan",
          "1": " Chelsea",
          "index": 6269
         },
         {
          "0": "Manhattan",
          "1": " Upper West Side",
          "index": 6270
         },
         {
          "0": "Brooklyn",
          "1": " Bedford-Stuyvesant",
          "index": 6271
         },
         {
          "0": "Brooklyn",
          "1": " Crown Heights",
          "index": 6272
         },
         {
          "0": "Manhattan",
          "1": " Midtown",
          "index": 6273
         },
         {
          "0": "Manhattan",
          "1": " Harlem",
          "index": 6274
         },
         {
          "0": "Manhattan",
          "1": " Upper East Side",
          "index": 6275
         },
         {
          "0": "Brooklyn",
          "1": " Bedford-Stuyvesant",
          "index": 6276
         },
         {
          "0": "Queens",
          "1": " Elmhurst",
          "index": 6277
         },
         {
          "0": "Manhattan",
          "1": " Upper East Side",
          "index": 6278
         },
         {
          "0": "Queens",
          "1": " Long Island City",
          "index": 6279
         },
         {
          "0": "Brooklyn",
          "1": " Williamsburg",
          "index": 6280
         },
         {
          "0": "Manhattan",
          "1": " Chinatown",
          "index": 6281
         },
         {
          "0": "Brooklyn",
          "1": " Williamsburg",
          "index": 6282
         },
         {
          "0": "Manhattan",
          "1": " Upper West Side",
          "index": 6283
         },
         {
          "0": "Brooklyn",
          "1": " Bedford-Stuyvesant",
          "index": 6284
         },
         {
          "0": "Brooklyn",
          "1": " Williamsburg",
          "index": 6285
         },
         {
          "0": "Queens",
          "1": " Elmhurst",
          "index": 6286
         },
         {
          "0": "Brooklyn",
          "1": " Bedford-Stuyvesant",
          "index": 6287
         },
         {
          "0": "Manhattan",
          "1": " Upper West Side",
          "index": 6288
         },
         {
          "0": "Brooklyn",
          "1": " Bushwick",
          "index": 6289
         },
         {
          "0": "Brooklyn",
          "1": " Prospect Heights",
          "index": 6290
         },
         {
          "0": "Manhattan",
          "1": " Upper East Side",
          "index": 6291
         },
         {
          "0": "Brooklyn",
          "1": " Bushwick",
          "index": 6292
         },
         {
          "0": "Manhattan",
          "1": " Hell's Kitchen",
          "index": 6293
         },
         {
          "0": "Manhattan",
          "1": " Hell's Kitchen",
          "index": 6294
         },
         {
          "0": "Brooklyn",
          "1": " Bushwick",
          "index": 6295
         },
         {
          "0": "Brooklyn",
          "1": " Williamsburg",
          "index": 6296
         },
         {
          "0": "Manhattan",
          "1": " Harlem",
          "index": 6297
         },
         {
          "0": "Manhattan",
          "1": " East Village",
          "index": 6298
         },
         {
          "0": "Manhattan",
          "1": " West Village",
          "index": 6299
         },
         {
          "0": "Queens",
          "1": " South Ozone Park",
          "index": 6300
         },
         {
          "0": "Manhattan",
          "1": " Two Bridges",
          "index": 6301
         },
         {
          "0": "Brooklyn",
          "1": " DUMBO",
          "index": 6302
         },
         {
          "0": "Manhattan",
          "1": " Lower East Side",
          "index": 6303
         },
         {
          "0": "Manhattan",
          "1": " Morningside Heights",
          "index": 6304
         },
         {
          "0": "Queens",
          "1": " Woodside",
          "index": 6305
         },
         {
          "0": "Brooklyn",
          "1": " Bedford-Stuyvesant",
          "index": 6306
         },
         {
          "0": "Manhattan",
          "1": " Harlem",
          "index": 6307
         },
         {
          "0": "Brooklyn",
          "1": " Bedford-Stuyvesant",
          "index": 6308
         },
         {
          "0": "Manhattan",
          "1": " Upper East Side",
          "index": 6309
         },
         {
          "0": "Manhattan",
          "1": " Upper East Side",
          "index": 6310
         },
         {
          "0": "Manhattan",
          "1": " Upper West Side",
          "index": 6311
         },
         {
          "0": "Brooklyn",
          "1": " Bedford-Stuyvesant",
          "index": 6312
         },
         {
          "0": "Brooklyn",
          "1": " Williamsburg",
          "index": 6313
         },
         {
          "0": "Manhattan",
          "1": " Upper East Side",
          "index": 6314
         },
         {
          "0": "Brooklyn",
          "1": " Cypress Hills",
          "index": 6315
         },
         {
          "0": "Manhattan",
          "1": " Financial District",
          "index": 6316
         },
         {
          "0": "Manhattan",
          "1": " Nolita",
          "index": 6317
         },
         {
          "0": "Queens",
          "1": " Flushing",
          "index": 6318
         },
         {
          "0": "Manhattan",
          "1": " Nolita",
          "index": 6319
         },
         {
          "0": "Manhattan",
          "1": " Financial District",
          "index": 6320
         },
         {
          "0": "Queens",
          "1": " Astoria",
          "index": 6321
         },
         {
          "0": "Brooklyn",
          "1": " Bushwick",
          "index": 6322
         },
         {
          "0": "Brooklyn",
          "1": " Sunset Park",
          "index": 6323
         },
         {
          "0": "Manhattan",
          "1": " Harlem",
          "index": 6324
         },
         {
          "0": "Brooklyn",
          "1": " Bedford-Stuyvesant",
          "index": 6325
         },
         {
          "0": "Queens",
          "1": " Richmond Hill",
          "index": 6326
         },
         {
          "0": "Manhattan",
          "1": " Hell's Kitchen",
          "index": 6327
         },
         {
          "0": "Manhattan",
          "1": " Lower East Side",
          "index": 6328
         },
         {
          "0": "Manhattan",
          "1": " Harlem",
          "index": 6329
         },
         {
          "0": "Brooklyn",
          "1": " Brooklyn Heights",
          "index": 6330
         },
         {
          "0": "Brooklyn",
          "1": " Crown Heights",
          "index": 6331
         },
         {
          "0": "Brooklyn",
          "1": " Williamsburg",
          "index": 6332
         },
         {
          "0": "Manhattan",
          "1": " Harlem",
          "index": 6333
         },
         {
          "0": "Brooklyn",
          "1": " South Slope",
          "index": 6334
         },
         {
          "0": "Manhattan",
          "1": " Hell's Kitchen",
          "index": 6335
         },
         {
          "0": "Manhattan",
          "1": " Tribeca",
          "index": 6336
         },
         {
          "0": "Brooklyn",
          "1": " Red Hook",
          "index": 6337
         },
         {
          "0": "Brooklyn",
          "1": " Carroll Gardens",
          "index": 6338
         },
         {
          "0": "Queens",
          "1": " Rosedale",
          "index": 6339
         },
         {
          "0": "Manhattan",
          "1": " Upper East Side",
          "index": 6340
         },
         {
          "0": "Brooklyn",
          "1": " Williamsburg",
          "index": 6341
         },
         {
          "0": "Manhattan",
          "1": " Harlem",
          "index": 6342
         },
         {
          "0": "Brooklyn",
          "1": " Bedford-Stuyvesant",
          "index": 6343
         },
         {
          "0": "Queens",
          "1": " St. Albans",
          "index": 6344
         },
         {
          "0": "Brooklyn",
          "1": " Flatbush",
          "index": 6345
         },
         {
          "0": "Manhattan",
          "1": " Midtown",
          "index": 6346
         },
         {
          "0": "Queens",
          "1": " Astoria",
          "index": 6347
         },
         {
          "0": "Brooklyn",
          "1": " Bedford-Stuyvesant",
          "index": 6348
         },
         {
          "0": "Manhattan",
          "1": " Midtown",
          "index": 6349
         },
         {
          "0": "Manhattan",
          "1": " East Harlem",
          "index": 6350
         },
         {
          "0": "Manhattan",
          "1": " Upper West Side",
          "index": 6351
         },
         {
          "0": "Brooklyn",
          "1": " Sunset Park",
          "index": 6352
         },
         {
          "0": "Manhattan",
          "1": " SoHo",
          "index": 6353
         },
         {
          "0": "Manhattan",
          "1": " Upper East Side",
          "index": 6354
         },
         {
          "0": "Brooklyn",
          "1": " Williamsburg",
          "index": 6355
         },
         {
          "0": "Brooklyn",
          "1": " Bath Beach",
          "index": 6356
         },
         {
          "0": "Brooklyn",
          "1": " Bedford-Stuyvesant",
          "index": 6357
         },
         {
          "0": "Brooklyn",
          "1": " Prospect Heights",
          "index": 6358
         },
         {
          "0": "Brooklyn",
          "1": " Williamsburg",
          "index": 6359
         },
         {
          "0": "Manhattan",
          "1": " Upper West Side",
          "index": 6360
         },
         {
          "0": "Manhattan",
          "1": " Upper West Side",
          "index": 6361
         },
         {
          "0": "Manhattan",
          "1": " West Village",
          "index": 6362
         },
         {
          "0": "Brooklyn",
          "1": " Crown Heights",
          "index": 6363
         },
         {
          "0": "Brooklyn",
          "1": " South Slope",
          "index": 6364
         },
         {
          "0": "Brooklyn",
          "1": " Greenpoint",
          "index": 6365
         },
         {
          "0": "Brooklyn",
          "1": " Clinton Hill",
          "index": 6366
         },
         {
          "0": "Manhattan",
          "1": " East Village",
          "index": 6367
         },
         {
          "0": "Brooklyn",
          "1": " Bedford-Stuyvesant",
          "index": 6368
         },
         {
          "0": "Brooklyn",
          "1": " Bedford-Stuyvesant",
          "index": 6369
         },
         {
          "0": "Queens",
          "1": " Ridgewood",
          "index": 6370
         },
         {
          "0": "Brooklyn",
          "1": " Williamsburg",
          "index": 6371
         },
         {
          "0": "Brooklyn",
          "1": " Bushwick",
          "index": 6372
         },
         {
          "0": "Brooklyn",
          "1": " Brooklyn Heights",
          "index": 6373
         },
         {
          "0": "Queens",
          "1": " Springfield Gardens",
          "index": 6374
         },
         {
          "0": "Brooklyn",
          "1": " Williamsburg",
          "index": 6375
         },
         {
          "0": "Manhattan",
          "1": " Hell's Kitchen",
          "index": 6376
         },
         {
          "0": "Queens",
          "1": " Forest Hills",
          "index": 6377
         },
         {
          "0": "Manhattan",
          "1": " Hell's Kitchen",
          "index": 6378
         },
         {
          "0": "Brooklyn",
          "1": " Prospect Heights",
          "index": 6379
         },
         {
          "0": "Brooklyn",
          "1": " Bushwick",
          "index": 6380
         },
         {
          "0": "Brooklyn",
          "1": " Greenpoint",
          "index": 6381
         },
         {
          "0": "Brooklyn",
          "1": " Crown Heights",
          "index": 6382
         },
         {
          "0": "Brooklyn",
          "1": " Williamsburg",
          "index": 6383
         },
         {
          "0": "Brooklyn",
          "1": " Clinton Hill",
          "index": 6384
         },
         {
          "0": "Brooklyn",
          "1": " Williamsburg",
          "index": 6385
         },
         {
          "0": "Manhattan",
          "1": " East Harlem",
          "index": 6386
         },
         {
          "0": "Brooklyn",
          "1": " Bushwick",
          "index": 6387
         },
         {
          "0": "Manhattan",
          "1": " Midtown",
          "index": 6388
         },
         {
          "0": "Manhattan",
          "1": " Hell's Kitchen",
          "index": 6389
         },
         {
          "0": "Manhattan",
          "1": " East Village",
          "index": 6390
         },
         {
          "0": "Brooklyn",
          "1": " Bushwick",
          "index": 6391
         },
         {
          "0": "Manhattan",
          "1": " Upper West Side",
          "index": 6392
         },
         {
          "0": "Manhattan",
          "1": " Financial District",
          "index": 6393
         },
         {
          "0": "Manhattan",
          "1": " Harlem",
          "index": 6394
         },
         {
          "0": "Brooklyn",
          "1": " Bedford-Stuyvesant",
          "index": 6395
         },
         {
          "0": "Brooklyn",
          "1": " East Flatbush",
          "index": 6396
         },
         {
          "0": "Brooklyn",
          "1": " Bedford-Stuyvesant",
          "index": 6397
         },
         {
          "0": "Manhattan",
          "1": " Upper West Side",
          "index": 6398
         },
         {
          "0": "Manhattan",
          "1": " Two Bridges",
          "index": 6399
         },
         {
          "0": "Brooklyn",
          "1": " South Slope",
          "index": 6400
         },
         {
          "0": "Queens",
          "1": " Astoria",
          "index": 6401
         },
         {
          "0": "Manhattan",
          "1": " Roosevelt Island",
          "index": 6402
         },
         {
          "0": "Brooklyn",
          "1": " Prospect Heights",
          "index": 6403
         },
         {
          "0": "Manhattan",
          "1": " Harlem",
          "index": 6404
         },
         {
          "0": "Brooklyn",
          "1": " Park Slope",
          "index": 6405
         },
         {
          "0": "Manhattan",
          "1": " Tribeca",
          "index": 6406
         },
         {
          "0": "Brooklyn",
          "1": " Bedford-Stuyvesant",
          "index": 6407
         },
         {
          "0": "Manhattan",
          "1": " Lower East Side",
          "index": 6408
         },
         {
          "0": "Brooklyn",
          "1": " Williamsburg",
          "index": 6409
         },
         {
          "0": "Manhattan",
          "1": " Upper West Side",
          "index": 6410
         },
         {
          "0": "Manhattan",
          "1": " Hell's Kitchen",
          "index": 6411
         },
         {
          "0": "Manhattan",
          "1": " Harlem",
          "index": 6412
         },
         {
          "0": "Brooklyn",
          "1": " Bedford-Stuyvesant",
          "index": 6413
         },
         {
          "0": "Queens",
          "1": " Astoria",
          "index": 6414
         },
         {
          "0": "Manhattan",
          "1": " Financial District",
          "index": 6415
         },
         {
          "0": "Brooklyn",
          "1": " Greenpoint",
          "index": 6416
         },
         {
          "0": "Manhattan",
          "1": " Upper East Side",
          "index": 6417
         },
         {
          "0": "Queens",
          "1": " Ditmars Steinway",
          "index": 6418
         },
         {
          "0": "Manhattan",
          "1": " Chelsea",
          "index": 6419
         },
         {
          "0": "Brooklyn",
          "1": " Bedford-Stuyvesant",
          "index": 6420
         },
         {
          "0": "Manhattan",
          "1": " Financial District",
          "index": 6421
         },
         {
          "0": "Manhattan",
          "1": " Gramercy",
          "index": 6422
         },
         {
          "0": "Brooklyn",
          "1": " Crown Heights",
          "index": 6423
         },
         {
          "0": "Manhattan",
          "1": " Harlem",
          "index": 6424
         },
         {
          "0": "Brooklyn",
          "1": " Bedford-Stuyvesant",
          "index": 6425
         },
         {
          "0": "Manhattan",
          "1": " East Village",
          "index": 6426
         },
         {
          "0": "Queens",
          "1": " Douglaston",
          "index": 6427
         },
         {
          "0": "Manhattan",
          "1": " SoHo",
          "index": 6428
         },
         {
          "0": "Brooklyn",
          "1": " Coney Island",
          "index": 6429
         },
         {
          "0": "Manhattan",
          "1": " Theater District",
          "index": 6430
         },
         {
          "0": "Manhattan",
          "1": " Harlem",
          "index": 6431
         },
         {
          "0": "Brooklyn",
          "1": " Prospect Heights",
          "index": 6432
         },
         {
          "0": "Manhattan",
          "1": " East Harlem",
          "index": 6433
         },
         {
          "0": "Staten Island",
          "1": " St. George",
          "index": 6434
         },
         {
          "0": "Manhattan",
          "1": " Hell's Kitchen",
          "index": 6435
         },
         {
          "0": "Manhattan",
          "1": " Little Italy",
          "index": 6436
         },
         {
          "0": "Manhattan",
          "1": " Chelsea",
          "index": 6437
         },
         {
          "0": "Manhattan",
          "1": " Nolita",
          "index": 6438
         },
         {
          "0": "Manhattan",
          "1": " Midtown",
          "index": 6439
         },
         {
          "0": "Manhattan",
          "1": " East Village",
          "index": 6440
         },
         {
          "0": "Manhattan",
          "1": " Hell's Kitchen",
          "index": 6441
         },
         {
          "0": "Manhattan",
          "1": " Upper West Side",
          "index": 6442
         },
         {
          "0": "Queens",
          "1": " Ditmars Steinway",
          "index": 6443
         },
         {
          "0": "Brooklyn",
          "1": " Sheepshead Bay",
          "index": 6444
         },
         {
          "0": "Manhattan",
          "1": " Harlem",
          "index": 6445
         },
         {
          "0": "Brooklyn",
          "1": " Bushwick",
          "index": 6446
         },
         {
          "0": "Brooklyn",
          "1": " Bedford-Stuyvesant",
          "index": 6447
         },
         {
          "0": "Brooklyn",
          "1": " Sheepshead Bay",
          "index": 6448
         },
         {
          "0": "Manhattan",
          "1": " Hell's Kitchen",
          "index": 6449
         },
         {
          "0": "Manhattan",
          "1": " Upper West Side",
          "index": 6450
         },
         {
          "0": "Brooklyn",
          "1": " Williamsburg",
          "index": 6451
         },
         {
          "0": "Manhattan",
          "1": " Chelsea",
          "index": 6452
         },
         {
          "0": "Queens",
          "1": " Richmond Hill",
          "index": 6453
         },
         {
          "0": "Manhattan",
          "1": " Upper West Side",
          "index": 6454
         },
         {
          "0": "Queens",
          "1": " Ridgewood",
          "index": 6455
         },
         {
          "0": "Manhattan",
          "1": " Murray Hill",
          "index": 6456
         },
         {
          "0": "Manhattan",
          "1": " Hell's Kitchen",
          "index": 6457
         },
         {
          "0": "Manhattan",
          "1": " East Village",
          "index": 6458
         },
         {
          "0": "Brooklyn",
          "1": " Williamsburg",
          "index": 6459
         },
         {
          "0": "Manhattan",
          "1": " Upper East Side",
          "index": 6460
         },
         {
          "0": "Brooklyn",
          "1": " Bushwick",
          "index": 6461
         },
         {
          "0": "Brooklyn",
          "1": " Bedford-Stuyvesant",
          "index": 6462
         },
         {
          "0": "Queens",
          "1": " Flushing",
          "index": 6463
         },
         {
          "0": "Manhattan",
          "1": " Theater District",
          "index": 6464
         },
         {
          "0": "Brooklyn",
          "1": " Crown Heights",
          "index": 6465
         },
         {
          "0": "Queens",
          "1": " Ridgewood",
          "index": 6466
         },
         {
          "0": "Manhattan",
          "1": " East Village",
          "index": 6467
         },
         {
          "0": "Manhattan",
          "1": " Upper East Side",
          "index": 6468
         },
         {
          "0": "Brooklyn",
          "1": " Crown Heights",
          "index": 6469
         },
         {
          "0": "Brooklyn",
          "1": " Bedford-Stuyvesant",
          "index": 6470
         },
         {
          "0": "Brooklyn",
          "1": " Bedford-Stuyvesant",
          "index": 6471
         },
         {
          "0": "Brooklyn",
          "1": " Bedford-Stuyvesant",
          "index": 6472
         },
         {
          "0": "Brooklyn",
          "1": " Williamsburg",
          "index": 6473
         },
         {
          "0": "Brooklyn",
          "1": " Bedford-Stuyvesant",
          "index": 6474
         },
         {
          "0": "Manhattan",
          "1": " East Harlem",
          "index": 6475
         },
         {
          "0": "Brooklyn",
          "1": " Flatbush",
          "index": 6476
         },
         {
          "0": "Brooklyn",
          "1": " Williamsburg",
          "index": 6477
         },
         {
          "0": "Manhattan",
          "1": " Hell's Kitchen",
          "index": 6478
         },
         {
          "0": "Queens",
          "1": " Rockaway Beach",
          "index": 6479
         },
         {
          "0": "Manhattan",
          "1": " Midtown",
          "index": 6480
         },
         {
          "0": "Manhattan",
          "1": " Harlem",
          "index": 6481
         },
         {
          "0": "Brooklyn",
          "1": " Williamsburg",
          "index": 6482
         },
         {
          "0": "Queens",
          "1": " Astoria",
          "index": 6483
         },
         {
          "0": "Brooklyn",
          "1": " Williamsburg",
          "index": 6484
         },
         {
          "0": "Manhattan",
          "1": " Greenwich Village",
          "index": 6485
         },
         {
          "0": "Brooklyn",
          "1": " Crown Heights",
          "index": 6486
         },
         {
          "0": "Queens",
          "1": " Long Island City",
          "index": 6487
         },
         {
          "0": "Brooklyn",
          "1": " Crown Heights",
          "index": 6488
         },
         {
          "0": "Manhattan",
          "1": " Hell's Kitchen",
          "index": 6489
         },
         {
          "0": "Queens",
          "1": " Astoria",
          "index": 6490
         },
         {
          "0": "Manhattan",
          "1": " East Harlem",
          "index": 6491
         },
         {
          "0": "Brooklyn",
          "1": " Bedford-Stuyvesant",
          "index": 6492
         },
         {
          "0": "Brooklyn",
          "1": " East Flatbush",
          "index": 6493
         },
         {
          "0": "Manhattan",
          "1": " Harlem",
          "index": 6494
         },
         {
          "0": "Manhattan",
          "1": " Chelsea",
          "index": 6495
         },
         {
          "0": "Brooklyn",
          "1": " Prospect-Lefferts Gardens",
          "index": 6496
         },
         {
          "0": "Manhattan",
          "1": " Lower East Side",
          "index": 6497
         },
         {
          "0": "Queens",
          "1": " Ridgewood",
          "index": 6498
         },
         {
          "0": "Queens",
          "1": " Forest Hills",
          "index": 6499
         },
         {
          "0": "Manhattan",
          "1": " East Harlem",
          "index": 6500
         },
         {
          "0": "Manhattan",
          "1": " Harlem",
          "index": 6501
         },
         {
          "0": "Manhattan",
          "1": " Hell's Kitchen",
          "index": 6502
         },
         {
          "0": "Brooklyn",
          "1": " East Flatbush",
          "index": 6503
         },
         {
          "0": "Manhattan",
          "1": " East Village",
          "index": 6504
         },
         {
          "0": "Brooklyn",
          "1": " Crown Heights",
          "index": 6505
         },
         {
          "0": "Queens",
          "1": " Sunnyside",
          "index": 6506
         },
         {
          "0": "Brooklyn",
          "1": " Williamsburg",
          "index": 6507
         },
         {
          "0": "Manhattan",
          "1": " Hell's Kitchen",
          "index": 6508
         },
         {
          "0": "Brooklyn",
          "1": " Park Slope",
          "index": 6509
         },
         {
          "0": "Manhattan",
          "1": " Upper West Side",
          "index": 6510
         },
         {
          "0": "Brooklyn",
          "1": " Greenpoint",
          "index": 6511
         },
         {
          "0": "Manhattan",
          "1": " Chinatown",
          "index": 6512
         },
         {
          "0": "Brooklyn",
          "1": " Sunset Park",
          "index": 6513
         },
         {
          "0": "Brooklyn",
          "1": " East Flatbush",
          "index": 6514
         },
         {
          "0": "Manhattan",
          "1": " Nolita",
          "index": 6515
         },
         {
          "0": "Brooklyn",
          "1": " Canarsie",
          "index": 6516
         },
         {
          "0": "Manhattan",
          "1": " Lower East Side",
          "index": 6517
         },
         {
          "0": "Queens",
          "1": " Sunnyside",
          "index": 6518
         },
         {
          "0": "Manhattan",
          "1": " East Village",
          "index": 6519
         },
         {
          "0": "Brooklyn",
          "1": " Greenpoint",
          "index": 6520
         },
         {
          "0": "Brooklyn",
          "1": " Prospect-Lefferts Gardens",
          "index": 6521
         },
         {
          "0": "Manhattan",
          "1": " Greenwich Village",
          "index": 6522
         },
         {
          "0": "Brooklyn",
          "1": " Greenpoint",
          "index": 6523
         },
         {
          "0": "Manhattan",
          "1": " Upper East Side",
          "index": 6524
         },
         {
          "0": "Manhattan",
          "1": " Upper East Side",
          "index": 6525
         },
         {
          "0": "Brooklyn",
          "1": " Bushwick",
          "index": 6526
         },
         {
          "0": "Manhattan",
          "1": " Chelsea",
          "index": 6527
         },
         {
          "0": "Brooklyn",
          "1": " East Flatbush",
          "index": 6528
         },
         {
          "0": "Queens",
          "1": " Little Neck",
          "index": 6529
         },
         {
          "0": "Bronx",
          "1": " Bronxdale",
          "index": 6530
         },
         {
          "0": "Manhattan",
          "1": " East Village",
          "index": 6531
         },
         {
          "0": "Queens",
          "1": " Ditmars Steinway",
          "index": 6532
         },
         {
          "0": "Queens",
          "1": " Woodside",
          "index": 6533
         },
         {
          "0": "Manhattan",
          "1": " East Village",
          "index": 6534
         },
         {
          "0": "Manhattan",
          "1": " Harlem",
          "index": 6535
         },
         {
          "0": "Brooklyn",
          "1": " Bedford-Stuyvesant",
          "index": 6536
         },
         {
          "0": "Manhattan",
          "1": " Midtown",
          "index": 6537
         },
         {
          "0": "Manhattan",
          "1": " Upper East Side",
          "index": 6538
         },
         {
          "0": "Brooklyn",
          "1": " Vinegar Hill",
          "index": 6539
         },
         {
          "0": "Queens",
          "1": " Astoria",
          "index": 6540
         },
         {
          "0": "Queens",
          "1": " Glendale",
          "index": 6541
         },
         {
          "0": "Manhattan",
          "1": " Financial District",
          "index": 6542
         },
         {
          "0": "Brooklyn",
          "1": " East Flatbush",
          "index": 6543
         },
         {
          "0": "Brooklyn",
          "1": " Bedford-Stuyvesant",
          "index": 6544
         },
         {
          "0": "Brooklyn",
          "1": " Prospect Heights",
          "index": 6545
         },
         {
          "0": "Manhattan",
          "1": " Hell's Kitchen",
          "index": 6546
         },
         {
          "0": "Brooklyn",
          "1": " Bushwick",
          "index": 6547
         },
         {
          "0": "Queens",
          "1": " Ridgewood",
          "index": 6548
         },
         {
          "0": "Brooklyn",
          "1": " Crown Heights",
          "index": 6549
         },
         {
          "0": "Brooklyn",
          "1": " Clinton Hill",
          "index": 6550
         },
         {
          "0": "Queens",
          "1": " Elmhurst",
          "index": 6551
         },
         {
          "0": "Brooklyn",
          "1": " Prospect-Lefferts Gardens",
          "index": 6552
         },
         {
          "0": "Manhattan",
          "1": " Inwood",
          "index": 6553
         },
         {
          "0": "Manhattan",
          "1": " Washington Heights",
          "index": 6554
         },
         {
          "0": "Manhattan",
          "1": " Tribeca",
          "index": 6555
         },
         {
          "0": "Manhattan",
          "1": " Hell's Kitchen",
          "index": 6556
         },
         {
          "0": "Bronx",
          "1": " North Riverdale",
          "index": 6557
         },
         {
          "0": "Brooklyn",
          "1": " Williamsburg",
          "index": 6558
         },
         {
          "0": "Manhattan",
          "1": " Harlem",
          "index": 6559
         },
         {
          "0": "Brooklyn",
          "1": " Williamsburg",
          "index": 6560
         },
         {
          "0": "Brooklyn",
          "1": " Bedford-Stuyvesant",
          "index": 6561
         },
         {
          "0": "Brooklyn",
          "1": " Crown Heights",
          "index": 6562
         },
         {
          "0": "Manhattan",
          "1": " Harlem",
          "index": 6563
         },
         {
          "0": "Queens",
          "1": " Springfield Gardens",
          "index": 6564
         },
         {
          "0": "Brooklyn",
          "1": " Williamsburg",
          "index": 6565
         },
         {
          "0": "Manhattan",
          "1": " Lower East Side",
          "index": 6566
         },
         {
          "0": "Manhattan",
          "1": " Harlem",
          "index": 6567
         },
         {
          "0": "Brooklyn",
          "1": " Williamsburg",
          "index": 6568
         },
         {
          "0": "Manhattan",
          "1": " Upper West Side",
          "index": 6569
         },
         {
          "0": "Brooklyn",
          "1": " Williamsburg",
          "index": 6570
         },
         {
          "0": "Manhattan",
          "1": " Murray Hill",
          "index": 6571
         },
         {
          "0": "Manhattan",
          "1": " East Village",
          "index": 6572
         },
         {
          "0": "Queens",
          "1": " Arverne",
          "index": 6573
         },
         {
          "0": "Brooklyn",
          "1": " Greenpoint",
          "index": 6574
         },
         {
          "0": "Brooklyn",
          "1": " East Flatbush",
          "index": 6575
         },
         {
          "0": "Brooklyn",
          "1": " Williamsburg",
          "index": 6576
         },
         {
          "0": "Brooklyn",
          "1": " Bedford-Stuyvesant",
          "index": 6577
         },
         {
          "0": "Queens",
          "1": " Flushing",
          "index": 6578
         },
         {
          "0": "Brooklyn",
          "1": " Carroll Gardens",
          "index": 6579
         },
         {
          "0": "Manhattan",
          "1": " East Village",
          "index": 6580
         },
         {
          "0": "Queens",
          "1": " Richmond Hill",
          "index": 6581
         },
         {
          "0": "Staten Island",
          "1": " Great Kills",
          "index": 6582
         },
         {
          "0": "Queens",
          "1": " Ridgewood",
          "index": 6583
         },
         {
          "0": "Queens",
          "1": " Long Island City",
          "index": 6584
         },
         {
          "0": "Queens",
          "1": " College Point",
          "index": 6585
         },
         {
          "0": "Brooklyn",
          "1": " Bedford-Stuyvesant",
          "index": 6586
         },
         {
          "0": "Bronx",
          "1": " Port Morris",
          "index": 6587
         },
         {
          "0": "Brooklyn",
          "1": " Columbia St",
          "index": 6588
         },
         {
          "0": "Brooklyn",
          "1": " East New York",
          "index": 6589
         },
         {
          "0": "Manhattan",
          "1": " Hell's Kitchen",
          "index": 6590
         },
         {
          "0": "Bronx",
          "1": " Van Nest",
          "index": 6591
         },
         {
          "0": "Manhattan",
          "1": " Two Bridges",
          "index": 6592
         },
         {
          "0": "Manhattan",
          "1": " East Harlem",
          "index": 6593
         },
         {
          "0": "Manhattan",
          "1": " Upper East Side",
          "index": 6594
         },
         {
          "0": "Manhattan",
          "1": " Upper East Side",
          "index": 6595
         },
         {
          "0": "Manhattan",
          "1": " Upper East Side",
          "index": 6596
         },
         {
          "0": "Queens",
          "1": " Long Island City",
          "index": 6597
         },
         {
          "0": "Brooklyn",
          "1": " Bedford-Stuyvesant",
          "index": 6598
         },
         {
          "0": "Manhattan",
          "1": " Hell's Kitchen",
          "index": 6599
         },
         {
          "0": "Bronx",
          "1": " Soundview",
          "index": 6600
         },
         {
          "0": "Manhattan",
          "1": " Harlem",
          "index": 6601
         },
         {
          "0": "Queens",
          "1": " Laurelton",
          "index": 6602
         },
         {
          "0": "Manhattan",
          "1": " Inwood",
          "index": 6603
         },
         {
          "0": "Brooklyn",
          "1": " Crown Heights",
          "index": 6604
         },
         {
          "0": "Brooklyn",
          "1": " Williamsburg",
          "index": 6605
         },
         {
          "0": "Brooklyn",
          "1": " Sunset Park",
          "index": 6606
         },
         {
          "0": "Brooklyn",
          "1": " Crown Heights",
          "index": 6607
         },
         {
          "0": "Manhattan",
          "1": " East Village",
          "index": 6608
         },
         {
          "0": "Brooklyn",
          "1": " Boerum Hill",
          "index": 6609
         },
         {
          "0": "Manhattan",
          "1": " Hell's Kitchen",
          "index": 6610
         },
         {
          "0": "Brooklyn",
          "1": " Clinton Hill",
          "index": 6611
         },
         {
          "0": "Brooklyn",
          "1": " Williamsburg",
          "index": 6612
         },
         {
          "0": "Manhattan",
          "1": " Civic Center",
          "index": 6613
         },
         {
          "0": "Manhattan",
          "1": " Washington Heights",
          "index": 6614
         },
         {
          "0": "Brooklyn",
          "1": " Williamsburg",
          "index": 6615
         },
         {
          "0": "Manhattan",
          "1": " Hell's Kitchen",
          "index": 6616
         },
         {
          "0": "Manhattan",
          "1": " Upper West Side",
          "index": 6617
         },
         {
          "0": "Brooklyn",
          "1": " Greenpoint",
          "index": 6618
         },
         {
          "0": "Brooklyn",
          "1": " Prospect-Lefferts Gardens",
          "index": 6619
         },
         {
          "0": "Manhattan",
          "1": " Hell's Kitchen",
          "index": 6620
         },
         {
          "0": "Brooklyn",
          "1": " Williamsburg",
          "index": 6621
         },
         {
          "0": "Brooklyn",
          "1": " Gowanus",
          "index": 6622
         },
         {
          "0": "Brooklyn",
          "1": " Midwood",
          "index": 6623
         },
         {
          "0": "Brooklyn",
          "1": " Brownsville",
          "index": 6624
         },
         {
          "0": "Manhattan",
          "1": " Financial District",
          "index": 6625
         },
         {
          "0": "Manhattan",
          "1": " Upper West Side",
          "index": 6626
         },
         {
          "0": "Brooklyn",
          "1": " Bedford-Stuyvesant",
          "index": 6627
         },
         {
          "0": "Manhattan",
          "1": " Upper East Side",
          "index": 6628
         },
         {
          "0": "Manhattan",
          "1": " Hell's Kitchen",
          "index": 6629
         },
         {
          "0": "Manhattan",
          "1": " Financial District",
          "index": 6630
         },
         {
          "0": "Manhattan",
          "1": " East Village",
          "index": 6631
         },
         {
          "0": "Brooklyn",
          "1": " East New York",
          "index": 6632
         },
         {
          "0": "Bronx",
          "1": " Hunts Point",
          "index": 6633
         },
         {
          "0": "Manhattan",
          "1": " Lower East Side",
          "index": 6634
         },
         {
          "0": "Manhattan",
          "1": " Harlem",
          "index": 6635
         },
         {
          "0": "Brooklyn",
          "1": " Williamsburg",
          "index": 6636
         },
         {
          "0": "Brooklyn",
          "1": " Bedford-Stuyvesant",
          "index": 6637
         },
         {
          "0": "Brooklyn",
          "1": " Bushwick",
          "index": 6638
         },
         {
          "0": "Staten Island",
          "1": " Midland Beach",
          "index": 6639
         },
         {
          "0": "Brooklyn",
          "1": " Williamsburg",
          "index": 6640
         },
         {
          "0": "Queens",
          "1": " Richmond Hill",
          "index": 6641
         },
         {
          "0": "Manhattan",
          "1": " Midtown",
          "index": 6642
         },
         {
          "0": "Manhattan",
          "1": " Murray Hill",
          "index": 6643
         },
         {
          "0": "Brooklyn",
          "1": " Bushwick",
          "index": 6644
         },
         {
          "0": "Queens",
          "1": " Ditmars Steinway",
          "index": 6645
         },
         {
          "0": "Queens",
          "1": " Rosedale",
          "index": 6646
         },
         {
          "0": "Brooklyn",
          "1": " Bushwick",
          "index": 6647
         },
         {
          "0": "Brooklyn",
          "1": " Bushwick",
          "index": 6648
         },
         {
          "0": "Manhattan",
          "1": " Upper West Side",
          "index": 6649
         },
         {
          "0": "Brooklyn",
          "1": " Williamsburg",
          "index": 6650
         },
         {
          "0": "Manhattan",
          "1": " Harlem",
          "index": 6651
         },
         {
          "0": "Brooklyn",
          "1": " Bedford-Stuyvesant",
          "index": 6652
         },
         {
          "0": "Brooklyn",
          "1": " South Slope",
          "index": 6653
         },
         {
          "0": "Manhattan",
          "1": " Lower East Side",
          "index": 6654
         },
         {
          "0": "Manhattan",
          "1": " Harlem",
          "index": 6655
         },
         {
          "0": "Brooklyn",
          "1": " Bushwick",
          "index": 6656
         },
         {
          "0": "Brooklyn",
          "1": " Bedford-Stuyvesant",
          "index": 6657
         },
         {
          "0": "Manhattan",
          "1": " Harlem",
          "index": 6658
         },
         {
          "0": "Manhattan",
          "1": " Chelsea",
          "index": 6659
         },
         {
          "0": "Manhattan",
          "1": " Upper West Side",
          "index": 6660
         },
         {
          "0": "Brooklyn",
          "1": " Flatbush",
          "index": 6661
         },
         {
          "0": "Brooklyn",
          "1": " Bedford-Stuyvesant",
          "index": 6662
         },
         {
          "0": "Brooklyn",
          "1": " Boerum Hill",
          "index": 6663
         },
         {
          "0": "Manhattan",
          "1": " Upper West Side",
          "index": 6664
         },
         {
          "0": "Manhattan",
          "1": " Hell's Kitchen",
          "index": 6665
         },
         {
          "0": "Manhattan",
          "1": " SoHo",
          "index": 6666
         },
         {
          "0": "Brooklyn",
          "1": " Bushwick",
          "index": 6667
         },
         {
          "0": "Manhattan",
          "1": " Hell's Kitchen",
          "index": 6668
         },
         {
          "0": "Brooklyn",
          "1": " Williamsburg",
          "index": 6669
         },
         {
          "0": "Manhattan",
          "1": " Midtown",
          "index": 6670
         },
         {
          "0": "Brooklyn",
          "1": " Bedford-Stuyvesant",
          "index": 6671
         },
         {
          "0": "Brooklyn",
          "1": " Flatbush",
          "index": 6672
         },
         {
          "0": "Brooklyn",
          "1": " Cobble Hill",
          "index": 6673
         },
         {
          "0": "Bronx",
          "1": " Eastchester",
          "index": 6674
         },
         {
          "0": "Manhattan",
          "1": " Inwood",
          "index": 6675
         },
         {
          "0": "Brooklyn",
          "1": " Bedford-Stuyvesant",
          "index": 6676
         },
         {
          "0": "Manhattan",
          "1": " Harlem",
          "index": 6677
         },
         {
          "0": "Manhattan",
          "1": " Inwood",
          "index": 6678
         },
         {
          "0": "Manhattan",
          "1": " Upper East Side",
          "index": 6679
         },
         {
          "0": "Brooklyn",
          "1": " Flatbush",
          "index": 6680
         },
         {
          "0": "Brooklyn",
          "1": " Park Slope",
          "index": 6681
         },
         {
          "0": "Brooklyn",
          "1": " Crown Heights",
          "index": 6682
         },
         {
          "0": "Manhattan",
          "1": " Harlem",
          "index": 6683
         },
         {
          "0": "Brooklyn",
          "1": " Crown Heights",
          "index": 6684
         },
         {
          "0": "Manhattan",
          "1": " Harlem",
          "index": 6685
         },
         {
          "0": "Brooklyn",
          "1": " Bedford-Stuyvesant",
          "index": 6686
         },
         {
          "0": "Manhattan",
          "1": " Chelsea",
          "index": 6687
         },
         {
          "0": "Manhattan",
          "1": " East Village",
          "index": 6688
         },
         {
          "0": "Brooklyn",
          "1": " Greenpoint",
          "index": 6689
         },
         {
          "0": "Brooklyn",
          "1": " Kensington",
          "index": 6690
         },
         {
          "0": "Brooklyn",
          "1": " Crown Heights",
          "index": 6691
         },
         {
          "0": "Manhattan",
          "1": " East Village",
          "index": 6692
         },
         {
          "0": "Brooklyn",
          "1": " Williamsburg",
          "index": 6693
         },
         {
          "0": "Manhattan",
          "1": " West Village",
          "index": 6694
         },
         {
          "0": "Manhattan",
          "1": " Washington Heights",
          "index": 6695
         },
         {
          "0": "Brooklyn",
          "1": " Bedford-Stuyvesant",
          "index": 6696
         },
         {
          "0": "Brooklyn",
          "1": " Cypress Hills",
          "index": 6697
         },
         {
          "0": "Brooklyn",
          "1": " Bedford-Stuyvesant",
          "index": 6698
         },
         {
          "0": "Queens",
          "1": " Springfield Gardens",
          "index": 6699
         },
         {
          "0": "Brooklyn",
          "1": " Williamsburg",
          "index": 6700
         },
         {
          "0": "Brooklyn",
          "1": " Williamsburg",
          "index": 6701
         },
         {
          "0": "Manhattan",
          "1": " Upper East Side",
          "index": 6702
         },
         {
          "0": "Queens",
          "1": " Cambria Heights",
          "index": 6703
         },
         {
          "0": "Manhattan",
          "1": " Upper West Side",
          "index": 6704
         },
         {
          "0": "Manhattan",
          "1": " Inwood",
          "index": 6705
         },
         {
          "0": "Manhattan",
          "1": " Upper East Side",
          "index": 6706
         },
         {
          "0": "Brooklyn",
          "1": " Sunset Park",
          "index": 6707
         },
         {
          "0": "Manhattan",
          "1": " Harlem",
          "index": 6708
         },
         {
          "0": "Queens",
          "1": " Ozone Park",
          "index": 6709
         },
         {
          "0": "Brooklyn",
          "1": " Bushwick",
          "index": 6710
         },
         {
          "0": "Manhattan",
          "1": " Harlem",
          "index": 6711
         },
         {
          "0": "Manhattan",
          "1": " Washington Heights",
          "index": 6712
         },
         {
          "0": "Manhattan",
          "1": " East Village",
          "index": 6713
         },
         {
          "0": "Brooklyn",
          "1": " Bensonhurst",
          "index": 6714
         },
         {
          "0": "Brooklyn",
          "1": " Bedford-Stuyvesant",
          "index": 6715
         },
         {
          "0": "Queens",
          "1": " Long Island City",
          "index": 6716
         },
         {
          "0": "Manhattan",
          "1": " Harlem",
          "index": 6717
         },
         {
          "0": "Manhattan",
          "1": " Chelsea",
          "index": 6718
         },
         {
          "0": "Brooklyn",
          "1": " Bedford-Stuyvesant",
          "index": 6719
         },
         {
          "0": "Bronx",
          "1": " Allerton",
          "index": 6720
         },
         {
          "0": "Brooklyn",
          "1": " Fort Greene",
          "index": 6721
         },
         {
          "0": "Brooklyn",
          "1": " East New York",
          "index": 6722
         },
         {
          "0": "Queens",
          "1": " Ozone Park",
          "index": 6723
         },
         {
          "0": "Queens",
          "1": " Rockaway Beach",
          "index": 6724
         },
         {
          "0": "Brooklyn",
          "1": " Bedford-Stuyvesant",
          "index": 6725
         },
         {
          "0": "Brooklyn",
          "1": " East Flatbush",
          "index": 6726
         },
         {
          "0": "Manhattan",
          "1": " Upper East Side",
          "index": 6727
         },
         {
          "0": "Manhattan",
          "1": " Hell's Kitchen",
          "index": 6728
         },
         {
          "0": "Manhattan",
          "1": " Harlem",
          "index": 6729
         },
         {
          "0": "Manhattan",
          "1": " East Village",
          "index": 6730
         },
         {
          "0": "Brooklyn",
          "1": " Bedford-Stuyvesant",
          "index": 6731
         },
         {
          "0": "Manhattan",
          "1": " Washington Heights",
          "index": 6732
         },
         {
          "0": "Brooklyn",
          "1": " Williamsburg",
          "index": 6733
         },
         {
          "0": "Manhattan",
          "1": " Nolita",
          "index": 6734
         },
         {
          "0": "Brooklyn",
          "1": " Bushwick",
          "index": 6735
         },
         {
          "0": "Bronx",
          "1": " Mott Haven",
          "index": 6736
         },
         {
          "0": "Manhattan",
          "1": " Upper West Side",
          "index": 6737
         },
         {
          "0": "Manhattan",
          "1": " Midtown",
          "index": 6738
         },
         {
          "0": "Brooklyn",
          "1": " Windsor Terrace",
          "index": 6739
         },
         {
          "0": "Manhattan",
          "1": " Upper East Side",
          "index": 6740
         },
         {
          "0": "Manhattan",
          "1": " Midtown",
          "index": 6741
         },
         {
          "0": "Manhattan",
          "1": " Flatiron District",
          "index": 6742
         },
         {
          "0": "Manhattan",
          "1": " Upper East Side",
          "index": 6743
         },
         {
          "0": "Bronx",
          "1": " Pelham Bay",
          "index": 6744
         },
         {
          "0": "Brooklyn",
          "1": " Bedford-Stuyvesant",
          "index": 6745
         },
         {
          "0": "Manhattan",
          "1": " Upper West Side",
          "index": 6746
         },
         {
          "0": "Manhattan",
          "1": " East Harlem",
          "index": 6747
         },
         {
          "0": "Manhattan",
          "1": " Upper West Side",
          "index": 6748
         },
         {
          "0": "Brooklyn",
          "1": " Bedford-Stuyvesant",
          "index": 6749
         },
         {
          "0": "Queens",
          "1": " Flushing",
          "index": 6750
         },
         {
          "0": "Brooklyn",
          "1": " Prospect-Lefferts Gardens",
          "index": 6751
         },
         {
          "0": "Brooklyn",
          "1": " Midwood",
          "index": 6752
         },
         {
          "0": "Manhattan",
          "1": " Upper East Side",
          "index": 6753
         },
         {
          "0": "Brooklyn",
          "1": " Clinton Hill",
          "index": 6754
         },
         {
          "0": "Manhattan",
          "1": " Greenwich Village",
          "index": 6755
         },
         {
          "0": "Brooklyn",
          "1": " Williamsburg",
          "index": 6756
         },
         {
          "0": "Queens",
          "1": " Sunnyside",
          "index": 6757
         },
         {
          "0": "Brooklyn",
          "1": " South Slope",
          "index": 6758
         },
         {
          "0": "Manhattan",
          "1": " Chinatown",
          "index": 6759
         },
         {
          "0": "Brooklyn",
          "1": " Williamsburg",
          "index": 6760
         },
         {
          "0": "Queens",
          "1": " Astoria",
          "index": 6761
         },
         {
          "0": "Brooklyn",
          "1": " Crown Heights",
          "index": 6762
         },
         {
          "0": "Brooklyn",
          "1": " Boerum Hill",
          "index": 6763
         },
         {
          "0": "Manhattan",
          "1": " Hell's Kitchen",
          "index": 6764
         },
         {
          "0": "Brooklyn",
          "1": " Bedford-Stuyvesant",
          "index": 6765
         },
         {
          "0": "Brooklyn",
          "1": " Clinton Hill",
          "index": 6766
         },
         {
          "0": "Brooklyn",
          "1": " Bedford-Stuyvesant",
          "index": 6767
         },
         {
          "0": "Manhattan",
          "1": " Morningside Heights",
          "index": 6768
         },
         {
          "0": "Brooklyn",
          "1": " Bedford-Stuyvesant",
          "index": 6769
         },
         {
          "0": "Brooklyn",
          "1": " East Flatbush",
          "index": 6770
         },
         {
          "0": "Brooklyn",
          "1": " Canarsie",
          "index": 6771
         },
         {
          "0": "Queens",
          "1": " Astoria",
          "index": 6772
         },
         {
          "0": "Manhattan",
          "1": " Harlem",
          "index": 6773
         },
         {
          "0": "Manhattan",
          "1": " Upper West Side",
          "index": 6774
         },
         {
          "0": "Brooklyn",
          "1": " Bushwick",
          "index": 6775
         },
         {
          "0": "Manhattan",
          "1": " Upper East Side",
          "index": 6776
         },
         {
          "0": "Manhattan",
          "1": " Upper West Side",
          "index": 6777
         },
         {
          "0": "Brooklyn",
          "1": " Sunset Park",
          "index": 6778
         },
         {
          "0": "Brooklyn",
          "1": " Bushwick",
          "index": 6779
         },
         {
          "0": "Brooklyn",
          "1": " Fort Greene",
          "index": 6780
         },
         {
          "0": "Manhattan",
          "1": " Midtown",
          "index": 6781
         },
         {
          "0": "Manhattan",
          "1": " Harlem",
          "index": 6782
         },
         {
          "0": "Queens",
          "1": " Rosedale",
          "index": 6783
         },
         {
          "0": "Queens",
          "1": " Springfield Gardens",
          "index": 6784
         },
         {
          "0": "Manhattan",
          "1": " Harlem",
          "index": 6785
         },
         {
          "0": "Queens",
          "1": " Astoria",
          "index": 6786
         },
         {
          "0": "Brooklyn",
          "1": " Bushwick",
          "index": 6787
         },
         {
          "0": "Manhattan",
          "1": " East Village",
          "index": 6788
         },
         {
          "0": "Brooklyn",
          "1": " Bedford-Stuyvesant",
          "index": 6789
         },
         {
          "0": "Manhattan",
          "1": " West Village",
          "index": 6790
         },
         {
          "0": "Manhattan",
          "1": " Midtown",
          "index": 6791
         },
         {
          "0": "Brooklyn",
          "1": " Bedford-Stuyvesant",
          "index": 6792
         },
         {
          "0": "Queens",
          "1": " College Point",
          "index": 6793
         },
         {
          "0": "Manhattan",
          "1": " Chinatown",
          "index": 6794
         },
         {
          "0": "Queens",
          "1": " Astoria",
          "index": 6795
         },
         {
          "0": "Manhattan",
          "1": " Chelsea",
          "index": 6796
         },
         {
          "0": "Manhattan",
          "1": " Hell's Kitchen",
          "index": 6797
         },
         {
          "0": "Queens",
          "1": " Sunnyside",
          "index": 6798
         },
         {
          "0": "Queens",
          "1": " Jamaica",
          "index": 6799
         },
         {
          "0": "Manhattan",
          "1": " Chinatown",
          "index": 6800
         },
         {
          "0": "Queens",
          "1": " Elmhurst",
          "index": 6801
         },
         {
          "0": "Brooklyn",
          "1": " Williamsburg",
          "index": 6802
         },
         {
          "0": "Manhattan",
          "1": " Washington Heights",
          "index": 6803
         },
         {
          "0": "Brooklyn",
          "1": " South Slope",
          "index": 6804
         },
         {
          "0": "Manhattan",
          "1": " East Village",
          "index": 6805
         },
         {
          "0": "Brooklyn",
          "1": " Bedford-Stuyvesant",
          "index": 6806
         },
         {
          "0": "Bronx",
          "1": " Allerton",
          "index": 6807
         },
         {
          "0": "Manhattan",
          "1": " Chelsea",
          "index": 6808
         },
         {
          "0": "Queens",
          "1": " East Elmhurst",
          "index": 6809
         },
         {
          "0": "Queens",
          "1": " Long Island City",
          "index": 6810
         },
         {
          "0": "Brooklyn",
          "1": " Williamsburg",
          "index": 6811
         },
         {
          "0": "Brooklyn",
          "1": " Crown Heights",
          "index": 6812
         },
         {
          "0": "Brooklyn",
          "1": " Williamsburg",
          "index": 6813
         },
         {
          "0": "Staten Island",
          "1": " St. George",
          "index": 6814
         },
         {
          "0": "Manhattan",
          "1": " Upper West Side",
          "index": 6815
         },
         {
          "0": "Brooklyn",
          "1": " South Slope",
          "index": 6816
         },
         {
          "0": "Manhattan",
          "1": " Midtown",
          "index": 6817
         },
         {
          "0": "Manhattan",
          "1": " Upper West Side",
          "index": 6818
         },
         {
          "0": "Queens",
          "1": " Elmhurst",
          "index": 6819
         },
         {
          "0": "Brooklyn",
          "1": " Prospect-Lefferts Gardens",
          "index": 6820
         },
         {
          "0": "Manhattan",
          "1": " Gramercy",
          "index": 6821
         },
         {
          "0": "Manhattan",
          "1": " Upper East Side",
          "index": 6822
         },
         {
          "0": "Manhattan",
          "1": " Harlem",
          "index": 6823
         },
         {
          "0": "Manhattan",
          "1": " Harlem",
          "index": 6824
         },
         {
          "0": "Manhattan",
          "1": " Upper West Side",
          "index": 6825
         },
         {
          "0": "Brooklyn",
          "1": " Bedford-Stuyvesant",
          "index": 6826
         },
         {
          "0": "Brooklyn",
          "1": " Williamsburg",
          "index": 6827
         },
         {
          "0": "Brooklyn",
          "1": " Bedford-Stuyvesant",
          "index": 6828
         },
         {
          "0": "Brooklyn",
          "1": " Prospect-Lefferts Gardens",
          "index": 6829
         },
         {
          "0": "Brooklyn",
          "1": " Bedford-Stuyvesant",
          "index": 6830
         },
         {
          "0": "Brooklyn",
          "1": " Park Slope",
          "index": 6831
         },
         {
          "0": "Brooklyn",
          "1": " Prospect Heights",
          "index": 6832
         },
         {
          "0": "Manhattan",
          "1": " Upper West Side",
          "index": 6833
         },
         {
          "0": "Brooklyn",
          "1": " Cypress Hills",
          "index": 6834
         },
         {
          "0": "Queens",
          "1": " Long Island City",
          "index": 6835
         },
         {
          "0": "Manhattan",
          "1": " Washington Heights",
          "index": 6836
         },
         {
          "0": "Brooklyn",
          "1": " Bushwick",
          "index": 6837
         },
         {
          "0": "Brooklyn",
          "1": " Bushwick",
          "index": 6838
         },
         {
          "0": "Brooklyn",
          "1": " Bushwick",
          "index": 6839
         },
         {
          "0": "Manhattan",
          "1": " Harlem",
          "index": 6840
         },
         {
          "0": "Brooklyn",
          "1": " Sunset Park",
          "index": 6841
         },
         {
          "0": "Manhattan",
          "1": " Upper West Side",
          "index": 6842
         },
         {
          "0": "Manhattan",
          "1": " Kips Bay",
          "index": 6843
         },
         {
          "0": "Brooklyn",
          "1": " Williamsburg",
          "index": 6844
         },
         {
          "0": "Bronx",
          "1": " East Morrisania",
          "index": 6845
         },
         {
          "0": "Brooklyn",
          "1": " Williamsburg",
          "index": 6846
         },
         {
          "0": "Manhattan",
          "1": " Washington Heights",
          "index": 6847
         },
         {
          "0": "Manhattan",
          "1": " Stuyvesant Town",
          "index": 6848
         },
         {
          "0": "Manhattan",
          "1": " Upper West Side",
          "index": 6849
         },
         {
          "0": "Brooklyn",
          "1": " Bedford-Stuyvesant",
          "index": 6850
         },
         {
          "0": "Manhattan",
          "1": " Upper East Side",
          "index": 6851
         },
         {
          "0": "Staten Island",
          "1": " Concord",
          "index": 6852
         },
         {
          "0": "Brooklyn",
          "1": " Bedford-Stuyvesant",
          "index": 6853
         },
         {
          "0": "Manhattan",
          "1": " Kips Bay",
          "index": 6854
         },
         {
          "0": "Queens",
          "1": " Forest Hills",
          "index": 6855
         },
         {
          "0": "Brooklyn",
          "1": " Williamsburg",
          "index": 6856
         },
         {
          "0": "Brooklyn",
          "1": " Williamsburg",
          "index": 6857
         },
         {
          "0": "Queens",
          "1": " Long Island City",
          "index": 6858
         },
         {
          "0": "Brooklyn",
          "1": " Bedford-Stuyvesant",
          "index": 6859
         },
         {
          "0": "Brooklyn",
          "1": " Bushwick",
          "index": 6860
         },
         {
          "0": "Manhattan",
          "1": " Lower East Side",
          "index": 6861
         },
         {
          "0": "Staten Island",
          "1": " Clifton",
          "index": 6862
         },
         {
          "0": "Manhattan",
          "1": " Theater District",
          "index": 6863
         },
         {
          "0": "Manhattan",
          "1": " Upper East Side",
          "index": 6864
         },
         {
          "0": "Queens",
          "1": " Astoria",
          "index": 6865
         },
         {
          "0": "Manhattan",
          "1": " East Village",
          "index": 6866
         },
         {
          "0": "Brooklyn",
          "1": " Carroll Gardens",
          "index": 6867
         },
         {
          "0": "Queens",
          "1": " Elmhurst",
          "index": 6868
         },
         {
          "0": "Brooklyn",
          "1": " Bedford-Stuyvesant",
          "index": 6869
         },
         {
          "0": "Manhattan",
          "1": " Hell's Kitchen",
          "index": 6870
         },
         {
          "0": "Manhattan",
          "1": " Harlem",
          "index": 6871
         },
         {
          "0": "Manhattan",
          "1": " Harlem",
          "index": 6872
         },
         {
          "0": "Brooklyn",
          "1": " Brooklyn Heights",
          "index": 6873
         },
         {
          "0": "Brooklyn",
          "1": " Bedford-Stuyvesant",
          "index": 6874
         },
         {
          "0": "Manhattan",
          "1": " Midtown",
          "index": 6875
         },
         {
          "0": "Manhattan",
          "1": " East Harlem",
          "index": 6876
         },
         {
          "0": "Manhattan",
          "1": " Washington Heights",
          "index": 6877
         },
         {
          "0": "Manhattan",
          "1": " Midtown",
          "index": 6878
         },
         {
          "0": "Manhattan",
          "1": " Financial District",
          "index": 6879
         },
         {
          "0": "Manhattan",
          "1": " Financial District",
          "index": 6880
         },
         {
          "0": "Brooklyn",
          "1": " Bedford-Stuyvesant",
          "index": 6881
         },
         {
          "0": "Brooklyn",
          "1": " Crown Heights",
          "index": 6882
         },
         {
          "0": "Manhattan",
          "1": " Hell's Kitchen",
          "index": 6883
         },
         {
          "0": "Queens",
          "1": " Ditmars Steinway",
          "index": 6884
         },
         {
          "0": "Manhattan",
          "1": " Upper East Side",
          "index": 6885
         },
         {
          "0": "Manhattan",
          "1": " East Harlem",
          "index": 6886
         },
         {
          "0": "Manhattan",
          "1": " Upper East Side",
          "index": 6887
         },
         {
          "0": "Brooklyn",
          "1": " Borough Park",
          "index": 6888
         },
         {
          "0": "Brooklyn",
          "1": " Boerum Hill",
          "index": 6889
         },
         {
          "0": "Brooklyn",
          "1": " Bushwick",
          "index": 6890
         },
         {
          "0": "Queens",
          "1": " Astoria",
          "index": 6891
         },
         {
          "0": "Brooklyn",
          "1": " Prospect-Lefferts Gardens",
          "index": 6892
         },
         {
          "0": "Brooklyn",
          "1": " Prospect-Lefferts Gardens",
          "index": 6893
         },
         {
          "0": "Brooklyn",
          "1": " Clinton Hill",
          "index": 6894
         },
         {
          "0": "Manhattan",
          "1": " Harlem",
          "index": 6895
         },
         {
          "0": "Manhattan",
          "1": " Washington Heights",
          "index": 6896
         },
         {
          "0": "Queens",
          "1": " Astoria",
          "index": 6897
         },
         {
          "0": "Queens",
          "1": " Ditmars Steinway",
          "index": 6898
         },
         {
          "0": "Manhattan",
          "1": " Upper West Side",
          "index": 6899
         },
         {
          "0": "Manhattan",
          "1": " Midtown",
          "index": 6900
         },
         {
          "0": "Brooklyn",
          "1": " Bedford-Stuyvesant",
          "index": 6901
         },
         {
          "0": "Manhattan",
          "1": " Kips Bay",
          "index": 6902
         },
         {
          "0": "Brooklyn",
          "1": " Park Slope",
          "index": 6903
         },
         {
          "0": "Manhattan",
          "1": " Murray Hill",
          "index": 6904
         },
         {
          "0": "Manhattan",
          "1": " East Harlem",
          "index": 6905
         },
         {
          "0": "Manhattan",
          "1": " West Village",
          "index": 6906
         },
         {
          "0": "Brooklyn",
          "1": " Clinton Hill",
          "index": 6907
         },
         {
          "0": "Staten Island",
          "1": " Arrochar",
          "index": 6908
         },
         {
          "0": "Queens",
          "1": " Sunnyside",
          "index": 6909
         },
         {
          "0": "Brooklyn",
          "1": " Bushwick",
          "index": 6910
         },
         {
          "0": "Manhattan",
          "1": " Upper West Side",
          "index": 6911
         },
         {
          "0": "Manhattan",
          "1": " SoHo",
          "index": 6912
         },
         {
          "0": "Brooklyn",
          "1": " Greenpoint",
          "index": 6913
         },
         {
          "0": "Manhattan",
          "1": " Upper West Side",
          "index": 6914
         },
         {
          "0": "Brooklyn",
          "1": " Williamsburg",
          "index": 6915
         },
         {
          "0": "Brooklyn",
          "1": " Fort Greene",
          "index": 6916
         },
         {
          "0": "Brooklyn",
          "1": " Carroll Gardens",
          "index": 6917
         },
         {
          "0": "Queens",
          "1": " Queens Village",
          "index": 6918
         },
         {
          "0": "Brooklyn",
          "1": " Williamsburg",
          "index": 6919
         },
         {
          "0": "Manhattan",
          "1": " Hell's Kitchen",
          "index": 6920
         },
         {
          "0": "Brooklyn",
          "1": " Williamsburg",
          "index": 6921
         },
         {
          "0": "Manhattan",
          "1": " West Village",
          "index": 6922
         },
         {
          "0": "Brooklyn",
          "1": " Crown Heights",
          "index": 6923
         },
         {
          "0": "Manhattan",
          "1": " Tribeca",
          "index": 6924
         },
         {
          "0": "Manhattan",
          "1": " Inwood",
          "index": 6925
         },
         {
          "0": "Manhattan",
          "1": " Murray Hill",
          "index": 6926
         },
         {
          "0": "Manhattan",
          "1": " Lower East Side",
          "index": 6927
         },
         {
          "0": "Brooklyn",
          "1": " Greenpoint",
          "index": 6928
         },
         {
          "0": "Queens",
          "1": " Richmond Hill",
          "index": 6929
         },
         {
          "0": "Manhattan",
          "1": " Washington Heights",
          "index": 6930
         },
         {
          "0": "Brooklyn",
          "1": " Williamsburg",
          "index": 6931
         },
         {
          "0": "Brooklyn",
          "1": " Gowanus",
          "index": 6932
         },
         {
          "0": "Manhattan",
          "1": " Upper West Side",
          "index": 6933
         },
         {
          "0": "Brooklyn",
          "1": " Bedford-Stuyvesant",
          "index": 6934
         },
         {
          "0": "Brooklyn",
          "1": " Bedford-Stuyvesant",
          "index": 6935
         },
         {
          "0": "Brooklyn",
          "1": " Sheepshead Bay",
          "index": 6936
         },
         {
          "0": "Manhattan",
          "1": " Harlem",
          "index": 6937
         },
         {
          "0": "Brooklyn",
          "1": " Bushwick",
          "index": 6938
         },
         {
          "0": "Manhattan",
          "1": " Upper East Side",
          "index": 6939
         },
         {
          "0": "Brooklyn",
          "1": " East Flatbush",
          "index": 6940
         },
         {
          "0": "Manhattan",
          "1": " Chelsea",
          "index": 6941
         },
         {
          "0": "Manhattan",
          "1": " Murray Hill",
          "index": 6942
         },
         {
          "0": "Brooklyn",
          "1": " Prospect-Lefferts Gardens",
          "index": 6943
         },
         {
          "0": "Brooklyn",
          "1": " Gowanus",
          "index": 6944
         },
         {
          "0": "Manhattan",
          "1": " Chinatown",
          "index": 6945
         },
         {
          "0": "Queens",
          "1": " East Elmhurst",
          "index": 6946
         },
         {
          "0": "Queens",
          "1": " Forest Hills",
          "index": 6947
         },
         {
          "0": "Queens",
          "1": " Flushing",
          "index": 6948
         },
         {
          "0": "Brooklyn",
          "1": " East Flatbush",
          "index": 6949
         },
         {
          "0": "Queens",
          "1": " Flushing",
          "index": 6950
         },
         {
          "0": "Manhattan",
          "1": " Midtown",
          "index": 6951
         },
         {
          "0": "Brooklyn",
          "1": " Bedford-Stuyvesant",
          "index": 6952
         },
         {
          "0": "Queens",
          "1": " Elmhurst",
          "index": 6953
         },
         {
          "0": "Brooklyn",
          "1": " Crown Heights",
          "index": 6954
         },
         {
          "0": "Brooklyn",
          "1": " Borough Park",
          "index": 6955
         },
         {
          "0": "Manhattan",
          "1": " Nolita",
          "index": 6956
         },
         {
          "0": "Manhattan",
          "1": " East Village",
          "index": 6957
         },
         {
          "0": "Manhattan",
          "1": " Upper East Side",
          "index": 6958
         },
         {
          "0": "Brooklyn",
          "1": " Bedford-Stuyvesant",
          "index": 6959
         },
         {
          "0": "Manhattan",
          "1": " Harlem",
          "index": 6960
         },
         {
          "0": "Staten Island",
          "1": " Concord",
          "index": 6961
         },
         {
          "0": "Brooklyn",
          "1": " Bedford-Stuyvesant",
          "index": 6962
         },
         {
          "0": "Manhattan",
          "1": " East Village",
          "index": 6963
         },
         {
          "0": "Queens",
          "1": " Jackson Heights",
          "index": 6964
         },
         {
          "0": "Brooklyn",
          "1": " East New York",
          "index": 6965
         },
         {
          "0": "Manhattan",
          "1": " Chinatown",
          "index": 6966
         },
         {
          "0": "Brooklyn",
          "1": " Bedford-Stuyvesant",
          "index": 6967
         },
         {
          "0": "Manhattan",
          "1": " East Village",
          "index": 6968
         },
         {
          "0": "Manhattan",
          "1": " Chelsea",
          "index": 6969
         },
         {
          "0": "Brooklyn",
          "1": " Greenpoint",
          "index": 6970
         },
         {
          "0": "Manhattan",
          "1": " Chelsea",
          "index": 6971
         },
         {
          "0": "Manhattan",
          "1": " Harlem",
          "index": 6972
         },
         {
          "0": "Manhattan",
          "1": " Chinatown",
          "index": 6973
         },
         {
          "0": "Brooklyn",
          "1": " Bushwick",
          "index": 6974
         },
         {
          "0": "Queens",
          "1": " Arverne",
          "index": 6975
         },
         {
          "0": "Brooklyn",
          "1": " Crown Heights",
          "index": 6976
         },
         {
          "0": "Queens",
          "1": " Sunnyside",
          "index": 6977
         },
         {
          "0": "Brooklyn",
          "1": " Bedford-Stuyvesant",
          "index": 6978
         },
         {
          "0": "Queens",
          "1": " Elmhurst",
          "index": 6979
         },
         {
          "0": "Brooklyn",
          "1": " Williamsburg",
          "index": 6980
         },
         {
          "0": "Manhattan",
          "1": " Midtown",
          "index": 6981
         },
         {
          "0": "Queens",
          "1": " Laurelton",
          "index": 6982
         },
         {
          "0": "Queens",
          "1": " Long Island City",
          "index": 6983
         },
         {
          "0": "Manhattan",
          "1": " Chinatown",
          "index": 6984
         },
         {
          "0": "Brooklyn",
          "1": " Kensington",
          "index": 6985
         },
         {
          "0": "Manhattan",
          "1": " Harlem",
          "index": 6986
         },
         {
          "0": "Queens",
          "1": " Springfield Gardens",
          "index": 6987
         },
         {
          "0": "Brooklyn",
          "1": " Williamsburg",
          "index": 6988
         },
         {
          "0": "Brooklyn",
          "1": " Crown Heights",
          "index": 6989
         },
         {
          "0": "Manhattan",
          "1": " Lower East Side",
          "index": 6990
         },
         {
          "0": "Brooklyn",
          "1": " Bedford-Stuyvesant",
          "index": 6991
         },
         {
          "0": "Queens",
          "1": " Ditmars Steinway",
          "index": 6992
         },
         {
          "0": "Manhattan",
          "1": " Theater District",
          "index": 6993
         },
         {
          "0": "Brooklyn",
          "1": " Sunset Park",
          "index": 6994
         },
         {
          "0": "Manhattan",
          "1": " Harlem",
          "index": 6995
         },
         {
          "0": "Manhattan",
          "1": " Upper West Side",
          "index": 6996
         },
         {
          "0": "Manhattan",
          "1": " Upper West Side",
          "index": 6997
         },
         {
          "0": "Bronx",
          "1": " Wakefield",
          "index": 6998
         },
         {
          "0": "Manhattan",
          "1": " Hell's Kitchen",
          "index": 6999
         },
         {
          "0": "Manhattan",
          "1": " Washington Heights",
          "index": 7000
         },
         {
          "0": "Queens",
          "1": " Rego Park",
          "index": 7001
         },
         {
          "0": "Queens",
          "1": " Ditmars Steinway",
          "index": 7002
         },
         {
          "0": "Brooklyn",
          "1": " Bedford-Stuyvesant",
          "index": 7003
         },
         {
          "0": "Brooklyn",
          "1": " Williamsburg",
          "index": 7004
         },
         {
          "0": "Brooklyn",
          "1": " Midwood",
          "index": 7005
         },
         {
          "0": "Brooklyn",
          "1": " Bushwick",
          "index": 7006
         },
         {
          "0": "Manhattan",
          "1": " SoHo",
          "index": 7007
         },
         {
          "0": "Brooklyn",
          "1": " Carroll Gardens",
          "index": 7008
         },
         {
          "0": "Brooklyn",
          "1": " Crown Heights",
          "index": 7009
         },
         {
          "0": "Queens",
          "1": " Woodside",
          "index": 7010
         },
         {
          "0": "Queens",
          "1": " Astoria",
          "index": 7011
         },
         {
          "0": "Brooklyn",
          "1": " Bushwick",
          "index": 7012
         },
         {
          "0": "Brooklyn",
          "1": " Bedford-Stuyvesant",
          "index": 7013
         },
         {
          "0": "Manhattan",
          "1": " Upper West Side",
          "index": 7014
         },
         {
          "0": "Manhattan",
          "1": " Hell's Kitchen",
          "index": 7015
         },
         {
          "0": "Manhattan",
          "1": " West Village",
          "index": 7016
         },
         {
          "0": "Manhattan",
          "1": " Hell's Kitchen",
          "index": 7017
         },
         {
          "0": "Queens",
          "1": " Long Island City",
          "index": 7018
         },
         {
          "0": "Manhattan",
          "1": " Harlem",
          "index": 7019
         },
         {
          "0": "Bronx",
          "1": " Pelham Gardens",
          "index": 7020
         },
         {
          "0": "Queens",
          "1": " Woodside",
          "index": 7021
         },
         {
          "0": "Queens",
          "1": " Howard Beach",
          "index": 7022
         },
         {
          "0": "Brooklyn",
          "1": " East New York",
          "index": 7023
         },
         {
          "0": "Brooklyn",
          "1": " Kensington",
          "index": 7024
         },
         {
          "0": "Queens",
          "1": " Astoria",
          "index": 7025
         },
         {
          "0": "Brooklyn",
          "1": " Gravesend",
          "index": 7026
         },
         {
          "0": "Brooklyn",
          "1": " Bedford-Stuyvesant",
          "index": 7027
         },
         {
          "0": "Brooklyn",
          "1": " Clinton Hill",
          "index": 7028
         },
         {
          "0": "Manhattan",
          "1": " East Village",
          "index": 7029
         },
         {
          "0": "Manhattan",
          "1": " East Village",
          "index": 7030
         },
         {
          "0": "Brooklyn",
          "1": " Bedford-Stuyvesant",
          "index": 7031
         },
         {
          "0": "Brooklyn",
          "1": " Greenpoint",
          "index": 7032
         },
         {
          "0": "Manhattan",
          "1": " Tribeca",
          "index": 7033
         },
         {
          "0": "Brooklyn",
          "1": " Williamsburg",
          "index": 7034
         },
         {
          "0": "Brooklyn",
          "1": " Cobble Hill",
          "index": 7035
         },
         {
          "0": "Manhattan",
          "1": " Midtown",
          "index": 7036
         },
         {
          "0": "Manhattan",
          "1": " Lower East Side",
          "index": 7037
         },
         {
          "0": "Manhattan",
          "1": " Morningside Heights",
          "index": 7038
         },
         {
          "0": "Manhattan",
          "1": " Harlem",
          "index": 7039
         },
         {
          "0": "Manhattan",
          "1": " West Village",
          "index": 7040
         },
         {
          "0": "Manhattan",
          "1": " West Village",
          "index": 7041
         },
         {
          "0": "Bronx",
          "1": " Mott Haven",
          "index": 7042
         },
         {
          "0": "Staten Island",
          "1": " New Springville",
          "index": 7043
         },
         {
          "0": "Queens",
          "1": " Corona",
          "index": 7044
         },
         {
          "0": "Queens",
          "1": " Richmond Hill",
          "index": 7045
         },
         {
          "0": "Bronx",
          "1": " Wakefield",
          "index": 7046
         },
         {
          "0": "Manhattan",
          "1": " Inwood",
          "index": 7047
         },
         {
          "0": "Queens",
          "1": " Elmhurst",
          "index": 7048
         },
         {
          "0": "Queens",
          "1": " Ridgewood",
          "index": 7049
         },
         {
          "0": "Bronx",
          "1": " Hunts Point",
          "index": 7050
         },
         {
          "0": "Manhattan",
          "1": " Greenwich Village",
          "index": 7051
         },
         {
          "0": "Bronx",
          "1": " Highbridge",
          "index": 7052
         },
         {
          "0": "Manhattan",
          "1": " Theater District",
          "index": 7053
         },
         {
          "0": "Brooklyn",
          "1": " Williamsburg",
          "index": 7054
         },
         {
          "0": "Manhattan",
          "1": " Harlem",
          "index": 7055
         },
         {
          "0": "Queens",
          "1": " East Elmhurst",
          "index": 7056
         },
         {
          "0": "Queens",
          "1": " Ditmars Steinway",
          "index": 7057
         },
         {
          "0": "Queens",
          "1": " Cambria Heights",
          "index": 7058
         },
         {
          "0": "Manhattan",
          "1": " Harlem",
          "index": 7059
         },
         {
          "0": "Brooklyn",
          "1": " East Flatbush",
          "index": 7060
         },
         {
          "0": "Manhattan",
          "1": " East Harlem",
          "index": 7061
         },
         {
          "0": "Manhattan",
          "1": " Lower East Side",
          "index": 7062
         },
         {
          "0": "Manhattan",
          "1": " Chelsea",
          "index": 7063
         },
         {
          "0": "Manhattan",
          "1": " Financial District",
          "index": 7064
         },
         {
          "0": "Manhattan",
          "1": " Kips Bay",
          "index": 7065
         },
         {
          "0": "Brooklyn",
          "1": " Prospect-Lefferts Gardens",
          "index": 7066
         },
         {
          "0": "Manhattan",
          "1": " East Harlem",
          "index": 7067
         },
         {
          "0": "Brooklyn",
          "1": " Crown Heights",
          "index": 7068
         },
         {
          "0": "Queens",
          "1": " Fresh Meadows",
          "index": 7069
         },
         {
          "0": "Manhattan",
          "1": " Marble Hill",
          "index": 7070
         },
         {
          "0": "Brooklyn",
          "1": " Williamsburg",
          "index": 7071
         },
         {
          "0": "Manhattan",
          "1": " East Village",
          "index": 7072
         },
         {
          "0": "Brooklyn",
          "1": " Williamsburg",
          "index": 7073
         },
         {
          "0": "Queens",
          "1": " Astoria",
          "index": 7074
         },
         {
          "0": "Brooklyn",
          "1": " Bushwick",
          "index": 7075
         },
         {
          "0": "Brooklyn",
          "1": " East Flatbush",
          "index": 7076
         },
         {
          "0": "Brooklyn",
          "1": " Williamsburg",
          "index": 7077
         },
         {
          "0": "Manhattan",
          "1": " Kips Bay",
          "index": 7078
         },
         {
          "0": "Manhattan",
          "1": " West Village",
          "index": 7079
         },
         {
          "0": "Brooklyn",
          "1": " Bedford-Stuyvesant",
          "index": 7080
         },
         {
          "0": "Brooklyn",
          "1": " Williamsburg",
          "index": 7081
         },
         {
          "0": "Manhattan",
          "1": " Chelsea",
          "index": 7082
         },
         {
          "0": "Brooklyn",
          "1": " Clinton Hill",
          "index": 7083
         },
         {
          "0": "Brooklyn",
          "1": " Williamsburg",
          "index": 7084
         },
         {
          "0": "Queens",
          "1": " Flushing",
          "index": 7085
         },
         {
          "0": "Brooklyn",
          "1": " Bushwick",
          "index": 7086
         },
         {
          "0": "Brooklyn",
          "1": " Prospect-Lefferts Gardens",
          "index": 7087
         },
         {
          "0": "Brooklyn",
          "1": " Park Slope",
          "index": 7088
         },
         {
          "0": "Manhattan",
          "1": " Upper East Side",
          "index": 7089
         },
         {
          "0": "Brooklyn",
          "1": " Park Slope",
          "index": 7090
         },
         {
          "0": "Brooklyn",
          "1": " Bedford-Stuyvesant",
          "index": 7091
         },
         {
          "0": "Brooklyn",
          "1": " Kensington",
          "index": 7092
         },
         {
          "0": "Manhattan",
          "1": " Nolita",
          "index": 7093
         },
         {
          "0": "Brooklyn",
          "1": " Greenpoint",
          "index": 7094
         },
         {
          "0": "Brooklyn",
          "1": " Park Slope",
          "index": 7095
         },
         {
          "0": "Brooklyn",
          "1": " Clinton Hill",
          "index": 7096
         },
         {
          "0": "Manhattan",
          "1": " Harlem",
          "index": 7097
         },
         {
          "0": "Brooklyn",
          "1": " Bedford-Stuyvesant",
          "index": 7098
         },
         {
          "0": "Queens",
          "1": " Ditmars Steinway",
          "index": 7099
         },
         {
          "0": "Brooklyn",
          "1": " Cypress Hills",
          "index": 7100
         },
         {
          "0": "Queens",
          "1": " East Elmhurst",
          "index": 7101
         },
         {
          "0": "Manhattan",
          "1": " Washington Heights",
          "index": 7102
         },
         {
          "0": "Brooklyn",
          "1": " Fort Greene",
          "index": 7103
         },
         {
          "0": "Brooklyn",
          "1": " Crown Heights",
          "index": 7104
         },
         {
          "0": "Brooklyn",
          "1": " Greenpoint",
          "index": 7105
         },
         {
          "0": "Brooklyn",
          "1": " Williamsburg",
          "index": 7106
         },
         {
          "0": "Queens",
          "1": " Astoria",
          "index": 7107
         },
         {
          "0": "Manhattan",
          "1": " Kips Bay",
          "index": 7108
         },
         {
          "0": "Brooklyn",
          "1": " Fort Greene",
          "index": 7109
         },
         {
          "0": "Manhattan",
          "1": " Harlem",
          "index": 7110
         },
         {
          "0": "Manhattan",
          "1": " Midtown",
          "index": 7111
         },
         {
          "0": "Brooklyn",
          "1": " Canarsie",
          "index": 7112
         },
         {
          "0": "Brooklyn",
          "1": " Flatbush",
          "index": 7113
         },
         {
          "0": "Manhattan",
          "1": " Hell's Kitchen",
          "index": 7114
         },
         {
          "0": "Brooklyn",
          "1": " Gravesend",
          "index": 7115
         },
         {
          "0": "Brooklyn",
          "1": " Greenpoint",
          "index": 7116
         },
         {
          "0": "Manhattan",
          "1": " Financial District",
          "index": 7117
         },
         {
          "0": "Brooklyn",
          "1": " Bedford-Stuyvesant",
          "index": 7118
         },
         {
          "0": "Manhattan",
          "1": " Harlem",
          "index": 7119
         },
         {
          "0": "Manhattan",
          "1": " SoHo",
          "index": 7120
         },
         {
          "0": "Brooklyn",
          "1": " Bushwick",
          "index": 7121
         },
         {
          "0": "Brooklyn",
          "1": " Crown Heights",
          "index": 7122
         },
         {
          "0": "Manhattan",
          "1": " Harlem",
          "index": 7123
         },
         {
          "0": "Brooklyn",
          "1": " Bushwick",
          "index": 7124
         },
         {
          "0": "Manhattan",
          "1": " East Village",
          "index": 7125
         },
         {
          "0": "Brooklyn",
          "1": " Bedford-Stuyvesant",
          "index": 7126
         },
         {
          "0": "Brooklyn",
          "1": " Williamsburg",
          "index": 7127
         },
         {
          "0": "Queens",
          "1": " Ridgewood",
          "index": 7128
         },
         {
          "0": "Brooklyn",
          "1": " Bushwick",
          "index": 7129
         },
         {
          "0": "Manhattan",
          "1": " Midtown",
          "index": 7130
         },
         {
          "0": "Manhattan",
          "1": " Upper West Side",
          "index": 7131
         },
         {
          "0": "Manhattan",
          "1": " East Harlem",
          "index": 7132
         },
         {
          "0": "Manhattan",
          "1": " Hell's Kitchen",
          "index": 7133
         },
         {
          "0": "Queens",
          "1": " Sunnyside",
          "index": 7134
         },
         {
          "0": "Brooklyn",
          "1": " Prospect Heights",
          "index": 7135
         },
         {
          "0": "Manhattan",
          "1": " Harlem",
          "index": 7136
         },
         {
          "0": "Brooklyn",
          "1": " Williamsburg",
          "index": 7137
         },
         {
          "0": "Brooklyn",
          "1": " Williamsburg",
          "index": 7138
         },
         {
          "0": "Manhattan",
          "1": " East Village",
          "index": 7139
         },
         {
          "0": "Queens",
          "1": " Astoria",
          "index": 7140
         },
         {
          "0": "Queens",
          "1": " Elmhurst",
          "index": 7141
         },
         {
          "0": "Manhattan",
          "1": " Financial District",
          "index": 7142
         },
         {
          "0": "Queens",
          "1": " Astoria",
          "index": 7143
         },
         {
          "0": "Brooklyn",
          "1": " Bushwick",
          "index": 7144
         },
         {
          "0": "Brooklyn",
          "1": " Bedford-Stuyvesant",
          "index": 7145
         },
         {
          "0": "Brooklyn",
          "1": " Cobble Hill",
          "index": 7146
         },
         {
          "0": "Brooklyn",
          "1": " Bushwick",
          "index": 7147
         },
         {
          "0": "Queens",
          "1": " Sunnyside",
          "index": 7148
         },
         {
          "0": "Manhattan",
          "1": " West Village",
          "index": 7149
         },
         {
          "0": "Brooklyn",
          "1": " Williamsburg",
          "index": 7150
         },
         {
          "0": "Manhattan",
          "1": " Upper West Side",
          "index": 7151
         },
         {
          "0": "Brooklyn",
          "1": " Flatbush",
          "index": 7152
         },
         {
          "0": "Manhattan",
          "1": " Harlem",
          "index": 7153
         },
         {
          "0": "Manhattan",
          "1": " Upper West Side",
          "index": 7154
         },
         {
          "0": "Manhattan",
          "1": " Midtown",
          "index": 7155
         },
         {
          "0": "Brooklyn",
          "1": " Bushwick",
          "index": 7156
         },
         {
          "0": "Brooklyn",
          "1": " Fort Greene",
          "index": 7157
         },
         {
          "0": "Brooklyn",
          "1": " Prospect-Lefferts Gardens",
          "index": 7158
         },
         {
          "0": "Brooklyn",
          "1": " Canarsie",
          "index": 7159
         },
         {
          "0": "Queens",
          "1": " Long Island City",
          "index": 7160
         },
         {
          "0": "Brooklyn",
          "1": " Prospect-Lefferts Gardens",
          "index": 7161
         },
         {
          "0": "Queens",
          "1": " Ridgewood",
          "index": 7162
         },
         {
          "0": "Manhattan",
          "1": " Hell's Kitchen",
          "index": 7163
         },
         {
          "0": "Brooklyn",
          "1": " Fort Greene",
          "index": 7164
         },
         {
          "0": "Brooklyn",
          "1": " Bushwick",
          "index": 7165
         },
         {
          "0": "Manhattan",
          "1": " East Village",
          "index": 7166
         },
         {
          "0": "Brooklyn",
          "1": " South Slope",
          "index": 7167
         },
         {
          "0": "Manhattan",
          "1": " Nolita",
          "index": 7168
         },
         {
          "0": "Manhattan",
          "1": " Greenwich Village",
          "index": 7169
         },
         {
          "0": "Manhattan",
          "1": " Washington Heights",
          "index": 7170
         },
         {
          "0": "Manhattan",
          "1": " Harlem",
          "index": 7171
         },
         {
          "0": "Brooklyn",
          "1": " Bushwick",
          "index": 7172
         },
         {
          "0": "Manhattan",
          "1": " Lower East Side",
          "index": 7173
         },
         {
          "0": "Bronx",
          "1": " Mount Hope",
          "index": 7174
         },
         {
          "0": "Manhattan",
          "1": " Midtown",
          "index": 7175
         },
         {
          "0": "Manhattan",
          "1": " Upper West Side",
          "index": 7176
         },
         {
          "0": "Brooklyn",
          "1": " Crown Heights",
          "index": 7177
         },
         {
          "0": "Brooklyn",
          "1": " Bedford-Stuyvesant",
          "index": 7178
         },
         {
          "0": "Brooklyn",
          "1": " Bushwick",
          "index": 7179
         },
         {
          "0": "Brooklyn",
          "1": " Sunset Park",
          "index": 7180
         },
         {
          "0": "Manhattan",
          "1": " Hell's Kitchen",
          "index": 7181
         },
         {
          "0": "Manhattan",
          "1": " East Village",
          "index": 7182
         },
         {
          "0": "Manhattan",
          "1": " Financial District",
          "index": 7183
         },
         {
          "0": "Brooklyn",
          "1": " Carroll Gardens",
          "index": 7184
         },
         {
          "0": "Brooklyn",
          "1": " Bushwick",
          "index": 7185
         },
         {
          "0": "Bronx",
          "1": " Highbridge",
          "index": 7186
         },
         {
          "0": "Brooklyn",
          "1": " Crown Heights",
          "index": 7187
         },
         {
          "0": "Queens",
          "1": " Elmhurst",
          "index": 7188
         },
         {
          "0": "Brooklyn",
          "1": " Borough Park",
          "index": 7189
         },
         {
          "0": "Brooklyn",
          "1": " Bedford-Stuyvesant",
          "index": 7190
         },
         {
          "0": "Brooklyn",
          "1": " Greenpoint",
          "index": 7191
         },
         {
          "0": "Brooklyn",
          "1": " Williamsburg",
          "index": 7192
         },
         {
          "0": "Manhattan",
          "1": " Financial District",
          "index": 7193
         },
         {
          "0": "Manhattan",
          "1": " Chelsea",
          "index": 7194
         },
         {
          "0": "Brooklyn",
          "1": " Williamsburg",
          "index": 7195
         },
         {
          "0": "Manhattan",
          "1": " Upper East Side",
          "index": 7196
         },
         {
          "0": "Manhattan",
          "1": " Midtown",
          "index": 7197
         },
         {
          "0": "Manhattan",
          "1": " Upper West Side",
          "index": 7198
         },
         {
          "0": "Queens",
          "1": " Ridgewood",
          "index": 7199
         },
         {
          "0": "Brooklyn",
          "1": " Williamsburg",
          "index": 7200
         },
         {
          "0": "Manhattan",
          "1": " Little Italy",
          "index": 7201
         },
         {
          "0": "Brooklyn",
          "1": " Borough Park",
          "index": 7202
         },
         {
          "0": "Brooklyn",
          "1": " Park Slope",
          "index": 7203
         },
         {
          "0": "Manhattan",
          "1": " Harlem",
          "index": 7204
         },
         {
          "0": "Manhattan",
          "1": " West Village",
          "index": 7205
         },
         {
          "0": "Manhattan",
          "1": " Midtown",
          "index": 7206
         },
         {
          "0": "Manhattan",
          "1": " Harlem",
          "index": 7207
         },
         {
          "0": "Manhattan",
          "1": " Hell's Kitchen",
          "index": 7208
         },
         {
          "0": "Manhattan",
          "1": " Upper West Side",
          "index": 7209
         },
         {
          "0": "Manhattan",
          "1": " Upper East Side",
          "index": 7210
         },
         {
          "0": "Manhattan",
          "1": " Gramercy",
          "index": 7211
         },
         {
          "0": "Brooklyn",
          "1": " Crown Heights",
          "index": 7212
         },
         {
          "0": "Brooklyn",
          "1": " Williamsburg",
          "index": 7213
         },
         {
          "0": "Manhattan",
          "1": " Hell's Kitchen",
          "index": 7214
         },
         {
          "0": "Brooklyn",
          "1": " Sunset Park",
          "index": 7215
         },
         {
          "0": "Queens",
          "1": " East Elmhurst",
          "index": 7216
         },
         {
          "0": "Brooklyn",
          "1": " Bedford-Stuyvesant",
          "index": 7217
         },
         {
          "0": "Brooklyn",
          "1": " Bedford-Stuyvesant",
          "index": 7218
         },
         {
          "0": "Bronx",
          "1": " Highbridge",
          "index": 7219
         },
         {
          "0": "Manhattan",
          "1": " Upper West Side",
          "index": 7220
         },
         {
          "0": "Manhattan",
          "1": " East Harlem",
          "index": 7221
         },
         {
          "0": "Brooklyn",
          "1": " Sheepshead Bay",
          "index": 7222
         },
         {
          "0": "Manhattan",
          "1": " Harlem",
          "index": 7223
         },
         {
          "0": "Manhattan",
          "1": " Upper West Side",
          "index": 7224
         },
         {
          "0": "Manhattan",
          "1": " Gramercy",
          "index": 7225
         },
         {
          "0": "Brooklyn",
          "1": " East Flatbush",
          "index": 7226
         },
         {
          "0": "Manhattan",
          "1": " Washington Heights",
          "index": 7227
         },
         {
          "0": "Brooklyn",
          "1": " Greenpoint",
          "index": 7228
         },
         {
          "0": "Queens",
          "1": " St. Albans",
          "index": 7229
         },
         {
          "0": "Queens",
          "1": " East Elmhurst",
          "index": 7230
         },
         {
          "0": "Brooklyn",
          "1": " Fort Greene",
          "index": 7231
         },
         {
          "0": "Bronx",
          "1": " Kingsbridge",
          "index": 7232
         },
         {
          "0": "Queens",
          "1": " Ridgewood",
          "index": 7233
         },
         {
          "0": "Manhattan",
          "1": " Upper East Side",
          "index": 7234
         },
         {
          "0": "Manhattan",
          "1": " Chelsea",
          "index": 7235
         },
         {
          "0": "Manhattan",
          "1": " Chelsea",
          "index": 7236
         },
         {
          "0": "Manhattan",
          "1": " Financial District",
          "index": 7237
         },
         {
          "0": "Brooklyn",
          "1": " Flatbush",
          "index": 7238
         },
         {
          "0": "Manhattan",
          "1": " Kips Bay",
          "index": 7239
         },
         {
          "0": "Brooklyn",
          "1": " Williamsburg",
          "index": 7240
         },
         {
          "0": "Manhattan",
          "1": " Hell's Kitchen",
          "index": 7241
         },
         {
          "0": "Manhattan",
          "1": " West Village",
          "index": 7242
         },
         {
          "0": "Manhattan",
          "1": " East Village",
          "index": 7243
         },
         {
          "0": "Manhattan",
          "1": " Harlem",
          "index": 7244
         },
         {
          "0": "Manhattan",
          "1": " Hell's Kitchen",
          "index": 7245
         },
         {
          "0": "Brooklyn",
          "1": " Flatbush",
          "index": 7246
         },
         {
          "0": "Manhattan",
          "1": " Harlem",
          "index": 7247
         },
         {
          "0": "Brooklyn",
          "1": " Williamsburg",
          "index": 7248
         },
         {
          "0": "Manhattan",
          "1": " East Village",
          "index": 7249
         },
         {
          "0": "Manhattan",
          "1": " Midtown",
          "index": 7250
         },
         {
          "0": "Brooklyn",
          "1": " Midwood",
          "index": 7251
         },
         {
          "0": "Manhattan",
          "1": " East Harlem",
          "index": 7252
         },
         {
          "0": "Brooklyn",
          "1": " Williamsburg",
          "index": 7253
         },
         {
          "0": "Brooklyn",
          "1": " Williamsburg",
          "index": 7254
         },
         {
          "0": "Brooklyn",
          "1": " Bedford-Stuyvesant",
          "index": 7255
         },
         {
          "0": "Manhattan",
          "1": " Hell's Kitchen",
          "index": 7256
         },
         {
          "0": "Brooklyn",
          "1": " Prospect Heights",
          "index": 7257
         },
         {
          "0": "Manhattan",
          "1": " East Harlem",
          "index": 7258
         },
         {
          "0": "Manhattan",
          "1": " Midtown",
          "index": 7259
         },
         {
          "0": "Brooklyn",
          "1": " Sunset Park",
          "index": 7260
         },
         {
          "0": "Manhattan",
          "1": " Upper West Side",
          "index": 7261
         },
         {
          "0": "Brooklyn",
          "1": " Bedford-Stuyvesant",
          "index": 7262
         },
         {
          "0": "Manhattan",
          "1": " Theater District",
          "index": 7263
         },
         {
          "0": "Manhattan",
          "1": " Lower East Side",
          "index": 7264
         },
         {
          "0": "Manhattan",
          "1": " West Village",
          "index": 7265
         },
         {
          "0": "Brooklyn",
          "1": " Williamsburg",
          "index": 7266
         },
         {
          "0": "Brooklyn",
          "1": " Williamsburg",
          "index": 7267
         },
         {
          "0": "Manhattan",
          "1": " East Harlem",
          "index": 7268
         },
         {
          "0": "Brooklyn",
          "1": " Bushwick",
          "index": 7269
         },
         {
          "0": "Manhattan",
          "1": " Midtown",
          "index": 7270
         },
         {
          "0": "Brooklyn",
          "1": " Bushwick",
          "index": 7271
         },
         {
          "0": "Brooklyn",
          "1": " Bedford-Stuyvesant",
          "index": 7272
         },
         {
          "0": "Brooklyn",
          "1": " Bedford-Stuyvesant",
          "index": 7273
         },
         {
          "0": "Brooklyn",
          "1": " Greenpoint",
          "index": 7274
         },
         {
          "0": "Manhattan",
          "1": " Midtown",
          "index": 7275
         },
         {
          "0": "Brooklyn",
          "1": " Flatbush",
          "index": 7276
         },
         {
          "0": "Brooklyn",
          "1": " Flatlands",
          "index": 7277
         },
         {
          "0": "Brooklyn",
          "1": " Bedford-Stuyvesant",
          "index": 7278
         },
         {
          "0": "Manhattan",
          "1": " Washington Heights",
          "index": 7279
         },
         {
          "0": "Manhattan",
          "1": " Harlem",
          "index": 7280
         },
         {
          "0": "Manhattan",
          "1": " Lower East Side",
          "index": 7281
         },
         {
          "0": "Manhattan",
          "1": " Hell's Kitchen",
          "index": 7282
         },
         {
          "0": "Manhattan",
          "1": " Hell's Kitchen",
          "index": 7283
         },
         {
          "0": "Manhattan",
          "1": " Financial District",
          "index": 7284
         },
         {
          "0": "Brooklyn",
          "1": " Greenpoint",
          "index": 7285
         },
         {
          "0": "Brooklyn",
          "1": " Clinton Hill",
          "index": 7286
         },
         {
          "0": "Queens",
          "1": " Jamaica",
          "index": 7287
         },
         {
          "0": "Manhattan",
          "1": " Upper East Side",
          "index": 7288
         },
         {
          "0": "Brooklyn",
          "1": " Williamsburg",
          "index": 7289
         },
         {
          "0": "Queens",
          "1": " Sunnyside",
          "index": 7290
         },
         {
          "0": "Brooklyn",
          "1": " Greenpoint",
          "index": 7291
         },
         {
          "0": "Brooklyn",
          "1": " Fort Greene",
          "index": 7292
         },
         {
          "0": "Brooklyn",
          "1": " Williamsburg",
          "index": 7293
         },
         {
          "0": "Manhattan",
          "1": " Financial District",
          "index": 7294
         },
         {
          "0": "Manhattan",
          "1": " Upper West Side",
          "index": 7295
         },
         {
          "0": "Manhattan",
          "1": " Washington Heights",
          "index": 7296
         },
         {
          "0": "Manhattan",
          "1": " Civic Center",
          "index": 7297
         },
         {
          "0": "Manhattan",
          "1": " East Village",
          "index": 7298
         },
         {
          "0": "Manhattan",
          "1": " Theater District",
          "index": 7299
         },
         {
          "0": "Brooklyn",
          "1": " Brownsville",
          "index": 7300
         },
         {
          "0": "Manhattan",
          "1": " East Harlem",
          "index": 7301
         },
         {
          "0": "Brooklyn",
          "1": " Williamsburg",
          "index": 7302
         },
         {
          "0": "Queens",
          "1": " Ridgewood",
          "index": 7303
         },
         {
          "0": "Manhattan",
          "1": " West Village",
          "index": 7304
         },
         {
          "0": "Bronx",
          "1": " Belmont",
          "index": 7305
         },
         {
          "0": "Brooklyn",
          "1": " Crown Heights",
          "index": 7306
         },
         {
          "0": "Manhattan",
          "1": " Washington Heights",
          "index": 7307
         },
         {
          "0": "Manhattan",
          "1": " Lower East Side",
          "index": 7308
         },
         {
          "0": "Brooklyn",
          "1": " Bedford-Stuyvesant",
          "index": 7309
         },
         {
          "0": "Manhattan",
          "1": " Hell's Kitchen",
          "index": 7310
         },
         {
          "0": "Manhattan",
          "1": " Morningside Heights",
          "index": 7311
         },
         {
          "0": "Manhattan",
          "1": " Upper East Side",
          "index": 7312
         },
         {
          "0": "Manhattan",
          "1": " Chelsea",
          "index": 7313
         },
         {
          "0": "Brooklyn",
          "1": " Bedford-Stuyvesant",
          "index": 7314
         },
         {
          "0": "Manhattan",
          "1": " Lower East Side",
          "index": 7315
         },
         {
          "0": "Manhattan",
          "1": " Morningside Heights",
          "index": 7316
         },
         {
          "0": "Manhattan",
          "1": " Upper West Side",
          "index": 7317
         },
         {
          "0": "Queens",
          "1": " Astoria",
          "index": 7318
         },
         {
          "0": "Brooklyn",
          "1": " Bedford-Stuyvesant",
          "index": 7319
         },
         {
          "0": "Brooklyn",
          "1": " Bushwick",
          "index": 7320
         },
         {
          "0": "Brooklyn",
          "1": " Fort Greene",
          "index": 7321
         },
         {
          "0": "Brooklyn",
          "1": " Brownsville",
          "index": 7322
         },
         {
          "0": "Manhattan",
          "1": " Midtown",
          "index": 7323
         },
         {
          "0": "Manhattan",
          "1": " Hell's Kitchen",
          "index": 7324
         },
         {
          "0": "Brooklyn",
          "1": " Greenpoint",
          "index": 7325
         },
         {
          "0": "Brooklyn",
          "1": " Flatbush",
          "index": 7326
         },
         {
          "0": "Manhattan",
          "1": " Harlem",
          "index": 7327
         },
         {
          "0": "Brooklyn",
          "1": " Bedford-Stuyvesant",
          "index": 7328
         },
         {
          "0": "Brooklyn",
          "1": " Williamsburg",
          "index": 7329
         },
         {
          "0": "Brooklyn",
          "1": " Borough Park",
          "index": 7330
         },
         {
          "0": "Manhattan",
          "1": " Harlem",
          "index": 7331
         },
         {
          "0": "Brooklyn",
          "1": " Park Slope",
          "index": 7332
         },
         {
          "0": "Manhattan",
          "1": " West Village",
          "index": 7333
         },
         {
          "0": "Brooklyn",
          "1": " East Flatbush",
          "index": 7334
         },
         {
          "0": "Brooklyn",
          "1": " Red Hook",
          "index": 7335
         },
         {
          "0": "Manhattan",
          "1": " Upper East Side",
          "index": 7336
         },
         {
          "0": "Brooklyn",
          "1": " Sunset Park",
          "index": 7337
         },
         {
          "0": "Manhattan",
          "1": " Upper East Side",
          "index": 7338
         },
         {
          "0": "Queens",
          "1": " Elmhurst",
          "index": 7339
         },
         {
          "0": "Brooklyn",
          "1": " Williamsburg",
          "index": 7340
         },
         {
          "0": "Manhattan",
          "1": " Lower East Side",
          "index": 7341
         },
         {
          "0": "Brooklyn",
          "1": " Bedford-Stuyvesant",
          "index": 7342
         },
         {
          "0": "Manhattan",
          "1": " Chinatown",
          "index": 7343
         },
         {
          "0": "Manhattan",
          "1": " Upper West Side",
          "index": 7344
         },
         {
          "0": "Manhattan",
          "1": " East Village",
          "index": 7345
         },
         {
          "0": "Manhattan",
          "1": " Midtown",
          "index": 7346
         },
         {
          "0": "Manhattan",
          "1": " Midtown",
          "index": 7347
         },
         {
          "0": "Bronx",
          "1": " Fordham",
          "index": 7348
         },
         {
          "0": "Manhattan",
          "1": " East Village",
          "index": 7349
         },
         {
          "0": "Manhattan",
          "1": " Harlem",
          "index": 7350
         },
         {
          "0": "Manhattan",
          "1": " Hell's Kitchen",
          "index": 7351
         },
         {
          "0": "Manhattan",
          "1": " Morningside Heights",
          "index": 7352
         },
         {
          "0": "Manhattan",
          "1": " East Village",
          "index": 7353
         },
         {
          "0": "Brooklyn",
          "1": " Bushwick",
          "index": 7354
         },
         {
          "0": "Manhattan",
          "1": " East Harlem",
          "index": 7355
         },
         {
          "0": "Brooklyn",
          "1": " Park Slope",
          "index": 7356
         },
         {
          "0": "Manhattan",
          "1": " Upper West Side",
          "index": 7357
         },
         {
          "0": "Brooklyn",
          "1": " Flatbush",
          "index": 7358
         },
         {
          "0": "Manhattan",
          "1": " Hell's Kitchen",
          "index": 7359
         },
         {
          "0": "Manhattan",
          "1": " Midtown",
          "index": 7360
         },
         {
          "0": "Brooklyn",
          "1": " Park Slope",
          "index": 7361
         },
         {
          "0": "Brooklyn",
          "1": " Williamsburg",
          "index": 7362
         },
         {
          "0": "Manhattan",
          "1": " Midtown",
          "index": 7363
         },
         {
          "0": "Manhattan",
          "1": " Greenwich Village",
          "index": 7364
         },
         {
          "0": "Manhattan",
          "1": " SoHo",
          "index": 7365
         },
         {
          "0": "Manhattan",
          "1": " Upper West Side",
          "index": 7366
         },
         {
          "0": "Manhattan",
          "1": " East Harlem",
          "index": 7367
         },
         {
          "0": "Brooklyn",
          "1": " Prospect-Lefferts Gardens",
          "index": 7368
         },
         {
          "0": "Brooklyn",
          "1": " Williamsburg",
          "index": 7369
         },
         {
          "0": "Manhattan",
          "1": " Upper West Side",
          "index": 7370
         },
         {
          "0": "Brooklyn",
          "1": " Williamsburg",
          "index": 7371
         },
         {
          "0": "Manhattan",
          "1": " Roosevelt Island",
          "index": 7372
         },
         {
          "0": "Brooklyn",
          "1": " East Flatbush",
          "index": 7373
         },
         {
          "0": "Manhattan",
          "1": " Harlem",
          "index": 7374
         },
         {
          "0": "Queens",
          "1": " Woodhaven",
          "index": 7375
         },
         {
          "0": "Queens",
          "1": " Astoria",
          "index": 7376
         },
         {
          "0": "Brooklyn",
          "1": " Prospect Heights",
          "index": 7377
         },
         {
          "0": "Manhattan",
          "1": " Upper East Side",
          "index": 7378
         },
         {
          "0": "Manhattan",
          "1": " East Harlem",
          "index": 7379
         },
         {
          "0": "Manhattan",
          "1": " Washington Heights",
          "index": 7380
         },
         {
          "0": "Manhattan",
          "1": " Upper West Side",
          "index": 7381
         },
         {
          "0": "Brooklyn",
          "1": " Brownsville",
          "index": 7382
         },
         {
          "0": "Manhattan",
          "1": " Inwood",
          "index": 7383
         },
         {
          "0": "Brooklyn",
          "1": " Crown Heights",
          "index": 7384
         },
         {
          "0": "Manhattan",
          "1": " Flatiron District",
          "index": 7385
         },
         {
          "0": "Brooklyn",
          "1": " Bushwick",
          "index": 7386
         },
         {
          "0": "Brooklyn",
          "1": " East Flatbush",
          "index": 7387
         },
         {
          "0": "Queens",
          "1": " Long Island City",
          "index": 7388
         },
         {
          "0": "Brooklyn",
          "1": " Fort Greene",
          "index": 7389
         },
         {
          "0": "Manhattan",
          "1": " Little Italy",
          "index": 7390
         },
         {
          "0": "Queens",
          "1": " Woodside",
          "index": 7391
         },
         {
          "0": "Brooklyn",
          "1": " Bedford-Stuyvesant",
          "index": 7392
         },
         {
          "0": "Manhattan",
          "1": " Greenwich Village",
          "index": 7393
         },
         {
          "0": "Manhattan",
          "1": " Kips Bay",
          "index": 7394
         },
         {
          "0": "Manhattan",
          "1": " East Harlem",
          "index": 7395
         },
         {
          "0": "Manhattan",
          "1": " Gramercy",
          "index": 7396
         },
         {
          "0": "Manhattan",
          "1": " Upper West Side",
          "index": 7397
         },
         {
          "0": "Brooklyn",
          "1": " Williamsburg",
          "index": 7398
         },
         {
          "0": "Manhattan",
          "1": " Kips Bay",
          "index": 7399
         },
         {
          "0": "Brooklyn",
          "1": " Bedford-Stuyvesant",
          "index": 7400
         },
         {
          "0": "Manhattan",
          "1": " Lower East Side",
          "index": 7401
         },
         {
          "0": "Manhattan",
          "1": " Roosevelt Island",
          "index": 7402
         },
         {
          "0": "Queens",
          "1": " Woodside",
          "index": 7403
         },
         {
          "0": "Manhattan",
          "1": " East Village",
          "index": 7404
         },
         {
          "0": "Manhattan",
          "1": " Theater District",
          "index": 7405
         },
         {
          "0": "Manhattan",
          "1": " Upper West Side",
          "index": 7406
         },
         {
          "0": "Manhattan",
          "1": " Midtown",
          "index": 7407
         },
         {
          "0": "Manhattan",
          "1": " Chinatown",
          "index": 7408
         },
         {
          "0": "Manhattan",
          "1": " East Harlem",
          "index": 7409
         },
         {
          "0": "Manhattan",
          "1": " East Village",
          "index": 7410
         },
         {
          "0": "Brooklyn",
          "1": " Bushwick",
          "index": 7411
         },
         {
          "0": "Brooklyn",
          "1": " Park Slope",
          "index": 7412
         },
         {
          "0": "Manhattan",
          "1": " Hell's Kitchen",
          "index": 7413
         },
         {
          "0": "Brooklyn",
          "1": " East Flatbush",
          "index": 7414
         },
         {
          "0": "Brooklyn",
          "1": " Bedford-Stuyvesant",
          "index": 7415
         },
         {
          "0": "Manhattan",
          "1": " Upper West Side",
          "index": 7416
         },
         {
          "0": "Manhattan",
          "1": " Harlem",
          "index": 7417
         },
         {
          "0": "Bronx",
          "1": " Fieldston",
          "index": 7418
         },
         {
          "0": "Brooklyn",
          "1": " Bedford-Stuyvesant",
          "index": 7419
         },
         {
          "0": "Manhattan",
          "1": " Greenwich Village",
          "index": 7420
         },
         {
          "0": "Manhattan",
          "1": " East Village",
          "index": 7421
         },
         {
          "0": "Manhattan",
          "1": " Upper East Side",
          "index": 7422
         },
         {
          "0": "Brooklyn",
          "1": " East New York",
          "index": 7423
         },
         {
          "0": "Brooklyn",
          "1": " Bay Ridge",
          "index": 7424
         },
         {
          "0": "Brooklyn",
          "1": " Bushwick",
          "index": 7425
         },
         {
          "0": "Manhattan",
          "1": " Harlem",
          "index": 7426
         },
         {
          "0": "Brooklyn",
          "1": " Bushwick",
          "index": 7427
         },
         {
          "0": "Brooklyn",
          "1": " Greenpoint",
          "index": 7428
         },
         {
          "0": "Manhattan",
          "1": " Upper East Side",
          "index": 7429
         },
         {
          "0": "Manhattan",
          "1": " Midtown",
          "index": 7430
         },
         {
          "0": "Brooklyn",
          "1": " Fort Greene",
          "index": 7431
         },
         {
          "0": "Manhattan",
          "1": " East Village",
          "index": 7432
         },
         {
          "0": "Manhattan",
          "1": " Chelsea",
          "index": 7433
         },
         {
          "0": "Manhattan",
          "1": " Midtown",
          "index": 7434
         },
         {
          "0": "Manhattan",
          "1": " Harlem",
          "index": 7435
         },
         {
          "0": "Manhattan",
          "1": " Chinatown",
          "index": 7436
         },
         {
          "0": "Bronx",
          "1": " Bronxdale",
          "index": 7437
         },
         {
          "0": "Brooklyn",
          "1": " Clinton Hill",
          "index": 7438
         },
         {
          "0": "Manhattan",
          "1": " Upper West Side",
          "index": 7439
         },
         {
          "0": "Bronx",
          "1": " Melrose",
          "index": 7440
         },
         {
          "0": "Manhattan",
          "1": " Nolita",
          "index": 7441
         },
         {
          "0": "Manhattan",
          "1": " Harlem",
          "index": 7442
         },
         {
          "0": "Manhattan",
          "1": " Hell's Kitchen",
          "index": 7443
         },
         {
          "0": "Brooklyn",
          "1": " Bedford-Stuyvesant",
          "index": 7444
         },
         {
          "0": "Manhattan",
          "1": " Upper West Side",
          "index": 7445
         },
         {
          "0": "Brooklyn",
          "1": " East New York",
          "index": 7446
         },
         {
          "0": "Manhattan",
          "1": " Washington Heights",
          "index": 7447
         },
         {
          "0": "Staten Island",
          "1": " Stapleton",
          "index": 7448
         },
         {
          "0": "Brooklyn",
          "1": " Sheepshead Bay",
          "index": 7449
         },
         {
          "0": "Manhattan",
          "1": " Harlem",
          "index": 7450
         },
         {
          "0": "Manhattan",
          "1": " Upper East Side",
          "index": 7451
         },
         {
          "0": "Queens",
          "1": " Springfield Gardens",
          "index": 7452
         },
         {
          "0": "Brooklyn",
          "1": " Bedford-Stuyvesant",
          "index": 7453
         },
         {
          "0": "Manhattan",
          "1": " Midtown",
          "index": 7454
         },
         {
          "0": "Manhattan",
          "1": " East Village",
          "index": 7455
         },
         {
          "0": "Manhattan",
          "1": " Midtown",
          "index": 7456
         },
         {
          "0": "Queens",
          "1": " Long Island City",
          "index": 7457
         },
         {
          "0": "Bronx",
          "1": " Wakefield",
          "index": 7458
         },
         {
          "0": "Manhattan",
          "1": " Two Bridges",
          "index": 7459
         },
         {
          "0": "Manhattan",
          "1": " East Harlem",
          "index": 7460
         },
         {
          "0": "Manhattan",
          "1": " Hell's Kitchen",
          "index": 7461
         },
         {
          "0": "Brooklyn",
          "1": " Crown Heights",
          "index": 7462
         },
         {
          "0": "Queens",
          "1": " Astoria",
          "index": 7463
         },
         {
          "0": "Manhattan",
          "1": " Chelsea",
          "index": 7464
         },
         {
          "0": "Manhattan",
          "1": " SoHo",
          "index": 7465
         },
         {
          "0": "Manhattan",
          "1": " East Harlem",
          "index": 7466
         },
         {
          "0": "Manhattan",
          "1": " Murray Hill",
          "index": 7467
         },
         {
          "0": "Brooklyn",
          "1": " Sunset Park",
          "index": 7468
         },
         {
          "0": "Brooklyn",
          "1": " Bedford-Stuyvesant",
          "index": 7469
         },
         {
          "0": "Manhattan",
          "1": " East Village",
          "index": 7470
         },
         {
          "0": "Brooklyn",
          "1": " Bedford-Stuyvesant",
          "index": 7471
         },
         {
          "0": "Manhattan",
          "1": " Upper West Side",
          "index": 7472
         },
         {
          "0": "Manhattan",
          "1": " East Harlem",
          "index": 7473
         },
         {
          "0": "Manhattan",
          "1": " Upper West Side",
          "index": 7474
         },
         {
          "0": "Brooklyn",
          "1": " Williamsburg",
          "index": 7475
         },
         {
          "0": "Manhattan",
          "1": " Inwood",
          "index": 7476
         },
         {
          "0": "Brooklyn",
          "1": " Bedford-Stuyvesant",
          "index": 7477
         },
         {
          "0": "Brooklyn",
          "1": " Park Slope",
          "index": 7478
         },
         {
          "0": "Manhattan",
          "1": " Hell's Kitchen",
          "index": 7479
         },
         {
          "0": "Brooklyn",
          "1": " Bedford-Stuyvesant",
          "index": 7480
         },
         {
          "0": "Manhattan",
          "1": " Upper East Side",
          "index": 7481
         },
         {
          "0": "Brooklyn",
          "1": " Greenpoint",
          "index": 7482
         },
         {
          "0": "Manhattan",
          "1": " East Village",
          "index": 7483
         },
         {
          "0": "Manhattan",
          "1": " Greenwich Village",
          "index": 7484
         },
         {
          "0": "Brooklyn",
          "1": " Windsor Terrace",
          "index": 7485
         },
         {
          "0": "Brooklyn",
          "1": " Bedford-Stuyvesant",
          "index": 7486
         },
         {
          "0": "Brooklyn",
          "1": " Cypress Hills",
          "index": 7487
         },
         {
          "0": "Queens",
          "1": " Sunnyside",
          "index": 7488
         },
         {
          "0": "Manhattan",
          "1": " Harlem",
          "index": 7489
         },
         {
          "0": "Manhattan",
          "1": " Morningside Heights",
          "index": 7490
         },
         {
          "0": "Brooklyn",
          "1": " Park Slope",
          "index": 7491
         },
         {
          "0": "Brooklyn",
          "1": " Bedford-Stuyvesant",
          "index": 7492
         },
         {
          "0": "Bronx",
          "1": " Belmont",
          "index": 7493
         },
         {
          "0": "Queens",
          "1": " Long Island City",
          "index": 7494
         },
         {
          "0": "Brooklyn",
          "1": " Williamsburg",
          "index": 7495
         },
         {
          "0": "Manhattan",
          "1": " Hell's Kitchen",
          "index": 7496
         },
         {
          "0": "Brooklyn",
          "1": " Flatbush",
          "index": 7497
         },
         {
          "0": "Brooklyn",
          "1": " Williamsburg",
          "index": 7498
         },
         {
          "0": "Manhattan",
          "1": " Murray Hill",
          "index": 7499
         },
         {
          "0": "Manhattan",
          "1": " Little Italy",
          "index": 7500
         },
         {
          "0": "Brooklyn",
          "1": " Fort Greene",
          "index": 7501
         },
         {
          "0": "Manhattan",
          "1": " Midtown",
          "index": 7502
         },
         {
          "0": "Queens",
          "1": " Astoria",
          "index": 7503
         },
         {
          "0": "Brooklyn",
          "1": " Bedford-Stuyvesant",
          "index": 7504
         },
         {
          "0": "Brooklyn",
          "1": " Williamsburg",
          "index": 7505
         },
         {
          "0": "Brooklyn",
          "1": " Carroll Gardens",
          "index": 7506
         },
         {
          "0": "Brooklyn",
          "1": " Bushwick",
          "index": 7507
         },
         {
          "0": "Brooklyn",
          "1": " Bushwick",
          "index": 7508
         },
         {
          "0": "Brooklyn",
          "1": " Sheepshead Bay",
          "index": 7509
         },
         {
          "0": "Manhattan",
          "1": " East Village",
          "index": 7510
         },
         {
          "0": "Queens",
          "1": " Flushing",
          "index": 7511
         },
         {
          "0": "Manhattan",
          "1": " Harlem",
          "index": 7512
         },
         {
          "0": "Manhattan",
          "1": " Greenwich Village",
          "index": 7513
         },
         {
          "0": "Manhattan",
          "1": " West Village",
          "index": 7514
         },
         {
          "0": "Manhattan",
          "1": " East Village",
          "index": 7515
         },
         {
          "0": "Brooklyn",
          "1": " Greenpoint",
          "index": 7516
         },
         {
          "0": "Queens",
          "1": " Springfield Gardens",
          "index": 7517
         },
         {
          "0": "Brooklyn",
          "1": " Greenpoint",
          "index": 7518
         },
         {
          "0": "Brooklyn",
          "1": " East New York",
          "index": 7519
         },
         {
          "0": "Queens",
          "1": " Ditmars Steinway",
          "index": 7520
         },
         {
          "0": "Brooklyn",
          "1": " East Flatbush",
          "index": 7521
         },
         {
          "0": "Brooklyn",
          "1": " East Flatbush",
          "index": 7522
         },
         {
          "0": "Queens",
          "1": " Astoria",
          "index": 7523
         },
         {
          "0": "Manhattan",
          "1": " Greenwich Village",
          "index": 7524
         },
         {
          "0": "Manhattan",
          "1": " Upper West Side",
          "index": 7525
         },
         {
          "0": "Manhattan",
          "1": " Morningside Heights",
          "index": 7526
         },
         {
          "0": "Manhattan",
          "1": " Hell's Kitchen",
          "index": 7527
         },
         {
          "0": "Brooklyn",
          "1": " Crown Heights",
          "index": 7528
         },
         {
          "0": "Manhattan",
          "1": " East Village",
          "index": 7529
         },
         {
          "0": "Brooklyn",
          "1": " Crown Heights",
          "index": 7530
         },
         {
          "0": "Manhattan",
          "1": " Hell's Kitchen",
          "index": 7531
         },
         {
          "0": "Manhattan",
          "1": " Upper East Side",
          "index": 7532
         },
         {
          "0": "Brooklyn",
          "1": " Bushwick",
          "index": 7533
         },
         {
          "0": "Manhattan",
          "1": " Upper West Side",
          "index": 7534
         },
         {
          "0": "Manhattan",
          "1": " Harlem",
          "index": 7535
         },
         {
          "0": "Manhattan",
          "1": " East Village",
          "index": 7536
         },
         {
          "0": "Queens",
          "1": " Woodside",
          "index": 7537
         },
         {
          "0": "Brooklyn",
          "1": " Bushwick",
          "index": 7538
         },
         {
          "0": "Manhattan",
          "1": " Harlem",
          "index": 7539
         },
         {
          "0": "Brooklyn",
          "1": " Bedford-Stuyvesant",
          "index": 7540
         },
         {
          "0": "Manhattan",
          "1": " Gramercy",
          "index": 7541
         },
         {
          "0": "Brooklyn",
          "1": " Bedford-Stuyvesant",
          "index": 7542
         },
         {
          "0": "Brooklyn",
          "1": " Bedford-Stuyvesant",
          "index": 7543
         },
         {
          "0": "Brooklyn",
          "1": " Sunset Park",
          "index": 7544
         },
         {
          "0": "Brooklyn",
          "1": " Crown Heights",
          "index": 7545
         },
         {
          "0": "Manhattan",
          "1": " Morningside Heights",
          "index": 7546
         },
         {
          "0": "Queens",
          "1": " Arverne",
          "index": 7547
         },
         {
          "0": "Brooklyn",
          "1": " Flatbush",
          "index": 7548
         },
         {
          "0": "Brooklyn",
          "1": " East New York",
          "index": 7549
         },
         {
          "0": "Brooklyn",
          "1": " Bedford-Stuyvesant",
          "index": 7550
         },
         {
          "0": "Brooklyn",
          "1": " Williamsburg",
          "index": 7551
         },
         {
          "0": "Brooklyn",
          "1": " Bushwick",
          "index": 7552
         },
         {
          "0": "Manhattan",
          "1": " Harlem",
          "index": 7553
         },
         {
          "0": "Brooklyn",
          "1": " Greenpoint",
          "index": 7554
         },
         {
          "0": "Manhattan",
          "1": " Lower East Side",
          "index": 7555
         },
         {
          "0": "Brooklyn",
          "1": " Bay Ridge",
          "index": 7556
         },
         {
          "0": "Brooklyn",
          "1": " Greenpoint",
          "index": 7557
         },
         {
          "0": "Queens",
          "1": " Long Island City",
          "index": 7558
         },
         {
          "0": "Brooklyn",
          "1": " Bedford-Stuyvesant",
          "index": 7559
         },
         {
          "0": "Manhattan",
          "1": " Hell's Kitchen",
          "index": 7560
         },
         {
          "0": "Bronx",
          "1": " City Island",
          "index": 7561
         },
         {
          "0": "Manhattan",
          "1": " Midtown",
          "index": 7562
         },
         {
          "0": "Brooklyn",
          "1": " Prospect Heights",
          "index": 7563
         },
         {
          "0": "Manhattan",
          "1": " Upper East Side",
          "index": 7564
         },
         {
          "0": "Manhattan",
          "1": " Washington Heights",
          "index": 7565
         },
         {
          "0": "Manhattan",
          "1": " Gramercy",
          "index": 7566
         },
         {
          "0": "Brooklyn",
          "1": " Prospect Heights",
          "index": 7567
         },
         {
          "0": "Manhattan",
          "1": " Harlem",
          "index": 7568
         },
         {
          "0": "Queens",
          "1": " Flushing",
          "index": 7569
         },
         {
          "0": "Brooklyn",
          "1": " Gravesend",
          "index": 7570
         },
         {
          "0": "Manhattan",
          "1": " Hell's Kitchen",
          "index": 7571
         },
         {
          "0": "Brooklyn",
          "1": " Fort Greene",
          "index": 7572
         },
         {
          "0": "Brooklyn",
          "1": " Flatbush",
          "index": 7573
         },
         {
          "0": "Brooklyn",
          "1": " Bushwick",
          "index": 7574
         },
         {
          "0": "Brooklyn",
          "1": " Williamsburg",
          "index": 7575
         },
         {
          "0": "Brooklyn",
          "1": " Bushwick",
          "index": 7576
         },
         {
          "0": "Queens",
          "1": " Rockaway Beach",
          "index": 7577
         },
         {
          "0": "Brooklyn",
          "1": " Park Slope",
          "index": 7578
         },
         {
          "0": "Queens",
          "1": " Richmond Hill",
          "index": 7579
         },
         {
          "0": "Brooklyn",
          "1": " Crown Heights",
          "index": 7580
         },
         {
          "0": "Brooklyn",
          "1": " Crown Heights",
          "index": 7581
         },
         {
          "0": "Brooklyn",
          "1": " East New York",
          "index": 7582
         },
         {
          "0": "Bronx",
          "1": " Kingsbridge",
          "index": 7583
         },
         {
          "0": "Manhattan",
          "1": " SoHo",
          "index": 7584
         },
         {
          "0": "Manhattan",
          "1": " East Village",
          "index": 7585
         },
         {
          "0": "Brooklyn",
          "1": " Borough Park",
          "index": 7586
         },
         {
          "0": "Queens",
          "1": " Astoria",
          "index": 7587
         },
         {
          "0": "Queens",
          "1": " Long Island City",
          "index": 7588
         },
         {
          "0": "Brooklyn",
          "1": " Greenpoint",
          "index": 7589
         },
         {
          "0": "Manhattan",
          "1": " Upper East Side",
          "index": 7590
         },
         {
          "0": "Queens",
          "1": " Long Island City",
          "index": 7591
         },
         {
          "0": "Queens",
          "1": " Flushing",
          "index": 7592
         },
         {
          "0": "Manhattan",
          "1": " Harlem",
          "index": 7593
         },
         {
          "0": "Manhattan",
          "1": " Chelsea",
          "index": 7594
         },
         {
          "0": "Manhattan",
          "1": " Financial District",
          "index": 7595
         },
         {
          "0": "Brooklyn",
          "1": " Park Slope",
          "index": 7596
         },
         {
          "0": "Brooklyn",
          "1": " Bushwick",
          "index": 7597
         },
         {
          "0": "Brooklyn",
          "1": " Carroll Gardens",
          "index": 7598
         },
         {
          "0": "Brooklyn",
          "1": " Bay Ridge",
          "index": 7599
         },
         {
          "0": "Brooklyn",
          "1": " Crown Heights",
          "index": 7600
         },
         {
          "0": "Manhattan",
          "1": " Chinatown",
          "index": 7601
         },
         {
          "0": "Brooklyn",
          "1": " Williamsburg",
          "index": 7602
         },
         {
          "0": "Manhattan",
          "1": " Hell's Kitchen",
          "index": 7603
         },
         {
          "0": "Manhattan",
          "1": " Hell's Kitchen",
          "index": 7604
         },
         {
          "0": "Brooklyn",
          "1": " Bushwick",
          "index": 7605
         },
         {
          "0": "Brooklyn",
          "1": " Prospect-Lefferts Gardens",
          "index": 7606
         },
         {
          "0": "Brooklyn",
          "1": " Prospect Heights",
          "index": 7607
         },
         {
          "0": "Brooklyn",
          "1": " Williamsburg",
          "index": 7608
         },
         {
          "0": "Manhattan",
          "1": " Hell's Kitchen",
          "index": 7609
         },
         {
          "0": "Manhattan",
          "1": " Harlem",
          "index": 7610
         },
         {
          "0": "Brooklyn",
          "1": " Williamsburg",
          "index": 7611
         },
         {
          "0": "Manhattan",
          "1": " Hell's Kitchen",
          "index": 7612
         },
         {
          "0": "Manhattan",
          "1": " Upper West Side",
          "index": 7613
         },
         {
          "0": "Manhattan",
          "1": " East Village",
          "index": 7614
         },
         {
          "0": "Brooklyn",
          "1": " Flatlands",
          "index": 7615
         },
         {
          "0": "Brooklyn",
          "1": " Bedford-Stuyvesant",
          "index": 7616
         },
         {
          "0": "Queens",
          "1": " Springfield Gardens",
          "index": 7617
         },
         {
          "0": "Queens",
          "1": " Ridgewood",
          "index": 7618
         },
         {
          "0": "Brooklyn",
          "1": " Bedford-Stuyvesant",
          "index": 7619
         },
         {
          "0": "Brooklyn",
          "1": " Williamsburg",
          "index": 7620
         },
         {
          "0": "Manhattan",
          "1": " Harlem",
          "index": 7621
         },
         {
          "0": "Manhattan",
          "1": " Washington Heights",
          "index": 7622
         },
         {
          "0": "Manhattan",
          "1": " Lower East Side",
          "index": 7623
         },
         {
          "0": "Manhattan",
          "1": " Lower East Side",
          "index": 7624
         },
         {
          "0": "Manhattan",
          "1": " Harlem",
          "index": 7625
         },
         {
          "0": "Brooklyn",
          "1": " Park Slope",
          "index": 7626
         },
         {
          "0": "Queens",
          "1": " Elmhurst",
          "index": 7627
         },
         {
          "0": "Brooklyn",
          "1": " Sunset Park",
          "index": 7628
         },
         {
          "0": "Manhattan",
          "1": " SoHo",
          "index": 7629
         },
         {
          "0": "Brooklyn",
          "1": " Bushwick",
          "index": 7630
         },
         {
          "0": "Manhattan",
          "1": " Hell's Kitchen",
          "index": 7631
         },
         {
          "0": "Brooklyn",
          "1": " Fort Greene",
          "index": 7632
         },
         {
          "0": "Brooklyn",
          "1": " Bedford-Stuyvesant",
          "index": 7633
         },
         {
          "0": "Manhattan",
          "1": " Chelsea",
          "index": 7634
         },
         {
          "0": "Manhattan",
          "1": " Washington Heights",
          "index": 7635
         },
         {
          "0": "Brooklyn",
          "1": " Bedford-Stuyvesant",
          "index": 7636
         },
         {
          "0": "Manhattan",
          "1": " Lower East Side",
          "index": 7637
         },
         {
          "0": "Queens",
          "1": " Woodside",
          "index": 7638
         },
         {
          "0": "Brooklyn",
          "1": " East Flatbush",
          "index": 7639
         },
         {
          "0": "Brooklyn",
          "1": " Williamsburg",
          "index": 7640
         },
         {
          "0": "Brooklyn",
          "1": " Bushwick",
          "index": 7641
         },
         {
          "0": "Brooklyn",
          "1": " Bushwick",
          "index": 7642
         },
         {
          "0": "Manhattan",
          "1": " Hell's Kitchen",
          "index": 7643
         },
         {
          "0": "Brooklyn",
          "1": " Park Slope",
          "index": 7644
         },
         {
          "0": "Brooklyn",
          "1": " Flatbush",
          "index": 7645
         },
         {
          "0": "Brooklyn",
          "1": " Bedford-Stuyvesant",
          "index": 7646
         },
         {
          "0": "Brooklyn",
          "1": " Bedford-Stuyvesant",
          "index": 7647
         },
         {
          "0": "Manhattan",
          "1": " Greenwich Village",
          "index": 7648
         },
         {
          "0": "Brooklyn",
          "1": " Red Hook",
          "index": 7649
         },
         {
          "0": "Queens",
          "1": " Maspeth",
          "index": 7650
         },
         {
          "0": "Manhattan",
          "1": " Hell's Kitchen",
          "index": 7651
         },
         {
          "0": "Bronx",
          "1": " Claremont Village",
          "index": 7652
         },
         {
          "0": "Brooklyn",
          "1": " Williamsburg",
          "index": 7653
         },
         {
          "0": "Manhattan",
          "1": " Midtown",
          "index": 7654
         },
         {
          "0": "Brooklyn",
          "1": " Bedford-Stuyvesant",
          "index": 7655
         },
         {
          "0": "Manhattan",
          "1": " Kips Bay",
          "index": 7656
         },
         {
          "0": "Queens",
          "1": " Woodhaven",
          "index": 7657
         },
         {
          "0": "Manhattan",
          "1": " Harlem",
          "index": 7658
         },
         {
          "0": "Manhattan",
          "1": " East Harlem",
          "index": 7659
         },
         {
          "0": "Manhattan",
          "1": " SoHo",
          "index": 7660
         },
         {
          "0": "Queens",
          "1": " Jamaica",
          "index": 7661
         },
         {
          "0": "Manhattan",
          "1": " Chelsea",
          "index": 7662
         },
         {
          "0": "Manhattan",
          "1": " Upper West Side",
          "index": 7663
         },
         {
          "0": "Brooklyn",
          "1": " Bushwick",
          "index": 7664
         },
         {
          "0": "Brooklyn",
          "1": " Bedford-Stuyvesant",
          "index": 7665
         },
         {
          "0": "Manhattan",
          "1": " Chelsea",
          "index": 7666
         },
         {
          "0": "Queens",
          "1": " East Elmhurst",
          "index": 7667
         },
         {
          "0": "Brooklyn",
          "1": " Bedford-Stuyvesant",
          "index": 7668
         },
         {
          "0": "Queens",
          "1": " Jackson Heights",
          "index": 7669
         },
         {
          "0": "Manhattan",
          "1": " East Village",
          "index": 7670
         },
         {
          "0": "Brooklyn",
          "1": " Bedford-Stuyvesant",
          "index": 7671
         },
         {
          "0": "Queens",
          "1": " Jackson Heights",
          "index": 7672
         },
         {
          "0": "Queens",
          "1": " Ditmars Steinway",
          "index": 7673
         },
         {
          "0": "Manhattan",
          "1": " Tribeca",
          "index": 7674
         },
         {
          "0": "Manhattan",
          "1": " East Village",
          "index": 7675
         },
         {
          "0": "Queens",
          "1": " Maspeth",
          "index": 7676
         },
         {
          "0": "Manhattan",
          "1": " Chelsea",
          "index": 7677
         },
         {
          "0": "Queens",
          "1": " Maspeth",
          "index": 7678
         },
         {
          "0": "Brooklyn",
          "1": " Bedford-Stuyvesant",
          "index": 7679
         },
         {
          "0": "Manhattan",
          "1": " Roosevelt Island",
          "index": 7680
         },
         {
          "0": "Manhattan",
          "1": " Washington Heights",
          "index": 7681
         },
         {
          "0": "Brooklyn",
          "1": " Bedford-Stuyvesant",
          "index": 7682
         },
         {
          "0": "Manhattan",
          "1": " Harlem",
          "index": 7683
         },
         {
          "0": "Manhattan",
          "1": " Chinatown",
          "index": 7684
         },
         {
          "0": "Staten Island",
          "1": " Stapleton",
          "index": 7685
         },
         {
          "0": "Manhattan",
          "1": " East Village",
          "index": 7686
         },
         {
          "0": "Brooklyn",
          "1": " Windsor Terrace",
          "index": 7687
         },
         {
          "0": "Brooklyn",
          "1": " Williamsburg",
          "index": 7688
         },
         {
          "0": "Manhattan",
          "1": " Greenwich Village",
          "index": 7689
         },
         {
          "0": "Brooklyn",
          "1": " Carroll Gardens",
          "index": 7690
         },
         {
          "0": "Brooklyn",
          "1": " Williamsburg",
          "index": 7691
         },
         {
          "0": "Brooklyn",
          "1": " Brooklyn Heights",
          "index": 7692
         },
         {
          "0": "Brooklyn",
          "1": " Park Slope",
          "index": 7693
         },
         {
          "0": "Brooklyn",
          "1": " Williamsburg",
          "index": 7694
         },
         {
          "0": "Brooklyn",
          "1": " Park Slope",
          "index": 7695
         },
         {
          "0": "Brooklyn",
          "1": " South Slope",
          "index": 7696
         },
         {
          "0": "Brooklyn",
          "1": " Flatlands",
          "index": 7697
         },
         {
          "0": "Manhattan",
          "1": " Hell's Kitchen",
          "index": 7698
         },
         {
          "0": "Manhattan",
          "1": " Harlem",
          "index": 7699
         },
         {
          "0": "Manhattan",
          "1": " Chelsea",
          "index": 7700
         },
         {
          "0": "Manhattan",
          "1": " East Harlem",
          "index": 7701
         },
         {
          "0": "Manhattan",
          "1": " Washington Heights",
          "index": 7702
         },
         {
          "0": "Brooklyn",
          "1": " Prospect Heights",
          "index": 7703
         },
         {
          "0": "Queens",
          "1": " Astoria",
          "index": 7704
         },
         {
          "0": "Manhattan",
          "1": " Flatiron District",
          "index": 7705
         },
         {
          "0": "Queens",
          "1": " Astoria",
          "index": 7706
         },
         {
          "0": "Brooklyn",
          "1": " Williamsburg",
          "index": 7707
         },
         {
          "0": "Manhattan",
          "1": " Hell's Kitchen",
          "index": 7708
         },
         {
          "0": "Manhattan",
          "1": " Upper East Side",
          "index": 7709
         },
         {
          "0": "Brooklyn",
          "1": " Park Slope",
          "index": 7710
         },
         {
          "0": "Brooklyn",
          "1": " Prospect-Lefferts Gardens",
          "index": 7711
         },
         {
          "0": "Bronx",
          "1": " Kingsbridge",
          "index": 7712
         },
         {
          "0": "Brooklyn",
          "1": " Bedford-Stuyvesant",
          "index": 7713
         },
         {
          "0": "Brooklyn",
          "1": " Flatbush",
          "index": 7714
         },
         {
          "0": "Queens",
          "1": " South Ozone Park",
          "index": 7715
         },
         {
          "0": "Brooklyn",
          "1": " Crown Heights",
          "index": 7716
         },
         {
          "0": "Manhattan",
          "1": " Lower East Side",
          "index": 7717
         },
         {
          "0": "Brooklyn",
          "1": " Bushwick",
          "index": 7718
         },
         {
          "0": "Queens",
          "1": " East Elmhurst",
          "index": 7719
         },
         {
          "0": "Brooklyn",
          "1": " Bedford-Stuyvesant",
          "index": 7720
         },
         {
          "0": "Manhattan",
          "1": " Upper West Side",
          "index": 7721
         },
         {
          "0": "Manhattan",
          "1": " Upper West Side",
          "index": 7722
         },
         {
          "0": "Brooklyn",
          "1": " Midwood",
          "index": 7723
         },
         {
          "0": "Brooklyn",
          "1": " Crown Heights",
          "index": 7724
         },
         {
          "0": "Manhattan",
          "1": " Upper West Side",
          "index": 7725
         },
         {
          "0": "Manhattan",
          "1": " Morningside Heights",
          "index": 7726
         },
         {
          "0": "Manhattan",
          "1": " Harlem",
          "index": 7727
         },
         {
          "0": "Brooklyn",
          "1": " Crown Heights",
          "index": 7728
         },
         {
          "0": "Manhattan",
          "1": " Harlem",
          "index": 7729
         },
         {
          "0": "Manhattan",
          "1": " East Harlem",
          "index": 7730
         },
         {
          "0": "Brooklyn",
          "1": " Clinton Hill",
          "index": 7731
         },
         {
          "0": "Brooklyn",
          "1": " Clinton Hill",
          "index": 7732
         },
         {
          "0": "Manhattan",
          "1": " Upper East Side",
          "index": 7733
         }
        ],
        "schema": {
         "fields": [
          {
           "name": "index",
           "type": "integer"
          },
          {
           "name": 0,
           "type": "string"
          },
          {
           "name": 1,
           "type": "string"
          }
         ],
         "pandas_version": "0.20.0",
         "primaryKey": [
          "index"
         ]
        }
       },
       "total_rows": 7734
      },
      "text/html": [
       "<div>\n",
       "<style scoped>\n",
       "    .dataframe tbody tr th:only-of-type {\n",
       "        vertical-align: middle;\n",
       "    }\n",
       "\n",
       "    .dataframe tbody tr th {\n",
       "        vertical-align: top;\n",
       "    }\n",
       "\n",
       "    .dataframe thead th {\n",
       "        text-align: right;\n",
       "    }\n",
       "</style>\n",
       "<table border=\"1\" class=\"dataframe\">\n",
       "  <thead>\n",
       "    <tr style=\"text-align: right;\">\n",
       "      <th></th>\n",
       "      <th>0</th>\n",
       "      <th>1</th>\n",
       "    </tr>\n",
       "  </thead>\n",
       "  <tbody>\n",
       "    <tr>\n",
       "      <th>0</th>\n",
       "      <td>Brooklyn</td>\n",
       "      <td>Flatlands</td>\n",
       "    </tr>\n",
       "    <tr>\n",
       "      <th>1</th>\n",
       "      <td>Manhattan</td>\n",
       "      <td>Upper West Side</td>\n",
       "    </tr>\n",
       "    <tr>\n",
       "      <th>2</th>\n",
       "      <td>Manhattan</td>\n",
       "      <td>Upper West Side</td>\n",
       "    </tr>\n",
       "    <tr>\n",
       "      <th>3</th>\n",
       "      <td>Manhattan</td>\n",
       "      <td>Lower East Side</td>\n",
       "    </tr>\n",
       "    <tr>\n",
       "      <th>4</th>\n",
       "      <td>Manhattan</td>\n",
       "      <td>Greenwich Village</td>\n",
       "    </tr>\n",
       "    <tr>\n",
       "      <th>...</th>\n",
       "      <td>...</td>\n",
       "      <td>...</td>\n",
       "    </tr>\n",
       "    <tr>\n",
       "      <th>7729</th>\n",
       "      <td>Manhattan</td>\n",
       "      <td>Harlem</td>\n",
       "    </tr>\n",
       "    <tr>\n",
       "      <th>7730</th>\n",
       "      <td>Manhattan</td>\n",
       "      <td>East Harlem</td>\n",
       "    </tr>\n",
       "    <tr>\n",
       "      <th>7731</th>\n",
       "      <td>Brooklyn</td>\n",
       "      <td>Clinton Hill</td>\n",
       "    </tr>\n",
       "    <tr>\n",
       "      <th>7732</th>\n",
       "      <td>Brooklyn</td>\n",
       "      <td>Clinton Hill</td>\n",
       "    </tr>\n",
       "    <tr>\n",
       "      <th>7733</th>\n",
       "      <td>Manhattan</td>\n",
       "      <td>Upper East Side</td>\n",
       "    </tr>\n",
       "  </tbody>\n",
       "</table>\n",
       "<p>7734 rows × 2 columns</p>\n",
       "</div>"
      ],
      "text/plain": [
       "              0                   1\n",
       "0      Brooklyn           Flatlands\n",
       "1     Manhattan     Upper West Side\n",
       "2     Manhattan     Upper West Side\n",
       "3     Manhattan     Lower East Side\n",
       "4     Manhattan   Greenwich Village\n",
       "...         ...                 ...\n",
       "7729  Manhattan              Harlem\n",
       "7730  Manhattan         East Harlem\n",
       "7731   Brooklyn        Clinton Hill\n",
       "7732   Brooklyn        Clinton Hill\n",
       "7733  Manhattan     Upper East Side\n",
       "\n",
       "[7734 rows x 2 columns]"
      ]
     },
     "execution_count": 10,
     "metadata": {},
     "output_type": "execute_result"
    }
   ],
   "source": [
    "# Create new DataFrame with split column\n",
    "borough_neighbourhood = airbnb['neighbourhood_full'].str.split(',', expand = True)\n",
    "\n",
    "borough_neighbourhood"
   ]
  },
  {
   "cell_type": "code",
   "execution_count": null,
   "metadata": {
    "colab": {
     "base_uri": "https://localhost:8080/",
     "height": 198
    },
    "id": "NO79JROB-CF-",
    "outputId": "f5ca49e4-383f-49d6-eb6c-0e8e511d5a90"
   },
   "outputs": [
    {
     "data": {
      "text/html": [
       "<div>\n",
       "<style scoped>\n",
       "    .dataframe tbody tr th:only-of-type {\n",
       "        vertical-align: middle;\n",
       "    }\n",
       "\n",
       "    .dataframe tbody tr th {\n",
       "        vertical-align: top;\n",
       "    }\n",
       "\n",
       "    .dataframe thead th {\n",
       "        text-align: right;\n",
       "    }\n",
       "</style>\n",
       "<table border=\"1\" class=\"dataframe\">\n",
       "  <thead>\n",
       "    <tr style=\"text-align: right;\">\n",
       "      <th></th>\n",
       "      <th>neighbourhood_full</th>\n",
       "      <th>borough</th>\n",
       "      <th>neighbourhood</th>\n",
       "    </tr>\n",
       "  </thead>\n",
       "  <tbody>\n",
       "    <tr>\n",
       "      <th>0</th>\n",
       "      <td>Brooklyn, Flatlands</td>\n",
       "      <td>Brooklyn</td>\n",
       "      <td>Flatlands</td>\n",
       "    </tr>\n",
       "    <tr>\n",
       "      <th>1</th>\n",
       "      <td>Manhattan, Upper West Side</td>\n",
       "      <td>Manhattan</td>\n",
       "      <td>Upper West Side</td>\n",
       "    </tr>\n",
       "    <tr>\n",
       "      <th>2</th>\n",
       "      <td>Manhattan, Upper West Side</td>\n",
       "      <td>Manhattan</td>\n",
       "      <td>Upper West Side</td>\n",
       "    </tr>\n",
       "    <tr>\n",
       "      <th>3</th>\n",
       "      <td>Manhattan, Lower East Side</td>\n",
       "      <td>Manhattan</td>\n",
       "      <td>Lower East Side</td>\n",
       "    </tr>\n",
       "    <tr>\n",
       "      <th>4</th>\n",
       "      <td>Manhattan, Greenwich Village</td>\n",
       "      <td>Manhattan</td>\n",
       "      <td>Greenwich Village</td>\n",
       "    </tr>\n",
       "  </tbody>\n",
       "</table>\n",
       "</div>"
      ],
      "text/plain": [
       "             neighbourhood_full    borough       neighbourhood\n",
       "0           Brooklyn, Flatlands   Brooklyn           Flatlands\n",
       "1    Manhattan, Upper West Side  Manhattan     Upper West Side\n",
       "2    Manhattan, Upper West Side  Manhattan     Upper West Side\n",
       "3    Manhattan, Lower East Side  Manhattan     Lower East Side\n",
       "4  Manhattan, Greenwich Village  Manhattan   Greenwich Village"
      ]
     },
     "execution_count": 11,
     "metadata": {
      "tags": []
     },
     "output_type": "execute_result"
    }
   ],
   "source": [
    "# Create borough and neighbourhood columns\n",
    "airbnb['borough'] = borough_neighbourhood[0]\n",
    "airbnb['neighbourhood'] = borough_neighbourhood[1]\n",
    "\n",
    "# Print header of columns\n",
    "airbnb[['neighbourhood_full', 'borough', 'neighbourhood']].head()"
   ]
  },
  {
   "cell_type": "code",
   "execution_count": null,
   "metadata": {
    "id": "7AmAW7HL-QeT"
   },
   "outputs": [],
   "source": [
    "# Drop original neighbourhood_full column\n",
    "airbnb.drop('neighbourhood_full', axis = 1 , inplace = True)"
   ]
  },
  {
   "cell_type": "markdown",
   "metadata": {
    "id": "I83nD4hkalO6"
   },
   "source": [
    "##### **Task 4:** Deal with missing values in `host_id` and `description` columns\n",
    "\n",
    "\n",
    "_To count and drop missing values in a DataFrame, you can use the following:_\n",
    "\n",
    "- `data.isna().sum()` _to count missing values\n",
    "- `data.dropna()` _drops missing values_"
   ]
  },
  {
   "cell_type": "code",
   "execution_count": null,
   "metadata": {
    "colab": {
     "base_uri": "https://localhost:8080/",
     "height": 276
    },
    "id": "ivcJHiXV-fSx",
    "outputId": "bcb410ad-5373-455c-ed05-ecf2e3163e3e"
   },
   "outputs": [
    {
     "data": {
      "text/plain": [
       "listing_id           0\n",
       "description          1\n",
       "host_id              7\n",
       "coordinates          0\n",
       "room_type            0\n",
       "price                0\n",
       "number_of_reviews    0\n",
       "reviews_per_month    0\n",
       "availability_365     0\n",
       "rating               0\n",
       "number_of_stays      0\n",
       "listing_added        0\n",
       "dtype: int64"
      ]
     },
     "execution_count": 12,
     "metadata": {},
     "output_type": "execute_result"
    }
   ],
   "source": [
    "# Find missing values\n",
    "airbnb.isna().sum()"
   ]
  },
  {
   "cell_type": "code",
   "execution_count": 22,
   "metadata": {
    "colab": {
     "base_uri": "https://localhost:8080/",
     "height": 276
    },
    "id": "-MhQ9CKk_gbE",
    "outputId": "da80b1eb-38bb-40fe-fc1f-e9f290bb7a00"
   },
   "outputs": [
    {
     "data": {
      "text/plain": [
       "listing_id           0\n",
       "description          0\n",
       "host_id              0\n",
       "coordinates          0\n",
       "room_type            0\n",
       "price                0\n",
       "number_of_reviews    0\n",
       "reviews_per_month    0\n",
       "availability_365     0\n",
       "rating               0\n",
       "number_of_stays      0\n",
       "listing_added        0\n",
       "listing_year         0\n",
       "dtype: int64"
      ]
     },
     "execution_count": 22,
     "metadata": {},
     "output_type": "execute_result"
    }
   ],
   "source": [
    "# Drop missing values\n",
    "airbnb = airbnb.dropna()\n",
    "# Count missing values again\n",
    "airbnb.isna().sum()"
   ]
  },
  {
   "cell_type": "markdown",
   "metadata": {
    "id": "DQ7_YaiI_buy"
   },
   "source": [
    "\n",
    "\n",
    "---\n",
    "\n",
    "<center><h1> Q&A</h1> </center>\n",
    "\n",
    "---\n",
    "\n",
    "\n",
    "\n"
   ]
  },
  {
   "cell_type": "markdown",
   "metadata": {
    "id": "Af25ZWEsccse"
   },
   "source": [
    "## **Data Analysis and Visualization**"
   ]
  },
  {
   "cell_type": "markdown",
   "metadata": {
    "id": "ucpwJpmacfem"
   },
   "source": [
    "##### **Question 1:** What is the distribution of price per room type?\n",
    "\n",
    "\n",
    "<p align=\"center\">\n",
    "<img src=\"https://github.com/adelnehme/python-crash-course-an-introduction-to-spreadsheet-users/blob/main/assets/boxplot_image.png?raw=true\" alt = \"boxplot\" width=\"65%\">\n",
    "</p>\n",
    "\n",
    "\n",
    "_To create a boxplot using_ `seaborn` _we can use:_\n",
    "\n",
    "- `sns.boxplot(x = , y = , data = )`\n",
    "  - `x`: _column name on x-axis_\n",
    "  - `y`: _column name on y-axis_\n",
    "  - `data`: _data being used_\n",
    "- `plt.title()`: _sets plot title_\n",
    "- `plt.xlabel()`: _sets x-axis label_\n",
    "- `plt.ylabel()`:_sets y-axis label_\n",
    "- `plt.show()`:  _shows plot_\n"
   ]
  },
  {
   "cell_type": "code",
   "execution_count": 23,
   "metadata": {
    "colab": {
     "base_uri": "https://localhost:8080/",
     "height": 404
    },
    "id": "aJkzeme6F-_Z",
    "outputId": "2342a52d-ce51-40d3-b247-aca3ee567e49"
   },
   "outputs": [
    {
     "data": {
      "image/png": "[encoded data removed]",
      "text/plain": [
       "<Figure size 576x432 with 1 Axes>"
      ]
     },
     "metadata": {
      "needs_background": "light"
     },
     "output_type": "display_data"
    }
   ],
   "source": [
    "# Visualize price by room type\n",
    "plt.figure(figsize = (8,6))\n",
    "\n",
    "# Create plot\n",
    "sns.boxplot(x = 'room_type', y = 'price', data = airbnb)\n",
    "\n",
    "# Set titles and labels of plot\n",
    "plt.title('Price distribution by room type below 600 dollars/night')\n",
    "plt.ylabel('Price')\n",
    "plt.xlabel('Room Type')\n",
    "\n",
    "# Set y-axis limit\n",
    "plt.ylim(0,400)\n",
    "\n",
    "# Show plot\n",
    "plt.show()"
   ]
  },
  {
   "cell_type": "markdown",
   "metadata": {
    "id": "UygF0fk_c6ju"
   },
   "source": [
    "##### **Question 2:** What are the number of listings per borough?"
   ]
  },
  {
   "cell_type": "markdown",
   "metadata": {
    "id": "TdmAosgRr_uo"
   },
   "source": [
    "_To easily show the count of observations in each category using_`seaborn`_we can use:_\n",
    "\n",
    "- `sns.countplot(x = , data = )`\n",
    "  - `x`: _categorical column name on x-axis_\n",
    "  - `data`: _data being used_\n",
    "- `plt.title()`: _sets plot title_\n",
    "- `plt.xlabel()`: _sets x-axis label_\n",
    "- `plt.ylabel()`: _sets y-axis label_\n",
    "- `plt.show()`: _shows plot_"
   ]
  },
  {
   "cell_type": "code",
   "execution_count": 25,
   "metadata": {
    "colab": {
     "base_uri": "https://localhost:8080/",
     "height": 295
    },
    "id": "bYoXuZrPIcK4",
    "outputId": "8e307e38-48ed-4902-8594-42ca495a1270"
   },
   "outputs": [
    {
     "ename": "ValueError",
     "evalue": "Could not interpret input 'borough'",
     "output_type": "error",
     "traceback": [
      "\u001b[0;31m---------------------------------------------------------------------------\u001b[0m",
      "\u001b[0;31mValueError\u001b[0m                                Traceback (most recent call last)",
      "\u001b[0;32m/tmp/ipykernel_2948/2986472436.py\u001b[0m in \u001b[0;36m<module>\u001b[0;34m\u001b[0m\n\u001b[1;32m      1\u001b[0m \u001b[0;31m# Count the amount of listings per borough\u001b[0m\u001b[0;34m\u001b[0m\u001b[0;34m\u001b[0m\u001b[0;34m\u001b[0m\u001b[0m\n\u001b[0;32m----> 2\u001b[0;31m \u001b[0msns\u001b[0m\u001b[0;34m.\u001b[0m\u001b[0mcountplot\u001b[0m\u001b[0;34m(\u001b[0m\u001b[0mx\u001b[0m \u001b[0;34m=\u001b[0m \u001b[0;34m'borough'\u001b[0m\u001b[0;34m,\u001b[0m \u001b[0mdata\u001b[0m \u001b[0;34m=\u001b[0m \u001b[0mairbnb\u001b[0m\u001b[0;34m)\u001b[0m\u001b[0;34m\u001b[0m\u001b[0;34m\u001b[0m\u001b[0m\n\u001b[0m\u001b[1;32m      3\u001b[0m \u001b[0;34m\u001b[0m\u001b[0m\n\u001b[1;32m      4\u001b[0m \u001b[0;31m# Set titles and labels of plot\u001b[0m\u001b[0;34m\u001b[0m\u001b[0;34m\u001b[0m\u001b[0;34m\u001b[0m\u001b[0m\n\u001b[1;32m      5\u001b[0m \u001b[0mplt\u001b[0m\u001b[0;34m.\u001b[0m\u001b[0mtitle\u001b[0m\u001b[0;34m(\u001b[0m\u001b[0;34m'Number of listings per Borough'\u001b[0m\u001b[0;34m)\u001b[0m\u001b[0;34m\u001b[0m\u001b[0;34m\u001b[0m\u001b[0m\n",
      "\u001b[0;32m/usr/local/lib/python3.8/dist-packages/seaborn/_decorators.py\u001b[0m in \u001b[0;36minner_f\u001b[0;34m(*args, **kwargs)\u001b[0m\n\u001b[1;32m     44\u001b[0m             )\n\u001b[1;32m     45\u001b[0m         \u001b[0mkwargs\u001b[0m\u001b[0;34m.\u001b[0m\u001b[0mupdate\u001b[0m\u001b[0;34m(\u001b[0m\u001b[0;34m{\u001b[0m\u001b[0mk\u001b[0m\u001b[0;34m:\u001b[0m \u001b[0marg\u001b[0m \u001b[0;32mfor\u001b[0m \u001b[0mk\u001b[0m\u001b[0;34m,\u001b[0m \u001b[0marg\u001b[0m \u001b[0;32min\u001b[0m \u001b[0mzip\u001b[0m\u001b[0;34m(\u001b[0m\u001b[0msig\u001b[0m\u001b[0;34m.\u001b[0m\u001b[0mparameters\u001b[0m\u001b[0;34m,\u001b[0m \u001b[0margs\u001b[0m\u001b[0;34m)\u001b[0m\u001b[0;34m}\u001b[0m\u001b[0;34m)\u001b[0m\u001b[0;34m\u001b[0m\u001b[0;34m\u001b[0m\u001b[0m\n\u001b[0;32m---> 46\u001b[0;31m         \u001b[0;32mreturn\u001b[0m \u001b[0mf\u001b[0m\u001b[0;34m(\u001b[0m\u001b[0;34m**\u001b[0m\u001b[0mkwargs\u001b[0m\u001b[0;34m)\u001b[0m\u001b[0;34m\u001b[0m\u001b[0;34m\u001b[0m\u001b[0m\n\u001b[0m\u001b[1;32m     47\u001b[0m     \u001b[0;32mreturn\u001b[0m \u001b[0minner_f\u001b[0m\u001b[0;34m\u001b[0m\u001b[0;34m\u001b[0m\u001b[0m\n\u001b[1;32m     48\u001b[0m \u001b[0;34m\u001b[0m\u001b[0m\n",
      "\u001b[0;32m/usr/local/lib/python3.8/dist-packages/seaborn/categorical.py\u001b[0m in \u001b[0;36mcountplot\u001b[0;34m(x, y, hue, data, order, hue_order, orient, color, palette, saturation, dodge, ax, **kwargs)\u001b[0m\n\u001b[1;32m   3593\u001b[0m         \u001b[0;32mraise\u001b[0m \u001b[0mValueError\u001b[0m\u001b[0;34m(\u001b[0m\u001b[0;34m\"Cannot pass values for both `x` and `y`\"\u001b[0m\u001b[0;34m)\u001b[0m\u001b[0;34m\u001b[0m\u001b[0;34m\u001b[0m\u001b[0m\n\u001b[1;32m   3594\u001b[0m \u001b[0;34m\u001b[0m\u001b[0m\n\u001b[0;32m-> 3595\u001b[0;31m     plotter = _CountPlotter(\n\u001b[0m\u001b[1;32m   3596\u001b[0m         \u001b[0mx\u001b[0m\u001b[0;34m,\u001b[0m \u001b[0my\u001b[0m\u001b[0;34m,\u001b[0m \u001b[0mhue\u001b[0m\u001b[0;34m,\u001b[0m \u001b[0mdata\u001b[0m\u001b[0;34m,\u001b[0m \u001b[0morder\u001b[0m\u001b[0;34m,\u001b[0m \u001b[0mhue_order\u001b[0m\u001b[0;34m,\u001b[0m\u001b[0;34m\u001b[0m\u001b[0;34m\u001b[0m\u001b[0m\n\u001b[1;32m   3597\u001b[0m         \u001b[0mestimator\u001b[0m\u001b[0;34m,\u001b[0m \u001b[0mci\u001b[0m\u001b[0;34m,\u001b[0m \u001b[0mn_boot\u001b[0m\u001b[0;34m,\u001b[0m \u001b[0munits\u001b[0m\u001b[0;34m,\u001b[0m \u001b[0mseed\u001b[0m\u001b[0;34m,\u001b[0m\u001b[0;34m\u001b[0m\u001b[0;34m\u001b[0m\u001b[0m\n",
      "\u001b[0;32m/usr/local/lib/python3.8/dist-packages/seaborn/categorical.py\u001b[0m in \u001b[0;36m__init__\u001b[0;34m(self, x, y, hue, data, order, hue_order, estimator, ci, n_boot, units, seed, orient, color, palette, saturation, errcolor, errwidth, capsize, dodge)\u001b[0m\n\u001b[1;32m   1582\u001b[0m                  errwidth, capsize, dodge):\n\u001b[1;32m   1583\u001b[0m         \u001b[0;34m\"\"\"Initialize the plotter.\"\"\"\u001b[0m\u001b[0;34m\u001b[0m\u001b[0;34m\u001b[0m\u001b[0m\n\u001b[0;32m-> 1584\u001b[0;31m         self.establish_variables(x, y, hue, data, orient,\n\u001b[0m\u001b[1;32m   1585\u001b[0m                                  order, hue_order, units)\n\u001b[1;32m   1586\u001b[0m         \u001b[0mself\u001b[0m\u001b[0;34m.\u001b[0m\u001b[0mestablish_colors\u001b[0m\u001b[0;34m(\u001b[0m\u001b[0mcolor\u001b[0m\u001b[0;34m,\u001b[0m \u001b[0mpalette\u001b[0m\u001b[0;34m,\u001b[0m \u001b[0msaturation\u001b[0m\u001b[0;34m)\u001b[0m\u001b[0;34m\u001b[0m\u001b[0;34m\u001b[0m\u001b[0m\n",
      "\u001b[0;32m/usr/local/lib/python3.8/dist-packages/seaborn/categorical.py\u001b[0m in \u001b[0;36mestablish_variables\u001b[0;34m(self, x, y, hue, data, orient, order, hue_order, units)\u001b[0m\n\u001b[1;32m    151\u001b[0m                 \u001b[0;32mif\u001b[0m \u001b[0misinstance\u001b[0m\u001b[0;34m(\u001b[0m\u001b[0mvar\u001b[0m\u001b[0;34m,\u001b[0m \u001b[0mstr\u001b[0m\u001b[0;34m)\u001b[0m\u001b[0;34m:\u001b[0m\u001b[0;34m\u001b[0m\u001b[0;34m\u001b[0m\u001b[0m\n\u001b[1;32m    152\u001b[0m                     \u001b[0merr\u001b[0m \u001b[0;34m=\u001b[0m \u001b[0;34m\"Could not interpret input '{}'\"\u001b[0m\u001b[0;34m.\u001b[0m\u001b[0mformat\u001b[0m\u001b[0;34m(\u001b[0m\u001b[0mvar\u001b[0m\u001b[0;34m)\u001b[0m\u001b[0;34m\u001b[0m\u001b[0;34m\u001b[0m\u001b[0m\n\u001b[0;32m--> 153\u001b[0;31m                     \u001b[0;32mraise\u001b[0m \u001b[0mValueError\u001b[0m\u001b[0;34m(\u001b[0m\u001b[0merr\u001b[0m\u001b[0;34m)\u001b[0m\u001b[0;34m\u001b[0m\u001b[0;34m\u001b[0m\u001b[0m\n\u001b[0m\u001b[1;32m    154\u001b[0m \u001b[0;34m\u001b[0m\u001b[0m\n\u001b[1;32m    155\u001b[0m             \u001b[0;31m# Figure out the plotting orientation\u001b[0m\u001b[0;34m\u001b[0m\u001b[0;34m\u001b[0m\u001b[0;34m\u001b[0m\u001b[0m\n",
      "\u001b[0;31mValueError\u001b[0m: Could not interpret input 'borough'"
     ]
    }
   ],
   "source": [
    "# Count the amount of listings per borough\n",
    "sns.countplot(x = 'borough', data = airbnb)\n",
    "\n",
    "# Set titles and labels of plot\n",
    "plt.title('Number of listings per Borough')\n",
    "plt.ylabel('Number of listings')\n",
    "plt.xlabel('Borough')\n",
    "\n",
    "# Show plot\n",
    "plt.show()"
   ]
  },
  {
   "cell_type": "markdown",
   "metadata": {
    "id": "SYAO_vpydLGS"
   },
   "source": [
    "##### **Question 3:** What are the number of listings per year?"
   ]
  },
  {
   "cell_type": "code",
   "execution_count": 26,
   "metadata": {
    "id": "VMw8SMQYMDmW"
   },
   "outputs": [],
   "source": [
    "# Extract listing year column from listing_added column\n",
    "airbnb['listing_year'] = airbnb['listing_added'].dt.year"
   ]
  },
  {
   "cell_type": "code",
   "execution_count": 27,
   "metadata": {
    "colab": {
     "base_uri": "https://localhost:8080/",
     "height": 404
    },
    "id": "CubbpSwbdkYp",
    "outputId": "cfc4614d-067c-463a-cf91-c9f552b35919"
   },
   "outputs": [
    {
     "data": {
      "image/png": "[encoded data removed]",
      "text/plain": [
       "<Figure size 576x432 with 1 Axes>"
      ]
     },
     "metadata": {
      "needs_background": "light"
     },
     "output_type": "display_data"
    }
   ],
   "source": [
    "# Set figure size\n",
    "plt.figure(figsize = (8,6))\n",
    "\n",
    "# Count the number of listings per year\n",
    "sns.countplot(x = 'listing_year', data = airbnb)\n",
    "\n",
    "# Set titles and labels of plot\n",
    "plt.title('Number of listings over time')\n",
    "plt.ylabel('Number of listings')\n",
    "plt.xlabel('Listing Year')\n",
    "\n",
    "# Show plot\n",
    "plt.show()"
   ]
  },
  {
   "cell_type": "markdown",
   "metadata": {
    "id": "2BQMyv8gdr2p"
   },
   "source": [
    "##### **Question 4:** What are the number of listings per year in each borough?"
   ]
  },
  {
   "cell_type": "code",
   "execution_count": 28,
   "metadata": {
    "colab": {
     "base_uri": "https://localhost:8080/",
     "height": 404
    },
    "id": "deHFhfRMNfTt",
    "outputId": "bc78dc0a-1259-4b22-d561-df1b4e7df554"
   },
   "outputs": [
    {
     "ename": "ValueError",
     "evalue": "Could not interpret input 'borough'",
     "output_type": "error",
     "traceback": [
      "\u001b[0;31m---------------------------------------------------------------------------\u001b[0m",
      "\u001b[0;31mValueError\u001b[0m                                Traceback (most recent call last)",
      "\u001b[0;32m/tmp/ipykernel_2948/1977074956.py\u001b[0m in \u001b[0;36m<module>\u001b[0;34m\u001b[0m\n\u001b[1;32m      3\u001b[0m \u001b[0;34m\u001b[0m\u001b[0m\n\u001b[1;32m      4\u001b[0m \u001b[0;31m# Count the number of listings per year for each borough\u001b[0m\u001b[0;34m\u001b[0m\u001b[0;34m\u001b[0m\u001b[0;34m\u001b[0m\u001b[0m\n\u001b[0;32m----> 5\u001b[0;31m \u001b[0msns\u001b[0m\u001b[0;34m.\u001b[0m\u001b[0mcountplot\u001b[0m\u001b[0;34m(\u001b[0m\u001b[0mx\u001b[0m \u001b[0;34m=\u001b[0m \u001b[0;34m'listing_year'\u001b[0m\u001b[0;34m,\u001b[0m \u001b[0mdata\u001b[0m \u001b[0;34m=\u001b[0m \u001b[0mairbnb\u001b[0m\u001b[0;34m,\u001b[0m \u001b[0mhue\u001b[0m \u001b[0;34m=\u001b[0m \u001b[0;34m'borough'\u001b[0m\u001b[0;34m)\u001b[0m\u001b[0;34m\u001b[0m\u001b[0;34m\u001b[0m\u001b[0m\n\u001b[0m\u001b[1;32m      6\u001b[0m \u001b[0;34m\u001b[0m\u001b[0m\n\u001b[1;32m      7\u001b[0m \u001b[0;31m# Set titles and labels of plot\u001b[0m\u001b[0;34m\u001b[0m\u001b[0;34m\u001b[0m\u001b[0;34m\u001b[0m\u001b[0m\n",
      "\u001b[0;32m/usr/local/lib/python3.8/dist-packages/seaborn/_decorators.py\u001b[0m in \u001b[0;36minner_f\u001b[0;34m(*args, **kwargs)\u001b[0m\n\u001b[1;32m     44\u001b[0m             )\n\u001b[1;32m     45\u001b[0m         \u001b[0mkwargs\u001b[0m\u001b[0;34m.\u001b[0m\u001b[0mupdate\u001b[0m\u001b[0;34m(\u001b[0m\u001b[0;34m{\u001b[0m\u001b[0mk\u001b[0m\u001b[0;34m:\u001b[0m \u001b[0marg\u001b[0m \u001b[0;32mfor\u001b[0m \u001b[0mk\u001b[0m\u001b[0;34m,\u001b[0m \u001b[0marg\u001b[0m \u001b[0;32min\u001b[0m \u001b[0mzip\u001b[0m\u001b[0;34m(\u001b[0m\u001b[0msig\u001b[0m\u001b[0;34m.\u001b[0m\u001b[0mparameters\u001b[0m\u001b[0;34m,\u001b[0m \u001b[0margs\u001b[0m\u001b[0;34m)\u001b[0m\u001b[0;34m}\u001b[0m\u001b[0;34m)\u001b[0m\u001b[0;34m\u001b[0m\u001b[0;34m\u001b[0m\u001b[0m\n\u001b[0;32m---> 46\u001b[0;31m         \u001b[0;32mreturn\u001b[0m \u001b[0mf\u001b[0m\u001b[0;34m(\u001b[0m\u001b[0;34m**\u001b[0m\u001b[0mkwargs\u001b[0m\u001b[0;34m)\u001b[0m\u001b[0;34m\u001b[0m\u001b[0;34m\u001b[0m\u001b[0m\n\u001b[0m\u001b[1;32m     47\u001b[0m     \u001b[0;32mreturn\u001b[0m \u001b[0minner_f\u001b[0m\u001b[0;34m\u001b[0m\u001b[0;34m\u001b[0m\u001b[0m\n\u001b[1;32m     48\u001b[0m \u001b[0;34m\u001b[0m\u001b[0m\n",
      "\u001b[0;32m/usr/local/lib/python3.8/dist-packages/seaborn/categorical.py\u001b[0m in \u001b[0;36mcountplot\u001b[0;34m(x, y, hue, data, order, hue_order, orient, color, palette, saturation, dodge, ax, **kwargs)\u001b[0m\n\u001b[1;32m   3593\u001b[0m         \u001b[0;32mraise\u001b[0m \u001b[0mValueError\u001b[0m\u001b[0;34m(\u001b[0m\u001b[0;34m\"Cannot pass values for both `x` and `y`\"\u001b[0m\u001b[0;34m)\u001b[0m\u001b[0;34m\u001b[0m\u001b[0;34m\u001b[0m\u001b[0m\n\u001b[1;32m   3594\u001b[0m \u001b[0;34m\u001b[0m\u001b[0m\n\u001b[0;32m-> 3595\u001b[0;31m     plotter = _CountPlotter(\n\u001b[0m\u001b[1;32m   3596\u001b[0m         \u001b[0mx\u001b[0m\u001b[0;34m,\u001b[0m \u001b[0my\u001b[0m\u001b[0;34m,\u001b[0m \u001b[0mhue\u001b[0m\u001b[0;34m,\u001b[0m \u001b[0mdata\u001b[0m\u001b[0;34m,\u001b[0m \u001b[0morder\u001b[0m\u001b[0;34m,\u001b[0m \u001b[0mhue_order\u001b[0m\u001b[0;34m,\u001b[0m\u001b[0;34m\u001b[0m\u001b[0;34m\u001b[0m\u001b[0m\n\u001b[1;32m   3597\u001b[0m         \u001b[0mestimator\u001b[0m\u001b[0;34m,\u001b[0m \u001b[0mci\u001b[0m\u001b[0;34m,\u001b[0m \u001b[0mn_boot\u001b[0m\u001b[0;34m,\u001b[0m \u001b[0munits\u001b[0m\u001b[0;34m,\u001b[0m \u001b[0mseed\u001b[0m\u001b[0;34m,\u001b[0m\u001b[0;34m\u001b[0m\u001b[0;34m\u001b[0m\u001b[0m\n",
      "\u001b[0;32m/usr/local/lib/python3.8/dist-packages/seaborn/categorical.py\u001b[0m in \u001b[0;36m__init__\u001b[0;34m(self, x, y, hue, data, order, hue_order, estimator, ci, n_boot, units, seed, orient, color, palette, saturation, errcolor, errwidth, capsize, dodge)\u001b[0m\n\u001b[1;32m   1582\u001b[0m                  errwidth, capsize, dodge):\n\u001b[1;32m   1583\u001b[0m         \u001b[0;34m\"\"\"Initialize the plotter.\"\"\"\u001b[0m\u001b[0;34m\u001b[0m\u001b[0;34m\u001b[0m\u001b[0m\n\u001b[0;32m-> 1584\u001b[0;31m         self.establish_variables(x, y, hue, data, orient,\n\u001b[0m\u001b[1;32m   1585\u001b[0m                                  order, hue_order, units)\n\u001b[1;32m   1586\u001b[0m         \u001b[0mself\u001b[0m\u001b[0;34m.\u001b[0m\u001b[0mestablish_colors\u001b[0m\u001b[0;34m(\u001b[0m\u001b[0mcolor\u001b[0m\u001b[0;34m,\u001b[0m \u001b[0mpalette\u001b[0m\u001b[0;34m,\u001b[0m \u001b[0msaturation\u001b[0m\u001b[0;34m)\u001b[0m\u001b[0;34m\u001b[0m\u001b[0;34m\u001b[0m\u001b[0m\n",
      "\u001b[0;32m/usr/local/lib/python3.8/dist-packages/seaborn/categorical.py\u001b[0m in \u001b[0;36mestablish_variables\u001b[0;34m(self, x, y, hue, data, orient, order, hue_order, units)\u001b[0m\n\u001b[1;32m    151\u001b[0m                 \u001b[0;32mif\u001b[0m \u001b[0misinstance\u001b[0m\u001b[0;34m(\u001b[0m\u001b[0mvar\u001b[0m\u001b[0;34m,\u001b[0m \u001b[0mstr\u001b[0m\u001b[0;34m)\u001b[0m\u001b[0;34m:\u001b[0m\u001b[0;34m\u001b[0m\u001b[0;34m\u001b[0m\u001b[0m\n\u001b[1;32m    152\u001b[0m                     \u001b[0merr\u001b[0m \u001b[0;34m=\u001b[0m \u001b[0;34m\"Could not interpret input '{}'\"\u001b[0m\u001b[0;34m.\u001b[0m\u001b[0mformat\u001b[0m\u001b[0;34m(\u001b[0m\u001b[0mvar\u001b[0m\u001b[0;34m)\u001b[0m\u001b[0;34m\u001b[0m\u001b[0;34m\u001b[0m\u001b[0m\n\u001b[0;32m--> 153\u001b[0;31m                     \u001b[0;32mraise\u001b[0m \u001b[0mValueError\u001b[0m\u001b[0;34m(\u001b[0m\u001b[0merr\u001b[0m\u001b[0;34m)\u001b[0m\u001b[0;34m\u001b[0m\u001b[0;34m\u001b[0m\u001b[0m\n\u001b[0m\u001b[1;32m    154\u001b[0m \u001b[0;34m\u001b[0m\u001b[0m\n\u001b[1;32m    155\u001b[0m             \u001b[0;31m# Figure out the plotting orientation\u001b[0m\u001b[0;34m\u001b[0m\u001b[0;34m\u001b[0m\u001b[0;34m\u001b[0m\u001b[0m\n",
      "\u001b[0;31mValueError\u001b[0m: Could not interpret input 'borough'"
     ]
    },
    {
     "data": {
      "text/plain": [
       "<Figure size 864x432 with 0 Axes>"
      ]
     },
     "metadata": {},
     "output_type": "display_data"
    }
   ],
   "source": [
    "# Set figure size\n",
    "plt.figure(figsize = (12,6))\n",
    "\n",
    "# Count the number of listings per year for each borough\n",
    "sns.countplot(x = 'listing_year', data = airbnb, hue = 'borough')\n",
    "\n",
    "# Set titles and labels of plot\n",
    "plt.title('Number of listings over time by borough')\n",
    "plt.ylabel('Number of listings')\n",
    "plt.xlabel('Listing Year')\n",
    "\n",
    "# Show title\n",
    "plt.show()"
   ]
  },
  {
   "cell_type": "markdown",
   "metadata": {
    "id": "DiWWq3D6_tPP"
   },
   "source": [
    "\n",
    "\n",
    "---\n",
    "\n",
    "<center><h1> Q&A</h1> </center>\n",
    "\n",
    "---\n",
    "\n",
    "\n",
    "\n"
   ]
  }
 ],
 "metadata": {
  "colab": {
   "name": "Data UpSkilling Learning Club: Introduction to Python_Solution.ipynb",
   "provenance": []
  },
  "kernelspec": {
   "display_name": "Python 3 (ipykernel)",
   "language": "python",
   "name": "python3"
  },
  "language_info": {
   "codemirror_mode": {
    "name": "ipython",
    "version": 3
   },
   "file_extension": ".py",
   "mimetype": "text/x-python",
   "name": "python",
   "nbconvert_exporter": "python",
   "pygments_lexer": "ipython3",
   "version": "3.8.10"
  }
 },
 "nbformat": 4,
 "nbformat_minor": 4
}
